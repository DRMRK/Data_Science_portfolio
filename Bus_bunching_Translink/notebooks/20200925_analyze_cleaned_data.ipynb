{
 "cells": [
  {
   "cell_type": "markdown",
   "metadata": {},
   "source": [
    "### Analyze dataset processed in clean_BB_data.ipynb\n",
    "- Data file is in Cleaned_Trips2016_10.csv\n",
    "- Read data as feather format and load to pandas dataframe\n",
    "- We want to predict NextLegBunchingFlag, NextNextLegBunchingFlag, NextNextNextLegBunchingFlag  \n",
    "- Data is highly imbalanced. \n",
    "- Careful in choosing train test and validation data \n",
    "- Do not want to use random subset of data\n",
    "- Try stratified sampling.\n",
    "- Data has 138752 rows, considering it as medium dataset choose test:10%, validation:10% and train:80%.\n",
    "- Grid search for hyper parameter tuning.\n",
    "- Random search for hyperparameter tuning.\n",
    "- Saved trained models using joblib as 'Random_forest_optimized.joblib' and 'Random_forest_not_optimized.joblib'\n",
    "- Permutation importance for feature importance.\n",
    "- Using 54 original features obtained mcc_score of 0.8550, training time 34 minute.\n",
    "- Selecting top 8 features obtained mcc_score of 0.8577, training time 81 s.\n",
    "- Logistic Regression, used feature scalling.\n",
    "- Looked at threshold precision recall curve.\n",
    "- Wrote stuff in class"
   ]
  },
  {
   "cell_type": "code",
   "execution_count": 2,
   "metadata": {},
   "outputs": [],
   "source": [
    "\"\"\" \n",
    "helper.import and helper.structured contains functions from fast ai library. We use these to prepare the data for \n",
    "machine learning models.\n",
    "\n",
    "helper.plots_and_scores contains methods for plottting and scoring.\n",
    "\"\"\"\n",
    "\n",
    "import sys\n",
    "import os\n",
    "\n",
    "current_path = os.path.abspath(os.path.join('..'))\n",
    "if current_path not in sys.path:\n",
    "    sys.path.append(current_path)\n",
    "    \n",
    "from random import randint\n",
    "import pandas as pd\n",
    "import numpy as np\n",
    "from helper.imports import *\n",
    "from helper.structured  import *\n",
    "from IPython.display import display\n",
    "import matplotlib.pyplot as plt \n",
    "from sklearn.model_selection import train_test_split\n",
    "from helper.plots_and_scores import *\n",
    "%matplotlib inline"
   ]
  },
  {
   "cell_type": "code",
   "execution_count": 3,
   "metadata": {},
   "outputs": [],
   "source": [
    "# Load the cleaned dataset \n",
    "data = pd.read_feather(f'{current_path}/data/processed/Cleaned_Trips2016_10.csv')"
   ]
  },
  {
   "cell_type": "code",
   "execution_count": 4,
   "metadata": {},
   "outputs": [],
   "source": [
    "def display_all(df):\n",
    "    with pd.option_context(\"display.max_rows\", 1000, \"display.max_columns\", 1000): \n",
    "        display(df)"
   ]
  },
  {
   "cell_type": "code",
   "execution_count": 5,
   "metadata": {},
   "outputs": [
    {
     "data": {
      "text/html": [
       "<div>\n",
       "<style scoped>\n",
       "    .dataframe tbody tr th:only-of-type {\n",
       "        vertical-align: middle;\n",
       "    }\n",
       "\n",
       "    .dataframe tbody tr th {\n",
       "        vertical-align: top;\n",
       "    }\n",
       "\n",
       "    .dataframe thead th {\n",
       "        text-align: right;\n",
       "    }\n",
       "</style>\n",
       "<table border=\"1\" class=\"dataframe\">\n",
       "  <thead>\n",
       "    <tr style=\"text-align: right;\">\n",
       "      <th></th>\n",
       "      <th>index</th>\n",
       "      <th>VehicleNo</th>\n",
       "      <th>Week</th>\n",
       "      <th>BlockNo</th>\n",
       "      <th>Pattern</th>\n",
       "      <th>StopName</th>\n",
       "      <th>ArriveLoadCompensated</th>\n",
       "      <th>OnsLoadCompensated</th>\n",
       "      <th>OffsLoadCompensated</th>\n",
       "      <th>LeaveLoadCompensated</th>\n",
       "      <th>WCLiftActivated</th>\n",
       "      <th>BikeLoaded</th>\n",
       "      <th>BikeUnloaded</th>\n",
       "      <th>DwellTime</th>\n",
       "      <th>ArriveDelay</th>\n",
       "      <th>DepartureDelay</th>\n",
       "      <th>OnsAndOffsCompensated</th>\n",
       "      <th>Temp</th>\n",
       "      <th>Humidity</th>\n",
       "      <th>Conditions</th>\n",
       "      <th>Visibility</th>\n",
       "      <th>Wind.Speed</th>\n",
       "      <th>StopToStopTime</th>\n",
       "      <th>TravelTime</th>\n",
       "      <th>TripLeg</th>\n",
       "      <th>OriginLat</th>\n",
       "      <th>OriginLong</th>\n",
       "      <th>GPSLat</th>\n",
       "      <th>GPSLong</th>\n",
       "      <th>Distance.GglMps</th>\n",
       "      <th>Duration.GglMps</th>\n",
       "      <th>ScheduledHeadway</th>\n",
       "      <th>ActualHeadway</th>\n",
       "      <th>HeadwayWithinTarget</th>\n",
       "      <th>HeadwayOffset</th>\n",
       "      <th>BusGappingFlag</th>\n",
       "      <th>StartScheduledLeaveTimeSeconds</th>\n",
       "      <th>StartActualLeaveTimeSeconds</th>\n",
       "      <th>StopScheduledArriveTiemSeconds</th>\n",
       "      <th>StopActualArriveTimeSeconds</th>\n",
       "      <th>NextLegBunchingFlag</th>\n",
       "      <th>NextNextLegBunchingFlag</th>\n",
       "      <th>NextNextNextLegBunchingFlag</th>\n",
       "      <th>OperationYear</th>\n",
       "      <th>OperationMonth</th>\n",
       "      <th>OperationDay</th>\n",
       "      <th>OperationDayofweek</th>\n",
       "      <th>OperationDayofyear</th>\n",
       "      <th>OperationIs_month_end</th>\n",
       "      <th>OperationIs_month_start</th>\n",
       "      <th>OperationIs_quarter_end</th>\n",
       "      <th>OperationIs_quarter_start</th>\n",
       "      <th>OperationIs_year_end</th>\n",
       "      <th>OperationIs_year_start</th>\n",
       "      <th>OperationElapsed</th>\n",
       "      <th>Boxing Day</th>\n",
       "      <th>Mon-Fri</th>\n",
       "      <th>Saturday</th>\n",
       "      <th>Sunday/Holidays</th>\n",
       "      <th>XMAS Day</th>\n",
       "    </tr>\n",
       "  </thead>\n",
       "  <tbody>\n",
       "    <tr>\n",
       "      <th>0</th>\n",
       "      <td>0</td>\n",
       "      <td>2553</td>\n",
       "      <td>35</td>\n",
       "      <td>34132</td>\n",
       "      <td>010 - NB1DT</td>\n",
       "      <td>0.019916</td>\n",
       "      <td>1</td>\n",
       "      <td>0</td>\n",
       "      <td>0</td>\n",
       "      <td>1</td>\n",
       "      <td>N</td>\n",
       "      <td>N</td>\n",
       "      <td>N</td>\n",
       "      <td>0</td>\n",
       "      <td>42</td>\n",
       "      <td>5</td>\n",
       "      <td>0</td>\n",
       "      <td>12.9</td>\n",
       "      <td>96</td>\n",
       "      <td>Mainly Clear</td>\n",
       "      <td>48.3</td>\n",
       "      <td>10</td>\n",
       "      <td>35</td>\n",
       "      <td>35</td>\n",
       "      <td>2</td>\n",
       "      <td>49.20914</td>\n",
       "      <td>-123.11976</td>\n",
       "      <td>49.20741</td>\n",
       "      <td>-123.12395</td>\n",
       "      <td>361</td>\n",
       "      <td>37</td>\n",
       "      <td>600.0</td>\n",
       "      <td>518.0</td>\n",
       "      <td>1</td>\n",
       "      <td>82.0</td>\n",
       "      <td>0</td>\n",
       "      <td>17662</td>\n",
       "      <td>17657</td>\n",
       "      <td>17734</td>\n",
       "      <td>17692</td>\n",
       "      <td>0</td>\n",
       "      <td>0</td>\n",
       "      <td>0</td>\n",
       "      <td>2016</td>\n",
       "      <td>9</td>\n",
       "      <td>1</td>\n",
       "      <td>3</td>\n",
       "      <td>245</td>\n",
       "      <td>False</td>\n",
       "      <td>True</td>\n",
       "      <td>False</td>\n",
       "      <td>False</td>\n",
       "      <td>False</td>\n",
       "      <td>False</td>\n",
       "      <td>1472688000</td>\n",
       "      <td>0</td>\n",
       "      <td>1</td>\n",
       "      <td>0</td>\n",
       "      <td>0</td>\n",
       "      <td>0</td>\n",
       "    </tr>\n",
       "    <tr>\n",
       "      <th>1</th>\n",
       "      <td>1</td>\n",
       "      <td>2553</td>\n",
       "      <td>35</td>\n",
       "      <td>34132</td>\n",
       "      <td>010 - NB1DT</td>\n",
       "      <td>0.024084</td>\n",
       "      <td>1</td>\n",
       "      <td>1</td>\n",
       "      <td>0</td>\n",
       "      <td>2</td>\n",
       "      <td>N</td>\n",
       "      <td>N</td>\n",
       "      <td>N</td>\n",
       "      <td>0</td>\n",
       "      <td>71</td>\n",
       "      <td>42</td>\n",
       "      <td>1</td>\n",
       "      <td>12.9</td>\n",
       "      <td>96</td>\n",
       "      <td>Mainly Clear</td>\n",
       "      <td>48.3</td>\n",
       "      <td>10</td>\n",
       "      <td>21</td>\n",
       "      <td>21</td>\n",
       "      <td>3</td>\n",
       "      <td>49.20741</td>\n",
       "      <td>-123.12395</td>\n",
       "      <td>49.20618</td>\n",
       "      <td>-123.12682</td>\n",
       "      <td>250</td>\n",
       "      <td>24</td>\n",
       "      <td>600.0</td>\n",
       "      <td>514.0</td>\n",
       "      <td>1</td>\n",
       "      <td>86.0</td>\n",
       "      <td>0</td>\n",
       "      <td>17734</td>\n",
       "      <td>17692</td>\n",
       "      <td>17784</td>\n",
       "      <td>17713</td>\n",
       "      <td>0</td>\n",
       "      <td>0</td>\n",
       "      <td>0</td>\n",
       "      <td>2016</td>\n",
       "      <td>9</td>\n",
       "      <td>1</td>\n",
       "      <td>3</td>\n",
       "      <td>245</td>\n",
       "      <td>False</td>\n",
       "      <td>True</td>\n",
       "      <td>False</td>\n",
       "      <td>False</td>\n",
       "      <td>False</td>\n",
       "      <td>False</td>\n",
       "      <td>1472688000</td>\n",
       "      <td>0</td>\n",
       "      <td>1</td>\n",
       "      <td>0</td>\n",
       "      <td>0</td>\n",
       "      <td>0</td>\n",
       "    </tr>\n",
       "    <tr>\n",
       "      <th>2</th>\n",
       "      <td>2</td>\n",
       "      <td>2553</td>\n",
       "      <td>35</td>\n",
       "      <td>34132</td>\n",
       "      <td>010 - NB1DT</td>\n",
       "      <td>0.000000</td>\n",
       "      <td>2</td>\n",
       "      <td>0</td>\n",
       "      <td>0</td>\n",
       "      <td>2</td>\n",
       "      <td>N</td>\n",
       "      <td>N</td>\n",
       "      <td>N</td>\n",
       "      <td>13</td>\n",
       "      <td>81</td>\n",
       "      <td>58</td>\n",
       "      <td>0</td>\n",
       "      <td>12.9</td>\n",
       "      <td>96</td>\n",
       "      <td>Mainly Clear</td>\n",
       "      <td>48.3</td>\n",
       "      <td>10</td>\n",
       "      <td>63</td>\n",
       "      <td>50</td>\n",
       "      <td>4</td>\n",
       "      <td>49.20618</td>\n",
       "      <td>-123.12682</td>\n",
       "      <td>49.20453</td>\n",
       "      <td>-123.13107</td>\n",
       "      <td>359</td>\n",
       "      <td>37</td>\n",
       "      <td>600.0</td>\n",
       "      <td>525.0</td>\n",
       "      <td>1</td>\n",
       "      <td>75.0</td>\n",
       "      <td>0</td>\n",
       "      <td>17784</td>\n",
       "      <td>17726</td>\n",
       "      <td>17857</td>\n",
       "      <td>17776</td>\n",
       "      <td>0</td>\n",
       "      <td>0</td>\n",
       "      <td>0</td>\n",
       "      <td>2016</td>\n",
       "      <td>9</td>\n",
       "      <td>1</td>\n",
       "      <td>3</td>\n",
       "      <td>245</td>\n",
       "      <td>False</td>\n",
       "      <td>True</td>\n",
       "      <td>False</td>\n",
       "      <td>False</td>\n",
       "      <td>False</td>\n",
       "      <td>False</td>\n",
       "      <td>1472688000</td>\n",
       "      <td>0</td>\n",
       "      <td>1</td>\n",
       "      <td>0</td>\n",
       "      <td>0</td>\n",
       "      <td>0</td>\n",
       "    </tr>\n",
       "    <tr>\n",
       "      <th>3</th>\n",
       "      <td>3</td>\n",
       "      <td>2553</td>\n",
       "      <td>35</td>\n",
       "      <td>34132</td>\n",
       "      <td>010 - NB1DT</td>\n",
       "      <td>0.039178</td>\n",
       "      <td>-1</td>\n",
       "      <td>0</td>\n",
       "      <td>0</td>\n",
       "      <td>-1</td>\n",
       "      <td>N</td>\n",
       "      <td>N</td>\n",
       "      <td>N</td>\n",
       "      <td>0</td>\n",
       "      <td>-9</td>\n",
       "      <td>-22</td>\n",
       "      <td>0</td>\n",
       "      <td>12.9</td>\n",
       "      <td>96</td>\n",
       "      <td>Mainly Clear</td>\n",
       "      <td>48.3</td>\n",
       "      <td>10</td>\n",
       "      <td>22</td>\n",
       "      <td>22</td>\n",
       "      <td>8</td>\n",
       "      <td>49.20417</td>\n",
       "      <td>-123.13726</td>\n",
       "      <td>49.20505</td>\n",
       "      <td>-123.13988</td>\n",
       "      <td>214</td>\n",
       "      <td>22</td>\n",
       "      <td>600.0</td>\n",
       "      <td>531.0</td>\n",
       "      <td>1</td>\n",
       "      <td>69.0</td>\n",
       "      <td>0</td>\n",
       "      <td>17959</td>\n",
       "      <td>17981</td>\n",
       "      <td>17994</td>\n",
       "      <td>18003</td>\n",
       "      <td>0</td>\n",
       "      <td>0</td>\n",
       "      <td>0</td>\n",
       "      <td>2016</td>\n",
       "      <td>9</td>\n",
       "      <td>1</td>\n",
       "      <td>3</td>\n",
       "      <td>245</td>\n",
       "      <td>False</td>\n",
       "      <td>True</td>\n",
       "      <td>False</td>\n",
       "      <td>False</td>\n",
       "      <td>False</td>\n",
       "      <td>False</td>\n",
       "      <td>1472688000</td>\n",
       "      <td>0</td>\n",
       "      <td>1</td>\n",
       "      <td>0</td>\n",
       "      <td>0</td>\n",
       "      <td>0</td>\n",
       "    </tr>\n",
       "    <tr>\n",
       "      <th>4</th>\n",
       "      <td>4</td>\n",
       "      <td>2553</td>\n",
       "      <td>35</td>\n",
       "      <td>34132</td>\n",
       "      <td>010 - NB1DT</td>\n",
       "      <td>0.045411</td>\n",
       "      <td>-1</td>\n",
       "      <td>2</td>\n",
       "      <td>0</td>\n",
       "      <td>1</td>\n",
       "      <td>N</td>\n",
       "      <td>N</td>\n",
       "      <td>N</td>\n",
       "      <td>0</td>\n",
       "      <td>8</td>\n",
       "      <td>-9</td>\n",
       "      <td>2</td>\n",
       "      <td>13.1</td>\n",
       "      <td>96</td>\n",
       "      <td>Mainly Clear</td>\n",
       "      <td>48.3</td>\n",
       "      <td>7</td>\n",
       "      <td>30</td>\n",
       "      <td>30</td>\n",
       "      <td>9</td>\n",
       "      <td>49.20505</td>\n",
       "      <td>-123.13988</td>\n",
       "      <td>49.20743</td>\n",
       "      <td>-123.14041</td>\n",
       "      <td>289</td>\n",
       "      <td>43</td>\n",
       "      <td>600.0</td>\n",
       "      <td>535.0</td>\n",
       "      <td>1</td>\n",
       "      <td>65.0</td>\n",
       "      <td>0</td>\n",
       "      <td>17994</td>\n",
       "      <td>18003</td>\n",
       "      <td>18041</td>\n",
       "      <td>18033</td>\n",
       "      <td>0</td>\n",
       "      <td>0</td>\n",
       "      <td>0</td>\n",
       "      <td>2016</td>\n",
       "      <td>9</td>\n",
       "      <td>1</td>\n",
       "      <td>3</td>\n",
       "      <td>245</td>\n",
       "      <td>False</td>\n",
       "      <td>True</td>\n",
       "      <td>False</td>\n",
       "      <td>False</td>\n",
       "      <td>False</td>\n",
       "      <td>False</td>\n",
       "      <td>1472688000</td>\n",
       "      <td>0</td>\n",
       "      <td>1</td>\n",
       "      <td>0</td>\n",
       "      <td>0</td>\n",
       "      <td>0</td>\n",
       "    </tr>\n",
       "  </tbody>\n",
       "</table>\n",
       "</div>"
      ],
      "text/plain": [
       "   index  VehicleNo  Week  BlockNo      Pattern  StopName  \\\n",
       "0      0       2553    35    34132  010 - NB1DT  0.019916   \n",
       "1      1       2553    35    34132  010 - NB1DT  0.024084   \n",
       "2      2       2553    35    34132  010 - NB1DT  0.000000   \n",
       "3      3       2553    35    34132  010 - NB1DT  0.039178   \n",
       "4      4       2553    35    34132  010 - NB1DT  0.045411   \n",
       "\n",
       "   ArriveLoadCompensated  OnsLoadCompensated  OffsLoadCompensated  \\\n",
       "0                      1                   0                    0   \n",
       "1                      1                   1                    0   \n",
       "2                      2                   0                    0   \n",
       "3                     -1                   0                    0   \n",
       "4                     -1                   2                    0   \n",
       "\n",
       "   LeaveLoadCompensated WCLiftActivated BikeLoaded BikeUnloaded  DwellTime  \\\n",
       "0                     1               N          N            N          0   \n",
       "1                     2               N          N            N          0   \n",
       "2                     2               N          N            N         13   \n",
       "3                    -1               N          N            N          0   \n",
       "4                     1               N          N            N          0   \n",
       "\n",
       "   ArriveDelay  DepartureDelay  OnsAndOffsCompensated  Temp  Humidity  \\\n",
       "0           42               5                      0  12.9        96   \n",
       "1           71              42                      1  12.9        96   \n",
       "2           81              58                      0  12.9        96   \n",
       "3           -9             -22                      0  12.9        96   \n",
       "4            8              -9                      2  13.1        96   \n",
       "\n",
       "     Conditions  Visibility  Wind.Speed  StopToStopTime  TravelTime  TripLeg  \\\n",
       "0  Mainly Clear        48.3          10              35          35        2   \n",
       "1  Mainly Clear        48.3          10              21          21        3   \n",
       "2  Mainly Clear        48.3          10              63          50        4   \n",
       "3  Mainly Clear        48.3          10              22          22        8   \n",
       "4  Mainly Clear        48.3           7              30          30        9   \n",
       "\n",
       "   OriginLat  OriginLong    GPSLat    GPSLong  Distance.GglMps  \\\n",
       "0   49.20914  -123.11976  49.20741 -123.12395              361   \n",
       "1   49.20741  -123.12395  49.20618 -123.12682              250   \n",
       "2   49.20618  -123.12682  49.20453 -123.13107              359   \n",
       "3   49.20417  -123.13726  49.20505 -123.13988              214   \n",
       "4   49.20505  -123.13988  49.20743 -123.14041              289   \n",
       "\n",
       "   Duration.GglMps  ScheduledHeadway  ActualHeadway HeadwayWithinTarget  \\\n",
       "0               37             600.0          518.0                   1   \n",
       "1               24             600.0          514.0                   1   \n",
       "2               37             600.0          525.0                   1   \n",
       "3               22             600.0          531.0                   1   \n",
       "4               43             600.0          535.0                   1   \n",
       "\n",
       "   HeadwayOffset BusGappingFlag  StartScheduledLeaveTimeSeconds  \\\n",
       "0           82.0              0                           17662   \n",
       "1           86.0              0                           17734   \n",
       "2           75.0              0                           17784   \n",
       "3           69.0              0                           17959   \n",
       "4           65.0              0                           17994   \n",
       "\n",
       "   StartActualLeaveTimeSeconds  StopScheduledArriveTiemSeconds  \\\n",
       "0                        17657                           17734   \n",
       "1                        17692                           17784   \n",
       "2                        17726                           17857   \n",
       "3                        17981                           17994   \n",
       "4                        18003                           18041   \n",
       "\n",
       "   StopActualArriveTimeSeconds  NextLegBunchingFlag  NextNextLegBunchingFlag  \\\n",
       "0                        17692                    0                        0   \n",
       "1                        17713                    0                        0   \n",
       "2                        17776                    0                        0   \n",
       "3                        18003                    0                        0   \n",
       "4                        18033                    0                        0   \n",
       "\n",
       "   NextNextNextLegBunchingFlag  OperationYear  OperationMonth  OperationDay  \\\n",
       "0                            0           2016               9             1   \n",
       "1                            0           2016               9             1   \n",
       "2                            0           2016               9             1   \n",
       "3                            0           2016               9             1   \n",
       "4                            0           2016               9             1   \n",
       "\n",
       "   OperationDayofweek  OperationDayofyear  OperationIs_month_end  \\\n",
       "0                   3                 245                  False   \n",
       "1                   3                 245                  False   \n",
       "2                   3                 245                  False   \n",
       "3                   3                 245                  False   \n",
       "4                   3                 245                  False   \n",
       "\n",
       "   OperationIs_month_start  OperationIs_quarter_end  \\\n",
       "0                     True                    False   \n",
       "1                     True                    False   \n",
       "2                     True                    False   \n",
       "3                     True                    False   \n",
       "4                     True                    False   \n",
       "\n",
       "   OperationIs_quarter_start  OperationIs_year_end  OperationIs_year_start  \\\n",
       "0                      False                 False                   False   \n",
       "1                      False                 False                   False   \n",
       "2                      False                 False                   False   \n",
       "3                      False                 False                   False   \n",
       "4                      False                 False                   False   \n",
       "\n",
       "   OperationElapsed  Boxing Day  Mon-Fri  Saturday  Sunday/Holidays  XMAS Day  \n",
       "0        1472688000           0        1         0                0         0  \n",
       "1        1472688000           0        1         0                0         0  \n",
       "2        1472688000           0        1         0                0         0  \n",
       "3        1472688000           0        1         0                0         0  \n",
       "4        1472688000           0        1         0                0         0  "
      ]
     },
     "metadata": {},
     "output_type": "display_data"
    }
   ],
   "source": [
    "display_all(data.head())"
   ]
  },
  {
   "cell_type": "code",
   "execution_count": 6,
   "metadata": {},
   "outputs": [
    {
     "data": {
      "text/plain": [
       "index                                int64\n",
       "VehicleNo                            int64\n",
       "Week                                UInt32\n",
       "BlockNo                              int64\n",
       "Pattern                           category\n",
       "StopName                           float64\n",
       "ArriveLoadCompensated                int64\n",
       "OnsLoadCompensated                   int64\n",
       "OffsLoadCompensated                  int64\n",
       "LeaveLoadCompensated                 int64\n",
       "WCLiftActivated                   category\n",
       "BikeLoaded                        category\n",
       "BikeUnloaded                      category\n",
       "DwellTime                            int64\n",
       "ArriveDelay                          int64\n",
       "DepartureDelay                       int64\n",
       "OnsAndOffsCompensated                int64\n",
       "Temp                               float64\n",
       "Humidity                             int64\n",
       "Conditions                        category\n",
       "Visibility                         float64\n",
       "Wind.Speed                           int64\n",
       "StopToStopTime                       int64\n",
       "TravelTime                           int64\n",
       "TripLeg                              int64\n",
       "OriginLat                          float64\n",
       "OriginLong                         float64\n",
       "GPSLat                             float64\n",
       "GPSLong                            float64\n",
       "Distance.GglMps                      int64\n",
       "Duration.GglMps                      int64\n",
       "ScheduledHeadway                   float64\n",
       "ActualHeadway                      float64\n",
       "HeadwayWithinTarget               category\n",
       "HeadwayOffset                      float64\n",
       "BusGappingFlag                    category\n",
       "StartScheduledLeaveTimeSeconds       int64\n",
       "StartActualLeaveTimeSeconds          int64\n",
       "StopScheduledArriveTiemSeconds       int64\n",
       "StopActualArriveTimeSeconds          int64\n",
       "NextLegBunchingFlag                  int64\n",
       "NextNextLegBunchingFlag              int64\n",
       "NextNextNextLegBunchingFlag          int64\n",
       "OperationYear                        int64\n",
       "OperationMonth                       int64\n",
       "OperationDay                         int64\n",
       "OperationDayofweek                   int64\n",
       "OperationDayofyear                   int64\n",
       "OperationIs_month_end                 bool\n",
       "OperationIs_month_start               bool\n",
       "OperationIs_quarter_end               bool\n",
       "OperationIs_quarter_start             bool\n",
       "OperationIs_year_end                  bool\n",
       "OperationIs_year_start                bool\n",
       "OperationElapsed                     int64\n",
       "Boxing Day                           uint8\n",
       "Mon-Fri                              uint8\n",
       "Saturday                             uint8\n",
       "Sunday/Holidays                      uint8\n",
       "XMAS Day                             uint8\n",
       "dtype: object"
      ]
     },
     "metadata": {},
     "output_type": "display_data"
    }
   ],
   "source": [
    "display_all(data.dtypes)"
   ]
  },
  {
   "cell_type": "code",
   "execution_count": 7,
   "metadata": {},
   "outputs": [],
   "source": [
    "data = data.drop(['index'],axis =1)"
   ]
  },
  {
   "cell_type": "code",
   "execution_count": 8,
   "metadata": {},
   "outputs": [
    {
     "name": "stdout",
     "output_type": "stream",
     "text": [
      "<class 'pandas.core.frame.DataFrame'>\n",
      "RangeIndex: 138752 entries, 0 to 138751\n",
      "Data columns (total 59 columns):\n",
      " #   Column                          Non-Null Count   Dtype   \n",
      "---  ------                          --------------   -----   \n",
      " 0   VehicleNo                       138752 non-null  int64   \n",
      " 1   Week                            138752 non-null  UInt32  \n",
      " 2   BlockNo                         138752 non-null  int64   \n",
      " 3   Pattern                         138752 non-null  category\n",
      " 4   StopName                        138752 non-null  float64 \n",
      " 5   ArriveLoadCompensated           138752 non-null  int64   \n",
      " 6   OnsLoadCompensated              138752 non-null  int64   \n",
      " 7   OffsLoadCompensated             138752 non-null  int64   \n",
      " 8   LeaveLoadCompensated            138752 non-null  int64   \n",
      " 9   WCLiftActivated                 138752 non-null  category\n",
      " 10  BikeLoaded                      138752 non-null  category\n",
      " 11  BikeUnloaded                    138752 non-null  category\n",
      " 12  DwellTime                       138752 non-null  int64   \n",
      " 13  ArriveDelay                     138752 non-null  int64   \n",
      " 14  DepartureDelay                  138752 non-null  int64   \n",
      " 15  OnsAndOffsCompensated           138752 non-null  int64   \n",
      " 16  Temp                            138752 non-null  float64 \n",
      " 17  Humidity                        138752 non-null  int64   \n",
      " 18  Conditions                      138752 non-null  category\n",
      " 19  Visibility                      138752 non-null  float64 \n",
      " 20  Wind.Speed                      138752 non-null  int64   \n",
      " 21  StopToStopTime                  138752 non-null  int64   \n",
      " 22  TravelTime                      138752 non-null  int64   \n",
      " 23  TripLeg                         138752 non-null  int64   \n",
      " 24  OriginLat                       138752 non-null  float64 \n",
      " 25  OriginLong                      138752 non-null  float64 \n",
      " 26  GPSLat                          138752 non-null  float64 \n",
      " 27  GPSLong                         138752 non-null  float64 \n",
      " 28  Distance.GglMps                 138752 non-null  int64   \n",
      " 29  Duration.GglMps                 138752 non-null  int64   \n",
      " 30  ScheduledHeadway                138752 non-null  float64 \n",
      " 31  ActualHeadway                   138752 non-null  float64 \n",
      " 32  HeadwayWithinTarget             138752 non-null  category\n",
      " 33  HeadwayOffset                   138752 non-null  float64 \n",
      " 34  BusGappingFlag                  138752 non-null  category\n",
      " 35  StartScheduledLeaveTimeSeconds  138752 non-null  int64   \n",
      " 36  StartActualLeaveTimeSeconds     138752 non-null  int64   \n",
      " 37  StopScheduledArriveTiemSeconds  138752 non-null  int64   \n",
      " 38  StopActualArriveTimeSeconds     138752 non-null  int64   \n",
      " 39  NextLegBunchingFlag             138752 non-null  int64   \n",
      " 40  NextNextLegBunchingFlag         138752 non-null  int64   \n",
      " 41  NextNextNextLegBunchingFlag     138752 non-null  int64   \n",
      " 42  OperationYear                   138752 non-null  int64   \n",
      " 43  OperationMonth                  138752 non-null  int64   \n",
      " 44  OperationDay                    138752 non-null  int64   \n",
      " 45  OperationDayofweek              138752 non-null  int64   \n",
      " 46  OperationDayofyear              138752 non-null  int64   \n",
      " 47  OperationIs_month_end           138752 non-null  bool    \n",
      " 48  OperationIs_month_start         138752 non-null  bool    \n",
      " 49  OperationIs_quarter_end         138752 non-null  bool    \n",
      " 50  OperationIs_quarter_start       138752 non-null  bool    \n",
      " 51  OperationIs_year_end            138752 non-null  bool    \n",
      " 52  OperationIs_year_start          138752 non-null  bool    \n",
      " 53  OperationElapsed                138752 non-null  int64   \n",
      " 54  Boxing Day                      138752 non-null  uint8   \n",
      " 55  Mon-Fri                         138752 non-null  uint8   \n",
      " 56  Saturday                        138752 non-null  uint8   \n",
      " 57  Sunday/Holidays                 138752 non-null  uint8   \n",
      " 58  XMAS Day                        138752 non-null  uint8   \n",
      "dtypes: UInt32(1), bool(6), category(7), float64(10), int64(30), uint8(5)\n",
      "memory usage: 45.4 MB\n"
     ]
    }
   ],
   "source": [
    "data.info()"
   ]
  },
  {
   "cell_type": "code",
   "execution_count": 9,
   "metadata": {},
   "outputs": [
    {
     "data": {
      "text/plain": [
       "0    132590\n",
       "1      6162\n",
       "Name: NextLegBunchingFlag, dtype: int64"
      ]
     },
     "execution_count": 9,
     "metadata": {},
     "output_type": "execute_result"
    }
   ],
   "source": [
    "data['NextLegBunchingFlag'].value_counts()"
   ]
  },
  {
   "cell_type": "code",
   "execution_count": 10,
   "metadata": {},
   "outputs": [
    {
     "data": {
      "text/plain": [
       "<AxesSubplot:>"
      ]
     },
     "execution_count": 10,
     "metadata": {},
     "output_type": "execute_result"
    },
    {
     "data": {
      "image/png": "[encoded data removed]",
      "text/plain": [
       "<Figure size 432x288 with 1 Axes>"
      ]
     },
     "metadata": {
      "needs_background": "light"
     },
     "output_type": "display_data"
    }
   ],
   "source": [
    "data.NextLegBunchingFlag.hist()"
   ]
  },
  {
   "cell_type": "code",
   "execution_count": 11,
   "metadata": {},
   "outputs": [
    {
     "data": {
      "text/plain": [
       "<AxesSubplot:>"
      ]
     },
     "execution_count": 11,
     "metadata": {},
     "output_type": "execute_result"
    },
    {
     "data": {
      "image/png": "[encoded data removed]",
      "text/plain": [
       "<Figure size 432x288 with 1 Axes>"
      ]
     },
     "metadata": {
      "needs_background": "light"
     },
     "output_type": "display_data"
    }
   ],
   "source": [
    "data.NextNextLegBunchingFlag.hist()"
   ]
  },
  {
   "cell_type": "code",
   "execution_count": 12,
   "metadata": {},
   "outputs": [
    {
     "data": {
      "text/plain": [
       "<AxesSubplot:>"
      ]
     },
     "execution_count": 12,
     "metadata": {},
     "output_type": "execute_result"
    },
    {
     "data": {
      "image/png": "[encoded data removed]",
      "text/plain": [
       "<Figure size 432x288 with 1 Axes>"
      ]
     },
     "metadata": {
      "needs_background": "light"
     },
     "output_type": "display_data"
    }
   ],
   "source": [
    "data.NextNextNextLegBunchingFlag.hist()"
   ]
  },
  {
   "cell_type": "code",
   "execution_count": 13,
   "metadata": {},
   "outputs": [],
   "source": [
    "# Convert all columns to numeric column and separate out the target variable\n",
    "X, y, nas  = proc_df(data, y_fld ='NextLegBunchingFlag',skip_flds=['NextNextLegBunchingFlag',\\\n",
    "                     'NextNextNextLegBunchingFlag'])"
   ]
  },
  {
   "cell_type": "markdown",
   "metadata": {},
   "source": [
    "### Imbalanced class, use stratified sampling for train, test and validation sets"
   ]
  },
  {
   "cell_type": "code",
   "execution_count": 14,
   "metadata": {},
   "outputs": [],
   "source": [
    "# Shuffle and split the data into training and testing subsets\n",
    "X_train, X_test_valid, y_train, y_test_valid = train_test_split(X, y,  random_state =1, \\\n",
    "                                                                test_size=0.20,stratify = y)\n",
    "X_test, X_valid, y_test, y_valid = train_test_split(X_test_valid, y_test_valid,  random_state =1, \\\n",
    "                                                                test_size=0.50,stratify = y_test_valid)"
   ]
  },
  {
   "cell_type": "code",
   "execution_count": 15,
   "metadata": {},
   "outputs": [
    {
     "name": "stdout",
     "output_type": "stream",
     "text": [
      "train: (array([0, 1]), array([106071,   4930]))\n",
      "test: (array([0, 1]), array([13259,   616]))\n",
      "valid: (array([0, 1]), array([13260,   616]))\n"
     ]
    }
   ],
   "source": [
    "#Look at distribution of targets in train, test and validation set\n",
    "print('train:',np.unique(y_train,return_counts=True))\n",
    "print('test:',np.unique(y_test,return_counts=True))\n",
    "print('valid:',np.unique(y_valid,return_counts=True))"
   ]
  },
  {
   "cell_type": "markdown",
   "metadata": {},
   "source": [
    "### Model the data. First try RandomForest"
   ]
  },
  {
   "cell_type": "code",
   "execution_count": 16,
   "metadata": {},
   "outputs": [
    {
     "name": "stdout",
     "output_type": "stream",
     "text": [
      "CPU times: user 64 µs, sys: 7 µs, total: 71 µs\n",
      "Wall time: 73 µs\n",
      "CPU times: user 53.9 s, sys: 372 ms, total: 54.3 s\n",
      "Wall time: 18.4 s\n"
     ]
    },
    {
     "data": {
      "text/plain": [
       "RandomForestClassifier(n_jobs=-1, oob_score=True, random_state=0)"
      ]
     },
     "execution_count": 16,
     "metadata": {},
     "output_type": "execute_result"
    }
   ],
   "source": [
    "from sklearn.ensemble import RandomForestClassifier\n",
    "%time RFmodel = RandomForestClassifier(random_state=0,criterion='gini',\\\n",
    "                                       n_jobs=-1,oob_score=True)\n",
    "%time RFmodel.fit(X_train,y_train)\n",
    "#print_scores(RFmodel)"
   ]
  },
  {
   "cell_type": "code",
   "execution_count": 17,
   "metadata": {},
   "outputs": [],
   "source": [
    "# Make predictions on the training data\n",
    "y_pred_train= RFmodel.predict(X_train)\n",
    "y_pred_train_proba = RFmodel.predict_proba(X_train)\n",
    "# Make predictions on the test data\n",
    "y_pred_test= RFmodel.predict(X_test)\n",
    "y_pred_test_proba = RFmodel.predict_proba(X_test)"
   ]
  },
  {
   "cell_type": "markdown",
   "metadata": {},
   "source": [
    "### Visualize the results\n",
    "\n",
    "#### Train"
   ]
  },
  {
   "cell_type": "code",
   "execution_count": 18,
   "metadata": {},
   "outputs": [
    {
     "data": {
      "image/png": "[encoded data removed]",
      "text/plain": [
       "<Figure size 432x288 with 2 Axes>"
      ]
     },
     "metadata": {
      "needs_background": "light"
     },
     "output_type": "display_data"
    },
    {
     "data": {
      "image/png": "[encoded data removed]",
      "text/plain": [
       "<Figure size 432x288 with 1 Axes>"
      ]
     },
     "metadata": {
      "needs_background": "light"
     },
     "output_type": "display_data"
    },
    {
     "name": "stdout",
     "output_type": "stream",
     "text": [
      "Accuracy score: 1.0000\n",
      "MCC score: 1.0000\n",
      "F-score: 1.0000\n"
     ]
    }
   ],
   "source": [
    "# Use the plot and score module that has codes for plotting and scoring\n",
    "ps_train = plots_and_scores(y_train,y_pred_train, y_pred_train_proba) # Instantiate an object \n",
    "ps_train.display_confusion_matrix()\n",
    "ps_train.plot_ROC('Train')\n",
    "ps_train.print_scores()"
   ]
  },
  {
   "cell_type": "markdown",
   "metadata": {},
   "source": [
    "#### Test"
   ]
  },
  {
   "cell_type": "code",
   "execution_count": 19,
   "metadata": {},
   "outputs": [
    {
     "data": {
      "image/png": "[encoded data removed]",
      "text/plain": [
       "<Figure size 432x288 with 2 Axes>"
      ]
     },
     "metadata": {
      "needs_background": "light"
     },
     "output_type": "display_data"
    },
    {
     "data": {
      "image/png": "[encoded data removed]",
      "text/plain": [
       "<Figure size 432x288 with 1 Axes>"
      ]
     },
     "metadata": {
      "needs_background": "light"
     },
     "output_type": "display_data"
    },
    {
     "name": "stdout",
     "output_type": "stream",
     "text": [
      "Accuracy score: 0.9873\n",
      "MCC score: 0.8479\n",
      "F-score: 0.8646\n"
     ]
    }
   ],
   "source": [
    "ps_test = plots_and_scores(y_test,y_pred_test, y_pred_test_proba) # Instantiate an object \n",
    "ps_test.display_confusion_matrix()\n",
    "ps_test.plot_ROC('Train')\n",
    "ps_test.print_scores()"
   ]
  },
  {
   "cell_type": "markdown",
   "metadata": {},
   "source": [
    "### Looks like the model is overfitting.\n",
    "- Good MCC score on training data, not so good on test data\n",
    "- Grid search parameters."
   ]
  },
  {
   "cell_type": "code",
   "execution_count": 22,
   "metadata": {},
   "outputs": [],
   "source": [
    "from sklearn.model_selection import GridSearchCV\n",
    "from sklearn.model_selection import RandomizedSearchCV\n",
    "from sklearn.metrics import make_scorer, fbeta_score\n",
    "from pprint import pprint"
   ]
  },
  {
   "cell_type": "code",
   "execution_count": 23,
   "metadata": {},
   "outputs": [
    {
     "name": "stdout",
     "output_type": "stream",
     "text": [
      "In instantiate now ....\n",
      "CPU times: user 56 µs, sys: 1 µs, total: 57 µs\n",
      "Wall time: 60.8 µs\n",
      "In fit now ....\n",
      "CPU times: user 2min 31s, sys: 862 ms, total: 2min 32s\n",
      "Wall time: 3min 28s\n",
      "In unoptimized fit now ....\n",
      "CPU times: user 55.8 s, sys: 365 ms, total: 56.2 s\n",
      "Wall time: 16.8 s\n",
      "Results--------------\n",
      "\n",
      "Unoptimized model\n",
      "------\n",
      "MCC score on testing data: 0.8479\n",
      "F-score on testing data: 0.8646\n",
      "\n",
      "Optimized Model\n",
      "------\n",
      "Final MCC score on the testing data: 0.8543\n",
      "Final F-score on the testing data: 0.8658\n"
     ]
    },
    {
     "data": {
      "text/plain": [
       "RandomForestClassifier(max_features=0.5, max_samples=0.6, min_samples_leaf=2,\n",
       "                       n_jobs=-1, oob_score=True, random_state=0)"
      ]
     },
     "execution_count": 23,
     "metadata": {},
     "output_type": "execute_result"
    }
   ],
   "source": [
    "RFmodel = RandomForestClassifier(random_state=0,criterion='gini',\\\n",
    "                                       n_jobs=-1,oob_score=True,n_estimators=100)\n",
    "# Create the parameters list to tune, using a dictionary if needed.\n",
    "parameters = {'min_samples_leaf': [2],'max_features':[0.5],\\\n",
    "                    'max_samples':[0.6]}\n",
    "# Make an mcc_Metric scoring object using make_scorer()\n",
    "scorer = make_scorer(mcc_Metric, greater_is_better=True)\n",
    "# Perform grid search on the classifier using 'scorer' as the scoring method using GridSearchCV()\n",
    "print(\"In instantiate now ....\")\n",
    "%time grid_obj = GridSearchCV(RFmodel, parameters, scoring = scorer,n_jobs =-1)\n",
    "# Fit the grid search object to the training data and find the optimal parameters using fit()\n",
    "print(\"In fit now ....\")\n",
    "%time grid_fit = grid_obj.fit(X_train, y_train)\n",
    "# Get the estimator\n",
    "best_clf = grid_fit.best_estimator_\n",
    "# Make predictions using the unoptimized model\n",
    "print(\"In unoptimized fit now ....\")\n",
    "%time Unoptimizedpredictions = (RFmodel.fit(X_train, y_train)).predict(X_test)\n",
    "\n",
    "# Make predictions using the optimized and model\n",
    "best_predictions = best_clf.predict(X_test)\n",
    "print('Results--------------\\n')\n",
    "# Report the before-and-afterscores\n",
    "print(\"Unoptimized model\\n------\")\n",
    "print(\"MCC score on testing data: {:.4f}\".format(mcc_Metric(y_test, Unoptimizedpredictions)))\n",
    "print(\"F-score on testing data: {:.4f}\".format(fbeta_score(y_test, Unoptimizedpredictions, beta = 0.5)))\n",
    "print(\"\\nOptimized Model\\n------\")\n",
    "print(\"Final MCC score on the testing data: {:.4f}\".format(mcc_Metric(y_test, best_predictions)))\n",
    "print(\"Final F-score on the testing data: {:.4f}\".format(fbeta_score(y_test, best_predictions, beta = 0.5)))\n",
    "best_clf"
   ]
  },
  {
   "cell_type": "markdown",
   "metadata": {},
   "source": [
    "### ROC Curves"
   ]
  },
  {
   "cell_type": "code",
   "execution_count": null,
   "metadata": {},
   "outputs": [],
   "source": [
    "plot_ROC(y_test, best_predictions)"
   ]
  },
  {
   "cell_type": "code",
   "execution_count": null,
   "metadata": {},
   "outputs": [],
   "source": [
    "%time un_opt_model = RFmodel.fit(X_train, y_train)\n",
    "Unopt_pred_train =un_opt_model.predict(X_train)"
   ]
  },
  {
   "cell_type": "markdown",
   "metadata": {},
   "source": [
    "### Random Search parameters"
   ]
  },
  {
   "cell_type": "code",
   "execution_count": null,
   "metadata": {},
   "outputs": [],
   "source": [
    "from scipy.stats import truncnorm, uniform\n",
    "from random import randint\n",
    "\n",
    "# create random forest classifier model\n",
    "rf_model = RandomForestClassifier(n_jobs=-1)\n",
    "model_params = dict(\n",
    "    # randomly sample numbers from 4 to 204 estimators\n",
    "    n_estimators=[randint(100,250)],\n",
    "    #n_estimators =[80,100],\n",
    "    #normally distributed max_features, with mean .25 stddev 0.1, bounded between 0 and 1\n",
    "    #max_features=truncnorm(a=0, b=1, loc=0.25, scale=0.1),\n",
    "    max_features = [0.3,0.5],\n",
    "    # uniform distribution from 0.01 to 0.2 (0.01 + 0.199)\n",
    "    #min_samples_split=uniform(0.01, 0.399),\n",
    "    #uniform distribution from 0.5 to 0.99 (0.5 + 0.99)\n",
    "    #max_samples=uniform(0.5,0.49),\n",
    "    max_samples= [0.8,0.9],\n",
    "    min_samples_leaf=[2,3,5]\n",
    ")\n",
    "#Set up the random search estimator, this will train 5 models.\n",
    "clf = RandomizedSearchCV(rf_model, model_params, n_iter = 10,random_state=0,scoring = scorer)\n",
    "print(\"In fit now\")\n",
    "%time model_rs = clf.fit(X_train, y_train)\n",
    "# Get the best estimator\n",
    "best_clf_rs = model_rs.best_estimator_\n",
    "#Make predictions using the unoptimized\n",
    "#predictions_UO = (RFmodel.fit(X_train, y_train)).predict(X_test)\n",
    "#Make predictions using the optimized\n",
    "best_pred_rs_train = best_clf_rs.predict(X_train)\n",
    "best_pred_rs = best_clf_rs.predict(X_test)\n",
    "\n",
    "# Report the before-and-afterscores\n",
    "print('Results--------------\\n')\n",
    "print(\"Unoptimized model\\n------\")\n",
    "print(\"MCC score on training data: {:.4f}\".format(mcc_Metric(y_train, Unopt_pred_train)))\n",
    "print(\"MCC score on testing data: {:.4f}\".format(mcc_Metric(y_test, Unoptimizedpredictions)))\n",
    "print(\"F-score on testing data: {:.4f}\".format(fbeta_score(y_test, Unoptimizedpredictions, beta = 0.5)))\n",
    "print(\"\\nOptimized Model\\n------\")\n",
    "print(\"Final MCC score on the testing data: {:.4f}\".format(mcc_Metric(y_train, best_pred_rs_train)))\n",
    "print(\"Final MCC score on the testing data: {:.4f}\".format(mcc_Metric(y_test, best_pred_rs)))\n",
    "print(\"Final F-score on the testing data: {:.4f}\".format(fbeta_score(y_test, best_pred_rs, beta = 0.5)))\n",
    "# Print the best parameters\n",
    "pprint(model_rs.best_estimator_.get_params())"
   ]
  },
  {
   "cell_type": "code",
   "execution_count": null,
   "metadata": {},
   "outputs": [],
   "source": [
    "clf.scorer_"
   ]
  },
  {
   "cell_type": "code",
   "execution_count": null,
   "metadata": {},
   "outputs": [],
   "source": [
    "plot_ROC(y_test,best_predictions_rs)"
   ]
  },
  {
   "cell_type": "markdown",
   "metadata": {},
   "source": [
    "#### Saving the models\n",
    "- Unoptimized model. \n",
    "- Optimized model."
   ]
  },
  {
   "cell_type": "code",
   "execution_count": null,
   "metadata": {},
   "outputs": [],
   "source": [
    "import joblib"
   ]
  },
  {
   "cell_type": "code",
   "execution_count": null,
   "metadata": {},
   "outputs": [],
   "source": [
    "joblib.dump(model_rs,'Random_forest_optimized.joblib')\n",
    "joblib.dump(RFmodel,'Random_forest_not_optimized.joblib')"
   ]
  },
  {
   "cell_type": "code",
   "execution_count": null,
   "metadata": {},
   "outputs": [],
   "source": [
    "load_RF = joblib.load('Random_forest.joblib')"
   ]
  },
  {
   "cell_type": "code",
   "execution_count": null,
   "metadata": {},
   "outputs": [],
   "source": [
    "y_pd = load_RF.predict(X_test)\n",
    "print(\"Final MCC score on the testing data: {:.4f}\".format(mcc_Metric(y_test, y_pd)))"
   ]
  },
  {
   "cell_type": "markdown",
   "metadata": {},
   "source": [
    "#### Feature importance.\n",
    "- Use permutation importance on the test set"
   ]
  },
  {
   "cell_type": "code",
   "execution_count": null,
   "metadata": {},
   "outputs": [],
   "source": [
    "from sklearn.inspection import permutation_importance"
   ]
  },
  {
   "cell_type": "code",
   "execution_count": null,
   "metadata": {},
   "outputs": [],
   "source": [
    "result = permutation_importance(load_RF, X_test, y_test, n_repeats=10,random_state=0)\n",
    "sorted_idx = result.importances_mean.argsort()\n",
    "fig, ax = plt.subplots(figsize=(12, 8))\n",
    "ax.boxplot(result.importances[sorted_idx].T,\n",
    "           vert=False, labels=X_test.columns[sorted_idx])\n",
    "ax.set_title(\"Permutation Importances (test set)\")\n",
    "fig.tight_layout()\n",
    "plt.show()"
   ]
  },
  {
   "cell_type": "markdown",
   "metadata": {},
   "source": [
    "### Choose top 8 features . For the rest of the analysis we will use this features for modelling "
   ]
  },
  {
   "cell_type": "code",
   "execution_count": null,
   "metadata": {},
   "outputs": [],
   "source": [
    "X_test.columns[sorted_idx[-8:]]"
   ]
  },
  {
   "cell_type": "code",
   "execution_count": null,
   "metadata": {},
   "outputs": [],
   "source": [
    "X_test_features = X_test[['Temp', 'DwellTime', 'OnsAndOffsCompensated', 'ArriveLoadCompensated',\\\n",
    "       'ArriveDelay', 'StopName', 'HeadwayOffset', 'ActualHeadway']]\n",
    "\n",
    "X_train_features = X_train[['Temp', 'DwellTime', 'OnsAndOffsCompensated', 'ArriveLoadCompensated',\\\n",
    "       'ArriveDelay', 'StopName', 'HeadwayOffset', 'ActualHeadway']]\n",
    "\n",
    "X_valid_features = X_valid[['Temp', 'DwellTime', 'OnsAndOffsCompensated', 'ArriveLoadCompensated',\\\n",
    "       'ArriveDelay', 'StopName', 'HeadwayOffset', 'ActualHeadway']]"
   ]
  },
  {
   "cell_type": "markdown",
   "metadata": {},
   "source": [
    "### Train model on the top 8 features"
   ]
  },
  {
   "cell_type": "code",
   "execution_count": null,
   "metadata": {},
   "outputs": [],
   "source": [
    "import time\n",
    "def RandomtuneRF(X_tr, y_tr, X_test, y_test):\n",
    "    # This returns best_pred_train, best_pred_test, model\n",
    "    # create random forest classifier model\n",
    "    model = RandomForestClassifier(n_jobs=-1)\n",
    "    model_params = dict(\n",
    "    # randomly sample numbers from 4 to 204 estimators\n",
    "        n_estimators=[randint(100,200)],\n",
    "    #n_estimators =[80,100],\n",
    "    #normally distributed max_features, with mean .25 stddev 0.1, bounded between 0 and 1\n",
    "    #max_features=truncnorm(a=0, b=1, loc=0.25, scale=0.1),\n",
    "        max_features = [0.3,0.5],\n",
    "    # uniform distribution from 0.01 to 0.2 (0.01 + 0.199)\n",
    "    #min_samples_split=uniform(0.01, 0.399),\n",
    "    #uniform distribution from 0.5 to 0.99 (0.5 + 0.99)\n",
    "    #max_samples=uniform(0.5,0.49),\n",
    "        max_samples= [0.8,0.9],\n",
    "        min_samples_leaf=[2,3,5]\n",
    "    )\n",
    "#Set up the random search estimator, this will train 5 models.\n",
    "    clf = RandomizedSearchCV(model, model_params, n_iter = 3,random_state=0,scoring = scorer)\n",
    "    print(\"In fit now--------\\n\")\n",
    "    t = time.process_time()\n",
    "    fit_model = clf.fit(X_tr, y_tr)\n",
    "    elapsed_time = time.process_time() - t\n",
    "    print(\"Time to fit: {:.4f} s\".format(elapsed_time))\n",
    "# Get the best estimator\n",
    "    best_clf = fit_model.best_estimator_\n",
    "#Make predictions using the unoptimized\n",
    "#predictions_UO = (RFmodel.fit(X_train, y_train)).predict(X_test)\n",
    "#Make predictions using the optimized\n",
    "    best_pred_train = best_clf.predict(X_tr)\n",
    "    best_pred_test = best_clf.predict(X_test)\n",
    "    return fit_model,best_pred_train, best_pred_test\n",
    "    # Print the best parameters\n",
    "    pprint(model_rs.best_estimator_.get_params())\n",
    "    \n",
    "def compare_models(y_train,y_test,Unopt_pred_train,Unoptimizedpredictions,best_pred_train,best_pred_test):\n",
    "#Report the before-and-afterscores\n",
    "    print('Results--------------\\n')\n",
    "    print(\"Unoptimized model\\n------\")\n",
    "    print(\"MCC score on training data: {:.4f}\".format(mcc_Metric(y_train, Unopt_pred_train)))\n",
    "    print(\"MCC score on testing data: {:.4f}\".format(mcc_Metric(y_test, Unoptimizedpredictions)))\n",
    "    print(\"F-score on testing data: {:.4f}\".format(fbeta_score(y_test, Unoptimizedpredictions, beta = 0.5)))\n",
    "    print(\"\\nOptimized Model\\n------\")\n",
    "    print(\"Final MCC score on the training data: {:.4f}\".format(mcc_Metric(y_train, best_pred_train)))\n",
    "    print(\"Final MCC score on the testing data: {:.4f}\".format(mcc_Metric(y_test, best_pred_test)))\n",
    "    print(\"Final F-score on the testing data: {:.4f}\".format(fbeta_score(y_test, best_pred_test, beta = 0.5)))\n",
    "    plot_ROC(y_test,best_pred_test)"
   ]
  },
  {
   "cell_type": "code",
   "execution_count": null,
   "metadata": {},
   "outputs": [],
   "source": [
    "fit_model,best_pred_train, best_pred_test = RandomtuneRF(X_train_features, y_train, X_test_features, y_test)\n",
    "compare_models(y_train,y_test,Unopt_pred_train,Unoptimizedpredictions,best_pred_train,best_pred_test)"
   ]
  },
  {
   "cell_type": "markdown",
   "metadata": {},
   "source": [
    "### Save the fitted model"
   ]
  },
  {
   "cell_type": "code",
   "execution_count": null,
   "metadata": {},
   "outputs": [],
   "source": [
    "import joblib\n",
    "joblib.dump(fit_model,'Random_forest_optimized_8_features.joblib')"
   ]
  },
  {
   "cell_type": "markdown",
   "metadata": {},
   "source": [
    "#### Put everything in a class."
   ]
  },
  {
   "cell_type": "code",
   "execution_count": null,
   "metadata": {},
   "outputs": [],
   "source": [
    "class RF_model:\n",
    "    \"\"\" Runs Random forest \"\"\"\n",
    "    def __init__(self):\n",
    "        self.random_forest = RandomForestClassifier(n_jobs=-1,criterion ='gini')\n",
    "    \n",
    "    def unoptimized_RF(self,X, y):\n",
    "    \"\"\" \n",
    "    Trains a model with default parameters and returns the model\n",
    "    Parameter\n",
    "    ---------\n",
    "    X : input features\n",
    "    y : target\n",
    "    \n",
    "    Returns\n",
    "    --------\n",
    "    un_opt_model: trained model\n",
    "    \n",
    "    \"\"\"\n",
    "        self.X = X\n",
    "        self.y = y\n",
    "        print(\"In unoptimized fit now--------\")\n",
    "        t = time.process_time()\n",
    "        un_opt_model = self.random_forest.fit(self.X, self.y)\n",
    "        elapsed_time = time.process_time() - t\n",
    "        print(\"Time taken to fit: {:.4f} s\".format(elapsed_time))\n",
    "        print('\\n')\n",
    "        #un_opt_pred =un_opt_model.predict(self.X)\n",
    "        return un_opt_model  \n",
    "    \n",
    "    def randomtuned_RF(self, X_train, y_train):\n",
    "    \"\"\" \n",
    "    Trains a model using random parameters and returns the model\n",
    "    Parameter\n",
    "    ---------\n",
    "    X : input features\n",
    "    y : target\n",
    "    \n",
    "    Returns\n",
    "    --------\n",
    "    best_clf : trained model\n",
    "    \n",
    "    \"\"\"\n",
    "        self.X_train = X_train\n",
    "        self.y_train = y_train\n",
    "        # create random forest classifier model\n",
    "        model = self.random_forest\n",
    "        model_params = dict(\n",
    "    # randomly sample numbers from 4 to 204 estimators\n",
    "            n_estimators=[randint(120,200)],\n",
    "    #n_estimators =[80,100],\n",
    "    #normally distributed max_features, with mean .25 stddev 0.1, bounded between 0 and 1\n",
    "    #max_features=truncnorm(a=0, b=1, loc=0.25, scale=0.1),\n",
    "            max_features = [0.3,0.5,0.8],\n",
    "    # uniform distribution from 0.01 to 0.2 (0.01 + 0.199)\n",
    "    #min_samples_split=uniform(0.01, 0.399),\n",
    "    #uniform distribution from 0.5 to 0.99 (0.5 + 0.99)\n",
    "    #max_samples=uniform(0.5,0.49),\n",
    "            max_samples= [0.8,0.9,0.99],\n",
    "            min_samples_leaf=[2,3,5]\n",
    "        )\n",
    "#Set up the random search estimator, this will train 5 models.\n",
    "        clf = RandomizedSearchCV(model, model_params, n_iter = 5,random_state=0,scoring = scorer)\n",
    "        print(\"In randomtune fit now--------\")\n",
    "        t = time.process_time()\n",
    "        fit_model = clf.fit(self.X_train, self.y_train)\n",
    "        elapsed_time = time.process_time() - t\n",
    "        print(\"Time taken to fit: {:.4f} s\".format(elapsed_time))\n",
    "        print('\\n')\n",
    "        # Get the best estimator\n",
    "        best_clf = fit_model.best_estimator_\n",
    "        #Print the best parameters\n",
    "        #pprint(fit_model.best_estimator_.get_params())\n",
    "        return best_clf\n",
    "    \n",
    "\n",
    "        # Compute ROC curve and ROC area for each class\n",
    "    def plot_ROC(self,y,y_pred,name):\n",
    "        self.y = y\n",
    "        self.y_pred = y_pred\n",
    "        self.name = name\n",
    "        n_classes = 1\n",
    "        fpr = dict()\n",
    "        tpr = dict()\n",
    "        roc_auc = dict()\n",
    "        for i in range(n_classes):\n",
    "            fpr[i], tpr[i], _ = roc_curve(self.y, self.y_pred)\n",
    "            roc_auc[i] = auc(fpr[i], tpr[i])\n",
    "# Compute micro-average ROC curve and ROC area\n",
    "        fpr[\"micro\"], tpr[\"micro\"], _ = roc_curve(self.y.ravel(), self.y_pred.ravel())\n",
    "        roc_auc[\"micro\"] = auc(fpr[\"micro\"], tpr[\"micro\"])\n",
    "        plt.figure()\n",
    "        lw = 2\n",
    "        plt.plot(fpr[0], tpr[0], color='darkorange',\n",
    "             lw=lw, label='ROC curve (area = %0.4f)' % roc_auc[0])\n",
    "        plt.plot([0, 1], [0, 1], color='navy', lw=lw, linestyle='--')\n",
    "        plt.xlim([0.0, 1.0])\n",
    "        plt.ylim([0.0, 1.05])\n",
    "        plt.xlabel('False Positive Rate')\n",
    "        plt.ylabel('True Positive Rate')\n",
    "        plt.title('Receiver operating characteristic %s'%name)\n",
    "        plt.legend(loc=\"lower right\")\n",
    "        plt.show()\n",
    "        \n",
    "    def scores(self,y,y_pred):\n",
    "        #Takes prdictions from two models and outputs the MCC score and f beta score\n",
    "        self.y = y\n",
    "        self.y_pred = y_pred\n",
    "      #Report the before-and-afterscores\n",
    "        print(\"Accuracy score: {:.4f}\".format(accuracy_score(self.y, self.y_pred)))\n",
    "        print(\"MCC score: {:.4f}\".format(mcc_Metric(self.y,self.y_pred)))\n",
    "        print(\"F-score: {:.4f}\".format(fbeta_score(self.y, self.y_pred, beta = 0.5)))\n",
    "           "
   ]
  },
  {
   "cell_type": "code",
   "execution_count": null,
   "metadata": {},
   "outputs": [],
   "source": [
    "# Here we return the models\n",
    "rf_model = RF_model()\n",
    "# First train a base model with default parameters.\n",
    "base_model = rf_model.unoptimized_RF(X_train_features,y_train)\n",
    "# Now train a model to optimize parameters.\n",
    "optimized_model = rf_model.randomtuned_RF(X_train_features,y_train)"
   ]
  },
  {
   "cell_type": "code",
   "execution_count": null,
   "metadata": {},
   "outputs": [],
   "source": [
    "#Optimized model\n",
    "y_pred_train = optimized_model.predict(X_train_features)\n",
    "y_pred_test = optimized_model.predict(X_test_features)\n",
    "\n",
    "y_pred_train_base = base_model.predict(X_train_features)\n",
    "y_pred_test_base = base_model.predict(X_test_features)\n",
    "#Try optimized model\n",
    "print(\"Optimized model-------\")\n",
    "print(\"Train score:-->\")\n",
    "rf_model.scores(y_train,y_pred_train)\n",
    "#rf_model.plot_ROC(y_train[:2000],y_pred_train,'optimized model, train')\n",
    "print(\"\\n Test score:-->\")\n",
    "rf_model.scores(y_test,y_pred_test)\n",
    "rf_model.plot_ROC(y_test,y_pred_test,'optimized model, test')\n",
    "print(\"Not optimized model--------\")\n",
    "print(\"Train score:-->\")\n",
    "#Try not optimized model\n",
    "rf_model.scores(y_train,y_pred_train_base)\n",
    "#rf_model.plot_ROC(y_train[:2000],y_pred_train_base,'Not optimized model, train')\n",
    "print(\"\\n Test score:-->\")\n",
    "rf_model.scores(y_test,y_pred_test_base)\n",
    "rf_model.plot_ROC(y_test,y_pred_test_base,'Not optimized model, test')"
   ]
  },
  {
   "cell_type": "code",
   "execution_count": null,
   "metadata": {},
   "outputs": [],
   "source": [
    "joblib.dump(optimized_model,'Random_forest_optimized_8_features.joblib')"
   ]
  },
  {
   "cell_type": "markdown",
   "metadata": {},
   "source": [
    "### Now try Logisitic regression model"
   ]
  },
  {
   "cell_type": "code",
   "execution_count": null,
   "metadata": {},
   "outputs": [],
   "source": [
    "from sklearn.linear_model import LogisticRegression\n",
    "from sklearn.metrics import ConfusionMatrixDisplay\n",
    "from sklearn.metrics import precision_recall_curve\n",
    "\n",
    "class log_reg_model():\n",
    "    \n",
    "    def __init__(self, X,y):\n",
    "        self.log_reg = LogisticRegression(max_iter=1000, C=100000,penalty = 'l2')\n",
    "        self.X = X\n",
    "        self.y = y\n",
    "        \n",
    "    def unoptimized_LR(self):\n",
    "       #takes in X and y and trains a model with default parameters and returns the model\n",
    "        print(\"In unoptimized fit now--------\")\n",
    "        t = time.process_time()\n",
    "        un_opt_model = self.log_reg.fit(self.X, self.y)\n",
    "        elapsed_time = time.process_time() - t\n",
    "        print(\"Time taken to fit: {:.4f} s\".format(elapsed_time))\n",
    "        print('\\n')\n",
    "        #un_opt_pred =un_opt_model.predict(self.X)\n",
    "        return un_opt_model\n",
    "    \n",
    "    \n",
    "class plot_and_scores():\n",
    "    \"\"\" \n",
    "    Input \n",
    "    ---------\n",
    "    y : actual target values\n",
    "    y_pred : predicted target  values \n",
    "    y_pred_proba : predicted probabilities  \n",
    "    \n",
    "    \"\"\"\n",
    "    def __init__(self,y,y_pred, y_pred_proba):\n",
    "        self.y = y\n",
    "        self.y_pred = y_pred\n",
    "        self.y_pred_proba = y_pred_proba\n",
    "        \n",
    "    def plot_ROC(self,name):\n",
    "        self.name = name\n",
    "        n_classes = 1\n",
    "        fpr = dict()\n",
    "        tpr = dict()\n",
    "        roc_auc = dict()\n",
    "        for i in range(n_classes):\n",
    "            fpr[i], tpr[i], _ = roc_curve(self.y, self.y_pred)\n",
    "            roc_auc[i] = auc(fpr[i], tpr[i])\n",
    "        # Compute micro-average ROC curve and ROC area\n",
    "        fpr[\"micro\"], tpr[\"micro\"], _ = roc_curve(self.y.ravel(), self.y_pred.ravel())\n",
    "        roc_auc[\"micro\"] = auc(fpr[\"micro\"], tpr[\"micro\"])\n",
    "        plt.figure()\n",
    "        lw = 2\n",
    "        plt.plot(fpr[0], tpr[0], color='darkorange',\n",
    "             lw=lw, label='ROC curve (area = %0.4f)' % roc_auc[0])\n",
    "        plt.plot([0, 1], [0, 1], color='navy', lw=lw, linestyle='--')\n",
    "        plt.xlim([0.0, 1.0])\n",
    "        plt.ylim([0.0, 1.05])\n",
    "        plt.xlabel('False Positive Rate')\n",
    "        plt.ylabel('True Positive Rate')\n",
    "        plt.title('Receiver operating characteristic %s'%name)\n",
    "        plt.legend(loc=\"lower right\")\n",
    "        plt.show()\n",
    "        \n",
    "    def print_scores(self):\n",
    "        print(\"Accuracy score: {:.4f}\".format(accuracy_score(self.y, self.y_pred)))\n",
    "        print(\"MCC score: {:.4f}\".format(mcc_Metric(self.y,self.y_pred)))\n",
    "        print(\"F-score: {:.4f}\".format(fbeta_score(self.y, self.y_pred, beta = 0.5)))\n",
    "    \n",
    "    \n",
    "    def mcc_Metric(self):\n",
    "        \n",
    "        cf_matrix=confusion_matrix(self.y,self.y_preds)\n",
    "        TP = cf_matrix[0][0]\n",
    "        TN = cf_matrix[1][1]\n",
    "        FN = cf_matrix[0][1]\n",
    "        FP = cf_matrix[1][0]\n",
    "        N = TN + TP + FN + FP \n",
    "        S = (TP + FN)/N\n",
    "        P = (TP + FP)/N\n",
    "        num = (TP /N) - (S*P)\n",
    "        deno = np.sqrt(P*S*(1-S)*(1-P))\n",
    "        \n",
    "        #Need to avoide division by zero\n",
    "        return weird_division(num,deno)\n",
    "    \n",
    "    def display_confusion_matrix(self):\n",
    "        cm = confusion_matrix(self.y, self.y_pred)\n",
    "        ConfusionMatrixDisplay(cm).plot() \n",
    "        \n",
    "\n",
    "    def weird_division(self,n, d):\n",
    "        self.n = n\n",
    "        self.d = d\n",
    "        return self.n / self.d if self.d else 0  \n",
    "   \n",
    "   \n",
    "    def precision_recall_vs_threshold(self):\n",
    "        precisions, recalls, thresholds = precision_recall_curve(self.y,self.y_pred_proba[:,1])\n",
    "        plt.figure()\n",
    "        plt.title(\"Precision-Recall vs Threshold Chart\")\n",
    "        plt.plot(thresholds, precisions[: -1], \"b--\", label=\"Precision\")\n",
    "        plt.plot(thresholds, recalls[: -1], \"r--\", label=\"Recall\")\n",
    "        plt.ylabel(\"Precision, Recall\")\n",
    "        plt.xlabel(\"Threshold\")\n",
    "        plt.legend(loc=\"lower left\")\n",
    "        plt.ylim([0,1])\n",
    "        plt.show() "
   ]
  },
  {
   "cell_type": "code",
   "execution_count": null,
   "metadata": {},
   "outputs": [],
   "source": [
    "from sklearn.preprocessing import StandardScaler\n",
    "X1 = StandardScaler().fit_transform(X_train_features)"
   ]
  },
  {
   "cell_type": "code",
   "execution_count": null,
   "metadata": {},
   "outputs": [],
   "source": [
    "X1.shape"
   ]
  },
  {
   "cell_type": "code",
   "execution_count": null,
   "metadata": {},
   "outputs": [],
   "source": [
    "# Here we return the models\n",
    "log_r_model = log_reg_model(X1,y_train)\n",
    "# First train a base model with default parameters.\n",
    "base_model_LR = log_r_model.unoptimized_LR()"
   ]
  },
  {
   "cell_type": "code",
   "execution_count": null,
   "metadata": {},
   "outputs": [],
   "source": [
    "#Make predictions\n",
    "y_pred_LR = base_model_LR.predict(X1)\n",
    "y_pred_proba = base_model_LR.predict_proba(X1)\n",
    "#y_pred_test_base = base_model.predict(X_test_features)\n",
    "ps = plot_and_scores(y_train,y_pred_LR,y_pred_proba)\n",
    "ps.print_scores()\n",
    "ps.plot_ROC('test')\n",
    "ps.display_confusion_matrix()\n",
    "ps.precision_recall_vs_threshold()"
   ]
  },
  {
   "cell_type": "code",
   "execution_count": null,
   "metadata": {},
   "outputs": [],
   "source": [
    "y_pred_LR_prob = base_model_LR.predict_proba(X1)"
   ]
  },
  {
   "cell_type": "code",
   "execution_count": null,
   "metadata": {},
   "outputs": [],
   "source": [
    "from sklearn.metrics import precision_recall_curve\n",
    "precisions, recalls, thresholds = precision_recall_curve(y_train,y_pred_LR_prob[:,1])"
   ]
  },
  {
   "cell_type": "code",
   "execution_count": null,
   "metadata": {},
   "outputs": [],
   "source": [
    "print('precision shape',precisions.shape, 'threshold shape',thresholds.shape,'recalls shape',recalls.shape)"
   ]
  },
  {
   "cell_type": "code",
   "execution_count": null,
   "metadata": {},
   "outputs": [],
   "source": [
    "111001-110752"
   ]
  },
  {
   "cell_type": "code",
   "execution_count": null,
   "metadata": {},
   "outputs": [],
   "source": [
    "# probs_y is a 2-D array of probability of being labeled as 0 (first column of #array) vs 1 (2nd column in array)\n",
    "\n",
    "#precision, recall, thresholds = precision_recall_curve(y_train,y_pred_LR_prob[:,1]) \n",
    "#retrieve probability of being 1(in second column of probs_y)\n",
    "#pr_auc = metrics.auc(recall, precision)\n",
    "plt.title(\"Precision-Recall vs Threshold Chart\")\n",
    "plt.plot(thresholds, precisions[: -1], \"b--\", label=\"Precision\")\n",
    "plt.plot(thresholds, recalls[: -1], \"r--\", label=\"Recall\")\n",
    "plt.ylabel(\"Precision, Recall\")\n",
    "plt.xlabel(\"Threshold\")\n",
    "plt.legend(loc=\"lower left\")\n",
    "plt.ylim([0,1])"
   ]
  },
  {
   "cell_type": "code",
   "execution_count": null,
   "metadata": {},
   "outputs": [],
   "source": [
    "plt.plot(precision,recall)"
   ]
  },
  {
   "cell_type": "code",
   "execution_count": null,
   "metadata": {},
   "outputs": [],
   "source": [
    "def plot_precision_vs_recall(precisions, recalls):\n",
    "    plt.plot(recalls, precisions, \"b-\", linewidth=2)\n",
    "    plt.xlabel(\"Recall\", fontsize=16)\n",
    "    plt.ylabel(\"Precision\", fontsize=16)\n",
    "    #plt.axis([0, 1, 0, 1])\n",
    "    plt.grid(True)\n",
    "\n",
    "plt.figure(figsize=(8, 6))\n",
    "plot_precision_vs_recall(precisions, recalls)\n",
    "#plt.plot([0.4368, 0.4368], [0., 0.9], \"r:\")\n",
    "#plt.plot([0.0, 0.4368], [0.9, 0.9], \"r:\")\n",
    "#plt.plot([0.4368], [0.9], \"ro\")\n",
    "#save_fig(\"precision_vs_recall_plot\")\n",
    "plt.show()"
   ]
  },
  {
   "cell_type": "code",
   "execution_count": null,
   "metadata": {},
   "outputs": [],
   "source": [
    "#Plot scatter matrix for all features\n",
    "#params = [\"HeadwayOffset\",\"Temp\", \"Windspeed\",\"Dwell Time\"]\n",
    "#pd.scatter_matrix(X_train, alpha = 0.3, figsize = (14,8), diagonal = 'kde');\n",
    "#plt.savefig(\"scatter.png\")"
   ]
  },
  {
   "cell_type": "code",
   "execution_count": null,
   "metadata": {},
   "outputs": [],
   "source": [
    "from sklearn.metrics import fbeta_score, accuracy_score\n",
    "def train_predict(learner, sample_size, X_train, y_train, X_test, y_test): \n",
    "    '''\n",
    "    inputs:\n",
    "       - learner: the learning algorithm to be trained and predicted on\n",
    "       - sample_size: the size of samples (number) to be drawn from training set\n",
    "       - X_train: features training set\n",
    "       - y_train: income training set\n",
    "       - X_test: features testing set\n",
    "       - y_test: income testing set\n",
    "    '''\n",
    "    \n",
    "    results = {}\n",
    "    \n",
    "    # TODO: Fit the learner to the training data using slicing with 'sample_size' using .fit(training_features[:], training_labels[:])\n",
    "    start = time() # Get start time\n",
    "    learner = learner.fit(X_train[:sample_size],y_train[:sample_size])\n",
    "    end = time() # Get end time\n",
    "    \n",
    "    # TODO: Calculate the training time\n",
    "    results['train_time'] = end - start\n",
    "        \n",
    "    # TODO: Get the predictions on the test set(X_test),\n",
    "    #       then get predictions on the first 300 training samples(X_train) using .predict()\n",
    "    start = time() # Get start time\n",
    "    predictions_test = learner.predict(X_test)\n",
    "    predictions_train = learner.predict(X_train[:300])\n",
    "    end = time() # Get end time\n",
    "    \n",
    "    # TODO: Calculate the total prediction time\n",
    "    results['pred_time'] = end - start\n",
    "            \n",
    "    # TODO: Compute accuracy on the first 300 training samples which is y_train[:300]\n",
    "    results['acc_train'] = accuracy_score(y_train[:300], predictions_train[:300])\n",
    "        \n",
    "    # TODO: Compute accuracy on test set using accuracy_score()\n",
    "    results['acc_test'] = accuracy_score(y_test, predictions_test)\n",
    "    \n",
    "    # TODO: Compute F-score on the the first 300 training samples using fbeta_score()\n",
    "    results['f_train'] = fbeta_score(y_train[:300], predictions_train, beta=0.5)\n",
    "        \n",
    "    # TODO: Compute F-score on the test set which is y_test\n",
    "    results['f_test'] = fbeta_score(y_test, predictions_test, beta=0.5)\n",
    "       \n",
    "    # Success\n",
    "    print(\"{} trained on {} samples.\".format(learner.__class__.__name__, sample_size))\n",
    "        \n",
    "    # Return the results\n",
    "    return results"
   ]
  },
  {
   "cell_type": "code",
   "execution_count": null,
   "metadata": {},
   "outputs": [],
   "source": [
    "import visuals as vs"
   ]
  },
  {
   "cell_type": "code",
   "execution_count": null,
   "metadata": {},
   "outputs": [],
   "source": [
    "# TODO: Import the three supervised learning models from sklearn\n",
    "from sklearn.linear_model import LogisticRegression\n",
    "from sklearn.tree import DecisionTreeClassifier\n",
    "from sklearn.ensemble import AdaBoostClassifier\n",
    "import time\n",
    "\n",
    "# TODO: Initialize the three models\n",
    "clf_A = LogisticRegression(random_state=0)\n",
    "clf_B = DecisionTreeClassifier(random_state=0)\n",
    "clf_C = AdaBoostClassifier(random_state=0)\n",
    "\n",
    "# TODO: Calculate the number of samples for 1%, 10%, and 100% of the training data\n",
    "# HINT: samples_100 is the entire training set i.e. len(y_train)\n",
    "# HINT: samples_10 is 10% of samples_100 (ensure to set the count of the values to be `int` and not `float`)\n",
    "# HINT: samples_1 is 1% of samples_100 (ensure to set the count of the values to be `int` and not `float`)\n",
    "samples_100 = len(X_train)\n",
    "samples_10 = int(0.1 * len(X_train))\n",
    "samples_1 = int(0.01 * len(X_train))\n",
    "\n",
    "# Collect results on the learners\n",
    "results = {}\n",
    "for clf in [clf_A, clf_B, clf_C]:\n",
    "    clf_name = clf.__class__.__name__\n",
    "    results[clf_name] = {}\n",
    "    for i, samples in enumerate([samples_1, samples_10, samples_100]):\n",
    "        results[clf_name][i] = \\\n",
    "        train_predict(clf, samples, X_train, y_train, X_test, y_test)\n",
    "\n",
    "# Run metrics visualization for the three supervised learning models chosen\n",
    "vs.evaluate(results, accuracy, fscore)"
   ]
  },
  {
   "cell_type": "code",
   "execution_count": null,
   "metadata": {},
   "outputs": [],
   "source": [
    "X_train.iloc[1]"
   ]
  },
  {
   "cell_type": "code",
   "execution_count": null,
   "metadata": {},
   "outputs": [],
   "source": [
    "#plt.hist(labels[:300],bins=2)"
   ]
  },
  {
   "cell_type": "code",
   "execution_count": null,
   "metadata": {},
   "outputs": [],
   "source": [
    "import visuals as vs\n",
    "importances = RFmodel.feature_importances_\n",
    "\n",
    "# Plot\n",
    "vs.feature_plot(importances, X_train, y_train)"
   ]
  },
  {
   "cell_type": "code",
   "execution_count": null,
   "metadata": {},
   "outputs": [],
   "source": [
    "from sklearn.model_selection import GridSearchCV\n",
    "from sklearn.metrics import make_scorer\n",
    "from sklearn.metrics import r2_score\n",
    "from sklearn.model_selection import ShuffleSplit\n",
    "\n",
    "def fit_model(X, y):\n",
    "    \"\"\" Performs grid search over the 'max_depth' parameter for a \n",
    "        decision tree regressor trained on the input data [X, y]. \"\"\"\n",
    "    \n",
    "    # Create cross-validation sets from the training data\n",
    "    # sklearn version 0.18: ShuffleSplit(n_splits=10, test_size=0.1, train_size=None, random_state=None)\n",
    "    # sklearn versiin 0.17: ShuffleSplit(n, n_iter=10, test_size=0.1, train_size=None, random_state=None)\n",
    "    cv_sets = ShuffleSplit(n_splits=10, test_size = 0.20, random_state=None)\n",
    "\n",
    "    # TODO: Create a decision tree regressor object\n",
    "    classifier = RandomForestClassifier()\n",
    "\n",
    "    # TODO: Create a dictionary for the parameter 'max_depth' with a range from 1 to 10\n",
    "    params = {'max_depth': range(1,10), 'n_estimators':[10,50,100,200]}\n",
    "\n",
    "    # TODO: Transform 'performance_metric' into a scoring function using 'make_scorer' \n",
    "    scoring_fnc = make_scorer(accuracy_score)\n",
    "\n",
    "    # TODO: Create the grid search cv object --> GridSearchCV()\n",
    "    # Make sure to include the right parameters in the object:\n",
    "    # (estimator, param_grid, scoring, cv) which have values 'regressor', 'params', 'scoring_fnc', and 'cv_sets' respectively.\n",
    "    grid = GridSearchCV(classifier, params, scoring = scoring_fnc, cv = cv_sets)\n",
    "\n",
    "    # Fit the grid search object to the data to compute the optimal model\n",
    "    grid = grid.fit(X, y)\n",
    "\n",
    "    # Return the optimal model after fitting the data\n",
    "    return grid.best_estimator_"
   ]
  },
  {
   "cell_type": "code",
   "execution_count": null,
   "metadata": {},
   "outputs": [],
   "source": [
    "\n",
    "reg = fit_model(X_train, y_train.values.ravel())\n",
    "\n",
    "# Produce the value for 'max_depth'\n",
    "\n",
    "\n",
    "print (\"Parameter 'max_depth' is {} for the optimal model.\".format(reg.get_params()['max_depth']))\n",
    "print (\"Parameter 'n_estimators' is {} for the optimal model.\".format(reg.get_params()['n_estimators']))"
   ]
  },
  {
   "cell_type": "code",
   "execution_count": null,
   "metadata": {},
   "outputs": [],
   "source": []
  },
  {
   "cell_type": "code",
   "execution_count": null,
   "metadata": {},
   "outputs": [],
   "source": []
  }
 ],
 "metadata": {
  "kernelspec": {
   "display_name": "Python 3",
   "language": "python",
   "name": "python3"
  },
  "language_info": {
   "codemirror_mode": {
    "name": "ipython",
    "version": 3
   },
   "file_extension": ".py",
   "mimetype": "text/x-python",
   "name": "python",
   "nbconvert_exporter": "python",
   "pygments_lexer": "ipython3",
   "version": "3.7.8"
  }
 },
 "nbformat": 4,
 "nbformat_minor": 2
}

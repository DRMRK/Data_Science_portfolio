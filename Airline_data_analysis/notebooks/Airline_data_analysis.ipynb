{
 "cells": [
  {
   "cell_type": "code",
   "execution_count": 3,
   "metadata": {},
   "outputs": [
    {
     "name": "stdout",
     "output_type": "stream",
     "text": [
      "Airline_data_analysis.ipynb          Visualizing_data.ipynb\r\n",
      "Airline_data_analysis_2.ipynb        add_for_long_lat.csv\r\n",
      "RF_DEP_DELAY.ipynb                   \u001b[1m\u001b[34mhelper\u001b[m\u001b[m\r\n",
      "Regression_DEP_delay_Arr_Delay.ipynb\r\n"
     ]
    }
   ],
   "source": [
    "!ls"
   ]
  },
  {
   "cell_type": "markdown",
   "metadata": {},
   "source": [
    "This is exploratory data from Bureau of Transport Statistics. I download, clean and analyze this data. \n",
    "Explanations of the columns can be found in https://www.transtats.bts.gov/DL_SelectFields.asp?Table_ID=236&DB_Short_Name=On%20Time. I am interested in Departure delay of the flights.\n",
    "#### Data file \n",
    "airline.csv"
   ]
  },
  {
   "cell_type": "code",
   "execution_count": 4,
   "metadata": {},
   "outputs": [
    {
     "name": "stderr",
     "output_type": "stream",
     "text": [
      "/Applications/anaconda3/envs/DNN/lib/python3.7/site-packages/sklearn/utils/deprecation.py:143: FutureWarning: The sklearn.ensemble.forest module is  deprecated in version 0.22 and will be removed in version 0.24. The corresponding classes / functions should instead be imported from sklearn.ensemble. Anything that cannot be imported from sklearn.ensemble is now part of the private API.\n",
      "  warnings.warn(message, FutureWarning)\n"
     ]
    }
   ],
   "source": [
    "# Import stuff\n",
    "import pandas as pd\n",
    "import matplotlib.pyplot as plt\n",
    "import numpy as np\n",
    "import re\n",
    "from helper.imports import *\n",
    "from helper.structured  import *\n",
    "%matplotlib inline"
   ]
  },
  {
   "cell_type": "code",
   "execution_count": 3,
   "metadata": {},
   "outputs": [],
   "source": [
    "#Data path\n",
    "path_data = '/Users/franciumpnc/Documents/ML/AQM/ML_practice_projects/Airline_data_analysis/data/original/jan_2020_airline_data.csv'"
   ]
  },
  {
   "cell_type": "code",
   "execution_count": 4,
   "metadata": {},
   "outputs": [
    {
     "name": "stdout",
     "output_type": "stream",
     "text": [
      "\"FL_DATE\",\"OP_UNIQUE_CARRIER\",\"ORIGIN_AIRPORT_ID\",\"ORIGIN_AIRPORT_SEQ_ID\",\"ORIGIN_CITY_MARKET_ID\",\"ORIGIN\",\"ORIGIN_CITY_NAME\",\"ORIGIN_STATE_ABR\",\"ORIGIN_STATE_FIPS\",\"ORIGIN_STATE_NM\",\"DEST_AIRPORT_ID\",\"CRS_DEP_TIME\",\"DEP_TIME\",\"DEP_DELAY\",\"ARR_DELAY\",\"CANCELLED\",\"FLIGHTS\",\"DISTANCE\",\"CARRIER_DELAY\",\"WEATHER_DELAY\",\"NAS_DELAY\",\"SECURITY_DELAY\",\"LATE_AIRCRAFT_DELAY\",\"FIRST_DEP_TIME\",\r\n",
      "2020-01-01,\"WN\",13891,1389101,32575,\"ONT\",\"Ontario, CA\",\"CA\",\"06\",\"California\",14771,\"1810\",\"1851\",41.00,68.00,0.00,1.00,363.00,8.00,0.00,27.00,0.00,33.00,\"\",\r\n",
      "2020-01-01,\"WN\",13891,1389101,32575,\"ONT\",\"Ontario, CA\",\"CA\",\"06\",\"California\",14771,\"1150\",\"1146\",-4.00,-2.00,0.00,1.00,363.00,,,,,,\"\",\r\n",
      "2020-01-01,\"WN\",13891,1389101,32575,\"ONT\",\"Ontario, CA\",\"CA\",\"06\",\"California\",14831,\"2020\",\"2016\",-4.00,-6.00,0.00,1.00,333.00,,,,,,\"\",\r\n",
      "2020-01-01,\"WN\",13891,1389101,32575,\"ONT\",\"Ontario, CA\",\"CA\",\"06\",\"California\",14831,\"1340\",\"1350\",10.00,10.00,0.00,1.00,333.00,,,,,,\"\",\r\n",
      "2020-01-01,\"WN\",13891,1389101,32575,\"ONT\",\"Ontario, CA\",\"CA\",\"06\",\"California\",14831,\"0915\",\"0916\",1.00,-12.00,0.00,1.00,333.00,,,,,,\"\",\r\n",
      "2020-01-01,\"WN\",13891,1389101,32575,\"ONT\",\"Ontario, CA\",\"CA\",\"06\",\"California\",14831,\"0600\",\"0602\",2.00,7.00,0.00,1.00,333.00,,,,,,\"\",\r\n",
      "2020-01-01,\"WN\",13891,1389101,32575,\"ONT\",\"Ontario, CA\",\"CA\",\"06\",\"California\",14831,\"1620\",\"1624\",4.00,-4.00,0.00,1.00,333.00,,,,,,\"\",\r\n",
      "2020-01-01,\"WN\",13891,1389101,32575,\"ONT\",\"Ontario, CA\",\"CA\",\"06\",\"California\",14893,\"1505\",\"1604\",59.00,47.00,0.00,1.00,390.00,0.00,0.00,0.00,7.00,40.00,\"\",\r\n",
      "2020-01-01,\"WN\",13891,1389101,32575,\"ONT\",\"Ontario, CA\",\"CA\",\"06\",\"California\",14893,\"1230\",\"1225\",-5.00,10.00,0.00,1.00,390.00,,,,,,\"\",\r\n"
     ]
    }
   ],
   "source": [
    "!head /Users/franciumpnc/Documents/ML/AQM/ML_practice_projects/Airline_data_analysis/data/original/jan_2020_airline_data.csv"
   ]
  },
  {
   "cell_type": "code",
   "execution_count": 5,
   "metadata": {},
   "outputs": [
    {
     "name": "stdout",
     "output_type": "stream",
     "text": [
      "  607347 /Users/franciumpnc/Documents/ML/AQM/ML_practice_projects/airline_data/jan_2020_airline_data.csv\r\n"
     ]
    }
   ],
   "source": [
    "!wc -l /Users/franciumpnc/Documents/ML/AQM/ML_practice_projects/airline_data/jan_2020_airline_data.csv"
   ]
  },
  {
   "cell_type": "code",
   "execution_count": 6,
   "metadata": {},
   "outputs": [],
   "source": [
    "df = pd.read_csv(path_data,parse_dates =['FL_DATE'],infer_datetime_format = True)"
   ]
  },
  {
   "cell_type": "code",
   "execution_count": 7,
   "metadata": {},
   "outputs": [],
   "source": [
    "def display_all(df):\n",
    "    with pd.option_context(\"display.max_rows\",1000,\"display.max_columns\",1000):\n",
    "        display(df)"
   ]
  },
  {
   "cell_type": "code",
   "execution_count": 8,
   "metadata": {},
   "outputs": [
    {
     "data": {
      "text/html": [
       "<div>\n",
       "<style scoped>\n",
       "    .dataframe tbody tr th:only-of-type {\n",
       "        vertical-align: middle;\n",
       "    }\n",
       "\n",
       "    .dataframe tbody tr th {\n",
       "        vertical-align: top;\n",
       "    }\n",
       "\n",
       "    .dataframe thead th {\n",
       "        text-align: right;\n",
       "    }\n",
       "</style>\n",
       "<table border=\"1\" class=\"dataframe\">\n",
       "  <thead>\n",
       "    <tr style=\"text-align: right;\">\n",
       "      <th></th>\n",
       "      <th>607341</th>\n",
       "      <th>607342</th>\n",
       "      <th>607343</th>\n",
       "      <th>607344</th>\n",
       "      <th>607345</th>\n",
       "    </tr>\n",
       "  </thead>\n",
       "  <tbody>\n",
       "    <tr>\n",
       "      <th>FL_DATE</th>\n",
       "      <td>2020-01-31 00:00:00</td>\n",
       "      <td>2020-01-31 00:00:00</td>\n",
       "      <td>2020-01-31 00:00:00</td>\n",
       "      <td>2020-01-31 00:00:00</td>\n",
       "      <td>2020-01-31 00:00:00</td>\n",
       "    </tr>\n",
       "    <tr>\n",
       "      <th>OP_UNIQUE_CARRIER</th>\n",
       "      <td>9E</td>\n",
       "      <td>9E</td>\n",
       "      <td>9E</td>\n",
       "      <td>9E</td>\n",
       "      <td>9E</td>\n",
       "    </tr>\n",
       "    <tr>\n",
       "      <th>ORIGIN_AIRPORT_ID</th>\n",
       "      <td>11278</td>\n",
       "      <td>11278</td>\n",
       "      <td>12478</td>\n",
       "      <td>13930</td>\n",
       "      <td>12953</td>\n",
       "    </tr>\n",
       "    <tr>\n",
       "      <th>ORIGIN_AIRPORT_SEQ_ID</th>\n",
       "      <td>1127805</td>\n",
       "      <td>1127805</td>\n",
       "      <td>1247805</td>\n",
       "      <td>1393007</td>\n",
       "      <td>1295304</td>\n",
       "    </tr>\n",
       "    <tr>\n",
       "      <th>ORIGIN_CITY_MARKET_ID</th>\n",
       "      <td>30852</td>\n",
       "      <td>30852</td>\n",
       "      <td>31703</td>\n",
       "      <td>30977</td>\n",
       "      <td>31703</td>\n",
       "    </tr>\n",
       "    <tr>\n",
       "      <th>ORIGIN</th>\n",
       "      <td>DCA</td>\n",
       "      <td>DCA</td>\n",
       "      <td>JFK</td>\n",
       "      <td>ORD</td>\n",
       "      <td>LGA</td>\n",
       "    </tr>\n",
       "    <tr>\n",
       "      <th>ORIGIN_CITY_NAME</th>\n",
       "      <td>Washington, DC</td>\n",
       "      <td>Washington, DC</td>\n",
       "      <td>New York, NY</td>\n",
       "      <td>Chicago, IL</td>\n",
       "      <td>New York, NY</td>\n",
       "    </tr>\n",
       "    <tr>\n",
       "      <th>ORIGIN_STATE_ABR</th>\n",
       "      <td>VA</td>\n",
       "      <td>VA</td>\n",
       "      <td>NY</td>\n",
       "      <td>IL</td>\n",
       "      <td>NY</td>\n",
       "    </tr>\n",
       "    <tr>\n",
       "      <th>ORIGIN_STATE_FIPS</th>\n",
       "      <td>51</td>\n",
       "      <td>51</td>\n",
       "      <td>36</td>\n",
       "      <td>17</td>\n",
       "      <td>36</td>\n",
       "    </tr>\n",
       "    <tr>\n",
       "      <th>ORIGIN_STATE_NM</th>\n",
       "      <td>Virginia</td>\n",
       "      <td>Virginia</td>\n",
       "      <td>New York</td>\n",
       "      <td>Illinois</td>\n",
       "      <td>New York</td>\n",
       "    </tr>\n",
       "    <tr>\n",
       "      <th>DEST_AIRPORT_ID</th>\n",
       "      <td>11193</td>\n",
       "      <td>11193</td>\n",
       "      <td>10785</td>\n",
       "      <td>12478</td>\n",
       "      <td>11057</td>\n",
       "    </tr>\n",
       "    <tr>\n",
       "      <th>CRS_DEP_TIME</th>\n",
       "      <td>1859</td>\n",
       "      <td>1515</td>\n",
       "      <td>2205</td>\n",
       "      <td>1035</td>\n",
       "      <td>2005</td>\n",
       "    </tr>\n",
       "    <tr>\n",
       "      <th>DEP_TIME</th>\n",
       "      <td>1857</td>\n",
       "      <td>1508</td>\n",
       "      <td>2203</td>\n",
       "      <td>1023</td>\n",
       "      <td>2004</td>\n",
       "    </tr>\n",
       "    <tr>\n",
       "      <th>DEP_DELAY</th>\n",
       "      <td>-2</td>\n",
       "      <td>-7</td>\n",
       "      <td>-2</td>\n",
       "      <td>-12</td>\n",
       "      <td>-1</td>\n",
       "    </tr>\n",
       "    <tr>\n",
       "      <th>ARR_DELAY</th>\n",
       "      <td>-11</td>\n",
       "      <td>-16</td>\n",
       "      <td>-2</td>\n",
       "      <td>16</td>\n",
       "      <td>-2</td>\n",
       "    </tr>\n",
       "    <tr>\n",
       "      <th>CANCELLED</th>\n",
       "      <td>0</td>\n",
       "      <td>0</td>\n",
       "      <td>0</td>\n",
       "      <td>0</td>\n",
       "      <td>0</td>\n",
       "    </tr>\n",
       "    <tr>\n",
       "      <th>FLIGHTS</th>\n",
       "      <td>1</td>\n",
       "      <td>1</td>\n",
       "      <td>1</td>\n",
       "      <td>1</td>\n",
       "      <td>1</td>\n",
       "    </tr>\n",
       "    <tr>\n",
       "      <th>DISTANCE</th>\n",
       "      <td>411</td>\n",
       "      <td>411</td>\n",
       "      <td>266</td>\n",
       "      <td>740</td>\n",
       "      <td>544</td>\n",
       "    </tr>\n",
       "    <tr>\n",
       "      <th>CARRIER_DELAY</th>\n",
       "      <td>NaN</td>\n",
       "      <td>NaN</td>\n",
       "      <td>NaN</td>\n",
       "      <td>0</td>\n",
       "      <td>NaN</td>\n",
       "    </tr>\n",
       "    <tr>\n",
       "      <th>WEATHER_DELAY</th>\n",
       "      <td>NaN</td>\n",
       "      <td>NaN</td>\n",
       "      <td>NaN</td>\n",
       "      <td>0</td>\n",
       "      <td>NaN</td>\n",
       "    </tr>\n",
       "    <tr>\n",
       "      <th>NAS_DELAY</th>\n",
       "      <td>NaN</td>\n",
       "      <td>NaN</td>\n",
       "      <td>NaN</td>\n",
       "      <td>16</td>\n",
       "      <td>NaN</td>\n",
       "    </tr>\n",
       "    <tr>\n",
       "      <th>SECURITY_DELAY</th>\n",
       "      <td>NaN</td>\n",
       "      <td>NaN</td>\n",
       "      <td>NaN</td>\n",
       "      <td>0</td>\n",
       "      <td>NaN</td>\n",
       "    </tr>\n",
       "    <tr>\n",
       "      <th>LATE_AIRCRAFT_DELAY</th>\n",
       "      <td>NaN</td>\n",
       "      <td>NaN</td>\n",
       "      <td>NaN</td>\n",
       "      <td>0</td>\n",
       "      <td>NaN</td>\n",
       "    </tr>\n",
       "    <tr>\n",
       "      <th>FIRST_DEP_TIME</th>\n",
       "      <td>NaN</td>\n",
       "      <td>NaN</td>\n",
       "      <td>NaN</td>\n",
       "      <td>NaN</td>\n",
       "      <td>NaN</td>\n",
       "    </tr>\n",
       "    <tr>\n",
       "      <th>Unnamed: 24</th>\n",
       "      <td>NaN</td>\n",
       "      <td>NaN</td>\n",
       "      <td>NaN</td>\n",
       "      <td>NaN</td>\n",
       "      <td>NaN</td>\n",
       "    </tr>\n",
       "  </tbody>\n",
       "</table>\n",
       "</div>"
      ],
      "text/plain": [
       "                                    607341               607342  \\\n",
       "FL_DATE                2020-01-31 00:00:00  2020-01-31 00:00:00   \n",
       "OP_UNIQUE_CARRIER                       9E                   9E   \n",
       "ORIGIN_AIRPORT_ID                    11278                11278   \n",
       "ORIGIN_AIRPORT_SEQ_ID              1127805              1127805   \n",
       "ORIGIN_CITY_MARKET_ID                30852                30852   \n",
       "ORIGIN                                 DCA                  DCA   \n",
       "ORIGIN_CITY_NAME            Washington, DC       Washington, DC   \n",
       "ORIGIN_STATE_ABR                        VA                   VA   \n",
       "ORIGIN_STATE_FIPS                       51                   51   \n",
       "ORIGIN_STATE_NM                   Virginia             Virginia   \n",
       "DEST_AIRPORT_ID                      11193                11193   \n",
       "CRS_DEP_TIME                          1859                 1515   \n",
       "DEP_TIME                              1857                 1508   \n",
       "DEP_DELAY                               -2                   -7   \n",
       "ARR_DELAY                              -11                  -16   \n",
       "CANCELLED                                0                    0   \n",
       "FLIGHTS                                  1                    1   \n",
       "DISTANCE                               411                  411   \n",
       "CARRIER_DELAY                          NaN                  NaN   \n",
       "WEATHER_DELAY                          NaN                  NaN   \n",
       "NAS_DELAY                              NaN                  NaN   \n",
       "SECURITY_DELAY                         NaN                  NaN   \n",
       "LATE_AIRCRAFT_DELAY                    NaN                  NaN   \n",
       "FIRST_DEP_TIME                         NaN                  NaN   \n",
       "Unnamed: 24                            NaN                  NaN   \n",
       "\n",
       "                                    607343               607344  \\\n",
       "FL_DATE                2020-01-31 00:00:00  2020-01-31 00:00:00   \n",
       "OP_UNIQUE_CARRIER                       9E                   9E   \n",
       "ORIGIN_AIRPORT_ID                    12478                13930   \n",
       "ORIGIN_AIRPORT_SEQ_ID              1247805              1393007   \n",
       "ORIGIN_CITY_MARKET_ID                31703                30977   \n",
       "ORIGIN                                 JFK                  ORD   \n",
       "ORIGIN_CITY_NAME              New York, NY          Chicago, IL   \n",
       "ORIGIN_STATE_ABR                        NY                   IL   \n",
       "ORIGIN_STATE_FIPS                       36                   17   \n",
       "ORIGIN_STATE_NM                   New York             Illinois   \n",
       "DEST_AIRPORT_ID                      10785                12478   \n",
       "CRS_DEP_TIME                          2205                 1035   \n",
       "DEP_TIME                              2203                 1023   \n",
       "DEP_DELAY                               -2                  -12   \n",
       "ARR_DELAY                               -2                   16   \n",
       "CANCELLED                                0                    0   \n",
       "FLIGHTS                                  1                    1   \n",
       "DISTANCE                               266                  740   \n",
       "CARRIER_DELAY                          NaN                    0   \n",
       "WEATHER_DELAY                          NaN                    0   \n",
       "NAS_DELAY                              NaN                   16   \n",
       "SECURITY_DELAY                         NaN                    0   \n",
       "LATE_AIRCRAFT_DELAY                    NaN                    0   \n",
       "FIRST_DEP_TIME                         NaN                  NaN   \n",
       "Unnamed: 24                            NaN                  NaN   \n",
       "\n",
       "                                    607345  \n",
       "FL_DATE                2020-01-31 00:00:00  \n",
       "OP_UNIQUE_CARRIER                       9E  \n",
       "ORIGIN_AIRPORT_ID                    12953  \n",
       "ORIGIN_AIRPORT_SEQ_ID              1295304  \n",
       "ORIGIN_CITY_MARKET_ID                31703  \n",
       "ORIGIN                                 LGA  \n",
       "ORIGIN_CITY_NAME              New York, NY  \n",
       "ORIGIN_STATE_ABR                        NY  \n",
       "ORIGIN_STATE_FIPS                       36  \n",
       "ORIGIN_STATE_NM                   New York  \n",
       "DEST_AIRPORT_ID                      11057  \n",
       "CRS_DEP_TIME                          2005  \n",
       "DEP_TIME                              2004  \n",
       "DEP_DELAY                               -1  \n",
       "ARR_DELAY                               -2  \n",
       "CANCELLED                                0  \n",
       "FLIGHTS                                  1  \n",
       "DISTANCE                               544  \n",
       "CARRIER_DELAY                          NaN  \n",
       "WEATHER_DELAY                          NaN  \n",
       "NAS_DELAY                              NaN  \n",
       "SECURITY_DELAY                         NaN  \n",
       "LATE_AIRCRAFT_DELAY                    NaN  \n",
       "FIRST_DEP_TIME                         NaN  \n",
       "Unnamed: 24                            NaN  "
      ]
     },
     "metadata": {},
     "output_type": "display_data"
    }
   ],
   "source": [
    "display_all(df.tail().T)"
   ]
  },
  {
   "cell_type": "code",
   "execution_count": 9,
   "metadata": {},
   "outputs": [
    {
     "data": {
      "text/plain": [
       "Index(['FL_DATE', 'OP_UNIQUE_CARRIER', 'ORIGIN_AIRPORT_ID',\n",
       "       'ORIGIN_AIRPORT_SEQ_ID', 'ORIGIN_CITY_MARKET_ID', 'ORIGIN',\n",
       "       'ORIGIN_CITY_NAME', 'ORIGIN_STATE_ABR', 'ORIGIN_STATE_FIPS',\n",
       "       'ORIGIN_STATE_NM', 'DEST_AIRPORT_ID', 'CRS_DEP_TIME', 'DEP_TIME',\n",
       "       'DEP_DELAY', 'ARR_DELAY', 'CANCELLED', 'FLIGHTS', 'DISTANCE',\n",
       "       'CARRIER_DELAY', 'WEATHER_DELAY', 'NAS_DELAY', 'SECURITY_DELAY',\n",
       "       'LATE_AIRCRAFT_DELAY', 'FIRST_DEP_TIME', 'Unnamed: 24'],\n",
       "      dtype='object')"
      ]
     },
     "execution_count": 9,
     "metadata": {},
     "output_type": "execute_result"
    }
   ],
   "source": [
    "df.columns"
   ]
  },
  {
   "cell_type": "code",
   "execution_count": 10,
   "metadata": {},
   "outputs": [
    {
     "data": {
      "text/html": [
       "<div>\n",
       "<style scoped>\n",
       "    .dataframe tbody tr th:only-of-type {\n",
       "        vertical-align: middle;\n",
       "    }\n",
       "\n",
       "    .dataframe tbody tr th {\n",
       "        vertical-align: top;\n",
       "    }\n",
       "\n",
       "    .dataframe thead th {\n",
       "        text-align: right;\n",
       "    }\n",
       "</style>\n",
       "<table border=\"1\" class=\"dataframe\">\n",
       "  <thead>\n",
       "    <tr style=\"text-align: right;\">\n",
       "      <th></th>\n",
       "      <th>FL_DATE</th>\n",
       "      <th>OP_UNIQUE_CARRIER</th>\n",
       "      <th>ORIGIN_AIRPORT_ID</th>\n",
       "      <th>ORIGIN_AIRPORT_SEQ_ID</th>\n",
       "      <th>ORIGIN_CITY_MARKET_ID</th>\n",
       "      <th>ORIGIN</th>\n",
       "      <th>ORIGIN_CITY_NAME</th>\n",
       "      <th>ORIGIN_STATE_ABR</th>\n",
       "      <th>ORIGIN_STATE_FIPS</th>\n",
       "      <th>ORIGIN_STATE_NM</th>\n",
       "      <th>...</th>\n",
       "      <th>ARR_DELAY</th>\n",
       "      <th>CANCELLED</th>\n",
       "      <th>FLIGHTS</th>\n",
       "      <th>DISTANCE</th>\n",
       "      <th>CARRIER_DELAY</th>\n",
       "      <th>WEATHER_DELAY</th>\n",
       "      <th>NAS_DELAY</th>\n",
       "      <th>SECURITY_DELAY</th>\n",
       "      <th>LATE_AIRCRAFT_DELAY</th>\n",
       "      <th>FIRST_DEP_TIME</th>\n",
       "    </tr>\n",
       "  </thead>\n",
       "  <tbody>\n",
       "    <tr>\n",
       "      <th>0</th>\n",
       "      <td>2020-01-01</td>\n",
       "      <td>WN</td>\n",
       "      <td>13891</td>\n",
       "      <td>1389101</td>\n",
       "      <td>32575</td>\n",
       "      <td>ONT</td>\n",
       "      <td>Ontario, CA</td>\n",
       "      <td>CA</td>\n",
       "      <td>6</td>\n",
       "      <td>California</td>\n",
       "      <td>...</td>\n",
       "      <td>68.0</td>\n",
       "      <td>0.0</td>\n",
       "      <td>1.0</td>\n",
       "      <td>363.0</td>\n",
       "      <td>8.0</td>\n",
       "      <td>0.0</td>\n",
       "      <td>27.0</td>\n",
       "      <td>0.0</td>\n",
       "      <td>33.0</td>\n",
       "      <td>NaN</td>\n",
       "    </tr>\n",
       "    <tr>\n",
       "      <th>12067</th>\n",
       "      <td>2020-01-01</td>\n",
       "      <td>WN</td>\n",
       "      <td>13342</td>\n",
       "      <td>1334207</td>\n",
       "      <td>33342</td>\n",
       "      <td>MKE</td>\n",
       "      <td>Milwaukee, WI</td>\n",
       "      <td>WI</td>\n",
       "      <td>55</td>\n",
       "      <td>Wisconsin</td>\n",
       "      <td>...</td>\n",
       "      <td>-17.0</td>\n",
       "      <td>0.0</td>\n",
       "      <td>1.0</td>\n",
       "      <td>896.0</td>\n",
       "      <td>NaN</td>\n",
       "      <td>NaN</td>\n",
       "      <td>NaN</td>\n",
       "      <td>NaN</td>\n",
       "      <td>NaN</td>\n",
       "      <td>NaN</td>\n",
       "    </tr>\n",
       "    <tr>\n",
       "      <th>12068</th>\n",
       "      <td>2020-01-01</td>\n",
       "      <td>WN</td>\n",
       "      <td>13342</td>\n",
       "      <td>1334207</td>\n",
       "      <td>33342</td>\n",
       "      <td>MKE</td>\n",
       "      <td>Milwaukee, WI</td>\n",
       "      <td>WI</td>\n",
       "      <td>55</td>\n",
       "      <td>Wisconsin</td>\n",
       "      <td>...</td>\n",
       "      <td>-20.0</td>\n",
       "      <td>0.0</td>\n",
       "      <td>1.0</td>\n",
       "      <td>896.0</td>\n",
       "      <td>NaN</td>\n",
       "      <td>NaN</td>\n",
       "      <td>NaN</td>\n",
       "      <td>NaN</td>\n",
       "      <td>NaN</td>\n",
       "      <td>NaN</td>\n",
       "    </tr>\n",
       "    <tr>\n",
       "      <th>12069</th>\n",
       "      <td>2020-01-01</td>\n",
       "      <td>WN</td>\n",
       "      <td>13342</td>\n",
       "      <td>1334207</td>\n",
       "      <td>33342</td>\n",
       "      <td>MKE</td>\n",
       "      <td>Milwaukee, WI</td>\n",
       "      <td>WI</td>\n",
       "      <td>55</td>\n",
       "      <td>Wisconsin</td>\n",
       "      <td>...</td>\n",
       "      <td>-21.0</td>\n",
       "      <td>0.0</td>\n",
       "      <td>1.0</td>\n",
       "      <td>896.0</td>\n",
       "      <td>NaN</td>\n",
       "      <td>NaN</td>\n",
       "      <td>NaN</td>\n",
       "      <td>NaN</td>\n",
       "      <td>NaN</td>\n",
       "      <td>NaN</td>\n",
       "    </tr>\n",
       "    <tr>\n",
       "      <th>12070</th>\n",
       "      <td>2020-01-01</td>\n",
       "      <td>WN</td>\n",
       "      <td>13342</td>\n",
       "      <td>1334207</td>\n",
       "      <td>33342</td>\n",
       "      <td>MKE</td>\n",
       "      <td>Milwaukee, WI</td>\n",
       "      <td>WI</td>\n",
       "      <td>55</td>\n",
       "      <td>Wisconsin</td>\n",
       "      <td>...</td>\n",
       "      <td>-13.0</td>\n",
       "      <td>0.0</td>\n",
       "      <td>1.0</td>\n",
       "      <td>1243.0</td>\n",
       "      <td>NaN</td>\n",
       "      <td>NaN</td>\n",
       "      <td>NaN</td>\n",
       "      <td>NaN</td>\n",
       "      <td>NaN</td>\n",
       "      <td>NaN</td>\n",
       "    </tr>\n",
       "  </tbody>\n",
       "</table>\n",
       "<p>5 rows × 24 columns</p>\n",
       "</div>"
      ],
      "text/plain": [
       "         FL_DATE OP_UNIQUE_CARRIER  ORIGIN_AIRPORT_ID  ORIGIN_AIRPORT_SEQ_ID  \\\n",
       "0     2020-01-01                WN              13891                1389101   \n",
       "12067 2020-01-01                WN              13342                1334207   \n",
       "12068 2020-01-01                WN              13342                1334207   \n",
       "12069 2020-01-01                WN              13342                1334207   \n",
       "12070 2020-01-01                WN              13342                1334207   \n",
       "\n",
       "       ORIGIN_CITY_MARKET_ID ORIGIN ORIGIN_CITY_NAME ORIGIN_STATE_ABR  \\\n",
       "0                      32575    ONT      Ontario, CA               CA   \n",
       "12067                  33342    MKE    Milwaukee, WI               WI   \n",
       "12068                  33342    MKE    Milwaukee, WI               WI   \n",
       "12069                  33342    MKE    Milwaukee, WI               WI   \n",
       "12070                  33342    MKE    Milwaukee, WI               WI   \n",
       "\n",
       "       ORIGIN_STATE_FIPS ORIGIN_STATE_NM  ...  ARR_DELAY  CANCELLED  FLIGHTS  \\\n",
       "0                      6      California  ...       68.0        0.0      1.0   \n",
       "12067                 55       Wisconsin  ...      -17.0        0.0      1.0   \n",
       "12068                 55       Wisconsin  ...      -20.0        0.0      1.0   \n",
       "12069                 55       Wisconsin  ...      -21.0        0.0      1.0   \n",
       "12070                 55       Wisconsin  ...      -13.0        0.0      1.0   \n",
       "\n",
       "       DISTANCE  CARRIER_DELAY  WEATHER_DELAY  NAS_DELAY  SECURITY_DELAY  \\\n",
       "0         363.0            8.0            0.0       27.0             0.0   \n",
       "12067     896.0            NaN            NaN        NaN             NaN   \n",
       "12068     896.0            NaN            NaN        NaN             NaN   \n",
       "12069     896.0            NaN            NaN        NaN             NaN   \n",
       "12070    1243.0            NaN            NaN        NaN             NaN   \n",
       "\n",
       "       LATE_AIRCRAFT_DELAY  FIRST_DEP_TIME  \n",
       "0                     33.0             NaN  \n",
       "12067                  NaN             NaN  \n",
       "12068                  NaN             NaN  \n",
       "12069                  NaN             NaN  \n",
       "12070                  NaN             NaN  \n",
       "\n",
       "[5 rows x 24 columns]"
      ]
     },
     "execution_count": 10,
     "metadata": {},
     "output_type": "execute_result"
    }
   ],
   "source": [
    "#Time sensitive data, sort by FL_DATE\n",
    "data = df[['FL_DATE', 'OP_UNIQUE_CARRIER', 'ORIGIN_AIRPORT_ID',\n",
    "       'ORIGIN_AIRPORT_SEQ_ID', 'ORIGIN_CITY_MARKET_ID', 'ORIGIN',\n",
    "       'ORIGIN_CITY_NAME', 'ORIGIN_STATE_ABR', 'ORIGIN_STATE_FIPS',\n",
    "       'ORIGIN_STATE_NM', 'DEST_AIRPORT_ID', 'CRS_DEP_TIME', 'DEP_TIME',\n",
    "       'DEP_DELAY', 'ARR_DELAY', 'CANCELLED', 'FLIGHTS', 'DISTANCE',\n",
    "       'CARRIER_DELAY', 'WEATHER_DELAY', 'NAS_DELAY', 'SECURITY_DELAY',\n",
    "       'LATE_AIRCRAFT_DELAY', 'FIRST_DEP_TIME']]\n",
    "data=data.sort_values('FL_DATE')\n",
    "data.head()"
   ]
  },
  {
   "cell_type": "code",
   "execution_count": 11,
   "metadata": {},
   "outputs": [
    {
     "name": "stderr",
     "output_type": "stream",
     "text": [
      "/Applications/anaconda3/envs/DNN/lib/python3.7/site-packages/ipykernel_launcher.py:1: FutureWarning: Treating datetime data as categorical rather than numeric in `.describe` is deprecated and will be removed in a future version of pandas. Specify `datetime_is_numeric=True` to silence this warning and adopt the future behavior now.\n",
      "  \"\"\"Entry point for launching an IPython kernel.\n"
     ]
    },
    {
     "data": {
      "text/html": [
       "<div>\n",
       "<style scoped>\n",
       "    .dataframe tbody tr th:only-of-type {\n",
       "        vertical-align: middle;\n",
       "    }\n",
       "\n",
       "    .dataframe tbody tr th {\n",
       "        vertical-align: top;\n",
       "    }\n",
       "\n",
       "    .dataframe thead th {\n",
       "        text-align: right;\n",
       "    }\n",
       "</style>\n",
       "<table border=\"1\" class=\"dataframe\">\n",
       "  <thead>\n",
       "    <tr style=\"text-align: right;\">\n",
       "      <th></th>\n",
       "      <th>count</th>\n",
       "      <th>unique</th>\n",
       "      <th>top</th>\n",
       "      <th>freq</th>\n",
       "      <th>first</th>\n",
       "      <th>last</th>\n",
       "      <th>mean</th>\n",
       "      <th>std</th>\n",
       "      <th>min</th>\n",
       "      <th>25%</th>\n",
       "      <th>50%</th>\n",
       "      <th>75%</th>\n",
       "      <th>max</th>\n",
       "    </tr>\n",
       "  </thead>\n",
       "  <tbody>\n",
       "    <tr>\n",
       "      <th>FL_DATE</th>\n",
       "      <td>607346</td>\n",
       "      <td>31</td>\n",
       "      <td>2020-01-06 00:00:00</td>\n",
       "      <td>20943</td>\n",
       "      <td>2020-01-01</td>\n",
       "      <td>2020-01-31</td>\n",
       "      <td>NaN</td>\n",
       "      <td>NaN</td>\n",
       "      <td>NaN</td>\n",
       "      <td>NaN</td>\n",
       "      <td>NaN</td>\n",
       "      <td>NaN</td>\n",
       "      <td>NaN</td>\n",
       "    </tr>\n",
       "    <tr>\n",
       "      <th>OP_UNIQUE_CARRIER</th>\n",
       "      <td>607346</td>\n",
       "      <td>17</td>\n",
       "      <td>WN</td>\n",
       "      <td>109770</td>\n",
       "      <td>NaT</td>\n",
       "      <td>NaT</td>\n",
       "      <td>NaN</td>\n",
       "      <td>NaN</td>\n",
       "      <td>NaN</td>\n",
       "      <td>NaN</td>\n",
       "      <td>NaN</td>\n",
       "      <td>NaN</td>\n",
       "      <td>NaN</td>\n",
       "    </tr>\n",
       "    <tr>\n",
       "      <th>ORIGIN_AIRPORT_ID</th>\n",
       "      <td>607346</td>\n",
       "      <td>NaN</td>\n",
       "      <td>NaN</td>\n",
       "      <td>NaN</td>\n",
       "      <td>NaT</td>\n",
       "      <td>NaT</td>\n",
       "      <td>12657.4</td>\n",
       "      <td>1524.41</td>\n",
       "      <td>10135</td>\n",
       "      <td>11292</td>\n",
       "      <td>12889</td>\n",
       "      <td>14027</td>\n",
       "      <td>16869</td>\n",
       "    </tr>\n",
       "    <tr>\n",
       "      <th>ORIGIN_AIRPORT_SEQ_ID</th>\n",
       "      <td>607346</td>\n",
       "      <td>NaN</td>\n",
       "      <td>NaN</td>\n",
       "      <td>NaN</td>\n",
       "      <td>NaT</td>\n",
       "      <td>NaT</td>\n",
       "      <td>1.26574e+06</td>\n",
       "      <td>152440</td>\n",
       "      <td>1.01351e+06</td>\n",
       "      <td>1.1292e+06</td>\n",
       "      <td>1.2889e+06</td>\n",
       "      <td>1.4027e+06</td>\n",
       "      <td>1.6869e+06</td>\n",
       "    </tr>\n",
       "    <tr>\n",
       "      <th>ORIGIN_CITY_MARKET_ID</th>\n",
       "      <td>607346</td>\n",
       "      <td>NaN</td>\n",
       "      <td>NaN</td>\n",
       "      <td>NaN</td>\n",
       "      <td>NaT</td>\n",
       "      <td>NaT</td>\n",
       "      <td>31761.3</td>\n",
       "      <td>1308.05</td>\n",
       "      <td>30070</td>\n",
       "      <td>30713</td>\n",
       "      <td>31453</td>\n",
       "      <td>32467</td>\n",
       "      <td>35991</td>\n",
       "    </tr>\n",
       "    <tr>\n",
       "      <th>ORIGIN</th>\n",
       "      <td>607346</td>\n",
       "      <td>351</td>\n",
       "      <td>ATL</td>\n",
       "      <td>32190</td>\n",
       "      <td>NaT</td>\n",
       "      <td>NaT</td>\n",
       "      <td>NaN</td>\n",
       "      <td>NaN</td>\n",
       "      <td>NaN</td>\n",
       "      <td>NaN</td>\n",
       "      <td>NaN</td>\n",
       "      <td>NaN</td>\n",
       "      <td>NaN</td>\n",
       "    </tr>\n",
       "    <tr>\n",
       "      <th>ORIGIN_CITY_NAME</th>\n",
       "      <td>607346</td>\n",
       "      <td>344</td>\n",
       "      <td>Atlanta, GA</td>\n",
       "      <td>32190</td>\n",
       "      <td>NaT</td>\n",
       "      <td>NaT</td>\n",
       "      <td>NaN</td>\n",
       "      <td>NaN</td>\n",
       "      <td>NaN</td>\n",
       "      <td>NaN</td>\n",
       "      <td>NaN</td>\n",
       "      <td>NaN</td>\n",
       "      <td>NaN</td>\n",
       "    </tr>\n",
       "    <tr>\n",
       "      <th>ORIGIN_STATE_ABR</th>\n",
       "      <td>607346</td>\n",
       "      <td>52</td>\n",
       "      <td>CA</td>\n",
       "      <td>66748</td>\n",
       "      <td>NaT</td>\n",
       "      <td>NaT</td>\n",
       "      <td>NaN</td>\n",
       "      <td>NaN</td>\n",
       "      <td>NaN</td>\n",
       "      <td>NaN</td>\n",
       "      <td>NaN</td>\n",
       "      <td>NaN</td>\n",
       "      <td>NaN</td>\n",
       "    </tr>\n",
       "    <tr>\n",
       "      <th>ORIGIN_STATE_FIPS</th>\n",
       "      <td>607346</td>\n",
       "      <td>NaN</td>\n",
       "      <td>NaN</td>\n",
       "      <td>NaN</td>\n",
       "      <td>NaT</td>\n",
       "      <td>NaT</td>\n",
       "      <td>26.876</td>\n",
       "      <td>16.5603</td>\n",
       "      <td>1</td>\n",
       "      <td>12</td>\n",
       "      <td>26</td>\n",
       "      <td>42</td>\n",
       "      <td>78</td>\n",
       "    </tr>\n",
       "    <tr>\n",
       "      <th>ORIGIN_STATE_NM</th>\n",
       "      <td>607346</td>\n",
       "      <td>52</td>\n",
       "      <td>California</td>\n",
       "      <td>66748</td>\n",
       "      <td>NaT</td>\n",
       "      <td>NaT</td>\n",
       "      <td>NaN</td>\n",
       "      <td>NaN</td>\n",
       "      <td>NaN</td>\n",
       "      <td>NaN</td>\n",
       "      <td>NaN</td>\n",
       "      <td>NaN</td>\n",
       "      <td>NaN</td>\n",
       "    </tr>\n",
       "    <tr>\n",
       "      <th>DEST_AIRPORT_ID</th>\n",
       "      <td>607346</td>\n",
       "      <td>NaN</td>\n",
       "      <td>NaN</td>\n",
       "      <td>NaN</td>\n",
       "      <td>NaT</td>\n",
       "      <td>NaT</td>\n",
       "      <td>12657.2</td>\n",
       "      <td>1524.28</td>\n",
       "      <td>10135</td>\n",
       "      <td>11292</td>\n",
       "      <td>12889</td>\n",
       "      <td>14027</td>\n",
       "      <td>16869</td>\n",
       "    </tr>\n",
       "    <tr>\n",
       "      <th>CRS_DEP_TIME</th>\n",
       "      <td>607346</td>\n",
       "      <td>NaN</td>\n",
       "      <td>NaN</td>\n",
       "      <td>NaN</td>\n",
       "      <td>NaT</td>\n",
       "      <td>NaT</td>\n",
       "      <td>1329.9</td>\n",
       "      <td>488.834</td>\n",
       "      <td>2</td>\n",
       "      <td>917</td>\n",
       "      <td>1324</td>\n",
       "      <td>1735</td>\n",
       "      <td>2359</td>\n",
       "    </tr>\n",
       "    <tr>\n",
       "      <th>DEP_TIME</th>\n",
       "      <td>600682</td>\n",
       "      <td>NaN</td>\n",
       "      <td>NaN</td>\n",
       "      <td>NaN</td>\n",
       "      <td>NaT</td>\n",
       "      <td>NaT</td>\n",
       "      <td>1331.51</td>\n",
       "      <td>497.095</td>\n",
       "      <td>1</td>\n",
       "      <td>919</td>\n",
       "      <td>1326</td>\n",
       "      <td>1739</td>\n",
       "      <td>2400</td>\n",
       "    </tr>\n",
       "    <tr>\n",
       "      <th>DEP_DELAY</th>\n",
       "      <td>600647</td>\n",
       "      <td>NaN</td>\n",
       "      <td>NaN</td>\n",
       "      <td>NaN</td>\n",
       "      <td>NaT</td>\n",
       "      <td>NaT</td>\n",
       "      <td>6.18122</td>\n",
       "      <td>43.1819</td>\n",
       "      <td>-58</td>\n",
       "      <td>-6</td>\n",
       "      <td>-3</td>\n",
       "      <td>2</td>\n",
       "      <td>2489</td>\n",
       "    </tr>\n",
       "    <tr>\n",
       "      <th>ARR_DELAY</th>\n",
       "      <td>599268</td>\n",
       "      <td>NaN</td>\n",
       "      <td>NaN</td>\n",
       "      <td>NaN</td>\n",
       "      <td>NaT</td>\n",
       "      <td>NaT</td>\n",
       "      <td>-1.6208</td>\n",
       "      <td>45.0155</td>\n",
       "      <td>-96</td>\n",
       "      <td>-18</td>\n",
       "      <td>-10</td>\n",
       "      <td>2</td>\n",
       "      <td>2536</td>\n",
       "    </tr>\n",
       "    <tr>\n",
       "      <th>CANCELLED</th>\n",
       "      <td>607346</td>\n",
       "      <td>NaN</td>\n",
       "      <td>NaN</td>\n",
       "      <td>NaN</td>\n",
       "      <td>NaT</td>\n",
       "      <td>NaT</td>\n",
       "      <td>0.011407</td>\n",
       "      <td>0.106193</td>\n",
       "      <td>0</td>\n",
       "      <td>0</td>\n",
       "      <td>0</td>\n",
       "      <td>0</td>\n",
       "      <td>1</td>\n",
       "    </tr>\n",
       "    <tr>\n",
       "      <th>FLIGHTS</th>\n",
       "      <td>607346</td>\n",
       "      <td>NaN</td>\n",
       "      <td>NaN</td>\n",
       "      <td>NaN</td>\n",
       "      <td>NaT</td>\n",
       "      <td>NaT</td>\n",
       "      <td>1</td>\n",
       "      <td>0</td>\n",
       "      <td>1</td>\n",
       "      <td>1</td>\n",
       "      <td>1</td>\n",
       "      <td>1</td>\n",
       "      <td>1</td>\n",
       "    </tr>\n",
       "    <tr>\n",
       "      <th>DISTANCE</th>\n",
       "      <td>607346</td>\n",
       "      <td>NaN</td>\n",
       "      <td>NaN</td>\n",
       "      <td>NaN</td>\n",
       "      <td>NaT</td>\n",
       "      <td>NaT</td>\n",
       "      <td>798.022</td>\n",
       "      <td>587.283</td>\n",
       "      <td>31</td>\n",
       "      <td>369</td>\n",
       "      <td>641</td>\n",
       "      <td>1037</td>\n",
       "      <td>5095</td>\n",
       "    </tr>\n",
       "    <tr>\n",
       "      <th>CARRIER_DELAY</th>\n",
       "      <td>82285</td>\n",
       "      <td>NaN</td>\n",
       "      <td>NaN</td>\n",
       "      <td>NaN</td>\n",
       "      <td>NaT</td>\n",
       "      <td>NaT</td>\n",
       "      <td>24.6963</td>\n",
       "      <td>72.9724</td>\n",
       "      <td>0</td>\n",
       "      <td>0</td>\n",
       "      <td>1</td>\n",
       "      <td>22</td>\n",
       "      <td>2489</td>\n",
       "    </tr>\n",
       "    <tr>\n",
       "      <th>WEATHER_DELAY</th>\n",
       "      <td>82285</td>\n",
       "      <td>NaN</td>\n",
       "      <td>NaN</td>\n",
       "      <td>NaN</td>\n",
       "      <td>NaT</td>\n",
       "      <td>NaT</td>\n",
       "      <td>4.59494</td>\n",
       "      <td>39.1803</td>\n",
       "      <td>0</td>\n",
       "      <td>0</td>\n",
       "      <td>0</td>\n",
       "      <td>0</td>\n",
       "      <td>1525</td>\n",
       "    </tr>\n",
       "    <tr>\n",
       "      <th>NAS_DELAY</th>\n",
       "      <td>82285</td>\n",
       "      <td>NaN</td>\n",
       "      <td>NaN</td>\n",
       "      <td>NaN</td>\n",
       "      <td>NaT</td>\n",
       "      <td>NaT</td>\n",
       "      <td>14.2627</td>\n",
       "      <td>33.7368</td>\n",
       "      <td>0</td>\n",
       "      <td>0</td>\n",
       "      <td>2</td>\n",
       "      <td>19</td>\n",
       "      <td>1408</td>\n",
       "    </tr>\n",
       "    <tr>\n",
       "      <th>SECURITY_DELAY</th>\n",
       "      <td>82285</td>\n",
       "      <td>NaN</td>\n",
       "      <td>NaN</td>\n",
       "      <td>NaN</td>\n",
       "      <td>NaT</td>\n",
       "      <td>NaT</td>\n",
       "      <td>0.0910616</td>\n",
       "      <td>2.308</td>\n",
       "      <td>0</td>\n",
       "      <td>0</td>\n",
       "      <td>0</td>\n",
       "      <td>0</td>\n",
       "      <td>188</td>\n",
       "    </tr>\n",
       "    <tr>\n",
       "      <th>LATE_AIRCRAFT_DELAY</th>\n",
       "      <td>82285</td>\n",
       "      <td>NaN</td>\n",
       "      <td>NaN</td>\n",
       "      <td>NaN</td>\n",
       "      <td>NaT</td>\n",
       "      <td>NaT</td>\n",
       "      <td>20.5617</td>\n",
       "      <td>50.3708</td>\n",
       "      <td>0</td>\n",
       "      <td>0</td>\n",
       "      <td>0</td>\n",
       "      <td>22</td>\n",
       "      <td>2228</td>\n",
       "    </tr>\n",
       "    <tr>\n",
       "      <th>FIRST_DEP_TIME</th>\n",
       "      <td>3635</td>\n",
       "      <td>NaN</td>\n",
       "      <td>NaN</td>\n",
       "      <td>NaN</td>\n",
       "      <td>NaT</td>\n",
       "      <td>NaT</td>\n",
       "      <td>1269.89</td>\n",
       "      <td>511.575</td>\n",
       "      <td>3</td>\n",
       "      <td>812</td>\n",
       "      <td>1233</td>\n",
       "      <td>1709.5</td>\n",
       "      <td>2356</td>\n",
       "    </tr>\n",
       "  </tbody>\n",
       "</table>\n",
       "</div>"
      ],
      "text/plain": [
       "                        count unique                  top    freq      first  \\\n",
       "FL_DATE                607346     31  2020-01-06 00:00:00   20943 2020-01-01   \n",
       "OP_UNIQUE_CARRIER      607346     17                   WN  109770        NaT   \n",
       "ORIGIN_AIRPORT_ID      607346    NaN                  NaN     NaN        NaT   \n",
       "ORIGIN_AIRPORT_SEQ_ID  607346    NaN                  NaN     NaN        NaT   \n",
       "ORIGIN_CITY_MARKET_ID  607346    NaN                  NaN     NaN        NaT   \n",
       "ORIGIN                 607346    351                  ATL   32190        NaT   \n",
       "ORIGIN_CITY_NAME       607346    344          Atlanta, GA   32190        NaT   \n",
       "ORIGIN_STATE_ABR       607346     52                   CA   66748        NaT   \n",
       "ORIGIN_STATE_FIPS      607346    NaN                  NaN     NaN        NaT   \n",
       "ORIGIN_STATE_NM        607346     52           California   66748        NaT   \n",
       "DEST_AIRPORT_ID        607346    NaN                  NaN     NaN        NaT   \n",
       "CRS_DEP_TIME           607346    NaN                  NaN     NaN        NaT   \n",
       "DEP_TIME               600682    NaN                  NaN     NaN        NaT   \n",
       "DEP_DELAY              600647    NaN                  NaN     NaN        NaT   \n",
       "ARR_DELAY              599268    NaN                  NaN     NaN        NaT   \n",
       "CANCELLED              607346    NaN                  NaN     NaN        NaT   \n",
       "FLIGHTS                607346    NaN                  NaN     NaN        NaT   \n",
       "DISTANCE               607346    NaN                  NaN     NaN        NaT   \n",
       "CARRIER_DELAY           82285    NaN                  NaN     NaN        NaT   \n",
       "WEATHER_DELAY           82285    NaN                  NaN     NaN        NaT   \n",
       "NAS_DELAY               82285    NaN                  NaN     NaN        NaT   \n",
       "SECURITY_DELAY          82285    NaN                  NaN     NaN        NaT   \n",
       "LATE_AIRCRAFT_DELAY     82285    NaN                  NaN     NaN        NaT   \n",
       "FIRST_DEP_TIME           3635    NaN                  NaN     NaN        NaT   \n",
       "\n",
       "                            last         mean       std          min  \\\n",
       "FL_DATE               2020-01-31          NaN       NaN          NaN   \n",
       "OP_UNIQUE_CARRIER            NaT          NaN       NaN          NaN   \n",
       "ORIGIN_AIRPORT_ID            NaT      12657.4   1524.41        10135   \n",
       "ORIGIN_AIRPORT_SEQ_ID        NaT  1.26574e+06    152440  1.01351e+06   \n",
       "ORIGIN_CITY_MARKET_ID        NaT      31761.3   1308.05        30070   \n",
       "ORIGIN                       NaT          NaN       NaN          NaN   \n",
       "ORIGIN_CITY_NAME             NaT          NaN       NaN          NaN   \n",
       "ORIGIN_STATE_ABR             NaT          NaN       NaN          NaN   \n",
       "ORIGIN_STATE_FIPS            NaT       26.876   16.5603            1   \n",
       "ORIGIN_STATE_NM              NaT          NaN       NaN          NaN   \n",
       "DEST_AIRPORT_ID              NaT      12657.2   1524.28        10135   \n",
       "CRS_DEP_TIME                 NaT       1329.9   488.834            2   \n",
       "DEP_TIME                     NaT      1331.51   497.095            1   \n",
       "DEP_DELAY                    NaT      6.18122   43.1819          -58   \n",
       "ARR_DELAY                    NaT      -1.6208   45.0155          -96   \n",
       "CANCELLED                    NaT     0.011407  0.106193            0   \n",
       "FLIGHTS                      NaT            1         0            1   \n",
       "DISTANCE                     NaT      798.022   587.283           31   \n",
       "CARRIER_DELAY                NaT      24.6963   72.9724            0   \n",
       "WEATHER_DELAY                NaT      4.59494   39.1803            0   \n",
       "NAS_DELAY                    NaT      14.2627   33.7368            0   \n",
       "SECURITY_DELAY               NaT    0.0910616     2.308            0   \n",
       "LATE_AIRCRAFT_DELAY          NaT      20.5617   50.3708            0   \n",
       "FIRST_DEP_TIME               NaT      1269.89   511.575            3   \n",
       "\n",
       "                              25%         50%         75%         max  \n",
       "FL_DATE                       NaN         NaN         NaN         NaN  \n",
       "OP_UNIQUE_CARRIER             NaN         NaN         NaN         NaN  \n",
       "ORIGIN_AIRPORT_ID           11292       12889       14027       16869  \n",
       "ORIGIN_AIRPORT_SEQ_ID  1.1292e+06  1.2889e+06  1.4027e+06  1.6869e+06  \n",
       "ORIGIN_CITY_MARKET_ID       30713       31453       32467       35991  \n",
       "ORIGIN                        NaN         NaN         NaN         NaN  \n",
       "ORIGIN_CITY_NAME              NaN         NaN         NaN         NaN  \n",
       "ORIGIN_STATE_ABR              NaN         NaN         NaN         NaN  \n",
       "ORIGIN_STATE_FIPS              12          26          42          78  \n",
       "ORIGIN_STATE_NM               NaN         NaN         NaN         NaN  \n",
       "DEST_AIRPORT_ID             11292       12889       14027       16869  \n",
       "CRS_DEP_TIME                  917        1324        1735        2359  \n",
       "DEP_TIME                      919        1326        1739        2400  \n",
       "DEP_DELAY                      -6          -3           2        2489  \n",
       "ARR_DELAY                     -18         -10           2        2536  \n",
       "CANCELLED                       0           0           0           1  \n",
       "FLIGHTS                         1           1           1           1  \n",
       "DISTANCE                      369         641        1037        5095  \n",
       "CARRIER_DELAY                   0           1          22        2489  \n",
       "WEATHER_DELAY                   0           0           0        1525  \n",
       "NAS_DELAY                       0           2          19        1408  \n",
       "SECURITY_DELAY                  0           0           0         188  \n",
       "LATE_AIRCRAFT_DELAY             0           0          22        2228  \n",
       "FIRST_DEP_TIME                812        1233      1709.5        2356  "
      ]
     },
     "metadata": {},
     "output_type": "display_data"
    }
   ],
   "source": [
    "display_all(data.describe(include ='all').T)"
   ]
  },
  {
   "cell_type": "code",
   "execution_count": 12,
   "metadata": {},
   "outputs": [
    {
     "name": "stderr",
     "output_type": "stream",
     "text": [
      "/Users/franciumpnc/Documents/ML/AQM/ML_practice_projects/Airline_data_analysis/notebooks/helper/structured.py:123: FutureWarning: Series.dt.weekofyear and Series.dt.week have been deprecated.  Please use Series.dt.isocalendar().week instead.\n",
      "  for n in attr: df[targ_pre + n] = getattr(fld.dt, n.lower())\n"
     ]
    }
   ],
   "source": [
    "add_datepart(data,'FL_DATE')"
   ]
  },
  {
   "cell_type": "code",
   "execution_count": 92,
   "metadata": {},
   "outputs": [],
   "source": [
    "?? add_datepart"
   ]
  },
  {
   "cell_type": "code",
   "execution_count": 13,
   "metadata": {},
   "outputs": [
    {
     "data": {
      "text/html": [
       "<div>\n",
       "<style scoped>\n",
       "    .dataframe tbody tr th:only-of-type {\n",
       "        vertical-align: middle;\n",
       "    }\n",
       "\n",
       "    .dataframe tbody tr th {\n",
       "        vertical-align: top;\n",
       "    }\n",
       "\n",
       "    .dataframe thead th {\n",
       "        text-align: right;\n",
       "    }\n",
       "</style>\n",
       "<table border=\"1\" class=\"dataframe\">\n",
       "  <thead>\n",
       "    <tr style=\"text-align: right;\">\n",
       "      <th></th>\n",
       "      <th>OP_UNIQUE_CARRIER</th>\n",
       "      <th>ORIGIN_AIRPORT_ID</th>\n",
       "      <th>ORIGIN_AIRPORT_SEQ_ID</th>\n",
       "      <th>ORIGIN_CITY_MARKET_ID</th>\n",
       "      <th>ORIGIN</th>\n",
       "      <th>ORIGIN_CITY_NAME</th>\n",
       "      <th>ORIGIN_STATE_ABR</th>\n",
       "      <th>ORIGIN_STATE_FIPS</th>\n",
       "      <th>ORIGIN_STATE_NM</th>\n",
       "      <th>DEST_AIRPORT_ID</th>\n",
       "      <th>...</th>\n",
       "      <th>FL_DATEDay</th>\n",
       "      <th>FL_DATEDayofweek</th>\n",
       "      <th>FL_DATEDayofyear</th>\n",
       "      <th>FL_DATEIs_month_end</th>\n",
       "      <th>FL_DATEIs_month_start</th>\n",
       "      <th>FL_DATEIs_quarter_end</th>\n",
       "      <th>FL_DATEIs_quarter_start</th>\n",
       "      <th>FL_DATEIs_year_end</th>\n",
       "      <th>FL_DATEIs_year_start</th>\n",
       "      <th>FL_DATEElapsed</th>\n",
       "    </tr>\n",
       "  </thead>\n",
       "  <tbody>\n",
       "    <tr>\n",
       "      <th>0</th>\n",
       "      <td>WN</td>\n",
       "      <td>13891</td>\n",
       "      <td>1389101</td>\n",
       "      <td>32575</td>\n",
       "      <td>ONT</td>\n",
       "      <td>Ontario, CA</td>\n",
       "      <td>CA</td>\n",
       "      <td>6</td>\n",
       "      <td>California</td>\n",
       "      <td>14771</td>\n",
       "      <td>...</td>\n",
       "      <td>1</td>\n",
       "      <td>2</td>\n",
       "      <td>1</td>\n",
       "      <td>False</td>\n",
       "      <td>True</td>\n",
       "      <td>False</td>\n",
       "      <td>True</td>\n",
       "      <td>False</td>\n",
       "      <td>True</td>\n",
       "      <td>1577836800</td>\n",
       "    </tr>\n",
       "    <tr>\n",
       "      <th>12067</th>\n",
       "      <td>WN</td>\n",
       "      <td>13342</td>\n",
       "      <td>1334207</td>\n",
       "      <td>33342</td>\n",
       "      <td>MKE</td>\n",
       "      <td>Milwaukee, WI</td>\n",
       "      <td>WI</td>\n",
       "      <td>55</td>\n",
       "      <td>Wisconsin</td>\n",
       "      <td>11292</td>\n",
       "      <td>...</td>\n",
       "      <td>1</td>\n",
       "      <td>2</td>\n",
       "      <td>1</td>\n",
       "      <td>False</td>\n",
       "      <td>True</td>\n",
       "      <td>False</td>\n",
       "      <td>True</td>\n",
       "      <td>False</td>\n",
       "      <td>True</td>\n",
       "      <td>1577836800</td>\n",
       "    </tr>\n",
       "    <tr>\n",
       "      <th>12068</th>\n",
       "      <td>WN</td>\n",
       "      <td>13342</td>\n",
       "      <td>1334207</td>\n",
       "      <td>33342</td>\n",
       "      <td>MKE</td>\n",
       "      <td>Milwaukee, WI</td>\n",
       "      <td>WI</td>\n",
       "      <td>55</td>\n",
       "      <td>Wisconsin</td>\n",
       "      <td>11292</td>\n",
       "      <td>...</td>\n",
       "      <td>1</td>\n",
       "      <td>2</td>\n",
       "      <td>1</td>\n",
       "      <td>False</td>\n",
       "      <td>True</td>\n",
       "      <td>False</td>\n",
       "      <td>True</td>\n",
       "      <td>False</td>\n",
       "      <td>True</td>\n",
       "      <td>1577836800</td>\n",
       "    </tr>\n",
       "    <tr>\n",
       "      <th>12069</th>\n",
       "      <td>WN</td>\n",
       "      <td>13342</td>\n",
       "      <td>1334207</td>\n",
       "      <td>33342</td>\n",
       "      <td>MKE</td>\n",
       "      <td>Milwaukee, WI</td>\n",
       "      <td>WI</td>\n",
       "      <td>55</td>\n",
       "      <td>Wisconsin</td>\n",
       "      <td>11292</td>\n",
       "      <td>...</td>\n",
       "      <td>1</td>\n",
       "      <td>2</td>\n",
       "      <td>1</td>\n",
       "      <td>False</td>\n",
       "      <td>True</td>\n",
       "      <td>False</td>\n",
       "      <td>True</td>\n",
       "      <td>False</td>\n",
       "      <td>True</td>\n",
       "      <td>1577836800</td>\n",
       "    </tr>\n",
       "    <tr>\n",
       "      <th>12070</th>\n",
       "      <td>WN</td>\n",
       "      <td>13342</td>\n",
       "      <td>1334207</td>\n",
       "      <td>33342</td>\n",
       "      <td>MKE</td>\n",
       "      <td>Milwaukee, WI</td>\n",
       "      <td>WI</td>\n",
       "      <td>55</td>\n",
       "      <td>Wisconsin</td>\n",
       "      <td>11697</td>\n",
       "      <td>...</td>\n",
       "      <td>1</td>\n",
       "      <td>2</td>\n",
       "      <td>1</td>\n",
       "      <td>False</td>\n",
       "      <td>True</td>\n",
       "      <td>False</td>\n",
       "      <td>True</td>\n",
       "      <td>False</td>\n",
       "      <td>True</td>\n",
       "      <td>1577836800</td>\n",
       "    </tr>\n",
       "  </tbody>\n",
       "</table>\n",
       "<p>5 rows × 36 columns</p>\n",
       "</div>"
      ],
      "text/plain": [
       "      OP_UNIQUE_CARRIER  ORIGIN_AIRPORT_ID  ORIGIN_AIRPORT_SEQ_ID  \\\n",
       "0                    WN              13891                1389101   \n",
       "12067                WN              13342                1334207   \n",
       "12068                WN              13342                1334207   \n",
       "12069                WN              13342                1334207   \n",
       "12070                WN              13342                1334207   \n",
       "\n",
       "       ORIGIN_CITY_MARKET_ID ORIGIN ORIGIN_CITY_NAME ORIGIN_STATE_ABR  \\\n",
       "0                      32575    ONT      Ontario, CA               CA   \n",
       "12067                  33342    MKE    Milwaukee, WI               WI   \n",
       "12068                  33342    MKE    Milwaukee, WI               WI   \n",
       "12069                  33342    MKE    Milwaukee, WI               WI   \n",
       "12070                  33342    MKE    Milwaukee, WI               WI   \n",
       "\n",
       "       ORIGIN_STATE_FIPS ORIGIN_STATE_NM  DEST_AIRPORT_ID  ...  FL_DATEDay  \\\n",
       "0                      6      California            14771  ...           1   \n",
       "12067                 55       Wisconsin            11292  ...           1   \n",
       "12068                 55       Wisconsin            11292  ...           1   \n",
       "12069                 55       Wisconsin            11292  ...           1   \n",
       "12070                 55       Wisconsin            11697  ...           1   \n",
       "\n",
       "       FL_DATEDayofweek  FL_DATEDayofyear  FL_DATEIs_month_end  \\\n",
       "0                     2                 1                False   \n",
       "12067                 2                 1                False   \n",
       "12068                 2                 1                False   \n",
       "12069                 2                 1                False   \n",
       "12070                 2                 1                False   \n",
       "\n",
       "       FL_DATEIs_month_start  FL_DATEIs_quarter_end  FL_DATEIs_quarter_start  \\\n",
       "0                       True                  False                     True   \n",
       "12067                   True                  False                     True   \n",
       "12068                   True                  False                     True   \n",
       "12069                   True                  False                     True   \n",
       "12070                   True                  False                     True   \n",
       "\n",
       "       FL_DATEIs_year_end  FL_DATEIs_year_start  FL_DATEElapsed  \n",
       "0                   False                  True      1577836800  \n",
       "12067               False                  True      1577836800  \n",
       "12068               False                  True      1577836800  \n",
       "12069               False                  True      1577836800  \n",
       "12070               False                  True      1577836800  \n",
       "\n",
       "[5 rows x 36 columns]"
      ]
     },
     "execution_count": 13,
     "metadata": {},
     "output_type": "execute_result"
    }
   ],
   "source": [
    "data.head()"
   ]
  },
  {
   "cell_type": "markdown",
   "metadata": {},
   "source": [
    "#### Investigate DEP Delay.\n",
    "Take only those rows where DEP_DELAY delay is reported and Find out, if there is any null values"
   ]
  },
  {
   "cell_type": "code",
   "execution_count": 14,
   "metadata": {},
   "outputs": [
    {
     "data": {
      "text/plain": [
       "6699"
      ]
     },
     "execution_count": 14,
     "metadata": {},
     "output_type": "execute_result"
    }
   ],
   "source": [
    "data.DEP_DELAY.isnull().sum()"
   ]
  },
  {
   "cell_type": "markdown",
   "metadata": {},
   "source": [
    "Take only those rows where DEP_DELAY is reported."
   ]
  },
  {
   "cell_type": "code",
   "execution_count": 15,
   "metadata": {},
   "outputs": [
    {
     "name": "stdout",
     "output_type": "stream",
     "text": [
      "Rows of data  600647\n"
     ]
    }
   ],
   "source": [
    "data = data[data['DEP_DELAY'].notna()]\n",
    "print(\"Rows of data \", len(data))"
   ]
  },
  {
   "cell_type": "markdown",
   "metadata": {},
   "source": [
    "#### Add a new column where Dep_delay is positive. Flights on time and early departures are reported as 0 and negative numbers"
   ]
  },
  {
   "cell_type": "code",
   "execution_count": 16,
   "metadata": {},
   "outputs": [],
   "source": [
    "data.insert(1,\"DEP_DELAY2\",data[\"DEP_DELAY\"])"
   ]
  },
  {
   "cell_type": "code",
   "execution_count": 17,
   "metadata": {},
   "outputs": [
    {
     "data": {
      "text/html": [
       "<div>\n",
       "<style scoped>\n",
       "    .dataframe tbody tr th:only-of-type {\n",
       "        vertical-align: middle;\n",
       "    }\n",
       "\n",
       "    .dataframe tbody tr th {\n",
       "        vertical-align: top;\n",
       "    }\n",
       "\n",
       "    .dataframe thead th {\n",
       "        text-align: right;\n",
       "    }\n",
       "</style>\n",
       "<table border=\"1\" class=\"dataframe\">\n",
       "  <thead>\n",
       "    <tr style=\"text-align: right;\">\n",
       "      <th></th>\n",
       "      <th>OP_UNIQUE_CARRIER</th>\n",
       "      <th>DEP_DELAY2</th>\n",
       "      <th>ORIGIN_AIRPORT_ID</th>\n",
       "      <th>ORIGIN_AIRPORT_SEQ_ID</th>\n",
       "      <th>ORIGIN_CITY_MARKET_ID</th>\n",
       "      <th>ORIGIN</th>\n",
       "      <th>ORIGIN_CITY_NAME</th>\n",
       "      <th>ORIGIN_STATE_ABR</th>\n",
       "      <th>ORIGIN_STATE_FIPS</th>\n",
       "      <th>ORIGIN_STATE_NM</th>\n",
       "      <th>...</th>\n",
       "      <th>FL_DATEDay</th>\n",
       "      <th>FL_DATEDayofweek</th>\n",
       "      <th>FL_DATEDayofyear</th>\n",
       "      <th>FL_DATEIs_month_end</th>\n",
       "      <th>FL_DATEIs_month_start</th>\n",
       "      <th>FL_DATEIs_quarter_end</th>\n",
       "      <th>FL_DATEIs_quarter_start</th>\n",
       "      <th>FL_DATEIs_year_end</th>\n",
       "      <th>FL_DATEIs_year_start</th>\n",
       "      <th>FL_DATEElapsed</th>\n",
       "    </tr>\n",
       "  </thead>\n",
       "  <tbody>\n",
       "    <tr>\n",
       "      <th>0</th>\n",
       "      <td>WN</td>\n",
       "      <td>41.0</td>\n",
       "      <td>13891</td>\n",
       "      <td>1389101</td>\n",
       "      <td>32575</td>\n",
       "      <td>ONT</td>\n",
       "      <td>Ontario, CA</td>\n",
       "      <td>CA</td>\n",
       "      <td>6</td>\n",
       "      <td>California</td>\n",
       "      <td>...</td>\n",
       "      <td>1</td>\n",
       "      <td>2</td>\n",
       "      <td>1</td>\n",
       "      <td>False</td>\n",
       "      <td>True</td>\n",
       "      <td>False</td>\n",
       "      <td>True</td>\n",
       "      <td>False</td>\n",
       "      <td>True</td>\n",
       "      <td>1577836800</td>\n",
       "    </tr>\n",
       "    <tr>\n",
       "      <th>12067</th>\n",
       "      <td>WN</td>\n",
       "      <td>1.0</td>\n",
       "      <td>13342</td>\n",
       "      <td>1334207</td>\n",
       "      <td>33342</td>\n",
       "      <td>MKE</td>\n",
       "      <td>Milwaukee, WI</td>\n",
       "      <td>WI</td>\n",
       "      <td>55</td>\n",
       "      <td>Wisconsin</td>\n",
       "      <td>...</td>\n",
       "      <td>1</td>\n",
       "      <td>2</td>\n",
       "      <td>1</td>\n",
       "      <td>False</td>\n",
       "      <td>True</td>\n",
       "      <td>False</td>\n",
       "      <td>True</td>\n",
       "      <td>False</td>\n",
       "      <td>True</td>\n",
       "      <td>1577836800</td>\n",
       "    </tr>\n",
       "    <tr>\n",
       "      <th>12068</th>\n",
       "      <td>WN</td>\n",
       "      <td>-4.0</td>\n",
       "      <td>13342</td>\n",
       "      <td>1334207</td>\n",
       "      <td>33342</td>\n",
       "      <td>MKE</td>\n",
       "      <td>Milwaukee, WI</td>\n",
       "      <td>WI</td>\n",
       "      <td>55</td>\n",
       "      <td>Wisconsin</td>\n",
       "      <td>...</td>\n",
       "      <td>1</td>\n",
       "      <td>2</td>\n",
       "      <td>1</td>\n",
       "      <td>False</td>\n",
       "      <td>True</td>\n",
       "      <td>False</td>\n",
       "      <td>True</td>\n",
       "      <td>False</td>\n",
       "      <td>True</td>\n",
       "      <td>1577836800</td>\n",
       "    </tr>\n",
       "    <tr>\n",
       "      <th>12069</th>\n",
       "      <td>WN</td>\n",
       "      <td>-5.0</td>\n",
       "      <td>13342</td>\n",
       "      <td>1334207</td>\n",
       "      <td>33342</td>\n",
       "      <td>MKE</td>\n",
       "      <td>Milwaukee, WI</td>\n",
       "      <td>WI</td>\n",
       "      <td>55</td>\n",
       "      <td>Wisconsin</td>\n",
       "      <td>...</td>\n",
       "      <td>1</td>\n",
       "      <td>2</td>\n",
       "      <td>1</td>\n",
       "      <td>False</td>\n",
       "      <td>True</td>\n",
       "      <td>False</td>\n",
       "      <td>True</td>\n",
       "      <td>False</td>\n",
       "      <td>True</td>\n",
       "      <td>1577836800</td>\n",
       "    </tr>\n",
       "    <tr>\n",
       "      <th>12070</th>\n",
       "      <td>WN</td>\n",
       "      <td>0.0</td>\n",
       "      <td>13342</td>\n",
       "      <td>1334207</td>\n",
       "      <td>33342</td>\n",
       "      <td>MKE</td>\n",
       "      <td>Milwaukee, WI</td>\n",
       "      <td>WI</td>\n",
       "      <td>55</td>\n",
       "      <td>Wisconsin</td>\n",
       "      <td>...</td>\n",
       "      <td>1</td>\n",
       "      <td>2</td>\n",
       "      <td>1</td>\n",
       "      <td>False</td>\n",
       "      <td>True</td>\n",
       "      <td>False</td>\n",
       "      <td>True</td>\n",
       "      <td>False</td>\n",
       "      <td>True</td>\n",
       "      <td>1577836800</td>\n",
       "    </tr>\n",
       "  </tbody>\n",
       "</table>\n",
       "<p>5 rows × 37 columns</p>\n",
       "</div>"
      ],
      "text/plain": [
       "      OP_UNIQUE_CARRIER  DEP_DELAY2  ORIGIN_AIRPORT_ID  ORIGIN_AIRPORT_SEQ_ID  \\\n",
       "0                    WN        41.0              13891                1389101   \n",
       "12067                WN         1.0              13342                1334207   \n",
       "12068                WN        -4.0              13342                1334207   \n",
       "12069                WN        -5.0              13342                1334207   \n",
       "12070                WN         0.0              13342                1334207   \n",
       "\n",
       "       ORIGIN_CITY_MARKET_ID ORIGIN ORIGIN_CITY_NAME ORIGIN_STATE_ABR  \\\n",
       "0                      32575    ONT      Ontario, CA               CA   \n",
       "12067                  33342    MKE    Milwaukee, WI               WI   \n",
       "12068                  33342    MKE    Milwaukee, WI               WI   \n",
       "12069                  33342    MKE    Milwaukee, WI               WI   \n",
       "12070                  33342    MKE    Milwaukee, WI               WI   \n",
       "\n",
       "       ORIGIN_STATE_FIPS ORIGIN_STATE_NM  ...  FL_DATEDay  FL_DATEDayofweek  \\\n",
       "0                      6      California  ...           1                 2   \n",
       "12067                 55       Wisconsin  ...           1                 2   \n",
       "12068                 55       Wisconsin  ...           1                 2   \n",
       "12069                 55       Wisconsin  ...           1                 2   \n",
       "12070                 55       Wisconsin  ...           1                 2   \n",
       "\n",
       "       FL_DATEDayofyear  FL_DATEIs_month_end  FL_DATEIs_month_start  \\\n",
       "0                     1                False                   True   \n",
       "12067                 1                False                   True   \n",
       "12068                 1                False                   True   \n",
       "12069                 1                False                   True   \n",
       "12070                 1                False                   True   \n",
       "\n",
       "       FL_DATEIs_quarter_end  FL_DATEIs_quarter_start  FL_DATEIs_year_end  \\\n",
       "0                      False                     True               False   \n",
       "12067                  False                     True               False   \n",
       "12068                  False                     True               False   \n",
       "12069                  False                     True               False   \n",
       "12070                  False                     True               False   \n",
       "\n",
       "       FL_DATEIs_year_start  FL_DATEElapsed  \n",
       "0                      True      1577836800  \n",
       "12067                  True      1577836800  \n",
       "12068                  True      1577836800  \n",
       "12069                  True      1577836800  \n",
       "12070                  True      1577836800  \n",
       "\n",
       "[5 rows x 37 columns]"
      ]
     },
     "execution_count": 17,
     "metadata": {},
     "output_type": "execute_result"
    }
   ],
   "source": [
    "data.head()"
   ]
  },
  {
   "cell_type": "code",
   "execution_count": 18,
   "metadata": {},
   "outputs": [
    {
     "name": "stderr",
     "output_type": "stream",
     "text": [
      "/Applications/anaconda3/envs/DNN/lib/python3.7/site-packages/ipykernel_launcher.py:3: SettingWithCopyWarning: \n",
      "A value is trying to be set on a copy of a slice from a DataFrame.\n",
      "Try using .loc[row_indexer,col_indexer] = value instead\n",
      "\n",
      "See the caveats in the documentation: https://pandas.pydata.org/pandas-docs/stable/user_guide/indexing.html#returning-a-view-versus-a-copy\n",
      "  This is separate from the ipykernel package so we can avoid doing imports until\n"
     ]
    }
   ],
   "source": [
    "data1=data.loc[data.DEP_DELAY2<0]\n",
    "data2=data.loc[data.DEP_DELAY2>=0]\n",
    "data1[\"DEP_DELAY2\"]=0\n",
    "dataf = data1\n",
    "dataf = dataf.append(data2)\n",
    "del data1\n",
    "del data2\n",
    "dataf=dataf.sort_index()"
   ]
  },
  {
   "cell_type": "markdown",
   "metadata": {},
   "source": [
    "Find fraction of flights that were on time. This assumes DEP_delay is reported on these flights"
   ]
  },
  {
   "cell_type": "code",
   "execution_count": 19,
   "metadata": {},
   "outputs": [
    {
     "name": "stdout",
     "output_type": "stream",
     "text": [
      "percentage of flights on time 5.013427187682615\n",
      "percentage of early departure 67.1009761140903\n",
      "percentage of flights delayed 27.88559669822708\n"
     ]
    }
   ],
   "source": [
    "a=100*len(dataf[dataf['DEP_DELAY']==0])/len(dataf)\n",
    "b=100*len(dataf[dataf['DEP_DELAY']<0])/len(dataf)\n",
    "c=100*len(dataf[dataf['DEP_DELAY']>0])/len(dataf)\n",
    "print(\"percentage of flights on time\" ,a)\n",
    "print(\"percentage of early departure\" ,b)\n",
    "print(\"percentage of flights delayed\" ,c)"
   ]
  },
  {
   "cell_type": "code",
   "execution_count": 20,
   "metadata": {},
   "outputs": [
    {
     "name": "stdout",
     "output_type": "stream",
     "text": [
      "percentage of flights on time 72.11440330177292\n",
      "percentage of early departure 0.0\n",
      "percentage of flights delayed 27.88559669822708\n"
     ]
    }
   ],
   "source": [
    "a1=100*len(dataf[dataf['DEP_DELAY2']==0])/len(dataf)\n",
    "b1=100*len(dataf[dataf['DEP_DELAY2']<0])/len(dataf)\n",
    "c1=100*len(dataf[dataf['DEP_DELAY2']>0])/len(dataf)\n",
    "print(\"percentage of flights on time\" ,a1)\n",
    "print(\"percentage of early departure\" ,b1)\n",
    "print(\"percentage of flights delayed\" ,c1)"
   ]
  },
  {
   "cell_type": "code",
   "execution_count": 21,
   "metadata": {},
   "outputs": [
    {
     "data": {
      "image/png": "[encoded data removed]",
      "text/plain": [
       "<Figure size 576x360 with 1 Axes>"
      ]
     },
     "metadata": {
      "needs_background": "light"
     },
     "output_type": "display_data"
    }
   ],
   "source": [
    "y1=[a,b,c]\n",
    "x1=range(len(y1))\n",
    "my_colors = ['c','r','g','c']\n",
    "fig, ax = plt.subplots(figsize=(8,5))\n",
    "width=0.5\n",
    "rects1 = ax.bar(x1, y1, width=0.5, color=my_colors)\n",
    "ax.set_ylim(0,100)\n",
    "ax.set_ylabel('Percentage')\n",
    "ax.set_title('Departure performance')\n",
    "ax.set_xticks(np.add(x1,(width)/20)) # set the position of the x ticks\n",
    "ax.set_xticklabels(('on time', 'early departure', 'flights delayed'))\n",
    "def autolabel(rects):\n",
    "    # attach some text labels\n",
    "    for rect in rects:\n",
    "        height = rect.get_height()\n",
    "        ax.text(rect.get_x() + rect.get_width()/2., 1.05*height,\n",
    "                '%d' % int(height),\n",
    "                ha='center', va='bottom')\n",
    "autolabel(rects1)\n",
    "plt.show()"
   ]
  },
  {
   "cell_type": "code",
   "execution_count": 22,
   "metadata": {},
   "outputs": [
    {
     "data": {
      "text/plain": [
       "<AxesSubplot:>"
      ]
     },
     "execution_count": 22,
     "metadata": {},
     "output_type": "execute_result"
    },
    {
     "data": {
      "image/png": "[encoded data removed]",
      "text/plain": [
       "<Figure size 1440x720 with 2 Axes>"
      ]
     },
     "metadata": {
      "needs_background": "light"
     },
     "output_type": "display_data"
    }
   ],
   "source": [
    "from string import ascii_letters\n",
    "import seaborn as sns\n",
    "corr = data.corr()\n",
    "# Generate a mask for the upper triangle\n",
    "#mask = np.triu(np.ones_like(corr, dtype=np.bool))\n",
    "#Correlation matrix\n",
    "fig,ax= plt.subplots()\n",
    "fig.set_size_inches(20,10)\n",
    "mask = np.array(corr)\n",
    "mask[np.tril_indices_from(mask)] = False\n",
    "\n",
    "sns.heatmap(corr, mask=mask,vmax=.8, square=True,annot=True)"
   ]
  },
  {
   "cell_type": "code",
   "execution_count": 23,
   "metadata": {},
   "outputs": [],
   "source": [
    "b=dataf.DEP_DELAY[dataf.DEP_DELAY<0]"
   ]
  },
  {
   "cell_type": "code",
   "execution_count": 24,
   "metadata": {},
   "outputs": [
    {
     "data": {
      "text/plain": [
       "<AxesSubplot:>"
      ]
     },
     "execution_count": 24,
     "metadata": {},
     "output_type": "execute_result"
    },
    {
     "data": {
      "image/png": "[encoded data removed]",
      "text/plain": [
       "<Figure size 432x288 with 1 Axes>"
      ]
     },
     "metadata": {
      "needs_background": "light"
     },
     "output_type": "display_data"
    }
   ],
   "source": [
    "b.hist(bins=20)"
   ]
  },
  {
   "cell_type": "markdown",
   "metadata": {},
   "source": [
    "Take only those rows where departure delay is 500 or less"
   ]
  },
  {
   "cell_type": "code",
   "execution_count": 25,
   "metadata": {},
   "outputs": [
    {
     "name": "stderr",
     "output_type": "stream",
     "text": [
      "/Applications/anaconda3/envs/DNN/lib/python3.7/site-packages/ipykernel_launcher.py:1: UserWarning: Boolean Series key will be reindexed to match DataFrame index.\n",
      "  \"\"\"Entry point for launching an IPython kernel.\n"
     ]
    }
   ],
   "source": [
    "dataf = dataf[data['DEP_DELAY']<=500]"
   ]
  },
  {
   "cell_type": "code",
   "execution_count": 26,
   "metadata": {},
   "outputs": [
    {
     "data": {
      "image/png": "[encoded data removed]",
      "text/plain": [
       "<Figure size 720x504 with 1 Axes>"
      ]
     },
     "metadata": {
      "needs_background": "light"
     },
     "output_type": "display_data"
    }
   ],
   "source": [
    "boxplot = dataf.boxplot(column=['DEP_DELAY'],figsize = (10,7))"
   ]
  },
  {
   "cell_type": "markdown",
   "metadata": {},
   "source": [
    "Assuming flight time is about the same, we can expact Arrival and Departure delay are correlated. So, we can do a linear regression on that data. "
   ]
  },
  {
   "cell_type": "code",
   "execution_count": 27,
   "metadata": {},
   "outputs": [
    {
     "data": {
      "text/plain": [
       "[<matplotlib.lines.Line2D at 0x7f8f1c89a790>]"
      ]
     },
     "execution_count": 27,
     "metadata": {},
     "output_type": "execute_result"
    },
    {
     "data": {
      "image/png": "[encoded data removed]",
      "text/plain": [
       "<Figure size 432x288 with 1 Axes>"
      ]
     },
     "metadata": {
      "needs_background": "light"
     },
     "output_type": "display_data"
    }
   ],
   "source": [
    "plt.plot(dataf['DEP_DELAY'],dataf['ARR_DELAY'],'.')"
   ]
  },
  {
   "cell_type": "code",
   "execution_count": 28,
   "metadata": {},
   "outputs": [],
   "source": [
    "from sklearn.linear_model import LinearRegression \n",
    "import numpy as np\n",
    "from sklearn.metrics import mean_squared_error, r2_score\n",
    "from sklearn.model_selection import train_test_split"
   ]
  },
  {
   "cell_type": "code",
   "execution_count": 29,
   "metadata": {},
   "outputs": [],
   "source": [
    "#Fill None in ARR_DELAY with corresponding DEP_DELAY values\n",
    "dataf['ARR_DELAY'].fillna(dataf['DEP_DELAY'],inplace = True)\n",
    "y = dataf['ARR_DELAY'].values.reshape(len(dataf),1)\n",
    "X = dataf['DEP_DELAY'].values.reshape(len(dataf),1)\n",
    "X_train, X_test, y_train, y_test = train_test_split(X, y, test_size=0.2, random_state=42)"
   ]
  },
  {
   "cell_type": "code",
   "execution_count": 30,
   "metadata": {},
   "outputs": [],
   "source": [
    "reg = LinearRegression()\n",
    "reg.fit(X_train,y_train)\n",
    "y_pred = reg.predict(X_test)"
   ]
  },
  {
   "cell_type": "code",
   "execution_count": 31,
   "metadata": {},
   "outputs": [
    {
     "name": "stdout",
     "output_type": "stream",
     "text": [
      "Coefficients: [[1.00353]]  Intercept  [-7.73982]\n",
      "Mean squared error: 182.62\n",
      "Coefficient of determination: 0.85\n"
     ]
    }
   ],
   "source": [
    "# The coefficients\n",
    "print('Coefficients:', reg.coef_,' Intercept ',reg.intercept_)\n",
    "print('Mean squared error: %.2f'% mean_squared_error(y_test, y_pred))\n",
    "print('Coefficient of determination: %.2f'% r2_score(y_test, y_pred))"
   ]
  },
  {
   "cell_type": "code",
   "execution_count": 32,
   "metadata": {},
   "outputs": [
    {
     "data": {
      "image/png": "[encoded data removed]",
      "text/plain": [
       "<Figure size 432x288 with 1 Axes>"
      ]
     },
     "metadata": {
      "needs_background": "light"
     },
     "output_type": "display_data"
    }
   ],
   "source": [
    "plt.scatter(X_test, y_test,  color='black')\n",
    "plt.plot(X_test, y_pred,'.', color='blue', linewidth=3)\n",
    "plt.xlabel('Departure delay')\n",
    "plt.ylabel('Arrival delay')\n",
    "plt.show()"
   ]
  },
  {
   "cell_type": "markdown",
   "metadata": {},
   "source": [
    "In terms of hypothesis testing. We are assuming the model is $Y = \\beta_0+ \\beta_1+\\epsilon$\n",
    "\n",
    "$\\text{NULL hypothesis is } H_0: \\text{There is no relation between Dep_delay and Arr_delay}$\n",
    "\n",
    "$\\text{Alternative hypothesis is } H_a: \\text{There is some relation between Dep_delay and Arr_delay}$\n",
    "\n",
    "Mathematically, this corresponds to testing\n",
    "\n",
    "$H_0 : \\beta _1 = 0$\n",
    "\n",
    "Versus\n",
    "\n",
    "$H_a : \\beta _1 \\neq 0$\n",
    "\n",
    "\n",
    "\n",
    "\n"
   ]
  },
  {
   "cell_type": "code",
   "execution_count": 33,
   "metadata": {},
   "outputs": [],
   "source": [
    "import statsmodels.api as sm\n",
    "import statsmodels.formula.api as smf"
   ]
  },
  {
   "cell_type": "code",
   "execution_count": 34,
   "metadata": {},
   "outputs": [
    {
     "name": "stdout",
     "output_type": "stream",
     "text": [
      "                            OLS Regression Results                            \n",
      "==============================================================================\n",
      "Dep. Variable:                      y   R-squared:                       0.845\n",
      "Model:                            OLS   Adj. R-squared:                  0.845\n",
      "Method:                 Least Squares   F-statistic:                 2.615e+06\n",
      "Date:                Mon, 07 Sep 2020   Prob (F-statistic):               0.00\n",
      "Time:                        08:52:46   Log-Likelihood:            -1.9307e+06\n",
      "No. Observations:              479934   AIC:                         3.861e+06\n",
      "Df Residuals:                  479932   BIC:                         3.861e+06\n",
      "Df Model:                           1                                         \n",
      "Covariance Type:            nonrobust                                         \n",
      "==============================================================================\n",
      "                 coef    std err          t      P>|t|      [0.025      0.975]\n",
      "------------------------------------------------------------------------------\n",
      "const         -7.7398      0.020   -391.396      0.000      -7.779      -7.701\n",
      "x1             1.0035      0.001   1617.045      0.000       1.002       1.005\n",
      "==============================================================================\n",
      "Omnibus:                   119995.622   Durbin-Watson:                   2.003\n",
      "Prob(Omnibus):                  0.000   Jarque-Bera (JB):           792733.802\n",
      "Skew:                           1.041   Prob(JB):                         0.00\n",
      "Kurtosis:                       8.942   Cond. No.                         32.3\n",
      "==============================================================================\n",
      "\n",
      "Warnings:\n",
      "[1] Standard Errors assume that the covariance matrix of the errors is correctly specified.\n"
     ]
    }
   ],
   "source": [
    "X_train = sm.add_constant(X_train)\n",
    "results = sm.OLS(y_train, X_train).fit()\n",
    "print(results.summary())"
   ]
  },
  {
   "cell_type": "markdown",
   "metadata": {},
   "source": [
    "sklearn does not include error estimates for fitted parameters. statsmodel shows the std error and also reports the p value. Here we see that the p value is 0 upto three digits. This means that the observed relation (namely parameter x1 is not zero) between Dep_delay and Arr_delay predicted by our model is very unlikely due to chance in absence of any real association. This small p value indicates there is a relation between these. So we reject the null hypothesis and coclude that there is a relation between these two parameters.   "
   ]
  },
  {
   "cell_type": "markdown",
   "metadata": {},
   "source": [
    "#### Lets look at the latitude and longitude of the airports so that we can plot them in a map.\n"
   ]
  },
  {
   "cell_type": "code",
   "execution_count": 35,
   "metadata": {},
   "outputs": [
    {
     "name": "stdout",
     "output_type": "stream",
     "text": [
      "Airline_data_analysis.ipynb   add_for_long_lat.csv\r\n",
      "Airline_data_analysis_2.ipynb \u001b[1m\u001b[34mhelper\u001b[m\u001b[m\r\n"
     ]
    }
   ],
   "source": [
    "!ls"
   ]
  },
  {
   "cell_type": "code",
   "execution_count": 36,
   "metadata": {},
   "outputs": [],
   "source": [
    "#Get the origin airport. Here the code is ORIGIN_AIRPORT_SEQ_ID.\n",
    "df_origin = pd.read_csv(\"/Users/franciumpnc/Documents/ML/AQM/ML_practice_projects/Airline_data_analysis/data/original/origin_ap_code.csv\")"
   ]
  },
  {
   "cell_type": "code",
   "execution_count": 37,
   "metadata": {},
   "outputs": [
    {
     "data": {
      "text/html": [
       "<div>\n",
       "<style scoped>\n",
       "    .dataframe tbody tr th:only-of-type {\n",
       "        vertical-align: middle;\n",
       "    }\n",
       "\n",
       "    .dataframe tbody tr th {\n",
       "        vertical-align: top;\n",
       "    }\n",
       "\n",
       "    .dataframe thead th {\n",
       "        text-align: right;\n",
       "    }\n",
       "</style>\n",
       "<table border=\"1\" class=\"dataframe\">\n",
       "  <thead>\n",
       "    <tr style=\"text-align: right;\">\n",
       "      <th></th>\n",
       "      <th>Code</th>\n",
       "      <th>Description</th>\n",
       "    </tr>\n",
       "  </thead>\n",
       "  <tbody>\n",
       "    <tr>\n",
       "      <th>0</th>\n",
       "      <td>10001</td>\n",
       "      <td>Afognak Lake, AK: Afognak Lake Airport</td>\n",
       "    </tr>\n",
       "    <tr>\n",
       "      <th>1</th>\n",
       "      <td>10003</td>\n",
       "      <td>Granite Mountain, AK: Bear Creek Mining Strip</td>\n",
       "    </tr>\n",
       "    <tr>\n",
       "      <th>2</th>\n",
       "      <td>10004</td>\n",
       "      <td>Lik, AK: Lik Mining Camp</td>\n",
       "    </tr>\n",
       "    <tr>\n",
       "      <th>3</th>\n",
       "      <td>10005</td>\n",
       "      <td>Little Squaw, AK: Little Squaw Airport</td>\n",
       "    </tr>\n",
       "    <tr>\n",
       "      <th>4</th>\n",
       "      <td>10006</td>\n",
       "      <td>Kizhuyak, AK: Kizhuyak Bay</td>\n",
       "    </tr>\n",
       "  </tbody>\n",
       "</table>\n",
       "</div>"
      ],
      "text/plain": [
       "    Code                                    Description\n",
       "0  10001         Afognak Lake, AK: Afognak Lake Airport\n",
       "1  10003  Granite Mountain, AK: Bear Creek Mining Strip\n",
       "2  10004                       Lik, AK: Lik Mining Camp\n",
       "3  10005         Little Squaw, AK: Little Squaw Airport\n",
       "4  10006                     Kizhuyak, AK: Kizhuyak Bay"
      ]
     },
     "execution_count": 37,
     "metadata": {},
     "output_type": "execute_result"
    }
   ],
   "source": [
    "df_origin.head()"
   ]
  },
  {
   "cell_type": "code",
   "execution_count": 38,
   "metadata": {},
   "outputs": [],
   "source": [
    "#Rename the Code column to ORIGIN_AIRPORT_SEQ_ID\n",
    "df_origin = df_origin.rename(index =str, columns={\"Code\":\"ORIGIN_AIRPORT_ID\"})"
   ]
  },
  {
   "cell_type": "code",
   "execution_count": 39,
   "metadata": {},
   "outputs": [
    {
     "data": {
      "text/plain": [
       "351"
      ]
     },
     "execution_count": 39,
     "metadata": {},
     "output_type": "execute_result"
    }
   ],
   "source": [
    "#Find the number of unique airports in the data\n",
    "len(data.ORIGIN_AIRPORT_ID.unique())"
   ]
  },
  {
   "cell_type": "code",
   "execution_count": 40,
   "metadata": {},
   "outputs": [
    {
     "name": "stdout",
     "output_type": "stream",
     "text": [
      "Busiest airport in terms of origin: ATL , with flights: 32063\n"
     ]
    }
   ],
   "source": [
    "#Find the busiest airport over the month\n",
    "count_origin = dataf.groupby('ORIGIN').size()\n",
    "print (\"Busiest airport in terms of origin:\", count_origin.idxmax(), ', with flights:',count_origin.max())"
   ]
  },
  {
   "cell_type": "code",
   "execution_count": 41,
   "metadata": {},
   "outputs": [
    {
     "data": {
      "text/plain": [
       "ORIGIN\n",
       "ABE     359\n",
       "ABI     163\n",
       "ABQ    1826\n",
       "ABR      60\n",
       "ABY      84\n",
       "dtype: int64"
      ]
     },
     "execution_count": 41,
     "metadata": {},
     "output_type": "execute_result"
    }
   ],
   "source": [
    "count_origin.head()"
   ]
  },
  {
   "cell_type": "code",
   "execution_count": 42,
   "metadata": {},
   "outputs": [
    {
     "name": "stdout",
     "output_type": "stream",
     "text": [
      "Busiest airline in terms of # of flights: WN , with flights: 107878\n"
     ]
    }
   ],
   "source": [
    "#Find the busiest airline over the month\n",
    "count_airline = dataf.groupby('OP_UNIQUE_CARRIER').size()\n",
    "print (\"Busiest airline in terms of # of flights:\", count_airline.idxmax(), ', with flights:',count_airline.max())"
   ]
  },
  {
   "cell_type": "code",
   "execution_count": 43,
   "metadata": {},
   "outputs": [
    {
     "data": {
      "text/plain": [
       "Index(['OP_UNIQUE_CARRIER', 'DEP_DELAY2', 'ORIGIN_AIRPORT_ID',\n",
       "       'ORIGIN_AIRPORT_SEQ_ID', 'ORIGIN_CITY_MARKET_ID', 'ORIGIN',\n",
       "       'ORIGIN_CITY_NAME', 'ORIGIN_STATE_ABR', 'ORIGIN_STATE_FIPS',\n",
       "       'ORIGIN_STATE_NM', 'DEST_AIRPORT_ID', 'CRS_DEP_TIME', 'DEP_TIME',\n",
       "       'DEP_DELAY', 'ARR_DELAY', 'CANCELLED', 'FLIGHTS', 'DISTANCE',\n",
       "       'CARRIER_DELAY', 'WEATHER_DELAY', 'NAS_DELAY', 'SECURITY_DELAY',\n",
       "       'LATE_AIRCRAFT_DELAY', 'FIRST_DEP_TIME', 'FL_DATEYear', 'FL_DATEMonth',\n",
       "       'FL_DATEWeek', 'FL_DATEDay', 'FL_DATEDayofweek', 'FL_DATEDayofyear',\n",
       "       'FL_DATEIs_month_end', 'FL_DATEIs_month_start', 'FL_DATEIs_quarter_end',\n",
       "       'FL_DATEIs_quarter_start', 'FL_DATEIs_year_end', 'FL_DATEIs_year_start',\n",
       "       'FL_DATEElapsed'],\n",
       "      dtype='object')"
      ]
     },
     "execution_count": 43,
     "metadata": {},
     "output_type": "execute_result"
    }
   ],
   "source": [
    "dataf.columns"
   ]
  },
  {
   "cell_type": "code",
   "execution_count": 44,
   "metadata": {},
   "outputs": [
    {
     "data": {
      "text/html": [
       "<div>\n",
       "<style scoped>\n",
       "    .dataframe tbody tr th:only-of-type {\n",
       "        vertical-align: middle;\n",
       "    }\n",
       "\n",
       "    .dataframe tbody tr th {\n",
       "        vertical-align: top;\n",
       "    }\n",
       "\n",
       "    .dataframe thead th {\n",
       "        text-align: right;\n",
       "    }\n",
       "</style>\n",
       "<table border=\"1\" class=\"dataframe\">\n",
       "  <thead>\n",
       "    <tr style=\"text-align: right;\">\n",
       "      <th></th>\n",
       "      <th>ORIGIN_AIRPORT_ID</th>\n",
       "      <th>Description</th>\n",
       "    </tr>\n",
       "  </thead>\n",
       "  <tbody>\n",
       "    <tr>\n",
       "      <th>0</th>\n",
       "      <td>10001</td>\n",
       "      <td>Afognak Lake, AK: Afognak Lake Airport</td>\n",
       "    </tr>\n",
       "    <tr>\n",
       "      <th>1</th>\n",
       "      <td>10003</td>\n",
       "      <td>Granite Mountain, AK: Bear Creek Mining Strip</td>\n",
       "    </tr>\n",
       "    <tr>\n",
       "      <th>2</th>\n",
       "      <td>10004</td>\n",
       "      <td>Lik, AK: Lik Mining Camp</td>\n",
       "    </tr>\n",
       "    <tr>\n",
       "      <th>3</th>\n",
       "      <td>10005</td>\n",
       "      <td>Little Squaw, AK: Little Squaw Airport</td>\n",
       "    </tr>\n",
       "    <tr>\n",
       "      <th>4</th>\n",
       "      <td>10006</td>\n",
       "      <td>Kizhuyak, AK: Kizhuyak Bay</td>\n",
       "    </tr>\n",
       "  </tbody>\n",
       "</table>\n",
       "</div>"
      ],
      "text/plain": [
       "   ORIGIN_AIRPORT_ID                                    Description\n",
       "0              10001         Afognak Lake, AK: Afognak Lake Airport\n",
       "1              10003  Granite Mountain, AK: Bear Creek Mining Strip\n",
       "2              10004                       Lik, AK: Lik Mining Camp\n",
       "3              10005         Little Squaw, AK: Little Squaw Airport\n",
       "4              10006                     Kizhuyak, AK: Kizhuyak Bay"
      ]
     },
     "execution_count": 44,
     "metadata": {},
     "output_type": "execute_result"
    }
   ],
   "source": [
    "df_origin.head()"
   ]
  },
  {
   "cell_type": "code",
   "execution_count": 45,
   "metadata": {},
   "outputs": [
    {
     "name": "stdout",
     "output_type": "stream",
     "text": [
      "CPU times: user 350 ms, sys: 117 ms, total: 467 ms\n",
      "Wall time: 477 ms\n"
     ]
    }
   ],
   "source": [
    "#Merge the df_origin with data on ORIGIN_AIRPORT_ID\n",
    "%time data_full=pd.merge(dataf,df_origin, how ='left', on=['ORIGIN_AIRPORT_ID'])"
   ]
  },
  {
   "cell_type": "code",
   "execution_count": 46,
   "metadata": {},
   "outputs": [
    {
     "name": "stdout",
     "output_type": "stream",
     "text": [
      "<class 'pandas.core.frame.DataFrame'>\n",
      "Int64Index: 599918 entries, 0 to 599917\n",
      "Data columns (total 38 columns):\n",
      " #   Column                   Non-Null Count   Dtype  \n",
      "---  ------                   --------------   -----  \n",
      " 0   OP_UNIQUE_CARRIER        599918 non-null  object \n",
      " 1   DEP_DELAY2               599918 non-null  float64\n",
      " 2   ORIGIN_AIRPORT_ID        599918 non-null  int64  \n",
      " 3   ORIGIN_AIRPORT_SEQ_ID    599918 non-null  int64  \n",
      " 4   ORIGIN_CITY_MARKET_ID    599918 non-null  int64  \n",
      " 5   ORIGIN                   599918 non-null  object \n",
      " 6   ORIGIN_CITY_NAME         599918 non-null  object \n",
      " 7   ORIGIN_STATE_ABR         599918 non-null  object \n",
      " 8   ORIGIN_STATE_FIPS        599918 non-null  int64  \n",
      " 9   ORIGIN_STATE_NM          599918 non-null  object \n",
      " 10  DEST_AIRPORT_ID          599918 non-null  int64  \n",
      " 11  CRS_DEP_TIME             599918 non-null  int64  \n",
      " 12  DEP_TIME                 599918 non-null  float64\n",
      " 13  DEP_DELAY                599918 non-null  float64\n",
      " 14  ARR_DELAY                599918 non-null  float64\n",
      " 15  CANCELLED                599918 non-null  float64\n",
      " 16  FLIGHTS                  599918 non-null  float64\n",
      " 17  DISTANCE                 599918 non-null  float64\n",
      " 18  CARRIER_DELAY            81580 non-null   float64\n",
      " 19  WEATHER_DELAY            81580 non-null   float64\n",
      " 20  NAS_DELAY                81580 non-null   float64\n",
      " 21  SECURITY_DELAY           81580 non-null   float64\n",
      " 22  LATE_AIRCRAFT_DELAY      81580 non-null   float64\n",
      " 23  FIRST_DEP_TIME           3473 non-null    float64\n",
      " 24  FL_DATEYear              599918 non-null  int64  \n",
      " 25  FL_DATEMonth             599918 non-null  int64  \n",
      " 26  FL_DATEWeek              599918 non-null  int64  \n",
      " 27  FL_DATEDay               599918 non-null  int64  \n",
      " 28  FL_DATEDayofweek         599918 non-null  int64  \n",
      " 29  FL_DATEDayofyear         599918 non-null  int64  \n",
      " 30  FL_DATEIs_month_end      599918 non-null  bool   \n",
      " 31  FL_DATEIs_month_start    599918 non-null  bool   \n",
      " 32  FL_DATEIs_quarter_end    599918 non-null  bool   \n",
      " 33  FL_DATEIs_quarter_start  599918 non-null  bool   \n",
      " 34  FL_DATEIs_year_end       599918 non-null  bool   \n",
      " 35  FL_DATEIs_year_start     599918 non-null  bool   \n",
      " 36  FL_DATEElapsed           599918 non-null  int64  \n",
      " 37  Description              599918 non-null  object \n",
      "dtypes: bool(6), float64(13), int64(13), object(6)\n",
      "memory usage: 154.5+ MB\n"
     ]
    }
   ],
   "source": [
    "data_full.info()"
   ]
  },
  {
   "cell_type": "code",
   "execution_count": 47,
   "metadata": {},
   "outputs": [],
   "source": [
    "#save the ORIGIN_AIRPORT_ID and description so that we can use it in google to get the lattitude and \n",
    "#longitudes.\n",
    "import csv\n",
    "long_lat_frm_add = data_full[['ORIGIN_AIRPORT_ID','Description']].copy()\n",
    "long_lat_frm_add = long_lat_frm_add.drop_duplicates()\n",
    "long_lat_frm_add = long_lat_frm_add.rename(index =str, columns={\"Description\":\"Address\"})\n",
    "long_lat_frm_add.to_csv('/Users/franciumpnc/Documents/ML/AQM/ML_practice_projects/Airline_data_analysis/data/original/add_for_long_lat.csv')"
   ]
  },
  {
   "cell_type": "code",
   "execution_count": 48,
   "metadata": {},
   "outputs": [
    {
     "data": {
      "text/html": [
       "<div>\n",
       "<style scoped>\n",
       "    .dataframe tbody tr th:only-of-type {\n",
       "        vertical-align: middle;\n",
       "    }\n",
       "\n",
       "    .dataframe tbody tr th {\n",
       "        vertical-align: top;\n",
       "    }\n",
       "\n",
       "    .dataframe thead th {\n",
       "        text-align: right;\n",
       "    }\n",
       "</style>\n",
       "<table border=\"1\" class=\"dataframe\">\n",
       "  <thead>\n",
       "    <tr style=\"text-align: right;\">\n",
       "      <th></th>\n",
       "      <th>ORIGIN_AIRPORT_ID</th>\n",
       "      <th>Address</th>\n",
       "    </tr>\n",
       "  </thead>\n",
       "  <tbody>\n",
       "    <tr>\n",
       "      <th>0</th>\n",
       "      <td>13891</td>\n",
       "      <td>Ontario, CA: Ontario International</td>\n",
       "    </tr>\n",
       "    <tr>\n",
       "      <th>14</th>\n",
       "      <td>13931</td>\n",
       "      <td>Norfolk, VA: Norfolk International</td>\n",
       "    </tr>\n",
       "    <tr>\n",
       "      <th>20</th>\n",
       "      <td>14027</td>\n",
       "      <td>West Palm Beach/Palm Beach, FL: Palm Beach Int...</td>\n",
       "    </tr>\n",
       "    <tr>\n",
       "      <th>26</th>\n",
       "      <td>14057</td>\n",
       "      <td>Portland, OR: Portland International</td>\n",
       "    </tr>\n",
       "    <tr>\n",
       "      <th>58</th>\n",
       "      <td>14100</td>\n",
       "      <td>Philadelphia, PA: Philadelphia International</td>\n",
       "    </tr>\n",
       "  </tbody>\n",
       "</table>\n",
       "</div>"
      ],
      "text/plain": [
       "    ORIGIN_AIRPORT_ID                                            Address\n",
       "0               13891                 Ontario, CA: Ontario International\n",
       "14              13931                 Norfolk, VA: Norfolk International\n",
       "20              14027  West Palm Beach/Palm Beach, FL: Palm Beach Int...\n",
       "26              14057               Portland, OR: Portland International\n",
       "58              14100       Philadelphia, PA: Philadelphia International"
      ]
     },
     "execution_count": 48,
     "metadata": {},
     "output_type": "execute_result"
    }
   ],
   "source": [
    "long_lat_frm_add.head()"
   ]
  },
  {
   "cell_type": "code",
   "execution_count": 57,
   "metadata": {},
   "outputs": [],
   "source": [
    "pos=pd.read_csv('/Users/franciumpnc/Documents/ML/AQM/ML_practice_projects/Airline_data_analysis/data/original/long_lat1.csv')"
   ]
  },
  {
   "cell_type": "code",
   "execution_count": 58,
   "metadata": {},
   "outputs": [
    {
     "data": {
      "text/html": [
       "<div>\n",
       "<style scoped>\n",
       "    .dataframe tbody tr th:only-of-type {\n",
       "        vertical-align: middle;\n",
       "    }\n",
       "\n",
       "    .dataframe tbody tr th {\n",
       "        vertical-align: top;\n",
       "    }\n",
       "\n",
       "    .dataframe thead th {\n",
       "        text-align: right;\n",
       "    }\n",
       "</style>\n",
       "<table border=\"1\" class=\"dataframe\">\n",
       "  <thead>\n",
       "    <tr style=\"text-align: right;\">\n",
       "      <th></th>\n",
       "      <th>Unnamed: 0</th>\n",
       "      <th>formatted_address</th>\n",
       "      <th>latitude</th>\n",
       "      <th>longitude</th>\n",
       "      <th>accuracy</th>\n",
       "      <th>google_place_id</th>\n",
       "      <th>type</th>\n",
       "      <th>postcode</th>\n",
       "      <th>input_string</th>\n",
       "      <th>number_of_results</th>\n",
       "      <th>status</th>\n",
       "    </tr>\n",
       "  </thead>\n",
       "  <tbody>\n",
       "    <tr>\n",
       "      <th>0</th>\n",
       "      <td>0</td>\n",
       "      <td>Ontario International Airport (ONT), Ontario, ...</td>\n",
       "      <td>34.055978</td>\n",
       "      <td>-117.598057</td>\n",
       "      <td>GEOMETRIC_CENTER</td>\n",
       "      <td>ChIJp9TPWvw0w4ARO1JZyBbtxJ8</td>\n",
       "      <td>airport,establishment,point_of_interest</td>\n",
       "      <td>91761.0</td>\n",
       "      <td>Ontario, CA: Ontario International</td>\n",
       "      <td>1</td>\n",
       "      <td>OK</td>\n",
       "    </tr>\n",
       "    <tr>\n",
       "      <th>1</th>\n",
       "      <td>1</td>\n",
       "      <td>Norfolk International Airport (ORF), 2200 Norv...</td>\n",
       "      <td>36.895684</td>\n",
       "      <td>-76.200016</td>\n",
       "      <td>ROOFTOP</td>\n",
       "      <td>ChIJOd96j8OWuokR5l3A1KtPtKg</td>\n",
       "      <td>airport,establishment,point_of_interest</td>\n",
       "      <td>23518.0</td>\n",
       "      <td>Norfolk, VA: Norfolk International</td>\n",
       "      <td>2</td>\n",
       "      <td>OK</td>\n",
       "    </tr>\n",
       "    <tr>\n",
       "      <th>2</th>\n",
       "      <td>2</td>\n",
       "      <td>Palm Beach International Airport (PBI), 1000 J...</td>\n",
       "      <td>26.685747</td>\n",
       "      <td>-80.092816</td>\n",
       "      <td>ROOFTOP</td>\n",
       "      <td>ChIJQVRfVivW2IgRvnZRhc5s4N8</td>\n",
       "      <td>airport,establishment,point_of_interest</td>\n",
       "      <td>33415.0</td>\n",
       "      <td>West Palm Beach/Palm Beach, FL: Palm Beach Int...</td>\n",
       "      <td>1</td>\n",
       "      <td>OK</td>\n",
       "    </tr>\n",
       "    <tr>\n",
       "      <th>3</th>\n",
       "      <td>3</td>\n",
       "      <td>1940 N Victory Blvd, Portland, OR 97217, USA</td>\n",
       "      <td>45.593085</td>\n",
       "      <td>-122.688131</td>\n",
       "      <td>ROOFTOP</td>\n",
       "      <td>ChIJG0Zh9dKnlVQRhamn45i9bVs</td>\n",
       "      <td>establishment,point_of_interest</td>\n",
       "      <td>97217.0</td>\n",
       "      <td>Portland, OR: Portland International</td>\n",
       "      <td>1</td>\n",
       "      <td>OK</td>\n",
       "    </tr>\n",
       "    <tr>\n",
       "      <th>4</th>\n",
       "      <td>4</td>\n",
       "      <td>Philadelphia International Airport (PHL), 8000...</td>\n",
       "      <td>39.874396</td>\n",
       "      <td>-75.242423</td>\n",
       "      <td>ROOFTOP</td>\n",
       "      <td>ChIJL4OpYGbExokR2NM3RpQVLj4</td>\n",
       "      <td>airport,establishment,point_of_interest</td>\n",
       "      <td>19153.0</td>\n",
       "      <td>Philadelphia, PA: Philadelphia International</td>\n",
       "      <td>1</td>\n",
       "      <td>OK</td>\n",
       "    </tr>\n",
       "  </tbody>\n",
       "</table>\n",
       "</div>"
      ],
      "text/plain": [
       "   Unnamed: 0                                  formatted_address   latitude  \\\n",
       "0           0  Ontario International Airport (ONT), Ontario, ...  34.055978   \n",
       "1           1  Norfolk International Airport (ORF), 2200 Norv...  36.895684   \n",
       "2           2  Palm Beach International Airport (PBI), 1000 J...  26.685747   \n",
       "3           3       1940 N Victory Blvd, Portland, OR 97217, USA  45.593085   \n",
       "4           4  Philadelphia International Airport (PHL), 8000...  39.874396   \n",
       "\n",
       "    longitude          accuracy              google_place_id  \\\n",
       "0 -117.598057  GEOMETRIC_CENTER  ChIJp9TPWvw0w4ARO1JZyBbtxJ8   \n",
       "1  -76.200016           ROOFTOP  ChIJOd96j8OWuokR5l3A1KtPtKg   \n",
       "2  -80.092816           ROOFTOP  ChIJQVRfVivW2IgRvnZRhc5s4N8   \n",
       "3 -122.688131           ROOFTOP  ChIJG0Zh9dKnlVQRhamn45i9bVs   \n",
       "4  -75.242423           ROOFTOP  ChIJL4OpYGbExokR2NM3RpQVLj4   \n",
       "\n",
       "                                      type  postcode  \\\n",
       "0  airport,establishment,point_of_interest   91761.0   \n",
       "1  airport,establishment,point_of_interest   23518.0   \n",
       "2  airport,establishment,point_of_interest   33415.0   \n",
       "3          establishment,point_of_interest   97217.0   \n",
       "4  airport,establishment,point_of_interest   19153.0   \n",
       "\n",
       "                                        input_string  number_of_results status  \n",
       "0                 Ontario, CA: Ontario International                  1     OK  \n",
       "1                 Norfolk, VA: Norfolk International                  2     OK  \n",
       "2  West Palm Beach/Palm Beach, FL: Palm Beach Int...                  1     OK  \n",
       "3               Portland, OR: Portland International                  1     OK  \n",
       "4       Philadelphia, PA: Philadelphia International                  1     OK  "
      ]
     },
     "execution_count": 58,
     "metadata": {},
     "output_type": "execute_result"
    }
   ],
   "source": [
    "pos.head()"
   ]
  },
  {
   "cell_type": "markdown",
   "metadata": {},
   "source": [
    "The pos dataframe does not contain ORIGIN_airport_id. We need this to map the rows."
   ]
  },
  {
   "cell_type": "code",
   "execution_count": 59,
   "metadata": {},
   "outputs": [],
   "source": [
    "pos=pos.rename(index =str, columns={\"input_string\":\"Address\"})"
   ]
  },
  {
   "cell_type": "code",
   "execution_count": 60,
   "metadata": {},
   "outputs": [],
   "source": [
    "positions = pd.merge(pos,long_lat_frm_add,how ='left',on=['Address'])"
   ]
  },
  {
   "cell_type": "code",
   "execution_count": 61,
   "metadata": {},
   "outputs": [
    {
     "data": {
      "text/html": [
       "<div>\n",
       "<style scoped>\n",
       "    .dataframe tbody tr th:only-of-type {\n",
       "        vertical-align: middle;\n",
       "    }\n",
       "\n",
       "    .dataframe tbody tr th {\n",
       "        vertical-align: top;\n",
       "    }\n",
       "\n",
       "    .dataframe thead th {\n",
       "        text-align: right;\n",
       "    }\n",
       "</style>\n",
       "<table border=\"1\" class=\"dataframe\">\n",
       "  <thead>\n",
       "    <tr style=\"text-align: right;\">\n",
       "      <th></th>\n",
       "      <th>Unnamed: 0</th>\n",
       "      <th>formatted_address</th>\n",
       "      <th>latitude</th>\n",
       "      <th>longitude</th>\n",
       "      <th>accuracy</th>\n",
       "      <th>google_place_id</th>\n",
       "      <th>type</th>\n",
       "      <th>postcode</th>\n",
       "      <th>Address</th>\n",
       "      <th>number_of_results</th>\n",
       "      <th>status</th>\n",
       "      <th>ORIGIN_AIRPORT_ID</th>\n",
       "    </tr>\n",
       "  </thead>\n",
       "  <tbody>\n",
       "    <tr>\n",
       "      <th>0</th>\n",
       "      <td>0</td>\n",
       "      <td>Ontario International Airport (ONT), Ontario, ...</td>\n",
       "      <td>34.055978</td>\n",
       "      <td>-117.598057</td>\n",
       "      <td>GEOMETRIC_CENTER</td>\n",
       "      <td>ChIJp9TPWvw0w4ARO1JZyBbtxJ8</td>\n",
       "      <td>airport,establishment,point_of_interest</td>\n",
       "      <td>91761.0</td>\n",
       "      <td>Ontario, CA: Ontario International</td>\n",
       "      <td>1</td>\n",
       "      <td>OK</td>\n",
       "      <td>13891</td>\n",
       "    </tr>\n",
       "    <tr>\n",
       "      <th>1</th>\n",
       "      <td>1</td>\n",
       "      <td>Norfolk International Airport (ORF), 2200 Norv...</td>\n",
       "      <td>36.895684</td>\n",
       "      <td>-76.200016</td>\n",
       "      <td>ROOFTOP</td>\n",
       "      <td>ChIJOd96j8OWuokR5l3A1KtPtKg</td>\n",
       "      <td>airport,establishment,point_of_interest</td>\n",
       "      <td>23518.0</td>\n",
       "      <td>Norfolk, VA: Norfolk International</td>\n",
       "      <td>2</td>\n",
       "      <td>OK</td>\n",
       "      <td>13931</td>\n",
       "    </tr>\n",
       "    <tr>\n",
       "      <th>2</th>\n",
       "      <td>2</td>\n",
       "      <td>Palm Beach International Airport (PBI), 1000 J...</td>\n",
       "      <td>26.685747</td>\n",
       "      <td>-80.092816</td>\n",
       "      <td>ROOFTOP</td>\n",
       "      <td>ChIJQVRfVivW2IgRvnZRhc5s4N8</td>\n",
       "      <td>airport,establishment,point_of_interest</td>\n",
       "      <td>33415.0</td>\n",
       "      <td>West Palm Beach/Palm Beach, FL: Palm Beach Int...</td>\n",
       "      <td>1</td>\n",
       "      <td>OK</td>\n",
       "      <td>14027</td>\n",
       "    </tr>\n",
       "    <tr>\n",
       "      <th>3</th>\n",
       "      <td>3</td>\n",
       "      <td>1940 N Victory Blvd, Portland, OR 97217, USA</td>\n",
       "      <td>45.593085</td>\n",
       "      <td>-122.688131</td>\n",
       "      <td>ROOFTOP</td>\n",
       "      <td>ChIJG0Zh9dKnlVQRhamn45i9bVs</td>\n",
       "      <td>establishment,point_of_interest</td>\n",
       "      <td>97217.0</td>\n",
       "      <td>Portland, OR: Portland International</td>\n",
       "      <td>1</td>\n",
       "      <td>OK</td>\n",
       "      <td>14057</td>\n",
       "    </tr>\n",
       "    <tr>\n",
       "      <th>4</th>\n",
       "      <td>4</td>\n",
       "      <td>Philadelphia International Airport (PHL), 8000...</td>\n",
       "      <td>39.874396</td>\n",
       "      <td>-75.242423</td>\n",
       "      <td>ROOFTOP</td>\n",
       "      <td>ChIJL4OpYGbExokR2NM3RpQVLj4</td>\n",
       "      <td>airport,establishment,point_of_interest</td>\n",
       "      <td>19153.0</td>\n",
       "      <td>Philadelphia, PA: Philadelphia International</td>\n",
       "      <td>1</td>\n",
       "      <td>OK</td>\n",
       "      <td>14100</td>\n",
       "    </tr>\n",
       "  </tbody>\n",
       "</table>\n",
       "</div>"
      ],
      "text/plain": [
       "   Unnamed: 0                                  formatted_address   latitude  \\\n",
       "0           0  Ontario International Airport (ONT), Ontario, ...  34.055978   \n",
       "1           1  Norfolk International Airport (ORF), 2200 Norv...  36.895684   \n",
       "2           2  Palm Beach International Airport (PBI), 1000 J...  26.685747   \n",
       "3           3       1940 N Victory Blvd, Portland, OR 97217, USA  45.593085   \n",
       "4           4  Philadelphia International Airport (PHL), 8000...  39.874396   \n",
       "\n",
       "    longitude          accuracy              google_place_id  \\\n",
       "0 -117.598057  GEOMETRIC_CENTER  ChIJp9TPWvw0w4ARO1JZyBbtxJ8   \n",
       "1  -76.200016           ROOFTOP  ChIJOd96j8OWuokR5l3A1KtPtKg   \n",
       "2  -80.092816           ROOFTOP  ChIJQVRfVivW2IgRvnZRhc5s4N8   \n",
       "3 -122.688131           ROOFTOP  ChIJG0Zh9dKnlVQRhamn45i9bVs   \n",
       "4  -75.242423           ROOFTOP  ChIJL4OpYGbExokR2NM3RpQVLj4   \n",
       "\n",
       "                                      type  postcode  \\\n",
       "0  airport,establishment,point_of_interest   91761.0   \n",
       "1  airport,establishment,point_of_interest   23518.0   \n",
       "2  airport,establishment,point_of_interest   33415.0   \n",
       "3          establishment,point_of_interest   97217.0   \n",
       "4  airport,establishment,point_of_interest   19153.0   \n",
       "\n",
       "                                             Address  number_of_results  \\\n",
       "0                 Ontario, CA: Ontario International                  1   \n",
       "1                 Norfolk, VA: Norfolk International                  2   \n",
       "2  West Palm Beach/Palm Beach, FL: Palm Beach Int...                  1   \n",
       "3               Portland, OR: Portland International                  1   \n",
       "4       Philadelphia, PA: Philadelphia International                  1   \n",
       "\n",
       "  status  ORIGIN_AIRPORT_ID  \n",
       "0     OK              13891  \n",
       "1     OK              13931  \n",
       "2     OK              14027  \n",
       "3     OK              14057  \n",
       "4     OK              14100  "
      ]
     },
     "execution_count": 61,
     "metadata": {},
     "output_type": "execute_result"
    }
   ],
   "source": [
    "positions.head()"
   ]
  },
  {
   "cell_type": "code",
   "execution_count": 62,
   "metadata": {},
   "outputs": [
    {
     "name": "stdout",
     "output_type": "stream",
     "text": [
      "CPU times: user 567 ms, sys: 151 ms, total: 719 ms\n",
      "Wall time: 725 ms\n"
     ]
    }
   ],
   "source": [
    "#Merge the df_origin with data on ORIGIN_AIRPORT_ID\n",
    "%time data_full=pd.merge(data_full,positions, how ='left', on=['ORIGIN_AIRPORT_ID'])"
   ]
  },
  {
   "cell_type": "code",
   "execution_count": 64,
   "metadata": {},
   "outputs": [
    {
     "data": {
      "text/plain": [
       "<AxesSubplot:xlabel='longitude', ylabel='latitude'>"
      ]
     },
     "execution_count": 64,
     "metadata": {},
     "output_type": "execute_result"
    },
    {
     "data": {
      "image/png": "[encoded data removed]",
      "text/plain": [
       "<Figure size 432x288 with 1 Axes>"
      ]
     },
     "metadata": {
      "needs_background": "light"
     },
     "output_type": "display_data"
    }
   ],
   "source": [
    "data_full.plot(kind='scatter', x='longitude',y='latitude',color='red')"
   ]
  },
  {
   "cell_type": "code",
   "execution_count": 65,
   "metadata": {},
   "outputs": [
    {
     "data": {
      "text/plain": [
       "Index(['OP_UNIQUE_CARRIER', 'DEP_DELAY2', 'ORIGIN_AIRPORT_ID',\n",
       "       'ORIGIN_AIRPORT_SEQ_ID', 'ORIGIN_CITY_MARKET_ID', 'ORIGIN',\n",
       "       'ORIGIN_CITY_NAME', 'ORIGIN_STATE_ABR', 'ORIGIN_STATE_FIPS',\n",
       "       'ORIGIN_STATE_NM', 'DEST_AIRPORT_ID', 'CRS_DEP_TIME', 'DEP_TIME',\n",
       "       'DEP_DELAY', 'ARR_DELAY', 'CANCELLED', 'FLIGHTS', 'DISTANCE',\n",
       "       'CARRIER_DELAY', 'WEATHER_DELAY', 'NAS_DELAY', 'SECURITY_DELAY',\n",
       "       'LATE_AIRCRAFT_DELAY', 'FIRST_DEP_TIME', 'FL_DATEYear', 'FL_DATEMonth',\n",
       "       'FL_DATEWeek', 'FL_DATEDay', 'FL_DATEDayofweek', 'FL_DATEDayofyear',\n",
       "       'FL_DATEIs_month_end', 'FL_DATEIs_month_start', 'FL_DATEIs_quarter_end',\n",
       "       'FL_DATEIs_quarter_start', 'FL_DATEIs_year_end', 'FL_DATEIs_year_start',\n",
       "       'FL_DATEElapsed', 'Description', 'Unnamed: 0', 'formatted_address',\n",
       "       'latitude', 'longitude', 'accuracy', 'google_place_id', 'type',\n",
       "       'postcode', 'Address', 'number_of_results', 'status'],\n",
       "      dtype='object')"
      ]
     },
     "execution_count": 65,
     "metadata": {},
     "output_type": "execute_result"
    }
   ],
   "source": [
    "data_full.columns"
   ]
  },
  {
   "cell_type": "code",
   "execution_count": 66,
   "metadata": {},
   "outputs": [
    {
     "data": {
      "text/html": [
       "<div>\n",
       "<style scoped>\n",
       "    .dataframe tbody tr th:only-of-type {\n",
       "        vertical-align: middle;\n",
       "    }\n",
       "\n",
       "    .dataframe tbody tr th {\n",
       "        vertical-align: top;\n",
       "    }\n",
       "\n",
       "    .dataframe thead th {\n",
       "        text-align: right;\n",
       "    }\n",
       "</style>\n",
       "<table border=\"1\" class=\"dataframe\">\n",
       "  <thead>\n",
       "    <tr style=\"text-align: right;\">\n",
       "      <th></th>\n",
       "      <th></th>\n",
       "      <th>DEP_DELAY2</th>\n",
       "    </tr>\n",
       "    <tr>\n",
       "      <th>ORIGIN_AIRPORT_ID</th>\n",
       "      <th>OP_UNIQUE_CARRIER</th>\n",
       "      <th></th>\n",
       "    </tr>\n",
       "  </thead>\n",
       "  <tbody>\n",
       "    <tr>\n",
       "      <th rowspan=\"6\" valign=\"top\">10135</th>\n",
       "      <th>9E</th>\n",
       "      <td>503.0</td>\n",
       "    </tr>\n",
       "    <tr>\n",
       "      <th>DL</th>\n",
       "      <td>364.0</td>\n",
       "    </tr>\n",
       "    <tr>\n",
       "      <th>G4</th>\n",
       "      <td>2239.0</td>\n",
       "    </tr>\n",
       "    <tr>\n",
       "      <th>MQ</th>\n",
       "      <td>574.0</td>\n",
       "    </tr>\n",
       "    <tr>\n",
       "      <th>OH</th>\n",
       "      <td>1274.0</td>\n",
       "    </tr>\n",
       "    <tr>\n",
       "      <th>OO</th>\n",
       "      <td>1296.0</td>\n",
       "    </tr>\n",
       "    <tr>\n",
       "      <th>10136</th>\n",
       "      <th>MQ</th>\n",
       "      <td>3029.0</td>\n",
       "    </tr>\n",
       "    <tr>\n",
       "      <th rowspan=\"3\" valign=\"top\">10140</th>\n",
       "      <th>AA</th>\n",
       "      <td>2641.0</td>\n",
       "    </tr>\n",
       "    <tr>\n",
       "      <th>AS</th>\n",
       "      <td>156.0</td>\n",
       "    </tr>\n",
       "    <tr>\n",
       "      <th>B6</th>\n",
       "      <td>236.0</td>\n",
       "    </tr>\n",
       "  </tbody>\n",
       "</table>\n",
       "</div>"
      ],
      "text/plain": [
       "                                     DEP_DELAY2\n",
       "ORIGIN_AIRPORT_ID OP_UNIQUE_CARRIER            \n",
       "10135             9E                      503.0\n",
       "                  DL                      364.0\n",
       "                  G4                     2239.0\n",
       "                  MQ                      574.0\n",
       "                  OH                     1274.0\n",
       "                  OO                     1296.0\n",
       "10136             MQ                     3029.0\n",
       "10140             AA                     2641.0\n",
       "                  AS                      156.0\n",
       "                  B6                      236.0"
      ]
     },
     "execution_count": 66,
     "metadata": {},
     "output_type": "execute_result"
    }
   ],
   "source": [
    "#Add the total delays to get total delays at an airport\n",
    "group_by_airport=data_full[[\"ORIGIN_AIRPORT_ID\",\"OP_UNIQUE_CARRIER\",\"DEP_DELAY2\"]].\\\n",
    "                groupby([\"ORIGIN_AIRPORT_ID\",\"OP_UNIQUE_CARRIER\"]).sum()\n",
    "group_by_airport.head(10)"
   ]
  },
  {
   "cell_type": "code",
   "execution_count": 67,
   "metadata": {},
   "outputs": [
    {
     "name": "stdout",
     "output_type": "stream",
     "text": [
      "dict_keys([10136, 10141, 10146, 10155, 10157, 10158, 10165, 10170, 10185, 10208, 10268, 10299, 10333, 10372, 10409, 10466, 10469, 10551, 10558, 10561, 10562, 10577, 10581, 10627, 10631, 10666, 10676, 10728, 10731, 10732, 10739, 10747, 10754, 10779, 10918, 10926, 10967, 11013, 11027, 11049, 11067, 11076, 11092, 11097, 11111, 11122, 11150, 11203, 11233, 11252, 11259, 11274, 11308, 11337, 11413, 11415, 11447, 11468, 11471, 11503, 11525, 11537, 11577, 11587, 11603, 11617, 11630, 11641, 11648, 11695, 11778, 11823, 11865, 11867, 11898, 11905, 11921, 11980, 11982, 12003, 12007, 12012, 12016, 12119, 12124, 12129, 12156, 12177, 12223, 12244, 12255, 12265, 12280, 12335, 12343, 12391, 12397, 12402, 12441, 12511, 12519, 12523, 12544, 12819, 12888, 12891, 12898, 12899, 12902, 12915, 12917, 13029, 13061, 13076, 13121, 13127, 13139, 13184, 13232, 13241, 13264, 13290, 13344, 13360, 13377, 13388, 13433, 13459, 13476, 13795, 13829, 13832, 13873, 13933, 13964, 13970, 13983, 14004, 14006, 14025, 14082, 14098, 14109, 14112, 14113, 14120, 14150, 14222, 14237, 14252, 14254, 14256, 14259, 14288, 14314, 14487, 14489, 14512, 14520, 14534, 14543, 14588, 14633, 14674, 14696, 14698, 14709, 14711, 14716, 14761, 14794, 14802, 14812, 14828, 14842, 14877, 14905, 14952, 14955, 14960, 15008, 15023, 15027, 15041, 15048, 15070, 15074, 15295, 15356, 15389, 15401, 15411, 15454, 15582, 15607, 15841, 15991, 16218, 16869])\n"
     ]
    }
   ],
   "source": [
    "## Count number of airlines per airport\n",
    "ncar=group_by_airport.reset_index().groupby('ORIGIN_AIRPORT_ID')['OP_UNIQUE_CARRIER'].nunique() \n",
    "ncar.items()\n",
    "#Get the name of airports with less than 5 airlines\n",
    "d = dict((k, v) for k, v in ncar.items() if v < 5) \n",
    "# Put it here, This is a dictionary \n",
    "s=d.keys() \n",
    "print(s)"
   ]
  },
  {
   "cell_type": "code",
   "execution_count": 68,
   "metadata": {},
   "outputs": [
    {
     "name": "stdout",
     "output_type": "stream",
     "text": [
      "<class 'pandas.core.frame.DataFrame'>\n",
      "Int64Index: 558169 entries, 0 to 599917\n",
      "Data columns (total 49 columns):\n",
      " #   Column                   Non-Null Count   Dtype  \n",
      "---  ------                   --------------   -----  \n",
      " 0   OP_UNIQUE_CARRIER        558169 non-null  object \n",
      " 1   DEP_DELAY2               558169 non-null  float64\n",
      " 2   ORIGIN_AIRPORT_ID        558169 non-null  int64  \n",
      " 3   ORIGIN_AIRPORT_SEQ_ID    558169 non-null  int64  \n",
      " 4   ORIGIN_CITY_MARKET_ID    558169 non-null  int64  \n",
      " 5   ORIGIN                   558169 non-null  object \n",
      " 6   ORIGIN_CITY_NAME         558169 non-null  object \n",
      " 7   ORIGIN_STATE_ABR         558169 non-null  object \n",
      " 8   ORIGIN_STATE_FIPS        558169 non-null  int64  \n",
      " 9   ORIGIN_STATE_NM          558169 non-null  object \n",
      " 10  DEST_AIRPORT_ID          558169 non-null  int64  \n",
      " 11  CRS_DEP_TIME             558169 non-null  int64  \n",
      " 12  DEP_TIME                 558169 non-null  float64\n",
      " 13  DEP_DELAY                558169 non-null  float64\n",
      " 14  ARR_DELAY                558169 non-null  float64\n",
      " 15  CANCELLED                558169 non-null  float64\n",
      " 16  FLIGHTS                  558169 non-null  float64\n",
      " 17  DISTANCE                 558169 non-null  float64\n",
      " 18  CARRIER_DELAY            75438 non-null   float64\n",
      " 19  WEATHER_DELAY            75438 non-null   float64\n",
      " 20  NAS_DELAY                75438 non-null   float64\n",
      " 21  SECURITY_DELAY           75438 non-null   float64\n",
      " 22  LATE_AIRCRAFT_DELAY      75438 non-null   float64\n",
      " 23  FIRST_DEP_TIME           3235 non-null    float64\n",
      " 24  FL_DATEYear              558169 non-null  int64  \n",
      " 25  FL_DATEMonth             558169 non-null  int64  \n",
      " 26  FL_DATEWeek              558169 non-null  int64  \n",
      " 27  FL_DATEDay               558169 non-null  int64  \n",
      " 28  FL_DATEDayofweek         558169 non-null  int64  \n",
      " 29  FL_DATEDayofyear         558169 non-null  int64  \n",
      " 30  FL_DATEIs_month_end      558169 non-null  bool   \n",
      " 31  FL_DATEIs_month_start    558169 non-null  bool   \n",
      " 32  FL_DATEIs_quarter_end    558169 non-null  bool   \n",
      " 33  FL_DATEIs_quarter_start  558169 non-null  bool   \n",
      " 34  FL_DATEIs_year_end       558169 non-null  bool   \n",
      " 35  FL_DATEIs_year_start     558169 non-null  bool   \n",
      " 36  FL_DATEElapsed           558169 non-null  int64  \n",
      " 37  Description              558169 non-null  object \n",
      " 38  Unnamed: 0               558169 non-null  int64  \n",
      " 39  formatted_address        558169 non-null  object \n",
      " 40  latitude                 558169 non-null  float64\n",
      " 41  longitude                558169 non-null  float64\n",
      " 42  accuracy                 558169 non-null  object \n",
      " 43  google_place_id          558169 non-null  object \n",
      " 44  type                     558169 non-null  object \n",
      " 45  postcode                 539732 non-null  float64\n",
      " 46  Address                  558169 non-null  object \n",
      " 47  number_of_results        558169 non-null  int64  \n",
      " 48  status                   558169 non-null  object \n",
      "dtypes: bool(6), float64(16), int64(15), object(12)\n",
      "memory usage: 190.6+ MB\n"
     ]
    },
    {
     "data": {
      "image/png": "[encoded data removed]",
      "text/plain": [
       "<Figure size 432x288 with 1 Axes>"
      ]
     },
     "metadata": {
      "needs_background": "light"
     },
     "output_type": "display_data"
    }
   ],
   "source": [
    "#Remove rows that are in the dictionary s\n",
    "df_mod6=data_full[~data_full['ORIGIN_AIRPORT_ID'].isin(s)] \n",
    "#df[~df['title'].isin(to_drop)]\n",
    "df_mod6.tail()\n",
    "testdata=df_mod6.reset_index().groupby('ORIGIN_AIRPORT_ID')['OP_UNIQUE_CARRIER'].nunique()\n",
    "#Plot to see if this make sense\n",
    "testdata.plot(kind='line')\n",
    "data1=df_mod6\n",
    "data1.info()"
   ]
  },
  {
   "cell_type": "code",
   "execution_count": 69,
   "metadata": {},
   "outputs": [
    {
     "data": {
      "text/plain": [
       "<AxesSubplot:xlabel='OP_UNIQUE_CARRIER'>"
      ]
     },
     "execution_count": 69,
     "metadata": {},
     "output_type": "execute_result"
    },
    {
     "data": {
      "image/png": "[encoded data removed]",
      "text/plain": [
       "<Figure size 432x288 with 1 Axes>"
      ]
     },
     "metadata": {
      "needs_background": "light"
     },
     "output_type": "display_data"
    }
   ],
   "source": [
    "#How many flights that are delayed\n",
    "group_by_delayed_fight=data1[data1.DEP_DELAY>30.0] # These flights have more than 30 delay\n",
    "total_delay_per_Air=group_by_delayed_fight[[\"OP_UNIQUE_CARRIER\",\"DEP_DELAY2\"]].groupby('OP_UNIQUE_CARRIER').size()\n",
    "total_delay_per_Air.plot(kind='bar') "
   ]
  },
  {
   "cell_type": "code",
   "execution_count": 70,
   "metadata": {},
   "outputs": [
    {
     "data": {
      "text/plain": [
       "<AxesSubplot:xlabel='OP_UNIQUE_CARRIER'>"
      ]
     },
     "execution_count": 70,
     "metadata": {},
     "output_type": "execute_result"
    },
    {
     "data": {
      "image/png": "[encoded data removed]",
      "text/plain": [
       "<Figure size 432x288 with 1 Axes>"
      ]
     },
     "metadata": {
      "needs_background": "light"
     },
     "output_type": "display_data"
    }
   ],
   "source": [
    "#Fraction of total flights per airline that are delayed\n",
    "group_by_flight=data1[[\"OP_UNIQUE_CARRIER\",\"DEP_DELAY2\"]].groupby('OP_UNIQUE_CARRIER').size()\n",
    "#print(group_by_flight)\n",
    "# Get the fraction of delayed fligts\n",
    "frac_delay_per_Air=total_delay_per_Air/group_by_flight\n",
    "frac_delay_per_Air.plot(kind='bar')"
   ]
  },
  {
   "cell_type": "code",
   "execution_count": 71,
   "metadata": {},
   "outputs": [
    {
     "data": {
      "text/plain": [
       "<AxesSubplot:xlabel='OP_UNIQUE_CARRIER'>"
      ]
     },
     "execution_count": 71,
     "metadata": {},
     "output_type": "execute_result"
    },
    {
     "data": {
      "image/png": "[encoded data removed]",
      "text/plain": [
       "<Figure size 432x288 with 1 Axes>"
      ]
     },
     "metadata": {
      "needs_background": "light"
     },
     "output_type": "display_data"
    }
   ],
   "source": [
    "#Rank the delayed flights visually\n",
    "s_frac=frac_delay_per_Air.sort_values(axis=0, ascending=True)\n",
    "s_frac.plot(kind='bar') # This gives which airlines have most delays. "
   ]
  },
  {
   "cell_type": "code",
   "execution_count": 72,
   "metadata": {},
   "outputs": [
    {
     "data": {
      "text/plain": [
       "ORIGIN_AIRPORT_ID  OP_UNIQUE_CARRIER\n",
       "10135              9E                    298.0\n",
       "                   DL                    266.0\n",
       "                   G4                   1741.0\n",
       "                   MQ                    460.0\n",
       "                   OH                    864.0\n",
       "                                         ...  \n",
       "15919              MQ                    859.0\n",
       "                   OH                     -4.0\n",
       "                   OO                   1194.0\n",
       "                   YV                    102.0\n",
       "                   YX                    434.0\n",
       "Name: DEP_DELAY, Length: 1458, dtype: float64"
      ]
     },
     "execution_count": 72,
     "metadata": {},
     "output_type": "execute_result"
    }
   ],
   "source": [
    "group_by_airport=data1[[\"ORIGIN_AIRPORT_ID\",\"OP_UNIQUE_CARRIER\",\"DEP_DELAY\"]].groupby([\"ORIGIN_AIRPORT_ID\",\"OP_UNIQUE_CARRIER\"]).sum()\n",
    "group_by_airport['DEP_DELAY']"
   ]
  },
  {
   "cell_type": "code",
   "execution_count": 73,
   "metadata": {},
   "outputs": [
    {
     "data": {
      "text/html": [
       "<div>\n",
       "<style scoped>\n",
       "    .dataframe tbody tr th:only-of-type {\n",
       "        vertical-align: middle;\n",
       "    }\n",
       "\n",
       "    .dataframe tbody tr th {\n",
       "        vertical-align: top;\n",
       "    }\n",
       "\n",
       "    .dataframe thead th {\n",
       "        text-align: right;\n",
       "    }\n",
       "</style>\n",
       "<table border=\"1\" class=\"dataframe\">\n",
       "  <thead>\n",
       "    <tr style=\"text-align: right;\">\n",
       "      <th></th>\n",
       "      <th></th>\n",
       "      <th>DEP_DELAY</th>\n",
       "    </tr>\n",
       "    <tr>\n",
       "      <th>ORIGIN_AIRPORT_ID</th>\n",
       "      <th>OP_UNIQUE_CARRIER</th>\n",
       "      <th></th>\n",
       "    </tr>\n",
       "  </thead>\n",
       "  <tbody>\n",
       "    <tr>\n",
       "      <th rowspan=\"6\" valign=\"top\">10135</th>\n",
       "      <th>9E</th>\n",
       "      <td>298.0</td>\n",
       "    </tr>\n",
       "    <tr>\n",
       "      <th>DL</th>\n",
       "      <td>266.0</td>\n",
       "    </tr>\n",
       "    <tr>\n",
       "      <th>G4</th>\n",
       "      <td>1741.0</td>\n",
       "    </tr>\n",
       "    <tr>\n",
       "      <th>MQ</th>\n",
       "      <td>460.0</td>\n",
       "    </tr>\n",
       "    <tr>\n",
       "      <th>OH</th>\n",
       "      <td>864.0</td>\n",
       "    </tr>\n",
       "    <tr>\n",
       "      <th>OO</th>\n",
       "      <td>912.0</td>\n",
       "    </tr>\n",
       "    <tr>\n",
       "      <th rowspan=\"8\" valign=\"top\">10140</th>\n",
       "      <th>AA</th>\n",
       "      <td>1687.0</td>\n",
       "    </tr>\n",
       "    <tr>\n",
       "      <th>AS</th>\n",
       "      <td>34.0</td>\n",
       "    </tr>\n",
       "    <tr>\n",
       "      <th>B6</th>\n",
       "      <td>109.0</td>\n",
       "    </tr>\n",
       "    <tr>\n",
       "      <th>DL</th>\n",
       "      <td>-80.0</td>\n",
       "    </tr>\n",
       "    <tr>\n",
       "      <th>EV</th>\n",
       "      <td>-266.0</td>\n",
       "    </tr>\n",
       "    <tr>\n",
       "      <th>F9</th>\n",
       "      <td>-11.0</td>\n",
       "    </tr>\n",
       "    <tr>\n",
       "      <th>G4</th>\n",
       "      <td>272.0</td>\n",
       "    </tr>\n",
       "    <tr>\n",
       "      <th>MQ</th>\n",
       "      <td>20.0</td>\n",
       "    </tr>\n",
       "  </tbody>\n",
       "</table>\n",
       "</div>"
      ],
      "text/plain": [
       "                                     DEP_DELAY\n",
       "ORIGIN_AIRPORT_ID OP_UNIQUE_CARRIER           \n",
       "10135             9E                     298.0\n",
       "                  DL                     266.0\n",
       "                  G4                    1741.0\n",
       "                  MQ                     460.0\n",
       "                  OH                     864.0\n",
       "                  OO                     912.0\n",
       "10140             AA                    1687.0\n",
       "                  AS                      34.0\n",
       "                  B6                     109.0\n",
       "                  DL                     -80.0\n",
       "                  EV                    -266.0\n",
       "                  F9                     -11.0\n",
       "                  G4                     272.0\n",
       "                  MQ                      20.0"
      ]
     },
     "execution_count": 73,
     "metadata": {},
     "output_type": "execute_result"
    }
   ],
   "source": [
    "group_by_airport.head(14)"
   ]
  },
  {
   "cell_type": "code",
   "execution_count": 74,
   "metadata": {},
   "outputs": [
    {
     "data": {
      "text/plain": [
       "array([(10135, '9E'), (10135, 'DL'), (10135, 'G4'), ..., (15919, 'OO'), (15919, 'YV'), (15919, 'YX')],\n",
       "      dtype=object)"
      ]
     },
     "execution_count": 74,
     "metadata": {},
     "output_type": "execute_result"
    }
   ],
   "source": [
    "group_by_airport.index.values"
   ]
  },
  {
   "cell_type": "code",
   "execution_count": 75,
   "metadata": {},
   "outputs": [
    {
     "data": {
      "text/html": [
       "<div>\n",
       "<style scoped>\n",
       "    .dataframe tbody tr th:only-of-type {\n",
       "        vertical-align: middle;\n",
       "    }\n",
       "\n",
       "    .dataframe tbody tr th {\n",
       "        vertical-align: top;\n",
       "    }\n",
       "\n",
       "    .dataframe thead th {\n",
       "        text-align: right;\n",
       "    }\n",
       "</style>\n",
       "<table border=\"1\" class=\"dataframe\">\n",
       "  <thead>\n",
       "    <tr style=\"text-align: right;\">\n",
       "      <th></th>\n",
       "      <th>ORIGIN_AIRPORT_ID</th>\n",
       "      <th>Total_Airlines</th>\n",
       "    </tr>\n",
       "  </thead>\n",
       "  <tbody>\n",
       "    <tr>\n",
       "      <th>0</th>\n",
       "      <td>10135</td>\n",
       "      <td>6</td>\n",
       "    </tr>\n",
       "    <tr>\n",
       "      <th>1</th>\n",
       "      <td>10140</td>\n",
       "      <td>13</td>\n",
       "    </tr>\n",
       "    <tr>\n",
       "      <th>2</th>\n",
       "      <td>10257</td>\n",
       "      <td>12</td>\n",
       "    </tr>\n",
       "    <tr>\n",
       "      <th>3</th>\n",
       "      <td>10279</td>\n",
       "      <td>6</td>\n",
       "    </tr>\n",
       "    <tr>\n",
       "      <th>4</th>\n",
       "      <td>10397</td>\n",
       "      <td>15</td>\n",
       "    </tr>\n",
       "    <tr>\n",
       "      <th>...</th>\n",
       "      <td>...</td>\n",
       "      <td>...</td>\n",
       "    </tr>\n",
       "    <tr>\n",
       "      <th>147</th>\n",
       "      <td>15376</td>\n",
       "      <td>11</td>\n",
       "    </tr>\n",
       "    <tr>\n",
       "      <th>148</th>\n",
       "      <td>15380</td>\n",
       "      <td>7</td>\n",
       "    </tr>\n",
       "    <tr>\n",
       "      <th>149</th>\n",
       "      <td>15412</td>\n",
       "      <td>10</td>\n",
       "    </tr>\n",
       "    <tr>\n",
       "      <th>150</th>\n",
       "      <td>15624</td>\n",
       "      <td>8</td>\n",
       "    </tr>\n",
       "    <tr>\n",
       "      <th>151</th>\n",
       "      <td>15919</td>\n",
       "      <td>11</td>\n",
       "    </tr>\n",
       "  </tbody>\n",
       "</table>\n",
       "<p>152 rows × 2 columns</p>\n",
       "</div>"
      ],
      "text/plain": [
       "     ORIGIN_AIRPORT_ID  Total_Airlines\n",
       "0                10135               6\n",
       "1                10140              13\n",
       "2                10257              12\n",
       "3                10279               6\n",
       "4                10397              15\n",
       "..                 ...             ...\n",
       "147              15376              11\n",
       "148              15380               7\n",
       "149              15412              10\n",
       "150              15624               8\n",
       "151              15919              11\n",
       "\n",
       "[152 rows x 2 columns]"
      ]
     },
     "execution_count": 75,
     "metadata": {},
     "output_type": "execute_result"
    }
   ],
   "source": [
    "group_by_airport3=group_by_airport.groupby(level=0).size().reset_index(name='Total_Airlines')\n",
    "group_by_airport3"
   ]
  },
  {
   "cell_type": "code",
   "execution_count": 76,
   "metadata": {},
   "outputs": [
    {
     "data": {
      "text/html": [
       "<div>\n",
       "<style scoped>\n",
       "    .dataframe tbody tr th:only-of-type {\n",
       "        vertical-align: middle;\n",
       "    }\n",
       "\n",
       "    .dataframe tbody tr th {\n",
       "        vertical-align: top;\n",
       "    }\n",
       "\n",
       "    .dataframe thead th {\n",
       "        text-align: right;\n",
       "    }\n",
       "</style>\n",
       "<table border=\"1\" class=\"dataframe\">\n",
       "  <thead>\n",
       "    <tr style=\"text-align: right;\">\n",
       "      <th></th>\n",
       "      <th>ORIGIN_AIRPORT_ID</th>\n",
       "      <th>DEP_DELAY2</th>\n",
       "    </tr>\n",
       "  </thead>\n",
       "  <tbody>\n",
       "    <tr>\n",
       "      <th>0</th>\n",
       "      <td>10135</td>\n",
       "      <td>6250.0</td>\n",
       "    </tr>\n",
       "    <tr>\n",
       "      <th>1</th>\n",
       "      <td>10140</td>\n",
       "      <td>12421.0</td>\n",
       "    </tr>\n",
       "    <tr>\n",
       "      <th>2</th>\n",
       "      <td>10257</td>\n",
       "      <td>7539.0</td>\n",
       "    </tr>\n",
       "    <tr>\n",
       "      <th>3</th>\n",
       "      <td>10279</td>\n",
       "      <td>2938.0</td>\n",
       "    </tr>\n",
       "    <tr>\n",
       "      <th>4</th>\n",
       "      <td>10397</td>\n",
       "      <td>211210.0</td>\n",
       "    </tr>\n",
       "  </tbody>\n",
       "</table>\n",
       "</div>"
      ],
      "text/plain": [
       "   ORIGIN_AIRPORT_ID  DEP_DELAY2\n",
       "0              10135      6250.0\n",
       "1              10140     12421.0\n",
       "2              10257      7539.0\n",
       "3              10279      2938.0\n",
       "4              10397    211210.0"
      ]
     },
     "execution_count": 76,
     "metadata": {},
     "output_type": "execute_result"
    }
   ],
   "source": [
    "group_by_airport4=data1[[\"ORIGIN_AIRPORT_ID\",\"DEP_DELAY2\"]].groupby([\"ORIGIN_AIRPORT_ID\"],as_index=False).sum()\n",
    "group_by_airport4.head()"
   ]
  },
  {
   "cell_type": "code",
   "execution_count": 77,
   "metadata": {},
   "outputs": [],
   "source": [
    "data_for_plot = pd.merge(group_by_airport4,group_by_airport3,how='left',on='ORIGIN_AIRPORT_ID')"
   ]
  },
  {
   "cell_type": "code",
   "execution_count": 78,
   "metadata": {},
   "outputs": [
    {
     "data": {
      "text/html": [
       "<div>\n",
       "<style scoped>\n",
       "    .dataframe tbody tr th:only-of-type {\n",
       "        vertical-align: middle;\n",
       "    }\n",
       "\n",
       "    .dataframe tbody tr th {\n",
       "        vertical-align: top;\n",
       "    }\n",
       "\n",
       "    .dataframe thead th {\n",
       "        text-align: right;\n",
       "    }\n",
       "</style>\n",
       "<table border=\"1\" class=\"dataframe\">\n",
       "  <thead>\n",
       "    <tr style=\"text-align: right;\">\n",
       "      <th></th>\n",
       "      <th>ORIGIN_AIRPORT_ID</th>\n",
       "      <th>DEP_DELAY2</th>\n",
       "      <th>Total_Airlines</th>\n",
       "    </tr>\n",
       "  </thead>\n",
       "  <tbody>\n",
       "    <tr>\n",
       "      <th>0</th>\n",
       "      <td>10135</td>\n",
       "      <td>6250.0</td>\n",
       "      <td>6</td>\n",
       "    </tr>\n",
       "    <tr>\n",
       "      <th>1</th>\n",
       "      <td>10140</td>\n",
       "      <td>12421.0</td>\n",
       "      <td>13</td>\n",
       "    </tr>\n",
       "    <tr>\n",
       "      <th>2</th>\n",
       "      <td>10257</td>\n",
       "      <td>7539.0</td>\n",
       "      <td>12</td>\n",
       "    </tr>\n",
       "    <tr>\n",
       "      <th>3</th>\n",
       "      <td>10279</td>\n",
       "      <td>2938.0</td>\n",
       "      <td>6</td>\n",
       "    </tr>\n",
       "    <tr>\n",
       "      <th>4</th>\n",
       "      <td>10397</td>\n",
       "      <td>211210.0</td>\n",
       "      <td>15</td>\n",
       "    </tr>\n",
       "  </tbody>\n",
       "</table>\n",
       "</div>"
      ],
      "text/plain": [
       "   ORIGIN_AIRPORT_ID  DEP_DELAY2  Total_Airlines\n",
       "0              10135      6250.0               6\n",
       "1              10140     12421.0              13\n",
       "2              10257      7539.0              12\n",
       "3              10279      2938.0               6\n",
       "4              10397    211210.0              15"
      ]
     },
     "execution_count": 78,
     "metadata": {},
     "output_type": "execute_result"
    }
   ],
   "source": [
    "data_for_plot.head()"
   ]
  },
  {
   "cell_type": "code",
   "execution_count": 79,
   "metadata": {},
   "outputs": [
    {
     "name": "stdout",
     "output_type": "stream",
     "text": [
      "CPU times: user 8.21 ms, sys: 2.01 ms, total: 10.2 ms\n",
      "Wall time: 9.04 ms\n"
     ]
    }
   ],
   "source": [
    "#Merge the df_origin with data on ORIGIN_AIRPORT_ID\n",
    "%time data_for_plot1=pd.merge(data_for_plot,positions, how ='left', on=['ORIGIN_AIRPORT_ID'])"
   ]
  },
  {
   "cell_type": "code",
   "execution_count": 80,
   "metadata": {},
   "outputs": [
    {
     "data": {
      "text/html": [
       "<div>\n",
       "<style scoped>\n",
       "    .dataframe tbody tr th:only-of-type {\n",
       "        vertical-align: middle;\n",
       "    }\n",
       "\n",
       "    .dataframe tbody tr th {\n",
       "        vertical-align: top;\n",
       "    }\n",
       "\n",
       "    .dataframe thead th {\n",
       "        text-align: right;\n",
       "    }\n",
       "</style>\n",
       "<table border=\"1\" class=\"dataframe\">\n",
       "  <thead>\n",
       "    <tr style=\"text-align: right;\">\n",
       "      <th></th>\n",
       "      <th>ORIGIN_AIRPORT_ID</th>\n",
       "      <th>DEP_DELAY2</th>\n",
       "      <th>Total_Airlines</th>\n",
       "      <th>Unnamed: 0</th>\n",
       "      <th>formatted_address</th>\n",
       "      <th>latitude</th>\n",
       "      <th>longitude</th>\n",
       "      <th>accuracy</th>\n",
       "      <th>google_place_id</th>\n",
       "      <th>type</th>\n",
       "      <th>postcode</th>\n",
       "      <th>Address</th>\n",
       "      <th>number_of_results</th>\n",
       "      <th>status</th>\n",
       "    </tr>\n",
       "  </thead>\n",
       "  <tbody>\n",
       "    <tr>\n",
       "      <th>0</th>\n",
       "      <td>10135</td>\n",
       "      <td>6250.0</td>\n",
       "      <td>6</td>\n",
       "      <td>122</td>\n",
       "      <td>Lehigh Valley International Airport (ABE), 331...</td>\n",
       "      <td>40.651646</td>\n",
       "      <td>-75.444096</td>\n",
       "      <td>ROOFTOP</td>\n",
       "      <td>ChIJ866awjQ_xIkRbKmwQiEHNgs</td>\n",
       "      <td>airport,establishment,point_of_interest</td>\n",
       "      <td>18109.0</td>\n",
       "      <td>Allentown/Bethlehem/Easton, PA: Lehigh Valley ...</td>\n",
       "      <td>1</td>\n",
       "      <td>OK</td>\n",
       "    </tr>\n",
       "    <tr>\n",
       "      <th>1</th>\n",
       "      <td>10140</td>\n",
       "      <td>12421.0</td>\n",
       "      <td>13</td>\n",
       "      <td>29</td>\n",
       "      <td>Albuquerque International Sunport (ABQ), 2200 ...</td>\n",
       "      <td>35.043333</td>\n",
       "      <td>-106.612909</td>\n",
       "      <td>ROOFTOP</td>\n",
       "      <td>ChIJD4986cMLIocRvC24j-l4RHM</td>\n",
       "      <td>airport,establishment,point_of_interest</td>\n",
       "      <td>87106.0</td>\n",
       "      <td>Albuquerque, NM: Albuquerque International Sun...</td>\n",
       "      <td>2</td>\n",
       "      <td>OK</td>\n",
       "    </tr>\n",
       "    <tr>\n",
       "      <th>2</th>\n",
       "      <td>10257</td>\n",
       "      <td>7539.0</td>\n",
       "      <td>12</td>\n",
       "      <td>30</td>\n",
       "      <td>Albany International Center, Albany, NY 12204,...</td>\n",
       "      <td>42.672859</td>\n",
       "      <td>-73.739897</td>\n",
       "      <td>GEOMETRIC_CENTER</td>\n",
       "      <td>ChIJgTzb6WQJ3okRXnfnlv5exIo</td>\n",
       "      <td>establishment,point_of_interest,transit_station</td>\n",
       "      <td>12204.0</td>\n",
       "      <td>Albany, NY: Albany International</td>\n",
       "      <td>1</td>\n",
       "      <td>OK</td>\n",
       "    </tr>\n",
       "    <tr>\n",
       "      <th>3</th>\n",
       "      <td>10279</td>\n",
       "      <td>2938.0</td>\n",
       "      <td>6</td>\n",
       "      <td>31</td>\n",
       "      <td>Rick Husband Amarillo International Airport (A...</td>\n",
       "      <td>35.220324</td>\n",
       "      <td>-101.707451</td>\n",
       "      <td>ROOFTOP</td>\n",
       "      <td>ChIJO2aaBio2AYcRaNDxVloTp88</td>\n",
       "      <td>airport,establishment,point_of_interest</td>\n",
       "      <td>79111.0</td>\n",
       "      <td>Amarillo, TX: Rick Husband Amarillo International</td>\n",
       "      <td>1</td>\n",
       "      <td>OK</td>\n",
       "    </tr>\n",
       "    <tr>\n",
       "      <th>4</th>\n",
       "      <td>10397</td>\n",
       "      <td>211210.0</td>\n",
       "      <td>15</td>\n",
       "      <td>32</td>\n",
       "      <td>Hartsfield-Jackson Atlanta International Airpo...</td>\n",
       "      <td>33.640728</td>\n",
       "      <td>-84.427700</td>\n",
       "      <td>ROOFTOP</td>\n",
       "      <td>ChIJAVkD4S_99IgRSLCSGO-jF0E</td>\n",
       "      <td>airport,establishment,point_of_interest</td>\n",
       "      <td>30320.0</td>\n",
       "      <td>Atlanta, GA: Hartsfield-Jackson Atlanta Intern...</td>\n",
       "      <td>1</td>\n",
       "      <td>OK</td>\n",
       "    </tr>\n",
       "  </tbody>\n",
       "</table>\n",
       "</div>"
      ],
      "text/plain": [
       "   ORIGIN_AIRPORT_ID  DEP_DELAY2  Total_Airlines  Unnamed: 0  \\\n",
       "0              10135      6250.0               6         122   \n",
       "1              10140     12421.0              13          29   \n",
       "2              10257      7539.0              12          30   \n",
       "3              10279      2938.0               6          31   \n",
       "4              10397    211210.0              15          32   \n",
       "\n",
       "                                   formatted_address   latitude   longitude  \\\n",
       "0  Lehigh Valley International Airport (ABE), 331...  40.651646  -75.444096   \n",
       "1  Albuquerque International Sunport (ABQ), 2200 ...  35.043333 -106.612909   \n",
       "2  Albany International Center, Albany, NY 12204,...  42.672859  -73.739897   \n",
       "3  Rick Husband Amarillo International Airport (A...  35.220324 -101.707451   \n",
       "4  Hartsfield-Jackson Atlanta International Airpo...  33.640728  -84.427700   \n",
       "\n",
       "           accuracy              google_place_id  \\\n",
       "0           ROOFTOP  ChIJ866awjQ_xIkRbKmwQiEHNgs   \n",
       "1           ROOFTOP  ChIJD4986cMLIocRvC24j-l4RHM   \n",
       "2  GEOMETRIC_CENTER  ChIJgTzb6WQJ3okRXnfnlv5exIo   \n",
       "3           ROOFTOP  ChIJO2aaBio2AYcRaNDxVloTp88   \n",
       "4           ROOFTOP  ChIJAVkD4S_99IgRSLCSGO-jF0E   \n",
       "\n",
       "                                              type  postcode  \\\n",
       "0          airport,establishment,point_of_interest   18109.0   \n",
       "1          airport,establishment,point_of_interest   87106.0   \n",
       "2  establishment,point_of_interest,transit_station   12204.0   \n",
       "3          airport,establishment,point_of_interest   79111.0   \n",
       "4          airport,establishment,point_of_interest   30320.0   \n",
       "\n",
       "                                             Address  number_of_results status  \n",
       "0  Allentown/Bethlehem/Easton, PA: Lehigh Valley ...                  1     OK  \n",
       "1  Albuquerque, NM: Albuquerque International Sun...                  2     OK  \n",
       "2                   Albany, NY: Albany International                  1     OK  \n",
       "3  Amarillo, TX: Rick Husband Amarillo International                  1     OK  \n",
       "4  Atlanta, GA: Hartsfield-Jackson Atlanta Intern...                  1     OK  "
      ]
     },
     "execution_count": 80,
     "metadata": {},
     "output_type": "execute_result"
    }
   ],
   "source": [
    "data_for_plot1.head()"
   ]
  },
  {
   "cell_type": "code",
   "execution_count": 81,
   "metadata": {},
   "outputs": [
    {
     "data": {
      "image/png": "[encoded data removed]",
      "text/plain": [
       "<Figure size 864x648 with 2 Axes>"
      ]
     },
     "metadata": {
      "needs_background": "light"
     },
     "output_type": "display_data"
    }
   ],
   "source": [
    "data_for_plot1.plot(kind='scatter', x='longitude',y='latitude',alpha =0.4,s=data_for_plot1[\"Total_Airlines\"],\\\n",
    "              label = 'Total_Airlines',figsize=(12,9),c='DEP_DELAY2',cmap=plt.get_cmap(\"jet\")\\\n",
    "              ,colorbar = True);\n",
    "plt.legend();"
   ]
  },
  {
   "cell_type": "code",
   "execution_count": 82,
   "metadata": {},
   "outputs": [
    {
     "data": {
      "text/plain": [
       "Index(['OP_UNIQUE_CARRIER', 'DEP_DELAY2', 'ORIGIN_AIRPORT_ID',\n",
       "       'ORIGIN_AIRPORT_SEQ_ID', 'ORIGIN_CITY_MARKET_ID', 'ORIGIN',\n",
       "       'ORIGIN_CITY_NAME', 'ORIGIN_STATE_ABR', 'ORIGIN_STATE_FIPS',\n",
       "       'ORIGIN_STATE_NM', 'DEST_AIRPORT_ID', 'CRS_DEP_TIME', 'DEP_TIME',\n",
       "       'DEP_DELAY', 'ARR_DELAY', 'CANCELLED', 'FLIGHTS', 'DISTANCE',\n",
       "       'CARRIER_DELAY', 'WEATHER_DELAY', 'NAS_DELAY', 'SECURITY_DELAY',\n",
       "       'LATE_AIRCRAFT_DELAY', 'FIRST_DEP_TIME', 'FL_DATEYear', 'FL_DATEMonth',\n",
       "       'FL_DATEWeek', 'FL_DATEDay', 'FL_DATEDayofweek', 'FL_DATEDayofyear',\n",
       "       'FL_DATEIs_month_end', 'FL_DATEIs_month_start', 'FL_DATEIs_quarter_end',\n",
       "       'FL_DATEIs_quarter_start', 'FL_DATEIs_year_end', 'FL_DATEIs_year_start',\n",
       "       'FL_DATEElapsed', 'Description', 'Unnamed: 0', 'formatted_address',\n",
       "       'latitude', 'longitude', 'accuracy', 'google_place_id', 'type',\n",
       "       'postcode', 'Address', 'number_of_results', 'status'],\n",
       "      dtype='object')"
      ]
     },
     "execution_count": 82,
     "metadata": {},
     "output_type": "execute_result"
    }
   ],
   "source": [
    "data1.columns"
   ]
  },
  {
   "cell_type": "code",
   "execution_count": 83,
   "metadata": {},
   "outputs": [
    {
     "data": {
      "text/html": [
       "<div>\n",
       "<style scoped>\n",
       "    .dataframe tbody tr th:only-of-type {\n",
       "        vertical-align: middle;\n",
       "    }\n",
       "\n",
       "    .dataframe tbody tr th {\n",
       "        vertical-align: top;\n",
       "    }\n",
       "\n",
       "    .dataframe thead th {\n",
       "        text-align: right;\n",
       "    }\n",
       "</style>\n",
       "<table border=\"1\" class=\"dataframe\">\n",
       "  <thead>\n",
       "    <tr style=\"text-align: right;\">\n",
       "      <th></th>\n",
       "      <th>FLIGHTS</th>\n",
       "    </tr>\n",
       "    <tr>\n",
       "      <th>ORIGIN_AIRPORT_ID</th>\n",
       "      <th></th>\n",
       "    </tr>\n",
       "  </thead>\n",
       "  <tbody>\n",
       "    <tr>\n",
       "      <th>10135</th>\n",
       "      <td>359.0</td>\n",
       "    </tr>\n",
       "    <tr>\n",
       "      <th>10140</th>\n",
       "      <td>1826.0</td>\n",
       "    </tr>\n",
       "    <tr>\n",
       "      <th>10257</th>\n",
       "      <td>897.0</td>\n",
       "    </tr>\n",
       "    <tr>\n",
       "      <th>10279</th>\n",
       "      <td>390.0</td>\n",
       "    </tr>\n",
       "    <tr>\n",
       "      <th>10397</th>\n",
       "      <td>32063.0</td>\n",
       "    </tr>\n",
       "  </tbody>\n",
       "</table>\n",
       "</div>"
      ],
      "text/plain": [
       "                   FLIGHTS\n",
       "ORIGIN_AIRPORT_ID         \n",
       "10135                359.0\n",
       "10140               1826.0\n",
       "10257                897.0\n",
       "10279                390.0\n",
       "10397              32063.0"
      ]
     },
     "execution_count": 83,
     "metadata": {},
     "output_type": "execute_result"
    }
   ],
   "source": [
    "sd=data1[[\"ORIGIN_AIRPORT_ID\",\"FLIGHTS\"]].groupby([\"ORIGIN_AIRPORT_ID\"]).sum()\n",
    "sd.head()"
   ]
  },
  {
   "cell_type": "code",
   "execution_count": 84,
   "metadata": {},
   "outputs": [
    {
     "name": "stdout",
     "output_type": "stream",
     "text": [
      "CPU times: user 6.11 ms, sys: 1.79 ms, total: 7.9 ms\n",
      "Wall time: 8.63 ms\n"
     ]
    }
   ],
   "source": [
    "%time data_for_plot3=pd.merge(sd,data_for_plot,how ='left', on=['ORIGIN_AIRPORT_ID'])"
   ]
  },
  {
   "cell_type": "code",
   "execution_count": 85,
   "metadata": {},
   "outputs": [
    {
     "data": {
      "text/html": [
       "<div>\n",
       "<style scoped>\n",
       "    .dataframe tbody tr th:only-of-type {\n",
       "        vertical-align: middle;\n",
       "    }\n",
       "\n",
       "    .dataframe tbody tr th {\n",
       "        vertical-align: top;\n",
       "    }\n",
       "\n",
       "    .dataframe thead th {\n",
       "        text-align: right;\n",
       "    }\n",
       "</style>\n",
       "<table border=\"1\" class=\"dataframe\">\n",
       "  <thead>\n",
       "    <tr style=\"text-align: right;\">\n",
       "      <th></th>\n",
       "      <th>ORIGIN_AIRPORT_ID</th>\n",
       "      <th>FLIGHTS</th>\n",
       "      <th>DEP_DELAY2</th>\n",
       "      <th>Total_Airlines</th>\n",
       "    </tr>\n",
       "  </thead>\n",
       "  <tbody>\n",
       "    <tr>\n",
       "      <th>0</th>\n",
       "      <td>10135</td>\n",
       "      <td>359.0</td>\n",
       "      <td>6250.0</td>\n",
       "      <td>6</td>\n",
       "    </tr>\n",
       "    <tr>\n",
       "      <th>1</th>\n",
       "      <td>10140</td>\n",
       "      <td>1826.0</td>\n",
       "      <td>12421.0</td>\n",
       "      <td>13</td>\n",
       "    </tr>\n",
       "    <tr>\n",
       "      <th>2</th>\n",
       "      <td>10257</td>\n",
       "      <td>897.0</td>\n",
       "      <td>7539.0</td>\n",
       "      <td>12</td>\n",
       "    </tr>\n",
       "    <tr>\n",
       "      <th>3</th>\n",
       "      <td>10279</td>\n",
       "      <td>390.0</td>\n",
       "      <td>2938.0</td>\n",
       "      <td>6</td>\n",
       "    </tr>\n",
       "    <tr>\n",
       "      <th>4</th>\n",
       "      <td>10397</td>\n",
       "      <td>32063.0</td>\n",
       "      <td>211210.0</td>\n",
       "      <td>15</td>\n",
       "    </tr>\n",
       "  </tbody>\n",
       "</table>\n",
       "</div>"
      ],
      "text/plain": [
       "   ORIGIN_AIRPORT_ID  FLIGHTS  DEP_DELAY2  Total_Airlines\n",
       "0              10135    359.0      6250.0               6\n",
       "1              10140   1826.0     12421.0              13\n",
       "2              10257    897.0      7539.0              12\n",
       "3              10279    390.0      2938.0               6\n",
       "4              10397  32063.0    211210.0              15"
      ]
     },
     "execution_count": 85,
     "metadata": {},
     "output_type": "execute_result"
    }
   ],
   "source": [
    "data_for_plot3.head()"
   ]
  },
  {
   "cell_type": "code",
   "execution_count": 86,
   "metadata": {},
   "outputs": [
    {
     "name": "stdout",
     "output_type": "stream",
     "text": [
      "CPU times: user 9.34 ms, sys: 2.04 ms, total: 11.4 ms\n",
      "Wall time: 10.6 ms\n"
     ]
    }
   ],
   "source": [
    "%time data_for_plot3=pd.merge(data_for_plot3,positions, how ='left', on=['ORIGIN_AIRPORT_ID'])"
   ]
  },
  {
   "cell_type": "code",
   "execution_count": 87,
   "metadata": {},
   "outputs": [
    {
     "data": {
      "text/html": [
       "<div>\n",
       "<style scoped>\n",
       "    .dataframe tbody tr th:only-of-type {\n",
       "        vertical-align: middle;\n",
       "    }\n",
       "\n",
       "    .dataframe tbody tr th {\n",
       "        vertical-align: top;\n",
       "    }\n",
       "\n",
       "    .dataframe thead th {\n",
       "        text-align: right;\n",
       "    }\n",
       "</style>\n",
       "<table border=\"1\" class=\"dataframe\">\n",
       "  <thead>\n",
       "    <tr style=\"text-align: right;\">\n",
       "      <th></th>\n",
       "      <th>ORIGIN_AIRPORT_ID</th>\n",
       "      <th>FLIGHTS</th>\n",
       "      <th>DEP_DELAY2</th>\n",
       "      <th>Total_Airlines</th>\n",
       "      <th>Unnamed: 0</th>\n",
       "      <th>formatted_address</th>\n",
       "      <th>latitude</th>\n",
       "      <th>longitude</th>\n",
       "      <th>accuracy</th>\n",
       "      <th>google_place_id</th>\n",
       "      <th>type</th>\n",
       "      <th>postcode</th>\n",
       "      <th>Address</th>\n",
       "      <th>number_of_results</th>\n",
       "      <th>status</th>\n",
       "    </tr>\n",
       "  </thead>\n",
       "  <tbody>\n",
       "    <tr>\n",
       "      <th>0</th>\n",
       "      <td>10135</td>\n",
       "      <td>359.0</td>\n",
       "      <td>6250.0</td>\n",
       "      <td>6</td>\n",
       "      <td>122</td>\n",
       "      <td>Lehigh Valley International Airport (ABE), 331...</td>\n",
       "      <td>40.651646</td>\n",
       "      <td>-75.444096</td>\n",
       "      <td>ROOFTOP</td>\n",
       "      <td>ChIJ866awjQ_xIkRbKmwQiEHNgs</td>\n",
       "      <td>airport,establishment,point_of_interest</td>\n",
       "      <td>18109.0</td>\n",
       "      <td>Allentown/Bethlehem/Easton, PA: Lehigh Valley ...</td>\n",
       "      <td>1</td>\n",
       "      <td>OK</td>\n",
       "    </tr>\n",
       "    <tr>\n",
       "      <th>1</th>\n",
       "      <td>10140</td>\n",
       "      <td>1826.0</td>\n",
       "      <td>12421.0</td>\n",
       "      <td>13</td>\n",
       "      <td>29</td>\n",
       "      <td>Albuquerque International Sunport (ABQ), 2200 ...</td>\n",
       "      <td>35.043333</td>\n",
       "      <td>-106.612909</td>\n",
       "      <td>ROOFTOP</td>\n",
       "      <td>ChIJD4986cMLIocRvC24j-l4RHM</td>\n",
       "      <td>airport,establishment,point_of_interest</td>\n",
       "      <td>87106.0</td>\n",
       "      <td>Albuquerque, NM: Albuquerque International Sun...</td>\n",
       "      <td>2</td>\n",
       "      <td>OK</td>\n",
       "    </tr>\n",
       "  </tbody>\n",
       "</table>\n",
       "</div>"
      ],
      "text/plain": [
       "   ORIGIN_AIRPORT_ID  FLIGHTS  DEP_DELAY2  Total_Airlines  Unnamed: 0  \\\n",
       "0              10135    359.0      6250.0               6         122   \n",
       "1              10140   1826.0     12421.0              13          29   \n",
       "\n",
       "                                   formatted_address   latitude   longitude  \\\n",
       "0  Lehigh Valley International Airport (ABE), 331...  40.651646  -75.444096   \n",
       "1  Albuquerque International Sunport (ABQ), 2200 ...  35.043333 -106.612909   \n",
       "\n",
       "  accuracy              google_place_id  \\\n",
       "0  ROOFTOP  ChIJ866awjQ_xIkRbKmwQiEHNgs   \n",
       "1  ROOFTOP  ChIJD4986cMLIocRvC24j-l4RHM   \n",
       "\n",
       "                                      type  postcode  \\\n",
       "0  airport,establishment,point_of_interest   18109.0   \n",
       "1  airport,establishment,point_of_interest   87106.0   \n",
       "\n",
       "                                             Address  number_of_results status  \n",
       "0  Allentown/Bethlehem/Easton, PA: Lehigh Valley ...                  1     OK  \n",
       "1  Albuquerque, NM: Albuquerque International Sun...                  2     OK  "
      ]
     },
     "execution_count": 87,
     "metadata": {},
     "output_type": "execute_result"
    }
   ],
   "source": [
    "data_for_plot3.head(2)"
   ]
  },
  {
   "cell_type": "code",
   "execution_count": 88,
   "metadata": {},
   "outputs": [],
   "source": [
    "#Total departure delay normalized by total number of flight\n",
    "z=data_for_plot3['DEP_DELAY2'].values/data_for_plot3[\"FLIGHTS\"]\n",
    "dep_del_norm_tot_fl=z"
   ]
  },
  {
   "cell_type": "code",
   "execution_count": 89,
   "metadata": {},
   "outputs": [],
   "source": [
    "total_flights=data_for_plot3[\"FLIGHTS\"]\n",
    "#size1 = size1/(size1.max()-size1.min())"
   ]
  },
  {
   "cell_type": "code",
   "execution_count": 90,
   "metadata": {},
   "outputs": [],
   "source": [
    "import plotly.graph_objects as go"
   ]
  },
  {
   "cell_type": "code",
   "execution_count": 2,
   "metadata": {},
   "outputs": [
    {
     "ename": "NameError",
     "evalue": "name 'go' is not defined",
     "output_type": "error",
     "traceback": [
      "\u001b[0;31m---------------------------------------------------------------------------\u001b[0m",
      "\u001b[0;31mNameError\u001b[0m                                 Traceback (most recent call last)",
      "\u001b[0;32m<ipython-input-2-3725764dd364>\u001b[0m in \u001b[0;36m<module>\u001b[0;34m\u001b[0m\n\u001b[0;32m----> 1\u001b[0;31m fig = go.Figure(data=go.Scattergeo(\n\u001b[0m\u001b[1;32m      2\u001b[0m         \u001b[0mlocations\u001b[0m \u001b[0;34m=\u001b[0m \u001b[0;34m[\u001b[0m\u001b[0;34m\"Canada\"\u001b[0m\u001b[0;34m]\u001b[0m\u001b[0;34m,\u001b[0m\u001b[0;34m\u001b[0m\u001b[0;34m\u001b[0m\u001b[0m\n\u001b[1;32m      3\u001b[0m         \u001b[0mlocationmode\u001b[0m \u001b[0;34m=\u001b[0m \u001b[0;34m'country names'\u001b[0m\u001b[0;34m,\u001b[0m\u001b[0;34m\u001b[0m\u001b[0;34m\u001b[0m\u001b[0m\n\u001b[1;32m      4\u001b[0m         \u001b[0;31m#locationmode = 'USA-states',\u001b[0m\u001b[0;34m\u001b[0m\u001b[0;34m\u001b[0m\u001b[0;34m\u001b[0m\u001b[0m\n\u001b[1;32m      5\u001b[0m         \u001b[0mlon\u001b[0m \u001b[0;34m=\u001b[0m \u001b[0mdata_for_plot3\u001b[0m\u001b[0;34m[\u001b[0m\u001b[0;34m'longitude'\u001b[0m\u001b[0;34m]\u001b[0m\u001b[0;34m.\u001b[0m\u001b[0mvalues\u001b[0m\u001b[0;34m,\u001b[0m\u001b[0;34m\u001b[0m\u001b[0;34m\u001b[0m\u001b[0m\n",
      "\u001b[0;31mNameError\u001b[0m: name 'go' is not defined"
     ]
    }
   ],
   "source": [
    "fig = go.Figure(data=go.Scattergeo(\n",
    "        locationmode = 'USA-states',\n",
    "        lon = data_for_plot3['longitude'].values,\n",
    "        lat = data_for_plot3['latitude'].values,\n",
    "        text = data_for_plot3['formatted_address']+ '<br>' +'Total Flights '+ \\\n",
    "               data_for_plot3[\"FLIGHTS\"].astype(str)+ '<br>' + '',\n",
    "        mode = 'markers',\n",
    "        marker_color = dep_del_norm_tot_fl,\n",
    "        marker = dict(size = total_flights/1000,opacity = 1)\n",
    "        ))\n",
    "fig.update_layout(\n",
    "        title = ' Jan, 2020 traffic US airports<br>(Hover for airport names)',\n",
    "        geo_scope='usa'\n",
    "    )\n",
    "fig.show()"
   ]
  },
  {
   "cell_type": "code",
   "execution_count": null,
   "metadata": {},
   "outputs": [],
   "source": [
    "dataf.head()"
   ]
  },
  {
   "cell_type": "code",
   "execution_count": null,
   "metadata": {},
   "outputs": [],
   "source": [
    "ddelay=dataf[[\"ORIGIN_AIRPORT_ID\",\"FLIGHTS\"]].groupby([\"ORIGIN_AIRPORT_ID\"]).sum()\n",
    "ddelay.head()"
   ]
  },
  {
   "cell_type": "code",
   "execution_count": null,
   "metadata": {},
   "outputs": [],
   "source": [
    "ddelay1=dataf[dataf.DEP_DELAY2>0]\n",
    "ddelay1.head()"
   ]
  },
  {
   "cell_type": "code",
   "execution_count": null,
   "metadata": {},
   "outputs": [],
   "source": [
    "ddelay2=ddelay1[[\"ORIGIN_AIRPORT_ID\",\"FLIGHTS\"]].groupby([\"ORIGIN_AIRPORT_ID\"],as_index=False).sum()\n",
    "ddelay2.head()"
   ]
  },
  {
   "cell_type": "code",
   "execution_count": null,
   "metadata": {},
   "outputs": [],
   "source": [
    "ddelay2=ddelay2.rename(columns={\"FLIGHTS\":\"Total_Delayed_flights\"})"
   ]
  },
  {
   "cell_type": "code",
   "execution_count": null,
   "metadata": {},
   "outputs": [],
   "source": [
    "ddelay2.head()"
   ]
  },
  {
   "cell_type": "code",
   "execution_count": null,
   "metadata": {},
   "outputs": [],
   "source": [
    "%time data_for_plot4=pd.merge(data_for_plot3,ddelay2, how ='left', on=['ORIGIN_AIRPORT_ID'])\n",
    "data_for_plot4.head()"
   ]
  },
  {
   "cell_type": "code",
   "execution_count": null,
   "metadata": {},
   "outputs": [],
   "source": [
    "fig = go.Figure(data=go.Scattergeo(\n",
    "        locationmode = 'USA-states',\n",
    "        lon = data_for_plot4['longitude'].values,\n",
    "        lat = data_for_plot4['latitude'].values,\n",
    "        text = data_for_plot4['formatted_address']+ '<br>' +'Total Flights '+ \\\n",
    "               data_for_plot4[\"FLIGHTS\"].astype(str)+ '<br>' + \\\n",
    "               'Total delayed flights '+ data_for_plot4[\"Total_Delayed_flights\"].astype(str)\\\n",
    "                +'<br>'+'Pecentage of delayed flights '+\\\n",
    "               (100*data_for_plot4[\"Total_Delayed_flights\"]/data_for_plot4[\"FLIGHTS\"]).round(2).astype(str),\n",
    "        mode = 'markers',\n",
    "        marker = dict(size = total_flights/50,opacity = 1, color = dep_del_norm_tot_fl, sizemode = 'area',\n",
    "                     showscale=True),      \n",
    "        ))\n",
    "fig.update_layout(\n",
    "        title = 'Jan, 2020 traffic US airports<br>(Hover for airport names)<br>Size of blobs prop.\\\n",
    "        total flights<br>colors prop. (total delay)/(total flight)',\n",
    "        geo_scope='usa',\n",
    "    )\n",
    "fig.show()"
   ]
  },
  {
   "cell_type": "code",
   "execution_count": null,
   "metadata": {},
   "outputs": [],
   "source": [
    "dataf.columns"
   ]
  },
  {
   "cell_type": "code",
   "execution_count": null,
   "metadata": {},
   "outputs": [],
   "source": [
    "dataf.DISTANCE.hist(bins=20)"
   ]
  },
  {
   "cell_type": "code",
   "execution_count": null,
   "metadata": {},
   "outputs": [],
   "source": [
    "dataf1 = dataf[['ORIGIN', 'ORIGIN_AIRPORT_ID', 'DEST_AIRPORT_ID',\n",
    "       'DEP_TIME', 'DEP_DELAY', 'FLIGHTS', 'DISTANCE', 'OP_UNIQUE_CARRIER',\n",
    "       'FL_DATEYear', 'FL_DATEMonth', 'FL_DATEWeek', 'FL_DATEDay',\n",
    "       'FL_DATEDayofweek', 'FL_DATEDayofyear', 'FL_DATEIs_month_end',\n",
    "       'FL_DATEIs_month_start', 'FL_DATEIs_quarter_end',\n",
    "       'FL_DATEIs_quarter_start', 'FL_DATEIs_year_end', 'FL_DATEIs_year_start',\n",
    "       'FL_DATEElapsed']]"
   ]
  },
  {
   "cell_type": "code",
   "execution_count": null,
   "metadata": {},
   "outputs": [],
   "source": [
    "train_cats(dataf1)"
   ]
  },
  {
   "cell_type": "code",
   "execution_count": 6,
   "metadata": {},
   "outputs": [],
   "source": [
    "??proc_df"
   ]
  },
  {
   "cell_type": "code",
   "execution_count": null,
   "metadata": {},
   "outputs": [],
   "source": [
    "dataf1.info()"
   ]
  },
  {
   "cell_type": "code",
   "execution_count": null,
   "metadata": {},
   "outputs": [],
   "source": [
    "df, y, nas = proc_df(dataf1, 'DEP_DELAY')"
   ]
  },
  {
   "cell_type": "code",
   "execution_count": null,
   "metadata": {},
   "outputs": [],
   "source": [
    "df.head()"
   ]
  },
  {
   "cell_type": "code",
   "execution_count": null,
   "metadata": {},
   "outputs": [],
   "source": [
    "df.info()"
   ]
  },
  {
   "cell_type": "code",
   "execution_count": null,
   "metadata": {},
   "outputs": [],
   "source": [
    "dftest = df[:400000]\n",
    "ytest=y[:400000]"
   ]
  },
  {
   "cell_type": "code",
   "execution_count": null,
   "metadata": {},
   "outputs": [],
   "source": [
    "def split_vals(a,n): return a[:n].copy(), a[n:].copy()\n",
    "\n",
    "n_valid = 120  # \n",
    "n_trn = len(dftest)-n_valid\n",
    "raw_train, raw_valid = split_vals(dftest, n_trn)\n",
    "X_train, X_valid = split_vals(dftest, n_trn)\n",
    "y_train, y_valid = split_vals(ytest, n_trn)\n",
    "\n",
    "X_train.shape, y_train.shape, X_valid.shape"
   ]
  },
  {
   "cell_type": "code",
   "execution_count": null,
   "metadata": {},
   "outputs": [],
   "source": [
    "def rmse(x,y): return math.sqrt(((x-y)**2).mean())\n",
    "\n",
    "def print_score(m):\n",
    "    res = [rmse(m.predict(X_train), y_train), rmse(m.predict(X_valid), y_valid),\n",
    "                m.score(X_train, y_train), m.score(X_valid, y_valid)]\n",
    "    if hasattr(m, 'oob_score_'): res.append(m.oob_score_)\n",
    "    print(res)"
   ]
  },
  {
   "cell_type": "code",
   "execution_count": null,
   "metadata": {},
   "outputs": [],
   "source": [
    "from pandas_summary import DataFrameSummary\n",
    "from sklearn.ensemble import RandomForestRegressor, RandomForestClassifier\n",
    "from IPython.display import display\n",
    "from sklearn.model_selection import cross_val_score\n",
    "\n",
    "from sklearn import metrics\n",
    "m = RandomForestRegressor(n_jobs=-1)\n",
    "%time m.fit(X_train, y_train)\n",
    "print_score(m)"
   ]
  },
  {
   "cell_type": "code",
   "execution_count": null,
   "metadata": {},
   "outputs": [],
   "source": [
    "m = RandomForestRegressor(n_estimators=40, min_samples_leaf=3, n_jobs=-1, oob_score=True)\n",
    "%time m.fit(X_train, y_train)\n",
    "print_score(m)"
   ]
  },
  {
   "cell_type": "code",
   "execution_count": null,
   "metadata": {},
   "outputs": [],
   "source": [
    "m = RandomForestRegressor(n_estimators=40, min_samples_leaf=10, max_features=0.5, n_jobs=-1, oob_score=True)\n",
    "%time m.fit(X_train, y_train)\n",
    "print_score(m)"
   ]
  },
  {
   "cell_type": "code",
   "execution_count": null,
   "metadata": {},
   "outputs": [],
   "source": [
    "#Run 5 fold cross validation\n",
    "#scores = cross_val_score(m, X_train, y_train, cv=2) # k=5\n",
    "#print(scores.mean())"
   ]
  },
  {
   "cell_type": "code",
   "execution_count": null,
   "metadata": {},
   "outputs": [],
   "source": [
    "ntrees = 100\n",
    "minleaf = 1\n",
    "for maxf in np.arange(0.1,0.6,0.1):\n",
    "    print(f\"n_estimators={ntrees}, max_features={maxf:.1f}, min_samples_leaf={minleaf}\")\n",
    "    m = RandomForestRegressor(n_estimators=ntrees, min_samples_leaf=minleaf, max_features=maxf, n_jobs=-1,\\\n",
    "                              oob_score=True)\n",
    "    %time m.fit(X_train, y_train)\n",
    "    print_score(m)\n",
    "    print('----------')"
   ]
  },
  {
   "cell_type": "code",
   "execution_count": null,
   "metadata": {},
   "outputs": [],
   "source": [
    "# choose max_feature = 0.2\n",
    "ntrees = 100\n",
    "#minleaf = 1\n",
    "maxf = 0.2\n",
    "for minleaf in range(1,7):\n",
    "    print(f\"n_estimators={ntrees}, max_features={maxf:.1f}, min_samples_leaf={minleaf}\")\n",
    "    m = RandomForestRegressor(n_estimators=ntrees, min_samples_leaf=minleaf, max_features=0.2, n_jobs=-1,\\\n",
    "                              oob_score=True)\n",
    "    %time m.fit(X_train, y_train)\n",
    "    print_score(m)\n",
    "    print('----------')"
   ]
  },
  {
   "cell_type": "code",
   "execution_count": null,
   "metadata": {},
   "outputs": [],
   "source": [
    "from sklearn.inspection import permutation_importance\n",
    "from sklearn.metrics import mean_absolute_error\n",
    "from sklearn.metrics import mean_squared_error"
   ]
  },
  {
   "cell_type": "code",
   "execution_count": null,
   "metadata": {},
   "outputs": [],
   "source": [
    "m = RandomForestRegressor(n_estimators=ntrees, min_samples_leaf=3, max_features=0.2, n_jobs=-1,\\\n",
    "                              oob_score=True)\n",
    "clf=m.fit(X_train, y_train)"
   ]
  },
  {
   "cell_type": "code",
   "execution_count": null,
   "metadata": {},
   "outputs": [],
   "source": [
    "result = permutation_importance(m, X_valid, y_valid, n_repeats=10,random_state=0)"
   ]
  },
  {
   "cell_type": "code",
   "execution_count": null,
   "metadata": {},
   "outputs": [],
   "source": [
    "perm_sorted_idx = result.importances_mean.argsort()\n",
    "\n",
    "tree_importance_sorted_idx = np.argsort(clf.feature_importances_)\n",
    "tree_indices = np.arange(0, len(clf.feature_importances_)) + 0.5\n",
    "\n",
    "fig, (ax1, ax2) = plt.subplots(1, 2, figsize=(12, 8))\n",
    "ax1.barh(tree_indices,\n",
    "         clf.feature_importances_[tree_importance_sorted_idx], height=0.7)\n",
    "ax1.set_yticklabels(X_train.columns[tree_importance_sorted_idx])\n",
    "ax1.set_yticks(tree_indices)\n",
    "ax1.set_ylim((0, len(clf.feature_importances_)))\n",
    "ax2.boxplot(result.importances[perm_sorted_idx].T, vert=False,\n",
    "            labels=X_train.columns[perm_sorted_idx])\n",
    "fig.tight_layout()\n",
    "plt.show()"
   ]
  },
  {
   "cell_type": "code",
   "execution_count": null,
   "metadata": {},
   "outputs": [],
   "source": [
    "perm_sorted_idx "
   ]
  },
  {
   "cell_type": "code",
   "execution_count": null,
   "metadata": {},
   "outputs": [],
   "source": [
    "min_samples_leaf = 3\n",
    "ntrees = 100\n",
    "max_features=0.2\n",
    "\n",
    "\n",
    "def test_valid(X, y, X_valid, y_valid, n_estimators=ntrees,\n",
    "               max_features=max_features, min_samples_leaf=min_samples_leaf):\n",
    "    X_valid = X_valid.reindex(columns=X.columns)\n",
    "    rf = RandomForestRegressor(n_estimators=ntrees,\n",
    "                               n_jobs=-1,\n",
    "                               oob_score=True,\n",
    "                               max_features=max_features, \n",
    "                               min_samples_leaf=min_samples_leaf)\n",
    "    rf.fit(X, y)\n",
    "    #n = rfnnodes(rf)\n",
    "    #h = np.median(rfmaxdepths(rf))\n",
    "    n=10\n",
    "    h=10\n",
    "    y_pred = rf.predict(X_valid)\n",
    "    mae_valid = mean_absolute_error(y_valid, y_pred)\n",
    "    mae_valid_pc = mae_valid*100/y_valid.mean()\n",
    "    rmsle_valid = np.sqrt(mean_squared_error(y_valid, y_pred) )\n",
    "    r2_score_valid = rf.score(X_valid, y_valid)\n",
    "    print(f\"OOB R^2 {rf.oob_score_:.5f} using {n:,d} tree nodes {h} median tree height\")\n",
    "    print(f\"Validation R^2 {r2_score_valid:.5f}, RMSE {rmsle_valid:.5f}, MAE {mae_valid:.0f},\\\n",
    "    MAE_pc {mae_valid_pc:.0f}\")\n",
    "    return rf, r2_score_valid, rmsle_valid, mae_valid"
   ]
  },
  {
   "cell_type": "code",
   "execution_count": null,
   "metadata": {},
   "outputs": [],
   "source": [
    "rf, r2_score_2007, rmsle_2007, mae_2007 = test_valid(X_train, y_train,X_valid, y_valid)"
   ]
  },
  {
   "cell_type": "code",
   "execution_count": null,
   "metadata": {},
   "outputs": [],
   "source": [
    "reg = LinearRegression()\n",
    "%time reg.fit(X_train,y_train)\n",
    "#y_pred = reg.predict(X_test)\n",
    "print_score(reg)"
   ]
  },
  {
   "cell_type": "markdown",
   "metadata": {},
   "source": [
    "#### Comparison to Linear Regression.\n",
    "We are getting better performance using Random Forest than a simple linear regression. \n"
   ]
  },
  {
   "cell_type": "code",
   "execution_count": null,
   "metadata": {},
   "outputs": [],
   "source": [
    "#Sum up number of nodes accross all trees\n",
    "ntrees = rf.n_estimators\n",
    "nnodes = sum([rf.estimators_[i].tree_.node_count for i in range(ntrees)])\n",
    "print(f\"{nnodes:,}\") # print with commas"
   ]
  }
 ],
 "metadata": {
  "kernelspec": {
   "display_name": "Python 3",
   "language": "python",
   "name": "python3"
  },
  "language_info": {
   "codemirror_mode": {
    "name": "ipython",
    "version": 3
   },
   "file_extension": ".py",
   "mimetype": "text/x-python",
   "name": "python",
   "nbconvert_exporter": "python",
   "pygments_lexer": "ipython3",
   "version": "3.7.8"
  }
 },
 "nbformat": 4,
 "nbformat_minor": 4
}

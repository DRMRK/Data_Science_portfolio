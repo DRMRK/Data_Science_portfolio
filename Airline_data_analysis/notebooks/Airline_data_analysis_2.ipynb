{
 "cells": [
  {
   "cell_type": "code",
   "execution_count": 1,
   "metadata": {},
   "outputs": [
    {
     "name": "stdout",
     "output_type": "stream",
     "text": [
      "Airline_data_analysis.ipynb   add_datepart.py\r\n",
      "Airline_data_analysis_2.ipynb add_for_long_lat.csv\r\n",
      "Get_long_lat.ipynb            airline.csv\r\n",
      "Problem1.ipynb                airport_code.csv\r\n",
      "Untitled.ipynb                long_lat1.csv\r\n",
      "Untitled1.ipynb               origin_ap_code.csv\r\n",
      "Untitled2.ipynb               structured.py\r\n",
      "\u001b[1m\u001b[34m__pycache__\u001b[m\u001b[m                   temp.py\r\n"
     ]
    }
   ],
   "source": [
    "!ls"
   ]
  },
  {
   "cell_type": "code",
   "execution_count": null,
   "metadata": {},
   "outputs": [],
   "source": []
  }
 ],
 "metadata": {
  "kernelspec": {
   "display_name": "Python 3",
   "language": "python",
   "name": "python3"
  },
  "language_info": {
   "codemirror_mode": {
    "name": "ipython",
    "version": 3
   },
   "file_extension": ".py",
   "mimetype": "text/x-python",
   "name": "python",
   "nbconvert_exporter": "python",
   "pygments_lexer": "ipython3",
   "version": "3.7.8"
  }
 },
 "nbformat": 4,
 "nbformat_minor": 4
}

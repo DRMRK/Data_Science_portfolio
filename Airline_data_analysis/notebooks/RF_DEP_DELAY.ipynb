{
 "cells": [
  {
   "cell_type": "markdown",
   "metadata": {},
   "source": [
    "### Airline Data Analysis_RF_DEP_DELAY:\n",
    "Can we predict departure delays using features in the data ? Let us find out."
   ]
  },
  {
   "cell_type": "code",
   "execution_count": 1,
   "metadata": {},
   "outputs": [],
   "source": [
    "PATH='/Users/franciumpnc/Documents/ML/AQM/ML_practice_projects/Airline_data_analysis/data/processed'"
   ]
  },
  {
   "cell_type": "code",
   "execution_count": 2,
   "metadata": {},
   "outputs": [
    {
     "name": "stdout",
     "output_type": "stream",
     "text": [
      "Airline_data_processed.csv\r\n"
     ]
    }
   ],
   "source": [
    "!ls {PATH}"
   ]
  },
  {
   "cell_type": "code",
   "execution_count": 3,
   "metadata": {},
   "outputs": [
    {
     "name": "stderr",
     "output_type": "stream",
     "text": [
      "/Applications/anaconda3/envs/DNN/lib/python3.7/site-packages/sklearn/utils/deprecation.py:143: FutureWarning: The sklearn.ensemble.forest module is  deprecated in version 0.22 and will be removed in version 0.24. The corresponding classes / functions should instead be imported from sklearn.ensemble. Anything that cannot be imported from sklearn.ensemble is now part of the private API.\n",
      "  warnings.warn(message, FutureWarning)\n"
     ]
    }
   ],
   "source": [
    "import feather\n",
    "import pandas as pd\n",
    "import matplotlib.pyplot as plt\n",
    "import re\n",
    "from helper.imports import *\n",
    "from helper.structured  import *\n",
    "%matplotlib inline"
   ]
  },
  {
   "cell_type": "code",
   "execution_count": 4,
   "metadata": {},
   "outputs": [],
   "source": [
    "data_raw = pd.read_feather(f'{PATH}/Airline_data_processed.csv')"
   ]
  },
  {
   "cell_type": "code",
   "execution_count": 5,
   "metadata": {},
   "outputs": [
    {
     "data": {
      "text/plain": [
       "Index(['index', 'OP_UNIQUE_CARRIER', 'DEP_DELAY2', 'ORIGIN_AIRPORT_ID',\n",
       "       'ORIGIN_AIRPORT_SEQ_ID', 'ORIGIN_CITY_MARKET_ID', 'ORIGIN',\n",
       "       'ORIGIN_CITY_NAME', 'ORIGIN_STATE_ABR', 'ORIGIN_STATE_FIPS',\n",
       "       'ORIGIN_STATE_NM', 'DEST_AIRPORT_ID', 'CRS_DEP_TIME', 'DEP_TIME',\n",
       "       'DEP_DELAY', 'ARR_DELAY', 'CANCELLED', 'FLIGHTS', 'DISTANCE',\n",
       "       'CARRIER_DELAY', 'WEATHER_DELAY', 'NAS_DELAY', 'SECURITY_DELAY',\n",
       "       'LATE_AIRCRAFT_DELAY', 'FIRST_DEP_TIME', 'FL_DATEYear', 'FL_DATEMonth',\n",
       "       'FL_DATEWeek', 'FL_DATEDay', 'FL_DATEDayofweek', 'FL_DATEDayofyear',\n",
       "       'FL_DATEIs_month_end', 'FL_DATEIs_month_start', 'FL_DATEIs_quarter_end',\n",
       "       'FL_DATEIs_quarter_start', 'FL_DATEIs_year_end', 'FL_DATEIs_year_start',\n",
       "       'FL_DATEElapsed', 'Description', 'Unnamed: 0', 'formatted_address',\n",
       "       'latitude', 'longitude', 'accuracy', 'google_place_id', 'type',\n",
       "       'postcode', 'Address', 'number_of_results', 'status'],\n",
       "      dtype='object')"
      ]
     },
     "execution_count": 5,
     "metadata": {},
     "output_type": "execute_result"
    }
   ],
   "source": [
    "data_raw.columns"
   ]
  },
  {
   "cell_type": "code",
   "execution_count": 6,
   "metadata": {},
   "outputs": [],
   "source": [
    "data = data_raw[['OP_UNIQUE_CARRIER','ORIGIN',\n",
    "       'DEST_AIRPORT_ID', 'CRS_DEP_TIME',\n",
    "       'DEP_DELAY','FLIGHTS', 'DISTANCE',\n",
    "       'FL_DATEYear', 'FL_DATEMonth',\n",
    "       'FL_DATEWeek', 'FL_DATEDay', 'FL_DATEDayofweek', 'FL_DATEDayofyear',\n",
    "       'FL_DATEIs_month_end', 'FL_DATEIs_month_start', 'FL_DATEIs_quarter_end',\n",
    "       'FL_DATEIs_quarter_start', 'FL_DATEIs_year_end', 'FL_DATEIs_year_start',\n",
    "       'FL_DATEElapsed','latitude', 'longitude']]"
   ]
  },
  {
   "cell_type": "markdown",
   "metadata": {},
   "source": [
    "#### Before running Random Forest\n",
    "\n",
    "- Convert strings in dataframe to categorical. This is done by applying train_cats.\n",
    "- Convert the entire dataframe into numeric dataframe. Replace the na values by median value of the column. This is done by proc_df. This also splits off the response variable. "
   ]
  },
  {
   "cell_type": "code",
   "execution_count": 7,
   "metadata": {},
   "outputs": [
    {
     "name": "stderr",
     "output_type": "stream",
     "text": [
      "/Users/franciumpnc/Documents/ML/AQM/ML_practice_projects/Airline_data_analysis/notebooks/helper/structured.py:154: SettingWithCopyWarning: \n",
      "A value is trying to be set on a copy of a slice from a DataFrame.\n",
      "Try using .loc[row_indexer,col_indexer] = value instead\n",
      "\n",
      "See the caveats in the documentation: https://pandas.pydata.org/pandas-docs/stable/user_guide/indexing.html#returning-a-view-versus-a-copy\n",
      "  if is_string_dtype(c): df[n] = c.astype('category').cat.as_ordered()\n"
     ]
    }
   ],
   "source": [
    "train_cats(data)"
   ]
  },
  {
   "cell_type": "code",
   "execution_count": 8,
   "metadata": {},
   "outputs": [],
   "source": [
    "df, y, nas = proc_df(data, 'DEP_DELAY')"
   ]
  },
  {
   "cell_type": "code",
   "execution_count": 9,
   "metadata": {},
   "outputs": [
    {
     "data": {
      "text/html": [
       "<div>\n",
       "<style scoped>\n",
       "    .dataframe tbody tr th:only-of-type {\n",
       "        vertical-align: middle;\n",
       "    }\n",
       "\n",
       "    .dataframe tbody tr th {\n",
       "        vertical-align: top;\n",
       "    }\n",
       "\n",
       "    .dataframe thead th {\n",
       "        text-align: right;\n",
       "    }\n",
       "</style>\n",
       "<table border=\"1\" class=\"dataframe\">\n",
       "  <thead>\n",
       "    <tr style=\"text-align: right;\">\n",
       "      <th></th>\n",
       "      <th>OP_UNIQUE_CARRIER</th>\n",
       "      <th>ORIGIN</th>\n",
       "      <th>DEST_AIRPORT_ID</th>\n",
       "      <th>CRS_DEP_TIME</th>\n",
       "      <th>FLIGHTS</th>\n",
       "      <th>DISTANCE</th>\n",
       "      <th>FL_DATEYear</th>\n",
       "      <th>FL_DATEMonth</th>\n",
       "      <th>FL_DATEWeek</th>\n",
       "      <th>FL_DATEDay</th>\n",
       "      <th>...</th>\n",
       "      <th>FL_DATEDayofyear</th>\n",
       "      <th>FL_DATEIs_month_end</th>\n",
       "      <th>FL_DATEIs_month_start</th>\n",
       "      <th>FL_DATEIs_quarter_end</th>\n",
       "      <th>FL_DATEIs_quarter_start</th>\n",
       "      <th>FL_DATEIs_year_end</th>\n",
       "      <th>FL_DATEIs_year_start</th>\n",
       "      <th>FL_DATEElapsed</th>\n",
       "      <th>latitude</th>\n",
       "      <th>longitude</th>\n",
       "    </tr>\n",
       "  </thead>\n",
       "  <tbody>\n",
       "    <tr>\n",
       "      <th>0</th>\n",
       "      <td>15</td>\n",
       "      <td>93</td>\n",
       "      <td>11292</td>\n",
       "      <td>1430</td>\n",
       "      <td>1.0</td>\n",
       "      <td>896.0</td>\n",
       "      <td>2020</td>\n",
       "      <td>1</td>\n",
       "      <td>1</td>\n",
       "      <td>1</td>\n",
       "      <td>...</td>\n",
       "      <td>1</td>\n",
       "      <td>False</td>\n",
       "      <td>True</td>\n",
       "      <td>False</td>\n",
       "      <td>True</td>\n",
       "      <td>False</td>\n",
       "      <td>True</td>\n",
       "      <td>1577836800</td>\n",
       "      <td>42.947553</td>\n",
       "      <td>-87.896646</td>\n",
       "    </tr>\n",
       "    <tr>\n",
       "      <th>1</th>\n",
       "      <td>15</td>\n",
       "      <td>93</td>\n",
       "      <td>11292</td>\n",
       "      <td>1155</td>\n",
       "      <td>1.0</td>\n",
       "      <td>896.0</td>\n",
       "      <td>2020</td>\n",
       "      <td>1</td>\n",
       "      <td>1</td>\n",
       "      <td>1</td>\n",
       "      <td>...</td>\n",
       "      <td>1</td>\n",
       "      <td>False</td>\n",
       "      <td>True</td>\n",
       "      <td>False</td>\n",
       "      <td>True</td>\n",
       "      <td>False</td>\n",
       "      <td>True</td>\n",
       "      <td>1577836800</td>\n",
       "      <td>42.947553</td>\n",
       "      <td>-87.896646</td>\n",
       "    </tr>\n",
       "    <tr>\n",
       "      <th>2</th>\n",
       "      <td>15</td>\n",
       "      <td>93</td>\n",
       "      <td>12889</td>\n",
       "      <td>600</td>\n",
       "      <td>1.0</td>\n",
       "      <td>1524.0</td>\n",
       "      <td>2020</td>\n",
       "      <td>1</td>\n",
       "      <td>1</td>\n",
       "      <td>1</td>\n",
       "      <td>...</td>\n",
       "      <td>1</td>\n",
       "      <td>False</td>\n",
       "      <td>True</td>\n",
       "      <td>False</td>\n",
       "      <td>True</td>\n",
       "      <td>False</td>\n",
       "      <td>True</td>\n",
       "      <td>1577836800</td>\n",
       "      <td>42.947553</td>\n",
       "      <td>-87.896646</td>\n",
       "    </tr>\n",
       "    <tr>\n",
       "      <th>3</th>\n",
       "      <td>15</td>\n",
       "      <td>93</td>\n",
       "      <td>12953</td>\n",
       "      <td>1545</td>\n",
       "      <td>1.0</td>\n",
       "      <td>738.0</td>\n",
       "      <td>2020</td>\n",
       "      <td>1</td>\n",
       "      <td>1</td>\n",
       "      <td>1</td>\n",
       "      <td>...</td>\n",
       "      <td>1</td>\n",
       "      <td>False</td>\n",
       "      <td>True</td>\n",
       "      <td>False</td>\n",
       "      <td>True</td>\n",
       "      <td>False</td>\n",
       "      <td>True</td>\n",
       "      <td>1577836800</td>\n",
       "      <td>42.947553</td>\n",
       "      <td>-87.896646</td>\n",
       "    </tr>\n",
       "    <tr>\n",
       "      <th>4</th>\n",
       "      <td>15</td>\n",
       "      <td>93</td>\n",
       "      <td>12953</td>\n",
       "      <td>600</td>\n",
       "      <td>1.0</td>\n",
       "      <td>738.0</td>\n",
       "      <td>2020</td>\n",
       "      <td>1</td>\n",
       "      <td>1</td>\n",
       "      <td>1</td>\n",
       "      <td>...</td>\n",
       "      <td>1</td>\n",
       "      <td>False</td>\n",
       "      <td>True</td>\n",
       "      <td>False</td>\n",
       "      <td>True</td>\n",
       "      <td>False</td>\n",
       "      <td>True</td>\n",
       "      <td>1577836800</td>\n",
       "      <td>42.947553</td>\n",
       "      <td>-87.896646</td>\n",
       "    </tr>\n",
       "  </tbody>\n",
       "</table>\n",
       "<p>5 rows × 21 columns</p>\n",
       "</div>"
      ],
      "text/plain": [
       "   OP_UNIQUE_CARRIER  ORIGIN  DEST_AIRPORT_ID  CRS_DEP_TIME  FLIGHTS  \\\n",
       "0                 15      93            11292          1430      1.0   \n",
       "1                 15      93            11292          1155      1.0   \n",
       "2                 15      93            12889           600      1.0   \n",
       "3                 15      93            12953          1545      1.0   \n",
       "4                 15      93            12953           600      1.0   \n",
       "\n",
       "   DISTANCE  FL_DATEYear  FL_DATEMonth  FL_DATEWeek  FL_DATEDay  ...  \\\n",
       "0     896.0         2020             1            1           1  ...   \n",
       "1     896.0         2020             1            1           1  ...   \n",
       "2    1524.0         2020             1            1           1  ...   \n",
       "3     738.0         2020             1            1           1  ...   \n",
       "4     738.0         2020             1            1           1  ...   \n",
       "\n",
       "   FL_DATEDayofyear  FL_DATEIs_month_end  FL_DATEIs_month_start  \\\n",
       "0                 1                False                   True   \n",
       "1                 1                False                   True   \n",
       "2                 1                False                   True   \n",
       "3                 1                False                   True   \n",
       "4                 1                False                   True   \n",
       "\n",
       "   FL_DATEIs_quarter_end  FL_DATEIs_quarter_start  FL_DATEIs_year_end  \\\n",
       "0                  False                     True               False   \n",
       "1                  False                     True               False   \n",
       "2                  False                     True               False   \n",
       "3                  False                     True               False   \n",
       "4                  False                     True               False   \n",
       "\n",
       "   FL_DATEIs_year_start  FL_DATEElapsed   latitude  longitude  \n",
       "0                  True      1577836800  42.947553 -87.896646  \n",
       "1                  True      1577836800  42.947553 -87.896646  \n",
       "2                  True      1577836800  42.947553 -87.896646  \n",
       "3                  True      1577836800  42.947553 -87.896646  \n",
       "4                  True      1577836800  42.947553 -87.896646  \n",
       "\n",
       "[5 rows x 21 columns]"
      ]
     },
     "execution_count": 9,
     "metadata": {},
     "output_type": "execute_result"
    }
   ],
   "source": [
    "df.head()"
   ]
  },
  {
   "cell_type": "code",
   "execution_count": 10,
   "metadata": {},
   "outputs": [],
   "source": [
    "#First test on a small part of the data\n",
    "dftest = df\n",
    "ytest=y"
   ]
  },
  {
   "cell_type": "code",
   "execution_count": 11,
   "metadata": {},
   "outputs": [
    {
     "data": {
      "text/plain": [
       "((558157, 21), (558157,), (12, 21))"
      ]
     },
     "execution_count": 11,
     "metadata": {},
     "output_type": "execute_result"
    }
   ],
   "source": [
    "def split_vals(a,n): return a[:n].copy(), a[n:].copy()\n",
    "\n",
    "n_valid = 12  # \n",
    "n_trn = len(dftest)-n_valid\n",
    "raw_train, raw_valid = split_vals(dftest, n_trn)\n",
    "X_train, X_valid = split_vals(dftest, n_trn)\n",
    "y_train, y_valid = split_vals(ytest, n_trn)\n",
    "\n",
    "X_train.shape, y_train.shape, X_valid.shape"
   ]
  },
  {
   "cell_type": "code",
   "execution_count": 12,
   "metadata": {},
   "outputs": [],
   "source": [
    "def rmse(x,y): return math.sqrt(((x-y)**2).mean())\n",
    "\n",
    "def print_score(m):\n",
    "    res = [rmse(m.predict(X_train), y_train), rmse(m.predict(X_valid), y_valid),\n",
    "                m.score(X_train, y_train), m.score(X_valid, y_valid)]\n",
    "    if hasattr(m, 'oob_score_'): res.append(m.oob_score_)\n",
    "    print(res)"
   ]
  },
  {
   "cell_type": "code",
   "execution_count": 13,
   "metadata": {},
   "outputs": [
    {
     "name": "stdout",
     "output_type": "stream",
     "text": [
      "CPU times: user 9min 25s, sys: 6.41 s, total: 9min 32s\n",
      "Wall time: 2min 42s\n",
      "[11.465799025280106, 18.649095599161548, 0.8606167671737288, 0.30967659480619736]\n"
     ]
    }
   ],
   "source": [
    "from pandas_summary import DataFrameSummary\n",
    "from sklearn.ensemble import RandomForestRegressor, RandomForestClassifier\n",
    "from IPython.display import display\n",
    "from sklearn.model_selection import cross_val_score\n",
    "\n",
    "from sklearn import metrics\n",
    "m = RandomForestRegressor(n_jobs=-1)\n",
    "%time m.fit(X_train, y_train)\n",
    "print_score(m)"
   ]
  },
  {
   "cell_type": "code",
   "execution_count": 14,
   "metadata": {},
   "outputs": [
    {
     "name": "stdout",
     "output_type": "stream",
     "text": [
      "CPU times: user 3min 25s, sys: 1.52 s, total: 3min 26s\n",
      "Wall time: 1min\n",
      "[21.176006031790852, 20.10975965086446, 0.5245662730796785, 0.1973045379192091, 0.052927430542585086]\n"
     ]
    }
   ],
   "source": [
    "m = RandomForestRegressor(n_estimators=40, min_samples_leaf=3, n_jobs=-1, oob_score=True)\n",
    "%time m.fit(X_train, y_train)\n",
    "print_score(m)"
   ]
  },
  {
   "cell_type": "code",
   "execution_count": 15,
   "metadata": {},
   "outputs": [
    {
     "name": "stdout",
     "output_type": "stream",
     "text": [
      "CPU times: user 1min 35s, sys: 724 ms, total: 1min 36s\n",
      "Wall time: 29.3 s\n",
      "[26.18829584129751, 23.275187193300802, 0.27286280627974246, -0.07528456744748158, 0.09055832391906082]\n"
     ]
    }
   ],
   "source": [
    "m = RandomForestRegressor(n_estimators=40, min_samples_leaf=10, max_features=0.5, n_jobs=-1, oob_score=True)\n",
    "%time m.fit(X_train, y_train)\n",
    "print_score(m)"
   ]
  },
  {
   "cell_type": "code",
   "execution_count": 16,
   "metadata": {},
   "outputs": [
    {
     "name": "stdout",
     "output_type": "stream",
     "text": [
      "n_estimators=100, max_features=0.1, min_samples_leaf=1\n",
      "CPU times: user 2min 19s, sys: 5.06 s, total: 2min 24s\n",
      "Wall time: 49.7 s\n",
      "[11.212950851217542, 17.568897707786526, 0.86669644850222, 0.3873307603241991, 0.03083434457298251]\n",
      "----------\n",
      "n_estimators=100, max_features=0.2, min_samples_leaf=1\n",
      "CPU times: user 2min 40s, sys: 4.83 s, total: 2min 44s\n",
      "Wall time: 53.6 s\n",
      "[11.212548824863676, 16.467649093500462, 0.8667060071956895, 0.46172990020400295, 0.03239000867252906]\n",
      "----------\n",
      "n_estimators=100, max_features=0.3, min_samples_leaf=1\n",
      "CPU times: user 3min 21s, sys: 4.95 s, total: 3min 26s\n",
      "Wall time: 1min 5s\n",
      "[11.21569674608727, 16.46518650567514, 0.8666311521566338, 0.4618908750068921, 0.03269526679713275]\n",
      "----------\n",
      "n_estimators=100, max_features=0.4, min_samples_leaf=1\n",
      "CPU times: user 4min 5s, sys: 5.28 s, total: 4min 10s\n",
      "Wall time: 1min 22s\n",
      "[11.24430891572772, 17.765265735886604, 0.8659498142752879, 0.3735585819043945, 0.0276515502722251]\n",
      "----------\n",
      "n_estimators=100, max_features=0.5, min_samples_leaf=1\n",
      "CPU times: user 4min 53s, sys: 5.57 s, total: 4min 59s\n",
      "Wall time: 1min 32s\n",
      "[11.246668921095695, 18.293865547408693, 0.8658935382765244, 0.33572483872746317, 0.020585385795767852]\n",
      "----------\n"
     ]
    }
   ],
   "source": [
    "ntrees = 100\n",
    "minleaf = 1\n",
    "for maxf in np.arange(0.1,0.6,0.1):\n",
    "    print(f\"n_estimators={ntrees}, max_features={maxf:.1f}, min_samples_leaf={minleaf}\")\n",
    "    m = RandomForestRegressor(n_estimators=ntrees, min_samples_leaf=minleaf, max_features=maxf, n_jobs=-1,\\\n",
    "                              oob_score=True)\n",
    "    %time m.fit(X_train, y_train)\n",
    "    print_score(m)\n",
    "    print('----------')"
   ]
  },
  {
   "cell_type": "code",
   "execution_count": 17,
   "metadata": {},
   "outputs": [
    {
     "name": "stdout",
     "output_type": "stream",
     "text": [
      "n_estimators=100, max_features=0.2, min_samples_leaf=1\n",
      "CPU times: user 2min 42s, sys: 4.78 s, total: 2min 47s\n",
      "Wall time: 54.7 s\n",
      "[11.195894669802883, 17.256658376792807, 0.8671016799791305, 0.40891430225505876, 0.03511692377059106]\n",
      "----------\n",
      "n_estimators=100, max_features=0.2, min_samples_leaf=2\n",
      "CPU times: user 2min 21s, sys: 2.69 s, total: 2min 24s\n",
      "Wall time: 46.7 s\n",
      "[20.319502872216805, 19.27254279027808, 0.5622480997517102, 0.26274948438487145, 0.07864457392723889]\n",
      "----------\n",
      "n_estimators=100, max_features=0.2, min_samples_leaf=3\n",
      "CPU times: user 2min 15s, sys: 2.03 s, total: 2min 17s\n",
      "Wall time: 44.1 s\n",
      "[22.935467899491442, 18.93270635469574, 0.442278878559621, 0.2885204103835852, 0.08836329799990883]\n",
      "----------\n",
      "n_estimators=100, max_features=0.2, min_samples_leaf=4\n",
      "CPU times: user 2min 9s, sys: 1.66 s, total: 2min 11s\n",
      "Wall time: 41.9 s\n",
      "[24.240070861260495, 20.481983587559547, 0.3770263850964499, 0.1673143595678387, 0.09173129561342919]\n",
      "----------\n",
      "n_estimators=100, max_features=0.2, min_samples_leaf=5\n",
      "CPU times: user 2min 5s, sys: 1.59 s, total: 2min 6s\n",
      "Wall time: 40.4 s\n",
      "[25.076820654286454, 21.881107382549242, 0.33327486048803734, 0.04966736669132521, 0.09350423244387374]\n",
      "----------\n",
      "n_estimators=100, max_features=0.2, min_samples_leaf=6\n",
      "CPU times: user 2min 5s, sys: 1.57 s, total: 2min 7s\n",
      "Wall time: 40.1 s\n",
      "[25.629874810584507, 21.386688959042537, 0.3035421260327804, 0.09212897796162833, 0.09466171471093354]\n",
      "----------\n"
     ]
    }
   ],
   "source": [
    "# choose max_feature = 0.2\n",
    "ntrees = 100\n",
    "#minleaf = 1\n",
    "maxf = 0.2\n",
    "for minleaf in range(1,7):\n",
    "    print(f\"n_estimators={ntrees}, max_features={maxf:.1f}, min_samples_leaf={minleaf}\")\n",
    "    m = RandomForestRegressor(n_estimators=ntrees, min_samples_leaf=minleaf, max_features=0.2, n_jobs=-1,\\\n",
    "                              oob_score=True)\n",
    "    %time m.fit(X_train, y_train)\n",
    "    print_score(m)\n",
    "    print('----------')"
   ]
  },
  {
   "cell_type": "code",
   "execution_count": 18,
   "metadata": {},
   "outputs": [],
   "source": [
    "from sklearn.inspection import permutation_importance\n",
    "from sklearn.metrics import mean_absolute_error\n",
    "from sklearn.metrics import mean_squared_error"
   ]
  },
  {
   "cell_type": "code",
   "execution_count": 19,
   "metadata": {},
   "outputs": [],
   "source": [
    "m = RandomForestRegressor(n_estimators=ntrees, min_samples_leaf=1, max_features=0.2, n_jobs=-1,\\\n",
    "                              oob_score=True)\n",
    "clf=m.fit(X_train, y_train)"
   ]
  },
  {
   "cell_type": "code",
   "execution_count": 20,
   "metadata": {},
   "outputs": [
    {
     "name": "stderr",
     "output_type": "stream",
     "text": [
      "/Applications/anaconda3/envs/DNN/lib/python3.7/site-packages/ipykernel_launcher.py:10: UserWarning: FixedFormatter should only be used together with FixedLocator\n",
      "  # Remove the CWD from sys.path while we load stuff.\n"
     ]
    },
    {
     "data": {
      "image/png": "[encoded data removed]",
      "text/plain": [
       "<Figure size 864x576 with 2 Axes>"
      ]
     },
     "metadata": {
      "needs_background": "light"
     },
     "output_type": "display_data"
    }
   ],
   "source": [
    "result = permutation_importance(m, X_valid, y_valid, n_repeats=10,random_state=0)\n",
    "perm_sorted_idx = result.importances_mean.argsort()\n",
    "\n",
    "tree_importance_sorted_idx = np.argsort(clf.feature_importances_)\n",
    "tree_indices = np.arange(0, len(clf.feature_importances_)) + 0.5\n",
    "\n",
    "fig, (ax1, ax2) = plt.subplots(1, 2, figsize=(12, 8))\n",
    "ax1.barh(tree_indices,\n",
    "         clf.feature_importances_[tree_importance_sorted_idx], height=0.7)\n",
    "ax1.set_yticklabels(X_train.columns[tree_importance_sorted_idx])\n",
    "ax1.set_yticks(tree_indices)\n",
    "ax1.set_ylim((0, len(clf.feature_importances_)))\n",
    "ax2.boxplot(result.importances[perm_sorted_idx].T, vert=False,\n",
    "            labels=X_train.columns[perm_sorted_idx])\n",
    "fig.tight_layout()\n",
    "plt.show()"
   ]
  },
  {
   "cell_type": "code",
   "execution_count": 21,
   "metadata": {},
   "outputs": [
    {
     "data": {
      "text/plain": [
       "array([ 3, 17, 15, 18,  8, 14,  7, 12, 13,  6, 10, 16,  9,  4,  0, 11,  1,  5, 20, 19,  2])"
      ]
     },
     "execution_count": 21,
     "metadata": {},
     "output_type": "execute_result"
    }
   ],
   "source": [
    "perm_sorted_idx "
   ]
  },
  {
   "cell_type": "code",
   "execution_count": 22,
   "metadata": {},
   "outputs": [],
   "source": [
    "min_samples_leaf = 3\n",
    "ntrees = 100\n",
    "max_features=0.2\n",
    "\n",
    "\n",
    "def test_valid(X, y, X_valid, y_valid, n_estimators=ntrees,\n",
    "               max_features=max_features, min_samples_leaf=min_samples_leaf):\n",
    "    X_valid = X_valid.reindex(columns=X.columns)\n",
    "    rf = RandomForestRegressor(n_estimators=ntrees,\n",
    "                               n_jobs=-1,\n",
    "                               oob_score=True,\n",
    "                               max_features=max_features, \n",
    "                               min_samples_leaf=min_samples_leaf)\n",
    "    rf.fit(X, y)\n",
    "    #n = rfnnodes(rf)\n",
    "    #h = np.median(rfmaxdepths(rf))\n",
    "    n=10\n",
    "    h=10\n",
    "    y_pred = rf.predict(X_valid)\n",
    "    mae_valid = mean_absolute_error(y_valid, y_pred)\n",
    "    mae_valid_pc = mae_valid*100/y_valid.mean()\n",
    "    rmsle_valid = np.sqrt(mean_squared_error(y_valid, y_pred) )\n",
    "    r2_score_valid = rf.score(X_valid, y_valid)\n",
    "    print(f\"OOB R^2 {rf.oob_score_:.5f} using {n:,d} tree nodes {h} median tree height\")\n",
    "    print(f\"Validation R^2 {r2_score_valid:.5f}, RMSE {rmsle_valid:.5f}, MAE {mae_valid:.0f},\\\n",
    "    MAE_pc {mae_valid_pc:.0f}\")\n",
    "    return rf, r2_score_valid, rmsle_valid, mae_valid"
   ]
  },
  {
   "cell_type": "code",
   "execution_count": 23,
   "metadata": {},
   "outputs": [
    {
     "name": "stdout",
     "output_type": "stream",
     "text": [
      "OOB R^2 0.08858 using 10 tree nodes 10 median tree height\n",
      "Validation R^2 0.22257, RMSE 19.79077, MAE 14,    MAE_pc 71\n"
     ]
    }
   ],
   "source": [
    "rf, r2_score_2007, rmsle_2007, mae_2007 = test_valid(X_train, y_train,X_valid, y_valid)"
   ]
  },
  {
   "cell_type": "code",
   "execution_count": 24,
   "metadata": {},
   "outputs": [
    {
     "name": "stdout",
     "output_type": "stream",
     "text": [
      "CPU times: user 1.38 s, sys: 173 ms, total: 1.55 s\n",
      "Wall time: 996 ms\n",
      "[30.584472373474267, 26.197796896668933, 0.008246210943613552, -0.3622806550481441]\n"
     ]
    }
   ],
   "source": [
    "from sklearn.linear_model import LinearRegression \n",
    "reg = LinearRegression()\n",
    "%time reg.fit(X_train,y_train)\n",
    "#y_pred = reg.predict(X_test)\n",
    "print_score(reg)"
   ]
  },
  {
   "cell_type": "code",
   "execution_count": 25,
   "metadata": {},
   "outputs": [
    {
     "name": "stdout",
     "output_type": "stream",
     "text": [
      "16,731,246\n"
     ]
    }
   ],
   "source": [
    "#Sum up number of nodes accross all trees\n",
    "ntrees = rf.n_estimators\n",
    "nnodes = sum([rf.estimators_[i].tree_.node_count for i in range(ntrees)])\n",
    "print(f\"{nnodes:,}\") # print with commas"
   ]
  },
  {
   "cell_type": "code",
   "execution_count": null,
   "metadata": {},
   "outputs": [],
   "source": []
  }
 ],
 "metadata": {
  "kernelspec": {
   "display_name": "Python 3",
   "language": "python",
   "name": "python3"
  },
  "language_info": {
   "codemirror_mode": {
    "name": "ipython",
    "version": 3
   },
   "file_extension": ".py",
   "mimetype": "text/x-python",
   "name": "python",
   "nbconvert_exporter": "python",
   "pygments_lexer": "ipython3",
   "version": "3.7.8"
  }
 },
 "nbformat": 4,
 "nbformat_minor": 4
}

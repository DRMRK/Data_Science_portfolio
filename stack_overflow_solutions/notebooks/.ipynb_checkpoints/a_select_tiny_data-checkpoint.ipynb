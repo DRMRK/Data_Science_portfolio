{
 "cells": [
  {
   "cell_type": "markdown",
   "metadata": {},
   "source": [
    "### Select tiny part of data\n",
    "- reads the whole datafile\n",
    "- creates  a tiny subset of data with same traget distribution as the original data\n"
   ]
  },
  {
   "cell_type": "code",
   "execution_count": 1,
   "metadata": {},
   "outputs": [],
   "source": [
    "import pandas as pd"
   ]
  },
  {
   "cell_type": "code",
   "execution_count": 3,
   "metadata": {},
   "outputs": [],
   "source": [
    "df = pd.read_csv('../input/train.csv')"
   ]
  },
  {
   "cell_type": "code",
   "execution_count": 4,
   "metadata": {},
   "outputs": [
    {
     "data": {
      "text/html": [
       "<div>\n",
       "<style scoped>\n",
       "    .dataframe tbody tr th:only-of-type {\n",
       "        vertical-align: middle;\n",
       "    }\n",
       "\n",
       "    .dataframe tbody tr th {\n",
       "        vertical-align: top;\n",
       "    }\n",
       "\n",
       "    .dataframe thead th {\n",
       "        text-align: right;\n",
       "    }\n",
       "</style>\n",
       "<table border=\"1\" class=\"dataframe\">\n",
       "  <thead>\n",
       "    <tr style=\"text-align: right;\">\n",
       "      <th></th>\n",
       "      <th>PostId</th>\n",
       "      <th>PostCreationDate</th>\n",
       "      <th>OwnerUserId</th>\n",
       "      <th>OwnerCreationDate</th>\n",
       "      <th>ReputationAtPostCreation</th>\n",
       "      <th>OwnerUndeletedAnswerCountAtPostTime</th>\n",
       "      <th>Title</th>\n",
       "      <th>BodyMarkdown</th>\n",
       "      <th>Tag1</th>\n",
       "      <th>Tag2</th>\n",
       "      <th>Tag3</th>\n",
       "      <th>Tag4</th>\n",
       "      <th>Tag5</th>\n",
       "      <th>PostClosedDate</th>\n",
       "      <th>OpenStatus</th>\n",
       "    </tr>\n",
       "  </thead>\n",
       "  <tbody>\n",
       "    <tr>\n",
       "      <th>0</th>\n",
       "      <td>4</td>\n",
       "      <td>07/31/2008 21:42:52</td>\n",
       "      <td>8</td>\n",
       "      <td>07/31/2008 21:33:24</td>\n",
       "      <td>1</td>\n",
       "      <td>0</td>\n",
       "      <td>Decimal vs Double?</td>\n",
       "      <td>I'm new to C#, and I want to use a trackbar fo...</td>\n",
       "      <td>c#</td>\n",
       "      <td>NaN</td>\n",
       "      <td>NaN</td>\n",
       "      <td>NaN</td>\n",
       "      <td>NaN</td>\n",
       "      <td>NaN</td>\n",
       "      <td>open</td>\n",
       "    </tr>\n",
       "    <tr>\n",
       "      <th>1</th>\n",
       "      <td>6</td>\n",
       "      <td>07/31/2008 22:08:08</td>\n",
       "      <td>9</td>\n",
       "      <td>07/31/2008 21:35:26</td>\n",
       "      <td>1</td>\n",
       "      <td>0</td>\n",
       "      <td>Percentage width child in absolutely positione...</td>\n",
       "      <td>I've got an absolutely positioned div containi...</td>\n",
       "      <td>html</td>\n",
       "      <td>css</td>\n",
       "      <td>NaN</td>\n",
       "      <td>NaN</td>\n",
       "      <td>NaN</td>\n",
       "      <td>NaN</td>\n",
       "      <td>open</td>\n",
       "    </tr>\n",
       "    <tr>\n",
       "      <th>2</th>\n",
       "      <td>8</td>\n",
       "      <td>07/31/2008 23:33:19</td>\n",
       "      <td>9</td>\n",
       "      <td>07/31/2008 21:35:26</td>\n",
       "      <td>16</td>\n",
       "      <td>1</td>\n",
       "      <td>Tools for porting J# code to C#</td>\n",
       "      <td>Are there any conversion tools for porting Vis...</td>\n",
       "      <td>j#</td>\n",
       "      <td>NaN</td>\n",
       "      <td>NaN</td>\n",
       "      <td>NaN</td>\n",
       "      <td>NaN</td>\n",
       "      <td>NaN</td>\n",
       "      <td>open</td>\n",
       "    </tr>\n",
       "    <tr>\n",
       "      <th>3</th>\n",
       "      <td>9</td>\n",
       "      <td>07/31/2008 23:40:59</td>\n",
       "      <td>1</td>\n",
       "      <td>07/31/2008 14:22:31</td>\n",
       "      <td>1</td>\n",
       "      <td>1</td>\n",
       "      <td>How do I calculate someone's age in c#?</td>\n",
       "      <td>Given a DateTime representing their birthday, ...</td>\n",
       "      <td>c#</td>\n",
       "      <td>NaN</td>\n",
       "      <td>NaN</td>\n",
       "      <td>NaN</td>\n",
       "      <td>NaN</td>\n",
       "      <td>NaN</td>\n",
       "      <td>open</td>\n",
       "    </tr>\n",
       "    <tr>\n",
       "      <th>4</th>\n",
       "      <td>9610539</td>\n",
       "      <td>03/07/2012 23:07:09</td>\n",
       "      <td>1021610</td>\n",
       "      <td>10/31/2011 08:26:49</td>\n",
       "      <td>29</td>\n",
       "      <td>0</td>\n",
       "      <td>retrieve data from NSUserDefaults to TableView</td>\n",
       "      <td>I save values of two labels through NSUserDefa...</td>\n",
       "      <td>iphone</td>\n",
       "      <td>objective-c</td>\n",
       "      <td>ios5</td>\n",
       "      <td>NaN</td>\n",
       "      <td>NaN</td>\n",
       "      <td>NaN</td>\n",
       "      <td>open</td>\n",
       "    </tr>\n",
       "  </tbody>\n",
       "</table>\n",
       "</div>"
      ],
      "text/plain": [
       "    PostId     PostCreationDate  OwnerUserId    OwnerCreationDate  \\\n",
       "0        4  07/31/2008 21:42:52            8  07/31/2008 21:33:24   \n",
       "1        6  07/31/2008 22:08:08            9  07/31/2008 21:35:26   \n",
       "2        8  07/31/2008 23:33:19            9  07/31/2008 21:35:26   \n",
       "3        9  07/31/2008 23:40:59            1  07/31/2008 14:22:31   \n",
       "4  9610539  03/07/2012 23:07:09      1021610  10/31/2011 08:26:49   \n",
       "\n",
       "   ReputationAtPostCreation  OwnerUndeletedAnswerCountAtPostTime  \\\n",
       "0                         1                                    0   \n",
       "1                         1                                    0   \n",
       "2                        16                                    1   \n",
       "3                         1                                    1   \n",
       "4                        29                                    0   \n",
       "\n",
       "                                               Title  \\\n",
       "0                                 Decimal vs Double?   \n",
       "1  Percentage width child in absolutely positione...   \n",
       "2                    Tools for porting J# code to C#   \n",
       "3            How do I calculate someone's age in c#?   \n",
       "4     retrieve data from NSUserDefaults to TableView   \n",
       "\n",
       "                                        BodyMarkdown    Tag1         Tag2  \\\n",
       "0  I'm new to C#, and I want to use a trackbar fo...      c#          NaN   \n",
       "1  I've got an absolutely positioned div containi...    html          css   \n",
       "2  Are there any conversion tools for porting Vis...      j#          NaN   \n",
       "3  Given a DateTime representing their birthday, ...      c#          NaN   \n",
       "4  I save values of two labels through NSUserDefa...  iphone  objective-c   \n",
       "\n",
       "   Tag3 Tag4 Tag5 PostClosedDate OpenStatus  \n",
       "0   NaN  NaN  NaN            NaN       open  \n",
       "1   NaN  NaN  NaN            NaN       open  \n",
       "2   NaN  NaN  NaN            NaN       open  \n",
       "3   NaN  NaN  NaN            NaN       open  \n",
       "4  ios5  NaN  NaN            NaN       open  "
      ]
     },
     "execution_count": 4,
     "metadata": {},
     "output_type": "execute_result"
    }
   ],
   "source": [
    "df.head()"
   ]
  },
  {
   "cell_type": "code",
   "execution_count": 5,
   "metadata": {},
   "outputs": [
    {
     "data": {
      "text/plain": [
       "open                   3300392\n",
       "not a real question      30789\n",
       "off topic                17530\n",
       "not constructive         15659\n",
       "too localized             6158\n",
       "Name: OpenStatus, dtype: int64"
      ]
     },
     "execution_count": 5,
     "metadata": {},
     "output_type": "execute_result"
    }
   ],
   "source": [
    "df.OpenStatus.value_counts()"
   ]
  },
  {
   "cell_type": "code",
   "execution_count": 6,
   "metadata": {},
   "outputs": [
    {
     "data": {
      "text/plain": [
       "c#                           282313\n",
       "java                         240920\n",
       "php                          228350\n",
       "javascript                   186336\n",
       "android                      174536\n",
       "                              ...  \n",
       "col                               1\n",
       "linq.compiledquery                1\n",
       "word-processor                    1\n",
       "object-oriented-modelling         1\n",
       "sourcegear-fortress               1\n",
       "Name: Tag1, Length: 20059, dtype: int64"
      ]
     },
     "execution_count": 6,
     "metadata": {},
     "output_type": "execute_result"
    }
   ],
   "source": [
    "df.Tag1.value_counts()"
   ]
  },
  {
   "cell_type": "code",
   "execution_count": 7,
   "metadata": {},
   "outputs": [
    {
     "data": {
      "text/plain": [
       "39677     1774\n",
       "4653      1427\n",
       "34537     1383\n",
       "179736    1239\n",
       "149080    1195\n",
       "          ... \n",
       "758230       1\n",
       "780761       1\n",
       "424759       1\n",
       "772573       1\n",
       "987676       1\n",
       "Name: OwnerUserId, Length: 622689, dtype: int64"
      ]
     },
     "execution_count": 7,
     "metadata": {},
     "output_type": "execute_result"
    }
   ],
   "source": [
    "df.OwnerUserId.value_counts()"
   ]
  },
  {
   "cell_type": "code",
   "execution_count": 8,
   "metadata": {},
   "outputs": [
    {
     "name": "stdout",
     "output_type": "stream",
     "text": [
      "<class 'pandas.core.frame.DataFrame'>\n",
      "RangeIndex: 3370528 entries, 0 to 3370527\n",
      "Data columns (total 15 columns):\n",
      " #   Column                               Dtype \n",
      "---  ------                               ----- \n",
      " 0   PostId                               int64 \n",
      " 1   PostCreationDate                     object\n",
      " 2   OwnerUserId                          int64 \n",
      " 3   OwnerCreationDate                    object\n",
      " 4   ReputationAtPostCreation             int64 \n",
      " 5   OwnerUndeletedAnswerCountAtPostTime  int64 \n",
      " 6   Title                                object\n",
      " 7   BodyMarkdown                         object\n",
      " 8   Tag1                                 object\n",
      " 9   Tag2                                 object\n",
      " 10  Tag3                                 object\n",
      " 11  Tag4                                 object\n",
      " 12  Tag5                                 object\n",
      " 13  PostClosedDate                       object\n",
      " 14  OpenStatus                           object\n",
      "dtypes: int64(4), object(11)\n",
      "memory usage: 385.7+ MB\n"
     ]
    }
   ],
   "source": [
    "df.info()"
   ]
  },
  {
   "cell_type": "markdown",
   "metadata": {},
   "source": [
    "### Take a small subset of the data "
   ]
  },
  {
   "cell_type": "code",
   "execution_count": 9,
   "metadata": {},
   "outputs": [],
   "source": [
    "Xdata = df[[\"Title\", \"BodyMarkdown\",\"OpenStatus\"]]\n",
    "ydata = df[[\"OpenStatus\"]]"
   ]
  },
  {
   "cell_type": "code",
   "execution_count": 10,
   "metadata": {},
   "outputs": [
    {
     "data": {
      "text/html": [
       "<div>\n",
       "<style scoped>\n",
       "    .dataframe tbody tr th:only-of-type {\n",
       "        vertical-align: middle;\n",
       "    }\n",
       "\n",
       "    .dataframe tbody tr th {\n",
       "        vertical-align: top;\n",
       "    }\n",
       "\n",
       "    .dataframe thead th {\n",
       "        text-align: right;\n",
       "    }\n",
       "</style>\n",
       "<table border=\"1\" class=\"dataframe\">\n",
       "  <thead>\n",
       "    <tr style=\"text-align: right;\">\n",
       "      <th></th>\n",
       "      <th>Title</th>\n",
       "      <th>BodyMarkdown</th>\n",
       "      <th>OpenStatus</th>\n",
       "    </tr>\n",
       "  </thead>\n",
       "  <tbody>\n",
       "    <tr>\n",
       "      <th>0</th>\n",
       "      <td>Decimal vs Double?</td>\n",
       "      <td>I'm new to C#, and I want to use a trackbar fo...</td>\n",
       "      <td>open</td>\n",
       "    </tr>\n",
       "    <tr>\n",
       "      <th>1</th>\n",
       "      <td>Percentage width child in absolutely positione...</td>\n",
       "      <td>I've got an absolutely positioned div containi...</td>\n",
       "      <td>open</td>\n",
       "    </tr>\n",
       "    <tr>\n",
       "      <th>2</th>\n",
       "      <td>Tools for porting J# code to C#</td>\n",
       "      <td>Are there any conversion tools for porting Vis...</td>\n",
       "      <td>open</td>\n",
       "    </tr>\n",
       "    <tr>\n",
       "      <th>3</th>\n",
       "      <td>How do I calculate someone's age in c#?</td>\n",
       "      <td>Given a DateTime representing their birthday, ...</td>\n",
       "      <td>open</td>\n",
       "    </tr>\n",
       "    <tr>\n",
       "      <th>4</th>\n",
       "      <td>retrieve data from NSUserDefaults to TableView</td>\n",
       "      <td>I save values of two labels through NSUserDefa...</td>\n",
       "      <td>open</td>\n",
       "    </tr>\n",
       "  </tbody>\n",
       "</table>\n",
       "</div>"
      ],
      "text/plain": [
       "                                               Title  \\\n",
       "0                                 Decimal vs Double?   \n",
       "1  Percentage width child in absolutely positione...   \n",
       "2                    Tools for porting J# code to C#   \n",
       "3            How do I calculate someone's age in c#?   \n",
       "4     retrieve data from NSUserDefaults to TableView   \n",
       "\n",
       "                                        BodyMarkdown OpenStatus  \n",
       "0  I'm new to C#, and I want to use a trackbar fo...       open  \n",
       "1  I've got an absolutely positioned div containi...       open  \n",
       "2  Are there any conversion tools for porting Vis...       open  \n",
       "3  Given a DateTime representing their birthday, ...       open  \n",
       "4  I save values of two labels through NSUserDefa...       open  "
      ]
     },
     "execution_count": 10,
     "metadata": {},
     "output_type": "execute_result"
    }
   ],
   "source": [
    "Xdata.head()"
   ]
  },
  {
   "cell_type": "code",
   "execution_count": 11,
   "metadata": {},
   "outputs": [],
   "source": [
    "from sklearn.model_selection import train_test_split"
   ]
  },
  {
   "cell_type": "code",
   "execution_count": 12,
   "metadata": {},
   "outputs": [],
   "source": [
    "X_train, X, y_train, y = train_test_split(Xdata, ydata, test_size=0.05, \n",
    "                                                    random_state=42, stratify=ydata)"
   ]
  },
  {
   "cell_type": "code",
   "execution_count": 13,
   "metadata": {},
   "outputs": [
    {
     "data": {
      "text/plain": [
       "OpenStatus         \n",
       "open                   165020\n",
       "not a real question      1539\n",
       "off topic                 877\n",
       "not constructive          783\n",
       "too localized             308\n",
       "dtype: int64"
      ]
     },
     "execution_count": 13,
     "metadata": {},
     "output_type": "execute_result"
    }
   ],
   "source": [
    "y.value_counts()"
   ]
  },
  {
   "cell_type": "code",
   "execution_count": 14,
   "metadata": {},
   "outputs": [
    {
     "data": {
      "text/plain": [
       "open                   165020\n",
       "not a real question      1539\n",
       "off topic                 877\n",
       "not constructive          783\n",
       "too localized             308\n",
       "Name: OpenStatus, dtype: int64"
      ]
     },
     "execution_count": 14,
     "metadata": {},
     "output_type": "execute_result"
    }
   ],
   "source": [
    "X.OpenStatus.value_counts()"
   ]
  },
  {
   "cell_type": "code",
   "execution_count": 15,
   "metadata": {},
   "outputs": [
    {
     "name": "stderr",
     "output_type": "stream",
     "text": [
      "/home/mukut/miniconda3/envs/ml/lib/python3.8/site-packages/pandas/core/generic.py:5489: SettingWithCopyWarning: \n",
      "A value is trying to be set on a copy of a slice from a DataFrame.\n",
      "Try using .loc[row_indexer,col_indexer] = value instead\n",
      "\n",
      "See the caveats in the documentation: https://pandas.pydata.org/pandas-docs/stable/user_guide/indexing.html#returning-a-view-versus-a-copy\n",
      "  self[name] = value\n"
     ]
    }
   ],
   "source": [
    "X.OpenStatus = X.OpenStatus.apply(lambda x: 'open' if x=='open' else 'closed')"
   ]
  },
  {
   "cell_type": "code",
   "execution_count": 16,
   "metadata": {},
   "outputs": [
    {
     "data": {
      "text/plain": [
       "open      165020\n",
       "closed      3507\n",
       "Name: OpenStatus, dtype: int64"
      ]
     },
     "execution_count": 16,
     "metadata": {},
     "output_type": "execute_result"
    }
   ],
   "source": [
    "X.OpenStatus.value_counts()"
   ]
  },
  {
   "cell_type": "code",
   "execution_count": 18,
   "metadata": {},
   "outputs": [],
   "source": [
    "X.to_csv(\"../input/train_tiny.csv\", index= False)"
   ]
  },
  {
   "cell_type": "code",
   "execution_count": 20,
   "metadata": {},
   "outputs": [],
   "source": [
    "data = pd.read_csv('../input/train_tiny.csv')"
   ]
  },
  {
   "cell_type": "code",
   "execution_count": 21,
   "metadata": {},
   "outputs": [
    {
     "data": {
      "text/html": [
       "<div>\n",
       "<style scoped>\n",
       "    .dataframe tbody tr th:only-of-type {\n",
       "        vertical-align: middle;\n",
       "    }\n",
       "\n",
       "    .dataframe tbody tr th {\n",
       "        vertical-align: top;\n",
       "    }\n",
       "\n",
       "    .dataframe thead th {\n",
       "        text-align: right;\n",
       "    }\n",
       "</style>\n",
       "<table border=\"1\" class=\"dataframe\">\n",
       "  <thead>\n",
       "    <tr style=\"text-align: right;\">\n",
       "      <th></th>\n",
       "      <th>Title</th>\n",
       "      <th>BodyMarkdown</th>\n",
       "      <th>OpenStatus</th>\n",
       "    </tr>\n",
       "  </thead>\n",
       "  <tbody>\n",
       "    <tr>\n",
       "      <th>0</th>\n",
       "      <td>Convert UIWebview contents to a UIImage when t...</td>\n",
       "      <td>Very similar to [this question][1] (and also [...</td>\n",
       "      <td>open</td>\n",
       "    </tr>\n",
       "    <tr>\n",
       "      <th>1</th>\n",
       "      <td>show images on tabelview that are come from we...</td>\n",
       "      <td>I have use below code in this code I show imag...</td>\n",
       "      <td>open</td>\n",
       "    </tr>\n",
       "  </tbody>\n",
       "</table>\n",
       "</div>"
      ],
      "text/plain": [
       "                                               Title  \\\n",
       "0  Convert UIWebview contents to a UIImage when t...   \n",
       "1  show images on tabelview that are come from we...   \n",
       "\n",
       "                                        BodyMarkdown OpenStatus  \n",
       "0  Very similar to [this question][1] (and also [...       open  \n",
       "1  I have use below code in this code I show imag...       open  "
      ]
     },
     "execution_count": 21,
     "metadata": {},
     "output_type": "execute_result"
    }
   ],
   "source": [
    "data.head(2)"
   ]
  },
  {
   "cell_type": "code",
   "execution_count": 23,
   "metadata": {},
   "outputs": [],
   "source": [
    "data = data[[\"Title\",\"BodyMarkdown\",\"OpenStatus\"]]\n",
    "data[\"OpenStatus\"] = data[\"OpenStatus\"].apply(lambda x: 'open' if x=='open' else 'closed')"
   ]
  },
  {
   "cell_type": "code",
   "execution_count": 24,
   "metadata": {},
   "outputs": [
    {
     "data": {
      "text/plain": [
       "open      165020\n",
       "closed      3507\n",
       "Name: OpenStatus, dtype: int64"
      ]
     },
     "execution_count": 24,
     "metadata": {},
     "output_type": "execute_result"
    }
   ],
   "source": [
    "data.OpenStatus.value_counts()"
   ]
  },
  {
   "cell_type": "code",
   "execution_count": 13,
   "metadata": {},
   "outputs": [
    {
     "name": "stdout",
     "output_type": "stream",
     "text": [
      "0 [2 3 4 5 6 7 8 9] [0 1]\n",
      "1 [0 1 4 5 6 7 8 9] [2 3]\n",
      "2 [0 1 2 3 6 7 8 9] [4 5]\n",
      "3 [0 1 2 3 4 5 8 9] [6 7]\n",
      "4 [0 1 2 3 4 5 6 7] [8 9]\n"
     ]
    }
   ],
   "source": [
    "# create folds.py\n",
    "# import pandas and model_selection module from scikit-learn\n",
    "import pandas as pd\n",
    "from sklearn import model_selection\n",
    "\n",
    "if __name__==\"__main__\":\n",
    "    # Read trainig data\n",
    "    df = pd.read_csv(\"../input/train_tiny.csv\")\n",
    "    df = df[[\"Title\",\"BodyMarkdown\",\"OpenStatus\"]]\n",
    "   \n",
    "    # create a new column called fold and fill it with -1\n",
    "    df[\"kfold\"] = -1\n",
    "\n",
    "    # Randomize the rows of data\n",
    "\n",
    "    df = df.sample(frac=1).reset_index(drop=True)\n",
    "    df = df[:10]\n",
    "\n",
    "    # fetch labels\n",
    "    y= df.OpenStatus.values\n",
    "\n",
    "    #initialize the kfold class from model_selection module\n",
    "\n",
    "    kf = model_selection.StratifiedKFold(n_splits=5)\n",
    "\n",
    "    # fill the new kfold column\n",
    "\n",
    "    for f, (t_, v_) in enumerate(kf.split(X=df, y=y)):\n",
    "        print(f, t_,v_)\n",
    "        df.loc[v_, 'kfold'] = f\n",
    "    # save the new csv with kfold column\n",
    "\n",
    "    df.to_csv(\"train_tiny_folds.csv\", index = False)    \n"
   ]
  },
  {
   "cell_type": "code",
   "execution_count": null,
   "metadata": {},
   "outputs": [],
   "source": []
  },
  {
   "cell_type": "code",
   "execution_count": 182,
   "metadata": {},
   "outputs": [
    {
     "name": "stdout",
     "output_type": "stream",
     "text": [
      "Classification.ipynb  Untitled1.ipynb       train_tiny.csv\r\n",
      "Topic_modelling.ipynb train.csv             train_tiny_folds.csv\r\n",
      "Untitled.ipynb        train_tiny\r\n"
     ]
    }
   ],
   "source": [
    "!ls"
   ]
  },
  {
   "cell_type": "code",
   "execution_count": 186,
   "metadata": {},
   "outputs": [],
   "source": [
    "punctuation = list(string.punctuation)\n",
    "\n",
    "my_stopwords = nltk.corpus.stopwords.words('english')+ punctuation\n",
    "\n",
    "re_tok = re.compile(f'([{string.punctuation}“”¨«»®´·º½¾¿¡§£₤‘’])')\n",
    "\n",
    "def remove_links(tweet):\n",
    "    '''Takes a string and removes web links from it'''\n",
    "    tweet = re.sub(r'http\\S+', '', tweet) # remove http links\n",
    "    tweet = re.sub(r'bit.ly/\\S+', '', tweet) # rempve bitly links\n",
    "    tweet = tweet.strip('[link]') # remove [links]\n",
    "    return tweet\n",
    "\n",
    "def tokenize(s):\n",
    "    output = re.sub(r'\\d+', '', s) # remove numbers \n",
    "    output = remove_links(output)\n",
    "    result = re_tok.sub(r' \\1 ', output).split() \n",
    "    result = [word for word in result if len(word)>2]\n",
    "    result = [word for word in result if word not in my_stopwords]\n",
    "    return result"
   ]
  },
  {
   "cell_type": "code",
   "execution_count": null,
   "metadata": {},
   "outputs": [],
   "source": [
    "#vectorizer = CountVectorizer(tokenizer = tokenize)"
   ]
  },
  {
   "cell_type": "markdown",
   "metadata": {},
   "source": [
    "### Stop words, stemming, lemmatization"
   ]
  },
  {
   "cell_type": "code",
   "execution_count": null,
   "metadata": {},
   "outputs": [
    {
     "name": "stdout",
     "output_type": "stream",
     "text": [
      "sounts open      7921\n",
      "closed     168\n",
      "Name: OpenStatus, dtype: int64\n"
     ]
    },
    {
     "name": "stderr",
     "output_type": "stream",
     "text": [
      "/Users/franciumpnc/miniconda3/envs/nlp-work/lib/python3.8/site-packages/sklearn/linear_model/_sag.py:329: ConvergenceWarning: The max_iter was reached which means the coef_ did not converge\n",
      "  warnings.warn(\"The max_iter was reached which means \"\n"
     ]
    },
    {
     "name": "stdout",
     "output_type": "stream",
     "text": [
      "preds unique ['closed' 'open']\n",
      "Fold: 0\n",
      "Accuracy=0.9036963777970083\n",
      "MCC =0.0803109599359791\n",
      " \n",
      "sounts open      7921\n",
      "closed     168\n",
      "Name: OpenStatus, dtype: int64\n"
     ]
    }
   ],
   "source": [
    "import pandas as pd\n",
    "import numpy as np\n",
    "from nltk.tokenize import word_tokenize\n",
    "from sklearn import linear_model\n",
    "from sklearn import metrics\n",
    "from sklearn import model_selection\n",
    "from sklearn.feature_extraction.text import TfidfVectorizer\n",
    "from sklearn.preprocessing import StandardScaler\n",
    "\n",
    "if __name__==\"__main__\":\n",
    "    df = pd.read_csv(\"train_tiny_folds.csv\")\n",
    "    for fold_ in range(5):\n",
    "        train_df = df[df.kfold != fold_].reset_index(drop = True)\n",
    "        test_df = df[df.kfold == fold_].reset_index(drop = True)\n",
    "        vectorizer = TfidfVectorizer(tokenizer = tokenize,\n",
    "                                     token_pattern=None, ngram_range=(1,3))\n",
    "        # fit\n",
    "        xtrain = vectorizer.fit(train_df.BodyMarkdown)\n",
    "        # transform\n",
    "        xtrain = vectorizer.transform(train_df.BodyMarkdown)\n",
    "        xtest = vectorizer.transform(test_df.BodyMarkdown)\n",
    "        print('sounts', train_df.OpenStatus.value_counts())\n",
    "        # model\n",
    "        model = linear_model.LogisticRegression(penalty='l1',max_iter=2000,\n",
    "                                                solver = 'saga',class_weight='balanced')\n",
    "        \n",
    "        # fit the model\n",
    "        model.fit(xtrain,train_df.OpenStatus)\n",
    "        \n",
    "        # make predictions on test data\n",
    "        preds = model.predict(xtrain)\n",
    "        #print(preds.shape)\n",
    "        #preds1 = [model.classes_[np.argmax(x)] for x in preds]        \n",
    "        print('preds unique',np.unique(preds))\n",
    "        \n",
    "        # calculate f1 score\n",
    "        #accuracy = metrics.accuracy_score(test_df.BodyMarkdown, preds)\n",
    "        accuracy2 = np.sum(preds == train_df.OpenStatus) / train_df.OpenStatus.shape[0]\n",
    "        #log_loss= metrics.log_loss(train_df.OpenStatus,preds)\n",
    "        \n",
    "        \n",
    "        print(f\"Fold: {fold_}\")\n",
    "        print(f\"Accuracy={accuracy2}\")\n",
    "        print(f\"MCC ={log_loss}\")\n",
    "        print(\" \")"
   ]
  },
  {
   "cell_type": "code",
   "execution_count": 160,
   "metadata": {},
   "outputs": [
    {
     "data": {
      "text/plain": [
       "array(['not a real question', 'not constructive', 'off topic', 'open',\n",
       "       'too localized'], dtype=object)"
      ]
     },
     "execution_count": 160,
     "metadata": {},
     "output_type": "execute_result"
    }
   ],
   "source": [
    "model.classes_"
   ]
  },
  {
   "cell_type": "code",
   "execution_count": 167,
   "metadata": {},
   "outputs": [],
   "source": [
    "weight ={'not a real question':0.009098, 'not constructive':0.004648, \n",
    "         'off topic':0.005241, 'open':0.979233,'too localized':0.001780}"
   ]
  },
  {
   "cell_type": "code",
   "execution_count": 161,
   "metadata": {},
   "outputs": [
    {
     "data": {
      "text/plain": [
       "open                   9902\n",
       "not a real question      92\n",
       "off topic                53\n",
       "not constructive         47\n",
       "too localized            18\n",
       "Name: OpenStatus, dtype: int64"
      ]
     },
     "execution_count": 161,
     "metadata": {},
     "output_type": "execute_result"
    }
   ],
   "source": [
    "X.OpenStatus.value_counts()"
   ]
  },
  {
   "cell_type": "code",
   "execution_count": 166,
   "metadata": {},
   "outputs": [
    {
     "data": {
      "text/plain": [
       "open                   0.979233\n",
       "not a real question    0.009098\n",
       "off topic              0.005241\n",
       "not constructive       0.004648\n",
       "too localized          0.001780\n",
       "Name: OpenStatus, dtype: float64"
      ]
     },
     "execution_count": 166,
     "metadata": {},
     "output_type": "execute_result"
    }
   ],
   "source": [
    "a=X.OpenStatus.value_counts()\n",
    "a/a.sum()"
   ]
  },
  {
   "cell_type": "code",
   "execution_count": null,
   "metadata": {},
   "outputs": [],
   "source": []
  }
 ],
 "metadata": {
  "kernelspec": {
   "display_name": "Python 3",
   "language": "python",
   "name": "python3"
  },
  "language_info": {
   "codemirror_mode": {
    "name": "ipython",
    "version": 3
   },
   "file_extension": ".py",
   "mimetype": "text/x-python",
   "name": "python",
   "nbconvert_exporter": "python",
   "pygments_lexer": "ipython3",
   "version": "3.8.5"
  }
 },
 "nbformat": 4,
 "nbformat_minor": 4
}

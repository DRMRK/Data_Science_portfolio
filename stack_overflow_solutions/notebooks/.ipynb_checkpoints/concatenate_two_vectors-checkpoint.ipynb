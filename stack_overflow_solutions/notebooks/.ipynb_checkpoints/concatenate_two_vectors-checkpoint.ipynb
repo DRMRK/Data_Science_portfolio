{
 "cells": [
  {
   "cell_type": "markdown",
   "metadata": {},
   "source": [
    "### Load the vectors \n",
    "- Load vectors vector1 and vector2\n",
    "- concatenate vector1 and vector2 and make vector\n",
    "- save vector as .npy file"
   ]
  },
  {
   "cell_type": "code",
   "execution_count": 3,
   "metadata": {},
   "outputs": [],
   "source": [
    "import pandas as pd\n",
    "import numpy as np\n",
    "import pandas as pd\n",
    "from numpy import save\n",
    "from numpy import load\n",
    "import time"
   ]
  },
  {
   "cell_type": "code",
   "execution_count": 2,
   "metadata": {},
   "outputs": [
    {
     "name": "stdout",
     "output_type": "stream",
     "text": [
      "vectors shape (3370528, 600)\n",
      "target shape (3370528,)\n",
      "save the total vector\n"
     ]
    }
   ],
   "source": [
    "vectors=[]\n",
    "vector1= load(\"../input/vector1.npy\")\n",
    "vector2= load(\"../input/vector2.npy\")\n",
    "y =load(\"../input/target.npy\",allow_pickle=True)\n",
    "vectors = np.concatenate((vector1,vector2),axis=1)\n",
    "print(\"vectors shape\", vectors.shape)\n",
    "print(\"target shape\",y.shape)\n",
    "print(\"save the total vector\")\n",
    "save(\"../input/vector.npy\",vectors)"
   ]
  },
  {
   "cell_type": "markdown",
   "metadata": {},
   "source": [
    "### Create a dataframe with kfold column"
   ]
  },
  {
   "cell_type": "code",
   "execution_count": null,
   "metadata": {},
   "outputs": [],
   "source": [
    "t0=time.time()\n",
    "dataset = pd.DataFrame(data=vectors)\n",
    "dataset[\"kfold\"]=-1\n",
    "print(\"Train column shape\",vectors.shape)\n",
    "dataset[\"target\"]=y\n",
    "# Change column  names to string\n",
    "dataset.columns =  dataset.columns.astype(str)\n",
    "\n",
    "t1=time.time()\n",
    "total_time = t1-t0\n",
    "print(\"time embedding\",total_time)\n",
    "               \n",
    "# Randomize the rows of data\n",
    "dataset = dataset.sample(frac=1).reset_index(drop=True)\n",
    "# fetch labels"
   ]
  },
  {
   "cell_type": "code",
   "execution_count": null,
   "metadata": {},
   "outputs": [],
   "source": [
    "dataset.columns"
   ]
  },
  {
   "cell_type": "code",
   "execution_count": null,
   "metadata": {},
   "outputs": [],
   "source": [
    "from sklearn import model_selection\n",
    "\n",
    "t0=time.time()\n",
    "\n",
    "y = dataset.target.values\n",
    "\n",
    "#initialize the kfold class from model_selection module\n",
    "\n",
    "kf = model_selection.StratifiedKFold(n_splits=5)\n",
    "\n",
    "    # fill the new kfold column\n",
    "\n",
    "for f, (t_, v_) in enumerate(kf.split(X=dataset, y=y)):\n",
    "    dataset.loc[v_, 'kfold'] = f\n",
    "    # save the new csv with kfold column\n",
    "    dataset.to_csv(\"../input/_embedded_train_folds.csv\", index = False)\n",
    "\n",
    "t1=time.time()\n",
    "total_time=t1-t0\n",
    "print(\"time kfold\", total_time)\n",
    "    "
   ]
  },
  {
   "cell_type": "code",
   "execution_count": null,
   "metadata": {},
   "outputs": [],
   "source": [
    "from sklearn import model_selection\n",
    "import feather\n",
    "t0=time.time()\n",
    "\n",
    "y = dataset.target.values\n",
    "\n",
    "#initialize the kfold class from model_selection module\n",
    "\n",
    "kf = model_selection.StratifiedKFold(n_splits=5)\n",
    "\n",
    "    # fill the new kfold column\n",
    "\n",
    "for f, (t_, v_) in enumerate(kf.split(X=dataset, y=y)):\n",
    "    dataset.loc[v_, 'kfold'] = f\n",
    "    # save the new csv with kfold column\n",
    "    dataset.to_feather(\"../input/_embedded_train_tiny_folds2.ftr\")\n",
    "\n",
    "t1=time.time()\n",
    "total_time=t1-t0\n",
    "\n",
    "print(\"time kfold\", total_time)"
   ]
  },
  {
   "cell_type": "code",
   "execution_count": null,
   "metadata": {},
   "outputs": [],
   "source": [
    "dataset = pd.read_feather(\"../input/_embedded_train_tiny_folds2.ftr\")"
   ]
  },
  {
   "cell_type": "code",
   "execution_count": null,
   "metadata": {},
   "outputs": [],
   "source": [
    "dataset.head()"
   ]
  },
  {
   "cell_type": "code",
   "execution_count": null,
   "metadata": {},
   "outputs": [],
   "source": []
  }
 ],
 "metadata": {
  "kernelspec": {
   "display_name": "Python 3",
   "language": "python",
   "name": "python3"
  },
  "language_info": {
   "codemirror_mode": {
    "name": "ipython",
    "version": 3
   },
   "file_extension": ".py",
   "mimetype": "text/x-python",
   "name": "python",
   "nbconvert_exporter": "python",
   "pygments_lexer": "ipython3",
   "version": "3.8.5"
  }
 },
 "nbformat": 4,
 "nbformat_minor": 4
}

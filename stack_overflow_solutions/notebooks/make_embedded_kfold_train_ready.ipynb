{
 "cells": [
  {
   "cell_type": "markdown",
   "metadata": {},
   "source": [
    "### Load the vectors \n",
    "- read vector.npy\n",
    "- read target.npy\n",
    "- make a dataframe\n",
    "- use model_selection to do Stratified Kfold\n",
    "- save the data with kfold column as a .csv file\n",
    "- the .csv file will be the input to our models."
   ]
  },
  {
   "cell_type": "code",
   "execution_count": 1,
   "metadata": {},
   "outputs": [],
   "source": [
    "import pandas as pd\n",
    "import numpy as np\n",
    "import pandas as pd\n",
    "from numpy import save\n",
    "from numpy import load\n",
    "import time\n",
    "from sklearn import model_selection\n",
    "from pathlib import Path"
   ]
  },
  {
   "cell_type": "code",
   "execution_count": 2,
   "metadata": {},
   "outputs": [],
   "source": [
    "X_path = Path(\"../input/vector.npy\")\n",
    "y_path = Path(\"../input/target.npy\")\n",
    "\n",
    "def load_vectors(X_path, y_path):\n",
    "    X=[]\n",
    "    X= load(X_path)\n",
    "    y= load(y_path,allow_pickle=True)\n",
    "    print(\"vectors shape\", X.shape)\n",
    "    print(\"target shape\",y.shape)\n",
    "    return X,y    "
   ]
  },
  {
   "cell_type": "markdown",
   "metadata": {},
   "source": [
    "### Create a dataframe with kfold column"
   ]
  },
  {
   "cell_type": "code",
   "execution_count": 3,
   "metadata": {},
   "outputs": [
    {
     "name": "stdout",
     "output_type": "stream",
     "text": [
      "vectors shape (3370528, 600)\n",
      "target shape (3370528,)\n",
      "data loaded\n",
      "dataset shape (3370528, 602)\n",
      "randomizing now\n",
      "time to randomize 91.45854210853577\n",
      "Index(['0', '1', '2', '3', '4', '5', '6', '7', '8', '9',\n",
      "       ...\n",
      "       '592', '593', '594', '595', '596', '597', '598', '599', 'kfold',\n",
      "       'target'],\n",
      "      dtype='object', length=602)\n"
     ]
    }
   ],
   "source": [
    "X, y = load_vectors(X_path, y_path)\n",
    "\n",
    "print(\"data loaded\")\n",
    "\n",
    "dataset = pd.DataFrame(data=X)\n",
    "dataset[\"kfold\"]=-1\n",
    "dataset[\"target\"]=y\n",
    "\n",
    "print(\"dataset shape\",dataset.shape)\n",
    "\n",
    "# clean up\n",
    "\n",
    "del X\n",
    "del y\n",
    "\n",
    "# Change column  names to string\n",
    "dataset.columns =  dataset.columns.astype(str)\n",
    "t0=time.time()\n",
    "print(\"randomizing now\")\n",
    "# Randomize the rows of data\n",
    "dataset = dataset.sample(frac=1).reset_index(drop=True)\n",
    "t1=time.time()\n",
    "total_time = t1-t0\n",
    "print(\"time to randomize\", total_time)\n",
    "print(dataset.columns)"
   ]
  },
  {
   "cell_type": "markdown",
   "metadata": {},
   "source": [
    "### Create the folds and save it in a file "
   ]
  },
  {
   "cell_type": "code",
   "execution_count": null,
   "metadata": {},
   "outputs": [],
   "source": [
    "\"\"\" \n",
    "t0=time.time()\n",
    "\n",
    "# get the target\n",
    "y = dataset.target.values\n",
    "\n",
    "#initialize the kfold class from model_selection module\n",
    "\n",
    "kf = model_selection.StratifiedKFold(n_splits=5)\n",
    "\n",
    "    # fill the new kfold column\n",
    "\n",
    "for f, (t_, v_) in enumerate(kf.split(X=dataset, y=y)):\n",
    "    dataset.loc[v_, 'kfold'] = f\n",
    "    # save the new csv with kfold column\n",
    "    dataset.to_csv(\"../input/embedded_train_folds.csv\", index = False)\n",
    "\n",
    "t1=time.time()\n",
    "total_time=t1-t0\n",
    "print(\"Time to write kfold\", total_time)\n",
    "\"\"\"\n"
   ]
  },
  {
   "cell_type": "code",
   "execution_count": 4,
   "metadata": {},
   "outputs": [
    {
     "name": "stdout",
     "output_type": "stream",
     "text": [
      "time kfold 65.14331650733948\n"
     ]
    }
   ],
   "source": [
    "import feather\n",
    "t0=time.time()\n",
    "\n",
    "y = dataset.target.values\n",
    "\n",
    "#initialize the kfold class from model_selection module\n",
    "\n",
    "kf = model_selection.StratifiedKFold(n_splits=5)\n",
    "\n",
    "    # fill the new kfold column\n",
    "\n",
    "for f, (t_, v_) in enumerate(kf.split(X=dataset, y=y)):\n",
    "    dataset.loc[v_, 'kfold'] = f\n",
    "    # save the new csv with kfold column\n",
    "    dataset.to_feather(\"../input/_embedded_train.ftr\")\n",
    "\n",
    "t1=time.time()\n",
    "total_time=t1-t0\n",
    "\n",
    "print(\"time kfold\", total_time)"
   ]
  },
  {
   "cell_type": "code",
   "execution_count": 5,
   "metadata": {},
   "outputs": [],
   "source": [
    "dataset = pd.read_feather(\"../input/_embedded_train.ftr\")"
   ]
  },
  {
   "cell_type": "code",
   "execution_count": 7,
   "metadata": {},
   "outputs": [
    {
     "data": {
      "text/plain": [
       "(3370528, 602)"
      ]
     },
     "execution_count": 7,
     "metadata": {},
     "output_type": "execute_result"
    }
   ],
   "source": [
    "dataset.shape"
   ]
  },
  {
   "cell_type": "code",
   "execution_count": 8,
   "metadata": {},
   "outputs": [
    {
     "name": "stdout",
     "output_type": "stream",
     "text": [
      "time kfold 58.0557906627655\n"
     ]
    }
   ],
   "source": [
    "import feather\n",
    "t0=time.time()\n",
    "\n",
    "y = dataset.target.values\n",
    "\n",
    "#initialize the kfold class from model_selection module\n",
    "\n",
    "kf = model_selection.StratifiedKFold(n_splits=5)\n",
    "\n",
    "    # fill the new kfold column\n",
    "\n",
    "for f, (t_, v_) in enumerate(kf.split(X=dataset, y=y)):\n",
    "    dataset.loc[v_, 'kfold'] = f\n",
    "    # save the new csv with kfold column\n",
    "    dataset.to_pickle(\"../input/embedded_train.pkl\")\n",
    "\n",
    "t1=time.time()\n",
    "total_time=t1-t0\n",
    "\n",
    "print(\"time kfold\", total_time)"
   ]
  },
  {
   "cell_type": "code",
   "execution_count": 9,
   "metadata": {},
   "outputs": [],
   "source": [
    "dataset = pd.read_pickle(\"../input/embedded_train.pkl\")"
   ]
  },
  {
   "cell_type": "code",
   "execution_count": 11,
   "metadata": {},
   "outputs": [
    {
     "data": {
      "text/plain": [
       "(3370528, 602)"
      ]
     },
     "execution_count": 11,
     "metadata": {},
     "output_type": "execute_result"
    }
   ],
   "source": [
    "dataset.shape"
   ]
  },
  {
   "cell_type": "code",
   "execution_count": 13,
   "metadata": {},
   "outputs": [
    {
     "data": {
      "text/plain": [
       "open                   3300392\n",
       "not a real question      30789\n",
       "off topic                17530\n",
       "not constructive         15659\n",
       "too localized             6158\n",
       "Name: target, dtype: int64"
      ]
     },
     "execution_count": 13,
     "metadata": {},
     "output_type": "execute_result"
    }
   ],
   "source": [
    "dataset.target.value_counts()"
   ]
  },
  {
   "cell_type": "code",
   "execution_count": null,
   "metadata": {},
   "outputs": [],
   "source": []
  }
 ],
 "metadata": {
  "kernelspec": {
   "display_name": "Python 3",
   "language": "python",
   "name": "python3"
  },
  "language_info": {
   "codemirror_mode": {
    "name": "ipython",
    "version": 3
   },
   "file_extension": ".py",
   "mimetype": "text/x-python",
   "name": "python",
   "nbconvert_exporter": "python",
   "pygments_lexer": "ipython3",
   "version": "3.8.5"
  }
 },
 "nbformat": 4,
 "nbformat_minor": 4
}

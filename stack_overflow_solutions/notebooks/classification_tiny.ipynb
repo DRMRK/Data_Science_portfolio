{
 "cells": [
  {
   "cell_type": "code",
   "execution_count": 1,
   "metadata": {},
   "outputs": [],
   "source": [
    "import pandas as pd\n",
    "import numpy as np\n",
    "\n",
    "import nltk\n",
    "from nltk.tokenize import word_tokenize\n",
    "#nltk.download('stopwords')\n",
    "\n",
    "from sklearn import linear_model\n",
    "from sklearn import metrics\n",
    "from sklearn import model_selection\n",
    "from sklearn.feature_extraction.text import TfidfVectorizer\n",
    "from sklearn.preprocessing import StandardScaler\n",
    "\n",
    "import re, string\n",
    "\n",
    "import time"
   ]
  },
  {
   "cell_type": "code",
   "execution_count": 2,
   "metadata": {},
   "outputs": [
    {
     "name": "stdout",
     "output_type": "stream",
     "text": [
      "Classification.ipynb\t\t classification_tiny.ipynb\r\n",
      "classification_tiny-Copy1.ipynb  Topic_modelling.ipynb\r\n"
     ]
    }
   ],
   "source": [
    "!ls"
   ]
  },
  {
   "cell_type": "code",
   "execution_count": 3,
   "metadata": {},
   "outputs": [],
   "source": [
    "#punctuation = list(string.punctuation)\n",
    "\n",
    "my_stopwords = nltk.corpus.stopwords.words('english')# punctuation\n",
    "\n",
    "re_tok = re.compile(f'([{string.punctuation}“”¨«»®´·º½¾¿¡§£₤‘’])')\n",
    "\n",
    "def remove_links(tweet):\n",
    "    '''Takes a string and removes web links from it'''\n",
    "    tweet = re.sub(r'http\\S+', '', tweet) # remove http links\n",
    "    tweet = re.sub(r'bit.ly/\\S+', '', tweet) # rempve bitly links\n",
    "    tweet = tweet.strip('[link]') # remove [links]\n",
    "    return tweet\n",
    "\n",
    "def tokenize(s):\n",
    "    output = re.sub(r'\\d+', '', s) # remove numbers \n",
    "    output = remove_links(output)\n",
    "    result = re_tok.sub(r' \\1 ', output).split() \n",
    "    result = [word for word in result if len(word)>2]\n",
    "    result = [word for word in result if word not in my_stopwords]\n",
    "    return result"
   ]
  },
  {
   "cell_type": "code",
   "execution_count": 5,
   "metadata": {
    "scrolled": false
   },
   "outputs": [
    {
     "name": "stdout",
     "output_type": "stream",
     "text": [
      "xtrain shape (8089, 40659)\n",
      "xtest shape (2023, 40659)\n",
      "In PCA\n",
      "xtrain pca shape (8089, 6000)\n",
      "explained variance: 0.9698449741268098\n",
      "target counts:\n",
      " open      7921\n",
      "closed     168\n",
      "Name: OpenStatus, dtype: int64\n",
      "time elapsed: 18.797316551208496\n",
      "preds unique: ['closed' 'open']\n",
      "Fold: 0\n",
      "Accuracy=0.9634206623826\n"
     ]
    },
    {
     "data": {
      "image/png": "[encoded data removed]",
      "text/plain": [
       "<Figure size 432x288 with 2 Axes>"
      ]
     },
     "metadata": {
      "needs_background": "light"
     },
     "output_type": "display_data"
    },
    {
     "name": "stdout",
     "output_type": "stream",
     "text": [
      " \n"
     ]
    }
   ],
   "source": [
    "from sklearn.decomposition import PCA\n",
    "from sklearn.decomposition import TruncatedSVD\n",
    "from sklearn.metrics import plot_confusion_matrix\n",
    "import matplotlib.pyplot as plt\n",
    "\n",
    "if __name__==\"__main__\":\n",
    "    \n",
    "    df = pd.read_csv(\"../input/train_tiny_folds.csv\")\n",
    "    \n",
    "    for fold_ in range(1):\n",
    "        train_df = df[df.kfold != fold_].reset_index(drop = True)\n",
    "        test_df = df[df.kfold == fold_].reset_index(drop = True)\n",
    "    \n",
    "        vectorizer = TfidfVectorizer(tokenizer = tokenize,\n",
    "                                     token_pattern=None)\n",
    "        # fit TFIDF\n",
    "        xtrain = vectorizer.fit(train_df.BodyMarkdown)\n",
    "        # transform\n",
    "        xtrain = vectorizer.transform(train_df.BodyMarkdown)\n",
    "        xtest = vectorizer.transform(test_df.BodyMarkdown)\n",
    "        \n",
    "        print('xtrain shape', xtrain.shape)\n",
    "        print('xtest shape', xtest.shape)\n",
    "        # perform PCA\n",
    "        svd = TruncatedSVD(n_components=6000, n_iter=7, random_state=42)\n",
    "        print('In PCA')\n",
    "        svd.fit(xtrain)\n",
    "        xtrain = svd.transform(xtrain)\n",
    "        xtest = svd.transform(xtest)\n",
    "        print('xtrain pca shape', xtrain.shape)\n",
    "        print('explained variance:', svd.explained_variance_ratio_.sum())\n",
    "        # target\n",
    "        ytrain = train_df.OpenStatus\n",
    "        ytest = test_df.OpenStatus\n",
    "        print('target counts:\\n', train_df.OpenStatus.value_counts())\n",
    "        #model\n",
    "        model = linear_model.LogisticRegression(max_iter=5000,class_weight='balanced',\n",
    "                                                n_jobs=-1\n",
    "                                               )\n",
    "        \n",
    "        to=time.time()\n",
    "        # fit the model\n",
    "        model.fit(xtrain,train_df.OpenStatus)\n",
    "        \n",
    "        # make predictions\n",
    "        preds = model.predict(xtest)\n",
    "        #print(preds.shape)\n",
    "        #preds1 = [model.classes_[np.argmax(x)] for x in preds]        \n",
    "        \n",
    "        t1=time.time()\n",
    "        total_time = t1-to\n",
    "        \n",
    "        print('time elapsed:', total_time)\n",
    "        print('preds unique:',np.unique(preds))\n",
    "        \n",
    "        # calculate f1 score\n",
    "        #accuracy = metrics.accuracy_score(test_df.BodyMarkdown, preds)\n",
    "        accuracy_score = np.sum(preds == ytest) / len(ytest)        #log_loss= metrics.log_loss(train_df.OpenStatus,preds)\n",
    "        \n",
    "        print(f\"Fold: {fold_}\")\n",
    "        print(f\"Accuracy={accuracy_score}\")\n",
    "        plot_confusion_matrix(model, xtest, ytest)\n",
    "        plt.show()\n",
    "        print(\" \")\n",
    "        "
   ]
  },
  {
   "cell_type": "markdown",
   "metadata": {},
   "source": [
    "### use embeddings"
   ]
  },
  {
   "cell_type": "code",
   "execution_count": 6,
   "metadata": {},
   "outputs": [],
   "source": [
    "import numpy as np\n",
    "def sentence_to_vec(s,embedding_dict,stop_words,tokenizer):\n",
    "    \"\"\"\n",
    "    s: sentence, string\n",
    "    embedding_dict: dictionary word: vector\n",
    "    stop_words: list of stop words\n",
    "    tokenizer: tokenizer function\n",
    "    \"\"\"\n",
    "    # convert sentence to string and lowercase it\n",
    "   # words = str(s).lower()\n",
    "    # tokenize the sentence\n",
    "    words = s\n",
    "    words = tokenizer(words)\n",
    "    # remove stop words\n",
    "   # words =[w for w in words if not w in stop_words]\n",
    "    \n",
    "    # keep only alpha numeric tokens\n",
    "    words =[w for w in words if w.isalpha()]\n",
    "    # initialize empty list to store embeddings\n",
    "    M = []\n",
    "    for w in words:\n",
    "        # for every word, get the embedding from the dictionary\n",
    "        # and append to the list of embeddings\n",
    "        if w in embedding_dict:\n",
    "            M.append(embedding_dict[w])\n",
    "        # if we don't have any vectors return zeros\n",
    "    if len(M)==0:\n",
    "        return np.zeros(300)\n",
    "    # convert list of embeddings to array\n",
    "    M = np.array(M)\n",
    "    # calculate sum over axis=0\n",
    "    v = M.sum(axis=0)\n",
    "    return v/np.sqrt((v**2).sum())       "
   ]
  },
  {
   "cell_type": "code",
   "execution_count": 7,
   "metadata": {},
   "outputs": [],
   "source": [
    "import io\n",
    "def load_vectors(fname):\n",
    "    fin = io.open(fname,'r',\n",
    "                  encoding ='utf-8',\n",
    "                  newline = '\\n',\n",
    "                  errors='ignore'\n",
    "                 )\n",
    "    n,d = map(int,fin.readline().split())\n",
    "    data ={}\n",
    "    for line in fin:\n",
    "        tokens = line.rstrip().split(' ')\n",
    "        data[tokens[0]]=list(map(float,tokens[1:]))\n",
    "    return data    "
   ]
  },
  {
   "cell_type": "code",
   "execution_count": 8,
   "metadata": {},
   "outputs": [
    {
     "name": "stdout",
     "output_type": "stream",
     "text": [
      "Classification.ipynb\t\t classification_tiny.ipynb\r\n",
      "classification_tiny-Copy1.ipynb  Topic_modelling.ipynb\r\n"
     ]
    }
   ],
   "source": [
    "!ls"
   ]
  },
  {
   "cell_type": "code",
   "execution_count": 9,
   "metadata": {},
   "outputs": [
    {
     "name": "stdout",
     "output_type": "stream",
     "text": [
      "Loading embeddings\n"
     ]
    }
   ],
   "source": [
    "print(\"Loading embeddings\")\n",
    "embeddings = load_vectors(\"../input/crawl-300d-2M.vec\")"
   ]
  },
  {
   "cell_type": "code",
   "execution_count": 27,
   "metadata": {},
   "outputs": [],
   "source": [
    "#embeddings=[]"
   ]
  },
  {
   "cell_type": "code",
   "execution_count": 10,
   "metadata": {},
   "outputs": [],
   "source": [
    "df = pd.read_csv(\"../input/train_tiny_folds.csv\")"
   ]
  },
  {
   "cell_type": "code",
   "execution_count": 11,
   "metadata": {},
   "outputs": [
    {
     "data": {
      "text/html": [
       "<div>\n",
       "<style scoped>\n",
       "    .dataframe tbody tr th:only-of-type {\n",
       "        vertical-align: middle;\n",
       "    }\n",
       "\n",
       "    .dataframe tbody tr th {\n",
       "        vertical-align: top;\n",
       "    }\n",
       "\n",
       "    .dataframe thead th {\n",
       "        text-align: right;\n",
       "    }\n",
       "</style>\n",
       "<table border=\"1\" class=\"dataframe\">\n",
       "  <thead>\n",
       "    <tr style=\"text-align: right;\">\n",
       "      <th></th>\n",
       "      <th>Title</th>\n",
       "      <th>BodyMarkdown</th>\n",
       "      <th>OpenStatus</th>\n",
       "      <th>kfold</th>\n",
       "    </tr>\n",
       "  </thead>\n",
       "  <tbody>\n",
       "    <tr>\n",
       "      <th>0</th>\n",
       "      <td>How to set a font to LabelField text in Blackb...</td>\n",
       "      <td>i don't know how to apply font style to a text...</td>\n",
       "      <td>open</td>\n",
       "      <td>0</td>\n",
       "    </tr>\n",
       "    <tr>\n",
       "      <th>1</th>\n",
       "      <td>Blend multiple jQuery files - Best practice?</td>\n",
       "      <td>I'm starting to learn JavaScript and jQuery. I...</td>\n",
       "      <td>open</td>\n",
       "      <td>0</td>\n",
       "    </tr>\n",
       "    <tr>\n",
       "      <th>2</th>\n",
       "      <td>stored procedure calling data in a different s...</td>\n",
       "      <td>SQL 2008 R2:\\r\\nNormally, we create our table,...</td>\n",
       "      <td>open</td>\n",
       "      <td>0</td>\n",
       "    </tr>\n",
       "  </tbody>\n",
       "</table>\n",
       "</div>"
      ],
      "text/plain": [
       "                                               Title  \\\n",
       "0  How to set a font to LabelField text in Blackb...   \n",
       "1      Blend multiple jQuery files - Best practice?    \n",
       "2  stored procedure calling data in a different s...   \n",
       "\n",
       "                                        BodyMarkdown OpenStatus  kfold  \n",
       "0  i don't know how to apply font style to a text...       open      0  \n",
       "1  I'm starting to learn JavaScript and jQuery. I...       open      0  \n",
       "2  SQL 2008 R2:\\r\\nNormally, we create our table,...       open      0  "
      ]
     },
     "execution_count": 11,
     "metadata": {},
     "output_type": "execute_result"
    }
   ],
   "source": [
    "df.head(3)"
   ]
  },
  {
   "cell_type": "code",
   "execution_count": 12,
   "metadata": {},
   "outputs": [
    {
     "name": "stdout",
     "output_type": "stream",
     "text": [
      "<class 'pandas.core.frame.DataFrame'>\n",
      "RangeIndex: 10112 entries, 0 to 10111\n",
      "Data columns (total 4 columns):\n",
      " #   Column        Non-Null Count  Dtype \n",
      "---  ------        --------------  ----- \n",
      " 0   Title         10112 non-null  object\n",
      " 1   BodyMarkdown  10112 non-null  object\n",
      " 2   OpenStatus    10112 non-null  object\n",
      " 3   kfold         10112 non-null  int64 \n",
      "dtypes: int64(1), object(3)\n",
      "memory usage: 316.1+ KB\n"
     ]
    }
   ],
   "source": [
    "df.info()"
   ]
  },
  {
   "cell_type": "code",
   "execution_count": 16,
   "metadata": {
    "scrolled": false
   },
   "outputs": [
    {
     "name": "stdout",
     "output_type": "stream",
     "text": [
      "creating sentence embedding\n",
      "the BodyMarkDown column embedding\n",
      "1st column shape (10112, 300)\n",
      "the Title column embedding\n",
      "2nd column shape (10112, 300)\n",
      "Train column shape (10112, 600)\n",
      "time embedding 8.599654197692871\n",
      "training fold: {fold_}\n",
      "xtrain shape (8089, 600)\n",
      "time elapsed: 3.6234312057495117\n",
      "preds unique: ['closed' 'open']\n",
      "Fold:0\n",
      "Accuracy=0.8764211566979733\n"
     ]
    },
    {
     "data": {
      "image/png": "[encoded data removed]",
      "text/plain": [
       "<Figure size 432x288 with 2 Axes>"
      ]
     },
     "metadata": {
      "needs_background": "light"
     },
     "output_type": "display_data"
    },
    {
     "name": "stdout",
     "output_type": "stream",
     "text": [
      " \n",
      "training fold: {fold_}\n",
      "xtrain shape (8089, 600)\n",
      "time elapsed: 3.1968231201171875\n",
      "preds unique: ['closed' 'open']\n",
      "Fold:1\n",
      "Accuracy=0.8521997034107761\n"
     ]
    },
    {
     "data": {
      "image/png": "[encoded data removed]",
      "text/plain": [
       "<Figure size 432x288 with 2 Axes>"
      ]
     },
     "metadata": {
      "needs_background": "light"
     },
     "output_type": "display_data"
    },
    {
     "name": "stdout",
     "output_type": "stream",
     "text": [
      " \n",
      "training fold: {fold_}\n",
      "xtrain shape (8090, 600)\n",
      "time elapsed: 2.9094669818878174\n",
      "preds unique: ['closed' 'open']\n",
      "Fold:2\n",
      "Accuracy=0.8654797230464887\n"
     ]
    },
    {
     "data": {
      "image/png": "[encoded data removed]",
      "text/plain": [
       "<Figure size 432x288 with 2 Axes>"
      ]
     },
     "metadata": {
      "needs_background": "light"
     },
     "output_type": "display_data"
    },
    {
     "name": "stdout",
     "output_type": "stream",
     "text": [
      " \n",
      "training fold: {fold_}\n",
      "xtrain shape (8090, 600)\n",
      "time elapsed: 3.582409620285034\n",
      "preds unique: ['closed' 'open']\n",
      "Fold:3\n",
      "Accuracy=0.8491592482690405\n"
     ]
    },
    {
     "data": {
      "image/png": "[encoded data removed]",
      "text/plain": [
       "<Figure size 432x288 with 2 Axes>"
      ]
     },
     "metadata": {
      "needs_background": "light"
     },
     "output_type": "display_data"
    },
    {
     "name": "stdout",
     "output_type": "stream",
     "text": [
      " \n",
      "training fold: {fold_}\n",
      "xtrain shape (8090, 600)\n",
      "time elapsed: 2.9517393112182617\n",
      "preds unique: ['closed' 'open']\n",
      "Fold:4\n",
      "Accuracy=0.8674579624134521\n"
     ]
    },
    {
     "data": {
      "image/png": "[encoded data removed]",
      "text/plain": [
       "<Figure size 432x288 with 2 Axes>"
      ]
     },
     "metadata": {
      "needs_background": "light"
     },
     "output_type": "display_data"
    },
    {
     "name": "stdout",
     "output_type": "stream",
     "text": [
      " \n"
     ]
    }
   ],
   "source": [
    "#create sentence embeddings\n",
    "from sklearn.metrics import plot_confusion_matrix\n",
    "import matplotlib.pyplot as plt\n",
    "\n",
    "def get_vectors(vectors,column):\n",
    "    \"\"\"\n",
    "    vectors: empty array to fill in\n",
    "    column: dataframe column\n",
    "    return embedding vestors\n",
    "    \"\"\"\n",
    "    for body in column:\n",
    "        vectors.append(\n",
    "            sentence_to_vec(s= body,\n",
    "                           embedding_dict = embeddings,\n",
    "                           stop_words =my_stopwords,\n",
    "                           tokenizer=tokenize\n",
    "                           )\n",
    "        )\n",
    "    return vectors   \n",
    "\n",
    "\n",
    "if __name__==\"__main__\":\n",
    "    \n",
    "    t0=time.time()\n",
    "    print(\"creating sentence embedding\")\n",
    "    vector1 =[]\n",
    "    vector2 =[]\n",
    "    vectors=[]\n",
    "    print(\"the BodyMarkDown column embedding\")\n",
    "    vector1 = get_vectors(vector1,df.BodyMarkdown.values)\n",
    "    vector1 = np.array(vector1)    \n",
    "    print(\"1st column shape\",vector1.shape)\n",
    "    \n",
    "    print(\"the Title column embedding\")\n",
    "    vector2 = get_vectors(vector2,df.Title.values)\n",
    "    vector2 = np.array(vectors2)    \n",
    "    print(\"2nd column shape\",vector2.shape)\n",
    "    \n",
    "    vectors = np.concatenate((vector1,vector2),axis=1)\n",
    "    \n",
    "    print(\"Train column shape\",vectors.shape)\n",
    "    \n",
    "    # clear up memory\n",
    "    vector1 =[]\n",
    "    vector2 =[]\n",
    "    \n",
    "    t1=time.time()\n",
    "    total_time = t1-t0\n",
    "    print(\"time embedding\",total_time)\n",
    "               \n",
    "    \n",
    "    y=df.OpenStatus.values\n",
    "    # initialize the kfold class\n",
    "    kf = model_selection.StratifiedKFold(n_splits=5)\n",
    "    # fill the new kfold column\n",
    "    for fold_,(t_,v_) in enumerate(kf.split(X=vectors,y=y)):\n",
    "        print(\"training fold: {fold_}\")\n",
    "        #temp dataframe for train and test\n",
    "        xtrain=vectors[t_,:]\n",
    "        ytrain=y[t_]\n",
    "        print('xtrain shape',xtrain.shape)\n",
    "        \n",
    "        xtest=vectors[v_,:]\n",
    "        ytest =y[v_]\n",
    "        model=linear_model.LogisticRegression(max_iter=5000,\n",
    "                                              class_weight='balanced',\n",
    "                                              n_jobs=-1)\n",
    "        t0=time.time()\n",
    "        #fit the model on training data \n",
    "        model.fit(xtrain,ytrain)\n",
    "        # make predictions\n",
    "        preds = model.predict(xtest)\n",
    "        #print(preds.shape)\n",
    "        #preds1 = [model.classes_[np.argmax(x)] for x in preds]        \n",
    "        \n",
    "        t1=time.time()\n",
    "        total_time = t1-t0\n",
    "        \n",
    "        print('time elapsed:', total_time)\n",
    "        print('preds unique:',np.unique(preds))\n",
    "        \n",
    "        # calculate f1 score\n",
    "        #accuracy = metrics.accuracy_score(test_df.BodyMarkdown, preds)\n",
    "        accuracy_score = np.sum(preds == ytest) / len(ytest)        #log_loss= metrics.log_loss(train_df.OpenStatus,preds)\n",
    "        \n",
    "        print(f\"Fold:{fold_}\")\n",
    "        print(f\"Accuracy={accuracy_score}\")\n",
    "        plot_confusion_matrix(model, xtest, ytest)\n",
    "        plt.show()\n",
    "        print(\" \")"
   ]
  },
  {
   "cell_type": "markdown",
   "metadata": {},
   "source": [
    "### Random Forest"
   ]
  },
  {
   "cell_type": "code",
   "execution_count": 18,
   "metadata": {
    "scrolled": false
   },
   "outputs": [
    {
     "name": "stdout",
     "output_type": "stream",
     "text": [
      "creating sentence embedding\n",
      "the BodyMarkDown column embedding\n",
      "1st column shape (10112, 300)\n",
      "the Title column embedding\n",
      "2nd column shape (10112, 300)\n",
      "Train column shape (10112, 600)\n",
      "time embedding 9.247156620025635\n",
      "training fold: {fold_}\n",
      "xtrain shape (8089, 600)\n",
      "time elapsed: 1.3406593799591064\n",
      "preds unique: ['open']\n",
      "Fold:0\n",
      "Accuracy=0.9792387543252595\n"
     ]
    },
    {
     "data": {
      "image/png": "[encoded data removed]",
      "text/plain": [
       "<Figure size 432x288 with 2 Axes>"
      ]
     },
     "metadata": {
      "needs_background": "light"
     },
     "output_type": "display_data"
    },
    {
     "name": "stdout",
     "output_type": "stream",
     "text": [
      " \n",
      "training fold: {fold_}\n",
      "xtrain shape (8089, 600)\n",
      "time elapsed: 1.3665897846221924\n",
      "preds unique: ['open']\n",
      "Fold:1\n",
      "Accuracy=0.9792387543252595\n"
     ]
    },
    {
     "data": {
      "image/png": "[encoded data removed]",
      "text/plain": [
       "<Figure size 432x288 with 2 Axes>"
      ]
     },
     "metadata": {
      "needs_background": "light"
     },
     "output_type": "display_data"
    },
    {
     "name": "stdout",
     "output_type": "stream",
     "text": [
      " \n",
      "training fold: {fold_}\n",
      "xtrain shape (8090, 600)\n",
      "time elapsed: 1.353114128112793\n",
      "preds unique: ['open']\n",
      "Fold:2\n",
      "Accuracy=0.9792284866468842\n"
     ]
    },
    {
     "data": {
      "image/png": "[encoded data removed]",
      "text/plain": [
       "<Figure size 432x288 with 2 Axes>"
      ]
     },
     "metadata": {
      "needs_background": "light"
     },
     "output_type": "display_data"
    },
    {
     "name": "stdout",
     "output_type": "stream",
     "text": [
      " \n",
      "training fold: {fold_}\n",
      "xtrain shape (8090, 600)\n",
      "time elapsed: 1.3546888828277588\n",
      "preds unique: ['open']\n",
      "Fold:3\n",
      "Accuracy=0.9792284866468842\n"
     ]
    },
    {
     "data": {
      "image/png": "[encoded data removed]",
      "text/plain": [
       "<Figure size 432x288 with 2 Axes>"
      ]
     },
     "metadata": {
      "needs_background": "light"
     },
     "output_type": "display_data"
    },
    {
     "name": "stdout",
     "output_type": "stream",
     "text": [
      " \n",
      "training fold: {fold_}\n",
      "xtrain shape (8090, 600)\n",
      "time elapsed: 1.3527705669403076\n",
      "preds unique: ['open']\n",
      "Fold:4\n",
      "Accuracy=0.9792284866468842\n"
     ]
    },
    {
     "data": {
      "image/png": "[encoded data removed]",
      "text/plain": [
       "<Figure size 432x288 with 2 Axes>"
      ]
     },
     "metadata": {
      "needs_background": "light"
     },
     "output_type": "display_data"
    },
    {
     "name": "stdout",
     "output_type": "stream",
     "text": [
      " \n"
     ]
    }
   ],
   "source": [
    "from sklearn.metrics import plot_confusion_matrix\n",
    "import matplotlib.pyplot as plt\n",
    "from sklearn.ensemble import RandomForestClassifier\n",
    "#create sentence embeddings\n",
    "from sklearn.metrics import plot_confusion_matrix\n",
    "import matplotlib.pyplot as plt\n",
    "\n",
    "def get_vectors(vectors,column):\n",
    "    \"\"\"\n",
    "    vectors: empty array to fill in\n",
    "    column: dataframe column\n",
    "    return embedding vestors\n",
    "    \"\"\"\n",
    "    for body in column:\n",
    "        vectors.append(\n",
    "            sentence_to_vec(s= body,\n",
    "                           embedding_dict = embeddings,\n",
    "                           stop_words =my_stopwords,\n",
    "                           tokenizer=tokenize\n",
    "                           )\n",
    "        )\n",
    "    return vectors   \n",
    "\n",
    "\n",
    "if __name__==\"__main__\":\n",
    "    \n",
    "    t0=time.time()\n",
    "    print(\"creating sentence embedding\")\n",
    "    vector1 =[]\n",
    "    vector2 =[]\n",
    "    vectors=[]\n",
    "    print(\"the BodyMarkDown column embedding\")\n",
    "    vector1 = get_vectors(vector1,df.BodyMarkdown.values)\n",
    "    vector1 = np.array(vector1)    \n",
    "    print(\"1st column shape\",vector1.shape)\n",
    "    \n",
    "    print(\"the Title column embedding\")\n",
    "    vector2 = get_vectors(vector2,df.Title.values)\n",
    "    vector2 = np.array(vectors2)    \n",
    "    print(\"2nd column shape\",vector2.shape)\n",
    "    \n",
    "    vectors = np.concatenate((vector1,vector2),axis=1)\n",
    "    \n",
    "    print(\"Train column shape\",vectors.shape)\n",
    "    \n",
    "    # clear up memory\n",
    "    vector1 =[]\n",
    "    vector2 =[]\n",
    "    \n",
    "    t1=time.time()\n",
    "    total_time = t1-t0\n",
    "    print(\"time embedding\",total_time)\n",
    "               \n",
    "    \n",
    "    y=df.OpenStatus.values\n",
    "    # initialize the kfold class\n",
    "    kf = model_selection.StratifiedKFold(n_splits=5)\n",
    "    # fill the new kfold column\n",
    "    for fold_,(t_,v_) in enumerate(kf.split(X=vectors,y=y)):\n",
    "        print(\"training fold: {fold_}\")\n",
    "        #temp dataframe for train and test\n",
    "        xtrain=vectors[t_,:]\n",
    "        ytrain=y[t_]\n",
    "        print('xtrain shape',xtrain.shape)\n",
    "        \n",
    "        xtest=vectors[v_,:]\n",
    "        ytest =y[v_]\n",
    "\n",
    "        model=RandomForestClassifier(n_estimators =100, \n",
    "                                     max_features='sqrt',random_state=0,\n",
    "                                     max_depth=10,n_jobs=-1)\n",
    "        t0=time.time()\n",
    "        #fit the model on training data \n",
    "        model.fit(xtrain,ytrain)\n",
    "        # make predictions\n",
    "        preds = model.predict(xtest)\n",
    "        #print(preds.shape)\n",
    "        #preds1 = [model.classes_[np.argmax(x)] for x in preds]        \n",
    "        \n",
    "        t1=time.time()\n",
    "        total_time = t1-t0\n",
    "        \n",
    "        print('time elapsed:', total_time)\n",
    "        print('preds unique:',np.unique(preds))\n",
    "        \n",
    "        # calculate f1 score\n",
    "        #accuracy = metrics.accuracy_score(test_df.BodyMarkdown, preds)\n",
    "        accuracy_score = np.sum(preds == ytest) / len(ytest)        #log_loss= metrics.log_loss(train_df.OpenStatus,preds)\n",
    "        \n",
    "        print(f\"Fold:{fold_}\")\n",
    "        print(f\"Accuracy={accuracy_score}\")\n",
    "        plot_confusion_matrix(model, xtest, ytest)\n",
    "        plt.show()\n",
    "        print(\" \")"
   ]
  },
  {
   "cell_type": "code",
   "execution_count": 22,
   "metadata": {
    "scrolled": false
   },
   "outputs": [
    {
     "name": "stdout",
     "output_type": "stream",
     "text": [
      "creating sentence embedding\n",
      "the BodyMarkDown column embedding\n",
      "1st column shape (10112, 300)\n",
      "the Title column embedding\n",
      "2nd column shape (10112, 300)\n",
      "Train column shape (10112, 600)\n",
      "time embedding 8.71230435371399\n",
      " \n",
      "training fold: 0\n",
      "xtrain shape (8089, 600)\n",
      "time elapsed: 1.341486930847168\n",
      "preds unique: ['open']\n",
      "Fold:0\n",
      "Accuracy=0.9792387543252595\n"
     ]
    },
    {
     "data": {
      "image/png": "[encoded data removed]",
      "text/plain": [
       "<Figure size 432x288 with 2 Axes>"
      ]
     },
     "metadata": {
      "needs_background": "light"
     },
     "output_type": "display_data"
    },
    {
     "name": "stdout",
     "output_type": "stream",
     "text": [
      " \n",
      "training fold: 1\n",
      "xtrain shape (8089, 600)\n",
      "time elapsed: 1.3534166812896729\n",
      "preds unique: ['open']\n",
      "Fold:1\n",
      "Accuracy=0.9792387543252595\n"
     ]
    },
    {
     "data": {
      "image/png": "[encoded data removed]",
      "text/plain": [
       "<Figure size 432x288 with 2 Axes>"
      ]
     },
     "metadata": {
      "needs_background": "light"
     },
     "output_type": "display_data"
    },
    {
     "name": "stdout",
     "output_type": "stream",
     "text": [
      " \n",
      "training fold: 2\n",
      "xtrain shape (8090, 600)\n",
      "time elapsed: 1.3520541191101074\n",
      "preds unique: ['open']\n",
      "Fold:2\n",
      "Accuracy=0.9792284866468842\n"
     ]
    },
    {
     "data": {
      "image/png": "[encoded data removed]",
      "text/plain": [
       "<Figure size 432x288 with 2 Axes>"
      ]
     },
     "metadata": {
      "needs_background": "light"
     },
     "output_type": "display_data"
    },
    {
     "name": "stdout",
     "output_type": "stream",
     "text": [
      " \n",
      "training fold: 3\n",
      "xtrain shape (8090, 600)\n",
      "time elapsed: 5.567226886749268\n",
      "preds unique: ['open']\n",
      "Fold:3\n",
      "Accuracy=0.9792284866468842\n"
     ]
    },
    {
     "data": {
      "image/png": "[encoded data removed]",
      "text/plain": [
       "<Figure size 432x288 with 2 Axes>"
      ]
     },
     "metadata": {
      "needs_background": "light"
     },
     "output_type": "display_data"
    },
    {
     "name": "stdout",
     "output_type": "stream",
     "text": [
      " \n",
      "training fold: 4\n",
      "xtrain shape (8090, 600)\n",
      "time elapsed: 1.3500645160675049\n",
      "preds unique: ['open']\n",
      "Fold:4\n",
      "Accuracy=0.9792284866468842\n"
     ]
    },
    {
     "data": {
      "image/png": "[encoded data removed]",
      "text/plain": [
       "<Figure size 432x288 with 2 Axes>"
      ]
     },
     "metadata": {
      "needs_background": "light"
     },
     "output_type": "display_data"
    },
    {
     "name": "stdout",
     "output_type": "stream",
     "text": [
      " \n"
     ]
    }
   ],
   "source": [
    "#create sentence embeddings\n",
    "from sklearn.metrics import plot_confusion_matrix\n",
    "import matplotlib.pyplot as plt\n",
    "\n",
    "def get_vectors(vectors,column):\n",
    "    \"\"\"\n",
    "    vectors: empty array to fill in\n",
    "    column: dataframe column\n",
    "    return embedding vestors\n",
    "    \"\"\"\n",
    "    for body in column:\n",
    "        vectors.append(\n",
    "            sentence_to_vec(s= body,\n",
    "                           embedding_dict = embeddings,\n",
    "                           stop_words =my_stopwords,\n",
    "                           tokenizer=tokenize\n",
    "                           )\n",
    "        )\n",
    "    return vectors   \n",
    "\n",
    "\n",
    "if __name__==\"__main__\":\n",
    "    \n",
    "    t0=time.time()\n",
    "    print(\"creating sentence embedding\")\n",
    "    vector1 =[]\n",
    "    vector2 =[]\n",
    "    vectors=[]\n",
    "    print(\"the BodyMarkDown column embedding\")\n",
    "    vector1 = get_vectors(vector1,df.BodyMarkdown.values)\n",
    "    vector1 = np.array(vector1)    \n",
    "    print(\"1st column shape\",vector1.shape)\n",
    "    \n",
    "    print(\"the Title column embedding\")\n",
    "    vector2 = get_vectors(vector2,df.Title.values)\n",
    "    vector2 = np.array(vectors2)    \n",
    "    print(\"2nd column shape\",vector2.shape)\n",
    "    \n",
    "    vectors = np.concatenate((vector1,vector2),axis=1)\n",
    "    \n",
    "    print(\"Train column shape\",vectors.shape)\n",
    "    \n",
    "    # clear up memory\n",
    "    vector1 =[]\n",
    "    vector2 =[]\n",
    "    \n",
    "    t1=time.time()\n",
    "    total_time = t1-t0\n",
    "    print(\"time embedding\",total_time)\n",
    "    print(\" \")           \n",
    "    \n",
    "    y=df.OpenStatus.values\n",
    "    # initialize the kfold class\n",
    "    kf = model_selection.StratifiedKFold(n_splits=5)\n",
    "    # fill the new kfold column\n",
    "    for fold_,(t_,v_) in enumerate(kf.split(X=vectors,y=y)):\n",
    "        print(f\"training fold: {fold_}\")\n",
    "        #temp dataframe for train and test\n",
    "        xtrain=vectors[t_,:]\n",
    "        ytrain=y[t_]\n",
    "        print('xtrain shape',xtrain.shape)\n",
    "        \n",
    "        xtest=vectors[v_,:]\n",
    "        ytest =y[v_]\n",
    "        model=RandomForestClassifier(n_estimators =100, \n",
    "                                     max_features='sqrt',random_state=0,\n",
    "                                     max_depth=10,n_jobs=-1)\n",
    "        t0=time.time()\n",
    "        #fit the model on training data \n",
    "        model.fit(xtrain,ytrain)\n",
    "        # make predictions\n",
    "        preds = model.predict(xtest)\n",
    "        #print(preds.shape)\n",
    "        #preds1 = [model.classes_[np.argmax(x)] for x in preds]        \n",
    "        \n",
    "        t1=time.time()\n",
    "        total_time = t1-t0\n",
    "        \n",
    "        print('time elapsed:', total_time)\n",
    "        print('preds unique:',np.unique(preds))\n",
    "        \n",
    "        # calculate f1 score\n",
    "        #accuracy = metrics.accuracy_score(test_df.BodyMarkdown, preds)\n",
    "        accuracy_score = np.sum(preds == ytest) / len(ytest)        #log_loss= metrics.log_loss(train_df.OpenStatus,preds)\n",
    "        \n",
    "        print(f\"Fold:{fold_}\")\n",
    "        print(f\"Accuracy={accuracy_score}\")\n",
    "        plot_confusion_matrix(model, xtest, ytest)\n",
    "        plt.show()\n",
    "        print(\" \")"
   ]
  },
  {
   "cell_type": "code",
   "execution_count": 26,
   "metadata": {
    "scrolled": false
   },
   "outputs": [
    {
     "name": "stdout",
     "output_type": "stream",
     "text": [
      "creating sentence embedding\n",
      "the BodyMarkDown column embedding\n",
      "1st column shape (10112, 300)\n",
      "the Title column embedding\n",
      "2nd column shape (10112, 300)\n",
      "Train column shape (10112, 600)\n",
      "time embedding 8.931170225143433\n",
      " \n",
      "training fold: 0\n",
      "xtrain shape (8089, 600)\n",
      "ytrain values:\n",
      " (array(['closed', 'open'], dtype=object), array([ 168, 7921]))\n",
      "time elapsed: 6.524637222290039\n",
      "preds unique: ['closed' 'open']\n",
      "Fold:0\n",
      "Accuracy=0.8255066732575383\n"
     ]
    },
    {
     "data": {
      "image/png": "[encoded data removed]",
      "text/plain": [
       "<Figure size 432x288 with 2 Axes>"
      ]
     },
     "metadata": {
      "needs_background": "light"
     },
     "output_type": "display_data"
    },
    {
     "name": "stdout",
     "output_type": "stream",
     "text": [
      " \n",
      "training fold: 1\n",
      "xtrain shape (8089, 600)\n",
      "ytrain values:\n",
      " (array(['closed', 'open'], dtype=object), array([ 168, 7921]))\n",
      "time elapsed: 2.9567086696624756\n",
      "preds unique: ['closed' 'open']\n",
      "Fold:1\n",
      "Accuracy=0.8121601581809195\n"
     ]
    },
    {
     "data": {
      "image/png": "[encoded data removed]",
      "text/plain": [
       "<Figure size 432x288 with 2 Axes>"
      ]
     },
     "metadata": {
      "needs_background": "light"
     },
     "output_type": "display_data"
    },
    {
     "name": "stdout",
     "output_type": "stream",
     "text": [
      " \n",
      "training fold: 2\n",
      "xtrain shape (8090, 600)\n",
      "ytrain values:\n",
      " (array(['closed', 'open'], dtype=object), array([ 168, 7922]))\n",
      "time elapsed: 2.9718997478485107\n",
      "preds unique: ['closed' 'open']\n",
      "Fold:2\n",
      "Accuracy=0.8343224530168151\n"
     ]
    },
    {
     "data": {
      "image/png": "[encoded data removed]",
      "text/plain": [
       "<Figure size 432x288 with 2 Axes>"
      ]
     },
     "metadata": {
      "needs_background": "light"
     },
     "output_type": "display_data"
    },
    {
     "name": "stdout",
     "output_type": "stream",
     "text": [
      " \n",
      "training fold: 3\n",
      "xtrain shape (8090, 600)\n",
      "ytrain values:\n",
      " (array(['closed', 'open'], dtype=object), array([ 168, 7922]))\n",
      "time elapsed: 3.024646759033203\n",
      "preds unique: ['closed' 'open']\n",
      "Fold:3\n",
      "Accuracy=0.7769535113748763\n"
     ]
    },
    {
     "data": {
      "image/png": "[encoded data removed]",
      "text/plain": [
       "<Figure size 432x288 with 2 Axes>"
      ]
     },
     "metadata": {
      "needs_background": "light"
     },
     "output_type": "display_data"
    },
    {
     "name": "stdout",
     "output_type": "stream",
     "text": [
      " \n",
      "training fold: 4\n",
      "xtrain shape (8090, 600)\n",
      "ytrain values:\n",
      " (array(['closed', 'open'], dtype=object), array([ 168, 7922]))\n",
      "time elapsed: 3.01284122467041\n",
      "preds unique: ['closed' 'open']\n",
      "Fold:4\n",
      "Accuracy=0.8016815034619189\n"
     ]
    },
    {
     "data": {
      "image/png": "[encoded data removed]",
      "text/plain": [
       "<Figure size 432x288 with 2 Axes>"
      ]
     },
     "metadata": {
      "needs_background": "light"
     },
     "output_type": "display_data"
    },
    {
     "name": "stdout",
     "output_type": "stream",
     "text": [
      " \n"
     ]
    }
   ],
   "source": [
    "#create sentence embeddings\n",
    "from sklearn.metrics import plot_confusion_matrix\n",
    "import matplotlib.pyplot as plt\n",
    "from imblearn.ensemble import BalancedBaggingClassifier\n",
    "\n",
    "def get_vectors(vectors,column):\n",
    "    \"\"\"\n",
    "    vectors: empty array to fill in\n",
    "    column: dataframe column\n",
    "    return embedding vestors\n",
    "    \"\"\"\n",
    "    for body in column:\n",
    "        vectors.append(\n",
    "            sentence_to_vec(s= body,\n",
    "                           embedding_dict = embeddings,\n",
    "                           stop_words =my_stopwords,\n",
    "                           tokenizer=tokenize\n",
    "                           )\n",
    "        )\n",
    "    return vectors   \n",
    "\n",
    "\n",
    "if __name__==\"__main__\":\n",
    "    \n",
    "    t0=time.time()\n",
    "    print(\"creating sentence embedding\")\n",
    "    vector1 =[]\n",
    "    vector2 =[]\n",
    "    vectors=[]\n",
    "    print(\"the BodyMarkDown column embedding\")\n",
    "    vector1 = get_vectors(vector1,df.BodyMarkdown.values)\n",
    "    vector1 = np.array(vector1)    \n",
    "    print(\"1st column shape\",vector1.shape)\n",
    "    \n",
    "    print(\"the Title column embedding\")\n",
    "    vector2 = get_vectors(vector2,df.Title.values)\n",
    "    vector2 = np.array(vectors2)    \n",
    "    print(\"2nd column shape\",vector2.shape)\n",
    "    \n",
    "    vectors = np.concatenate((vector1,vector2),axis=1)\n",
    "    \n",
    "    print(\"Train column shape\",vectors.shape)\n",
    "    \n",
    "    # clear up memory\n",
    "    vector1 =[]\n",
    "    vector2 =[]\n",
    "    \n",
    "    t1=time.time()\n",
    "    total_time = t1-t0\n",
    "    print(\"time embedding\",total_time)\n",
    "    print(\" \")           \n",
    "    \n",
    "    y=df.OpenStatus.values\n",
    "    # initialize the kfold class\n",
    "    kf = model_selection.StratifiedKFold(n_splits=5)\n",
    "    # fill the new kfold column\n",
    "    for fold_,(t_,v_) in enumerate(kf.split(X=vectors,y=y)):\n",
    "        print(f\"training fold: {fold_}\")\n",
    "        #temp dataframe for train and test\n",
    "        xtrain=vectors[t_,:]\n",
    "        ytrain=y[t_]\n",
    "        print('xtrain shape',xtrain.shape)\n",
    "        print('ytrain values:\\n',np.unique(ytrain, return_counts=True))\n",
    "        \n",
    "        xtest=vectors[v_,:]\n",
    "        ytest =y[v_]\n",
    "        model=BalancedBaggingClassifier(sampling_strategy=0.9,\n",
    "                                    n_estimators=1000,\n",
    "                                    n_jobs=-1,\n",
    "                                    max_samples=0.05,\n",
    "                                    warm_start=True)\n",
    "        t0=time.time()\n",
    "        #fit the model on training data \n",
    "        model.fit(xtrain,ytrain)\n",
    "        # make predictions\n",
    "        preds = model.predict(xtest)\n",
    "        #print(preds.shape)\n",
    "        #preds1 = [model.classes_[np.argmax(x)] for x in preds]        \n",
    "        \n",
    "        t1=time.time()\n",
    "        total_time = t1-t0\n",
    "        \n",
    "        print('time elapsed:', total_time)\n",
    "        print('preds unique:',np.unique(preds))\n",
    "        \n",
    "        # calculate f1 score\n",
    "        #accuracy = metrics.accuracy_score(test_df.BodyMarkdown, preds)\n",
    "        accuracy_score = np.sum(preds == ytest) / len(ytest)        #log_loss= metrics.log_loss(train_df.OpenStatus,preds)\n",
    "        \n",
    "        print(f\"Fold:{fold_}\")\n",
    "        print(f\"Accuracy={accuracy_score}\")\n",
    "        plot_confusion_matrix(model, xtest, ytest)\n",
    "        plt.show()\n",
    "        print(\" \")"
   ]
  },
  {
   "cell_type": "code",
   "execution_count": null,
   "metadata": {},
   "outputs": [],
   "source": []
  }
 ],
 "metadata": {
  "kernelspec": {
   "display_name": "Python 3",
   "language": "python",
   "name": "python3"
  },
  "language_info": {
   "codemirror_mode": {
    "name": "ipython",
    "version": 3
   },
   "file_extension": ".py",
   "mimetype": "text/x-python",
   "name": "python",
   "nbconvert_exporter": "python",
   "pygments_lexer": "ipython3",
   "version": "3.8.5"
  }
 },
 "nbformat": 4,
 "nbformat_minor": 4
}

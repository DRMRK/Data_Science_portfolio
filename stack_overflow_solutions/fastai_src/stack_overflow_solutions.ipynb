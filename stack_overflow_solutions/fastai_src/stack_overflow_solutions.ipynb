{
  "nbformat": 4,
  "nbformat_minor": 0,
  "metadata": {
    "colab": {
      "name": "stack_overflow_solutions.ipynb",
      "provenance": []
    },
    "kernelspec": {
      "name": "python3",
      "display_name": "Python 3"
    },
    "accelerator": "GPU"
  },
  "cells": [
    {
      "cell_type": "code",
      "metadata": {
        "id": "knaYhtkLMTVP"
      },
      "source": [
        "!pip install -Uqq fastbook\n",
        "import fastbook\n",
        "fastbook.setup_book()"
      ],
      "execution_count": 2,
      "outputs": []
    },
    {
      "cell_type": "code",
      "metadata": {
        "colab": {
          "base_uri": "https://localhost:8080/"
        },
        "id": "2zw7Q2tuA_rN",
        "outputId": "9997a388-398c-4dc5-a3e7-c580cbfb2dfd"
      },
      "source": [
        "!fusermount -u drive\n",
        "!google-drive-ocamlfuse drive"
      ],
      "execution_count": 7,
      "outputs": [
        {
          "output_type": "stream",
          "text": [
            "/bin/bash: google-drive-ocamlfuse: command not found\n"
          ],
          "name": "stdout"
        }
      ]
    },
    {
      "cell_type": "code",
      "metadata": {
        "id": "2uLN8ZatmyWo",
        "colab": {
          "base_uri": "https://localhost:8080/",
          "height": 527
        },
        "outputId": "d0df44d4-bf2e-42ca-c7bd-277635739035"
      },
      "source": [
        "import pandas as pd\n",
        "import fastai\n",
        "from fastai.text.all import *\n",
        "df_all= pd.read_csv(\"/content/gdrive/MyDrive/train_tiny_folds_lstm.csv\")\n",
        "df_all.head()"
      ],
      "execution_count": 14,
      "outputs": [
        {
          "output_type": "execute_result",
          "data": {
            "text/html": [
              "<div>\n",
              "<style scoped>\n",
              "    .dataframe tbody tr th:only-of-type {\n",
              "        vertical-align: middle;\n",
              "    }\n",
              "\n",
              "    .dataframe tbody tr th {\n",
              "        vertical-align: top;\n",
              "    }\n",
              "\n",
              "    .dataframe thead th {\n",
              "        text-align: right;\n",
              "    }\n",
              "</style>\n",
              "<table border=\"1\" class=\"dataframe\">\n",
              "  <thead>\n",
              "    <tr style=\"text-align: right;\">\n",
              "      <th></th>\n",
              "      <th>id</th>\n",
              "      <th>question</th>\n",
              "      <th>OpenStatus</th>\n",
              "      <th>kfold</th>\n",
              "    </tr>\n",
              "  </thead>\n",
              "  <tbody>\n",
              "    <tr>\n",
              "      <th>0</th>\n",
              "      <td>1661369</td>\n",
              "      <td>How does C Handle Integers with Leading Zeros? When you create an integer with leading zeros, how does c handle it? Is it different for different versions of C?\\r\\n\\r\\nIn my case, they just seem to be dropped (but maybe that is what printf does?):\\r\\n\\r\\n    #include &lt;stdio.h&gt;\\r\\n    \\r\\n    int main() {\\r\\n        int a = 005;\\r\\n        printf(\"%i\\n\", a);\\r\\n        return 0;\\r\\n    }\\r\\n\\r\\nI know I can use printf to pad with 0s, but I am just wondering how this works.</td>\n",
              "      <td>1</td>\n",
              "      <td>0</td>\n",
              "    </tr>\n",
              "    <tr>\n",
              "      <th>1</th>\n",
              "      <td>6755283</td>\n",
              "      <td>how to parse a function and it's arguments For my lexer i'm using the `boost::wave` lexical iterator which gives me all the tokens. Now i want to find if a set of tokens i.e. an identifier followed by `open parenthesis` and then set of arguments separated by `comma` and finally `closed parenthesis`, is a function in a C++ program. I mean how should i analyze the set of tokens to make sure i have a function. I am trying to implement this using a recursive descent parser. Till now my (recursive descent parser) can parse arithmetic expressions and take care of (almost) all kinds of operator p...</td>\n",
              "      <td>1</td>\n",
              "      <td>0</td>\n",
              "    </tr>\n",
              "    <tr>\n",
              "      <th>2</th>\n",
              "      <td>8133788</td>\n",
              "      <td>Time to the next alarm in seconds or milliseconds With this code I am able to take some string like \"Wed 10:10\", \\r\\n\\r\\n    String nextAlarm = Settings.System.getString(getContentResolver(),\\r\\n        Settings.System.NEXT_ALARM_FORMATTED);\\r\\n\\r\\nbut I want to have a value of seconds to the next alarm. Is that possible ?\\r\\nAlso it would be nice for me if I am able to read the value of the description field, and the days when this alarm is enabled.\\r\\n\\r\\n\\r\\n</td>\n",
              "      <td>1</td>\n",
              "      <td>0</td>\n",
              "    </tr>\n",
              "    <tr>\n",
              "      <th>3</th>\n",
              "      <td>481059</td>\n",
              "      <td>Masked TextBox in WPF Do you know any freely available WPF component for using masks (regex) in textbox?</td>\n",
              "      <td>1</td>\n",
              "      <td>0</td>\n",
              "    </tr>\n",
              "    <tr>\n",
              "      <th>4</th>\n",
              "      <td>10386026</td>\n",
              "      <td>T-SQL: Conditionally joining using a parameter Consider a simple join:\\r\\n\\r\\nSelect TableB.* From TableA Inner Join TableB On TableB.ID = TableA.ID\\r\\n\\r\\nWhat I want to do is decide which table to join to depending on a parameter. Although the following syntax is not valid, I wrote it just to illustrate what I am after:\\r\\n\\r\\nSelect TableD.* From TableA Inner Join [If @useTableC = 1 Then Join to TableC Else Join to TableB] As TableD\\r\\n\\r\\nBoth TableB and TableC have identical columns.\\r\\n\\r\\nHow can I create this kind of join. Please be aware that this example is actually a small porti...</td>\n",
              "      <td>1</td>\n",
              "      <td>0</td>\n",
              "    </tr>\n",
              "  </tbody>\n",
              "</table>\n",
              "</div>"
            ],
            "text/plain": [
              "         id  \\\n",
              "0   1661369   \n",
              "1   6755283   \n",
              "2   8133788   \n",
              "3    481059   \n",
              "4  10386026   \n",
              "\n",
              "                                                                                                                                                                                                                                                                                                                                                                                                                                                                                                                                                                                                                  question  \\\n",
              "0                                                                                                                             How does C Handle Integers with Leading Zeros? When you create an integer with leading zeros, how does c handle it? Is it different for different versions of C?\\r\\n\\r\\nIn my case, they just seem to be dropped (but maybe that is what printf does?):\\r\\n\\r\\n    #include <stdio.h>\\r\\n    \\r\\n    int main() {\\r\\n        int a = 005;\\r\\n        printf(\"%i\\n\", a);\\r\\n        return 0;\\r\\n    }\\r\\n\\r\\nI know I can use printf to pad with 0s, but I am just wondering how this works.   \n",
              "1  how to parse a function and it's arguments For my lexer i'm using the `boost::wave` lexical iterator which gives me all the tokens. Now i want to find if a set of tokens i.e. an identifier followed by `open parenthesis` and then set of arguments separated by `comma` and finally `closed parenthesis`, is a function in a C++ program. I mean how should i analyze the set of tokens to make sure i have a function. I am trying to implement this using a recursive descent parser. Till now my (recursive descent parser) can parse arithmetic expressions and take care of (almost) all kinds of operator p...   \n",
              "2                                                                                                                                       Time to the next alarm in seconds or milliseconds With this code I am able to take some string like \"Wed 10:10\", \\r\\n\\r\\n    String nextAlarm = Settings.System.getString(getContentResolver(),\\r\\n        Settings.System.NEXT_ALARM_FORMATTED);\\r\\n\\r\\nbut I want to have a value of seconds to the next alarm. Is that possible ?\\r\\nAlso it would be nice for me if I am able to read the value of the description field, and the days when this alarm is enabled.\\r\\n\\r\\n\\r\\n   \n",
              "3                                                                                                                                                                                                                                                                                                                                                                                                                                                                                                                 Masked TextBox in WPF Do you know any freely available WPF component for using masks (regex) in textbox?   \n",
              "4  T-SQL: Conditionally joining using a parameter Consider a simple join:\\r\\n\\r\\nSelect TableB.* From TableA Inner Join TableB On TableB.ID = TableA.ID\\r\\n\\r\\nWhat I want to do is decide which table to join to depending on a parameter. Although the following syntax is not valid, I wrote it just to illustrate what I am after:\\r\\n\\r\\nSelect TableD.* From TableA Inner Join [If @useTableC = 1 Then Join to TableC Else Join to TableB] As TableD\\r\\n\\r\\nBoth TableB and TableC have identical columns.\\r\\n\\r\\nHow can I create this kind of join. Please be aware that this example is actually a small porti...   \n",
              "\n",
              "   OpenStatus  kfold  \n",
              "0           1      0  \n",
              "1           1      0  \n",
              "2           1      0  \n",
              "3           1      0  \n",
              "4           1      0  "
            ]
          },
          "metadata": {
            "tags": []
          },
          "execution_count": 14
        }
      ]
    },
    {
      "cell_type": "code",
      "metadata": {
        "colab": {
          "base_uri": "https://localhost:8080/"
        },
        "id": "7GtEmBAo_Ppf",
        "outputId": "3ed37c7b-7e3f-4963-86dd-73891911916c"
      },
      "source": [
        "df_all.info()"
      ],
      "execution_count": 15,
      "outputs": [
        {
          "output_type": "stream",
          "text": [
            "<class 'pandas.core.frame.DataFrame'>\n",
            "RangeIndex: 33706 entries, 0 to 33705\n",
            "Data columns (total 4 columns):\n",
            " #   Column      Non-Null Count  Dtype \n",
            "---  ------      --------------  ----- \n",
            " 0   id          33706 non-null  int64 \n",
            " 1   question    33706 non-null  object\n",
            " 2   OpenStatus  33706 non-null  int64 \n",
            " 3   kfold       33706 non-null  int64 \n",
            "dtypes: int64(3), object(1)\n",
            "memory usage: 1.0+ MB\n"
          ],
          "name": "stdout"
        }
      ]
    },
    {
      "cell_type": "code",
      "metadata": {
        "colab": {
          "base_uri": "https://localhost:8080/"
        },
        "id": "_X3kRhNTEkLL",
        "outputId": "c3afa5a2-7370-4737-d8c1-7ea322956c4d"
      },
      "source": [
        "df_all.OpenStatus.value_counts()"
      ],
      "execution_count": 16,
      "outputs": [
        {
          "output_type": "execute_result",
          "data": {
            "text/plain": [
              "1    33005\n",
              "0      701\n",
              "Name: OpenStatus, dtype: int64"
            ]
          },
          "metadata": {
            "tags": []
          },
          "execution_count": 16
        }
      ]
    },
    {
      "cell_type": "code",
      "metadata": {
        "id": "vAitIRkeiXcf"
      },
      "source": [
        "from sklearn.metrics import confusion_matrix\n",
        "conf= confusion_matrix"
      ],
      "execution_count": 4,
      "outputs": []
    },
    {
      "cell_type": "code",
      "metadata": {
        "colab": {
          "base_uri": "https://localhost:8080/",
          "height": 1000
        },
        "id": "PBB8WMkogEIZ",
        "outputId": "0f3404ea-5119-4c26-8a38-ca5df9070846"
      },
      "source": [
        "fold = 0\n",
        "for folds in range(1):\n",
        "  print(\"fold\",folds)\n",
        "  df=df_all.copy()\n",
        "  mask1 = df.kfold==folds\n",
        "  mask2 = df.kfold!=folds\n",
        "  column_name ='is_valid'\n",
        "  df.loc[mask1,column_name] = True\n",
        "  df.loc[mask2,column_name] =False\n",
        "  print(df.OpenStatus.value_counts())\n",
        "  dls_lm = TextDataLoaders.from_df(df,text_col='question', label_col='OpenStatus',\n",
        "                                valid_col='is_valid',seq_len=144,is_lm=True)\n",
        "  \n",
        "  dls_lm.show_batch(max_n=2)  \n",
        "  learn = language_model_learner(dls_lm,AWD_LSTM,metrics=[accuracy,Perplexity],wd=0.1,path='').to_fp16()\n",
        "  learn.fit_one_cycle(1,1e-2)\n",
        "  learn.save('1epoch')\n",
        "  learn = learn.load('1epoch')\n",
        "  learn.unfreeze()\n",
        "  learn.fit_one_cycle(10,1e-3)\n",
        "  learn.save_encoder('finetuned')\n",
        "\n",
        "  #classification\n",
        "  dls_clas = TextDataLoaders.from_df(df,text_col='question', label_col='OpenStatus',\n",
        "                                valid_col='is_valid',seq_len=144,text_vocab=dls_lm.vocab)\n",
        "\n",
        "  roc_score=RocAucBinary() \n",
        "  learn = text_classifier_learner(dls_clas, AWD_LSTM, drop_mult=0.5,metrics=[accuracy, roc_score])\n",
        "  learn=learn.load_encoder('finetuned')\n",
        "  learn.fit_one_cycle(1,2e-2)\n",
        "  learn.freeze_to(-2)\n",
        "  learn.fit_one_cycle(1,slice(1e-2/(2.6**4),1e-2))\n",
        "  learn.freeze_to(-3)\n",
        "  learn.fit_one_cycle(1,slice(5e-3/(2.6**4),5e-3))\n",
        "  learn.unfreeze()\n",
        "  learn.fit_one_cycle(2,slice(1e-3/(2.6**4),5e-3))\n",
        "  interp = ClassificationInterpretation.from_learner(learn)\n",
        "  interp.plot_confusion_matrix()"
      ],
      "execution_count": 17,
      "outputs": [
        {
          "output_type": "stream",
          "text": [
            "fold 0\n",
            "1    33005\n",
            "0      701\n",
            "Name: OpenStatus, dtype: int64\n"
          ],
          "name": "stdout"
        },
        {
          "output_type": "display_data",
          "data": {
            "text/html": [
              ""
            ],
            "text/plain": [
              "<IPython.core.display.HTML object>"
            ]
          },
          "metadata": {
            "tags": []
          }
        },
        {
          "output_type": "stream",
          "text": [
            "/usr/local/lib/python3.7/dist-packages/numpy/core/_asarray.py:83: VisibleDeprecationWarning: Creating an ndarray from ragged nested sequences (which is a list-or-tuple of lists-or-tuples-or ndarrays with different lengths or shapes) is deprecated. If you meant to do this, you must specify 'dtype=object' when creating the ndarray\n",
            "  return array(a, dtype, copy=False, order=order)\n"
          ],
          "name": "stderr"
        },
        {
          "output_type": "display_data",
          "data": {
            "text/html": [
              "<table border=\"1\" class=\"dataframe\">\n",
              "  <thead>\n",
              "    <tr style=\"text-align: right;\">\n",
              "      <th></th>\n",
              "      <th>text</th>\n",
              "      <th>text_</th>\n",
              "    </tr>\n",
              "  </thead>\n",
              "  <tbody>\n",
              "    <tr>\n",
              "      <th>0</th>\n",
              "      <td>xxbos xxup xml xxup rpc via xxup xmpp xxmaj i 'm currently trying to implement xxup xml xxup rpc via xxup xmpp . xxmaj i 'm using xxmaj smack as client library and xxmaj xxunk as xxup xmpp server . xxmaj simplified , my setup looks as follows : \\r\\n\\r\\n * * [ client1 ] — [ server ] — [ xxunk ] * * \\r\\n\\r\\n i want to invoke a method on xxmaj client 2 from xxmaj client 1 . i create an xxup iq with type set , and from and to elements and the query content as described in [ 1 ] . xxmaj simplified example : \\r\\n\\r\\n▁ &lt; iq xxunk ' xxunk ' xxunk ' xxunk ' &gt; \\r\\n▁ &lt; query xxunk : iq : rpc ' &gt; \\r\\n▁ &lt; methodcall &gt; \\r\\n▁ &lt; methodname &gt; foo &lt; / methodname</td>\n",
              "      <td>xxup xml xxup rpc via xxup xmpp xxmaj i 'm currently trying to implement xxup xml xxup rpc via xxup xmpp . xxmaj i 'm using xxmaj smack as client library and xxmaj xxunk as xxup xmpp server . xxmaj simplified , my setup looks as follows : \\r\\n\\r\\n * * [ client1 ] — [ server ] — [ xxunk ] * * \\r\\n\\r\\n i want to invoke a method on xxmaj client 2 from xxmaj client 1 . i create an xxup iq with type set , and from and to elements and the query content as described in [ 1 ] . xxmaj simplified example : \\r\\n\\r\\n▁ &lt; iq xxunk ' xxunk ' xxunk ' xxunk ' &gt; \\r\\n▁ &lt; query xxunk : iq : rpc ' &gt; \\r\\n▁ &lt; methodcall &gt; \\r\\n▁ &lt; methodname &gt; foo &lt; / methodname &gt;</td>\n",
              "    </tr>\n",
              "    <tr>\n",
              "      <th>1</th>\n",
              "      <td>to determine if url is being requested from xxmaj facebook iframe ? i have a xxmaj google xxmaj app xxmaj engine application and i want to serve a different django template if the request comes in from the xxmaj facebook xxmaj application . xxmaj how can i detect that ? i do n't see anything unique in the xxmaj header . xxbos xxmaj android web app screen css issue ? i have a mobile application that i am building , it is made to support android , iphone and probably blackberry . xxmaj most of the css and formatting is coded on a 1024px . i have formatted the site using an iphone because it was in hand . xxmaj after trying the site on an android , the site seems to load as if the phone believes it is a full screen .</td>\n",
              "      <td>determine if url is being requested from xxmaj facebook iframe ? i have a xxmaj google xxmaj app xxmaj engine application and i want to serve a different django template if the request comes in from the xxmaj facebook xxmaj application . xxmaj how can i detect that ? i do n't see anything unique in the xxmaj header . xxbos xxmaj android web app screen css issue ? i have a mobile application that i am building , it is made to support android , iphone and probably blackberry . xxmaj most of the css and formatting is coded on a 1024px . i have formatted the site using an iphone because it was in hand . xxmaj after trying the site on an android , the site seems to load as if the phone believes it is a full screen . xxmaj</td>\n",
              "    </tr>\n",
              "  </tbody>\n",
              "</table>"
            ],
            "text/plain": [
              "<IPython.core.display.HTML object>"
            ]
          },
          "metadata": {
            "tags": []
          }
        },
        {
          "output_type": "display_data",
          "data": {
            "text/html": [
              "<table border=\"1\" class=\"dataframe\">\n",
              "  <thead>\n",
              "    <tr style=\"text-align: left;\">\n",
              "      <th>epoch</th>\n",
              "      <th>train_loss</th>\n",
              "      <th>valid_loss</th>\n",
              "      <th>accuracy</th>\n",
              "      <th>perplexity</th>\n",
              "      <th>time</th>\n",
              "    </tr>\n",
              "  </thead>\n",
              "  <tbody>\n",
              "    <tr>\n",
              "      <td>0</td>\n",
              "      <td>4.315141</td>\n",
              "      <td>3.993444</td>\n",
              "      <td>0.308699</td>\n",
              "      <td>54.241386</td>\n",
              "      <td>04:26</td>\n",
              "    </tr>\n",
              "  </tbody>\n",
              "</table>"
            ],
            "text/plain": [
              "<IPython.core.display.HTML object>"
            ]
          },
          "metadata": {
            "tags": []
          }
        },
        {
          "output_type": "display_data",
          "data": {
            "text/html": [
              "<table border=\"1\" class=\"dataframe\">\n",
              "  <thead>\n",
              "    <tr style=\"text-align: left;\">\n",
              "      <th>epoch</th>\n",
              "      <th>train_loss</th>\n",
              "      <th>valid_loss</th>\n",
              "      <th>accuracy</th>\n",
              "      <th>perplexity</th>\n",
              "      <th>time</th>\n",
              "    </tr>\n",
              "  </thead>\n",
              "  <tbody>\n",
              "    <tr>\n",
              "      <td>0</td>\n",
              "      <td>3.885558</td>\n",
              "      <td>3.728172</td>\n",
              "      <td>0.346283</td>\n",
              "      <td>41.603001</td>\n",
              "      <td>04:41</td>\n",
              "    </tr>\n",
              "    <tr>\n",
              "      <td>1</td>\n",
              "      <td>3.647030</td>\n",
              "      <td>3.516443</td>\n",
              "      <td>0.372272</td>\n",
              "      <td>33.664471</td>\n",
              "      <td>04:42</td>\n",
              "    </tr>\n",
              "    <tr>\n",
              "      <td>2</td>\n",
              "      <td>3.493233</td>\n",
              "      <td>3.396778</td>\n",
              "      <td>0.388196</td>\n",
              "      <td>29.867722</td>\n",
              "      <td>04:42</td>\n",
              "    </tr>\n",
              "    <tr>\n",
              "      <td>3</td>\n",
              "      <td>3.349689</td>\n",
              "      <td>3.324145</td>\n",
              "      <td>0.395920</td>\n",
              "      <td>27.775249</td>\n",
              "      <td>04:42</td>\n",
              "    </tr>\n",
              "    <tr>\n",
              "      <td>4</td>\n",
              "      <td>3.248401</td>\n",
              "      <td>3.274486</td>\n",
              "      <td>0.401940</td>\n",
              "      <td>26.429646</td>\n",
              "      <td>04:43</td>\n",
              "    </tr>\n",
              "    <tr>\n",
              "      <td>5</td>\n",
              "      <td>3.191952</td>\n",
              "      <td>3.236199</td>\n",
              "      <td>0.406311</td>\n",
              "      <td>25.436844</td>\n",
              "      <td>04:42</td>\n",
              "    </tr>\n",
              "    <tr>\n",
              "      <td>6</td>\n",
              "      <td>3.109041</td>\n",
              "      <td>3.210099</td>\n",
              "      <td>0.410265</td>\n",
              "      <td>24.781527</td>\n",
              "      <td>04:42</td>\n",
              "    </tr>\n",
              "    <tr>\n",
              "      <td>7</td>\n",
              "      <td>3.031225</td>\n",
              "      <td>3.195346</td>\n",
              "      <td>0.412602</td>\n",
              "      <td>24.418617</td>\n",
              "      <td>04:42</td>\n",
              "    </tr>\n",
              "    <tr>\n",
              "      <td>8</td>\n",
              "      <td>2.994086</td>\n",
              "      <td>3.187466</td>\n",
              "      <td>0.413779</td>\n",
              "      <td>24.226963</td>\n",
              "      <td>04:42</td>\n",
              "    </tr>\n",
              "    <tr>\n",
              "      <td>9</td>\n",
              "      <td>2.985665</td>\n",
              "      <td>3.188108</td>\n",
              "      <td>0.413940</td>\n",
              "      <td>24.242517</td>\n",
              "      <td>04:42</td>\n",
              "    </tr>\n",
              "  </tbody>\n",
              "</table>"
            ],
            "text/plain": [
              "<IPython.core.display.HTML object>"
            ]
          },
          "metadata": {
            "tags": []
          }
        },
        {
          "output_type": "display_data",
          "data": {
            "text/html": [
              ""
            ],
            "text/plain": [
              "<IPython.core.display.HTML object>"
            ]
          },
          "metadata": {
            "tags": []
          }
        },
        {
          "output_type": "stream",
          "text": [
            "/usr/local/lib/python3.7/dist-packages/numpy/core/_asarray.py:83: VisibleDeprecationWarning: Creating an ndarray from ragged nested sequences (which is a list-or-tuple of lists-or-tuples-or ndarrays with different lengths or shapes) is deprecated. If you meant to do this, you must specify 'dtype=object' when creating the ndarray\n",
            "  return array(a, dtype, copy=False, order=order)\n"
          ],
          "name": "stderr"
        },
        {
          "output_type": "display_data",
          "data": {
            "text/html": [
              "<table border=\"1\" class=\"dataframe\">\n",
              "  <thead>\n",
              "    <tr style=\"text-align: left;\">\n",
              "      <th>epoch</th>\n",
              "      <th>train_loss</th>\n",
              "      <th>valid_loss</th>\n",
              "      <th>accuracy</th>\n",
              "      <th>roc_auc_score</th>\n",
              "      <th>time</th>\n",
              "    </tr>\n",
              "  </thead>\n",
              "  <tbody>\n",
              "    <tr>\n",
              "      <td>0</td>\n",
              "      <td>0.099830</td>\n",
              "      <td>0.088761</td>\n",
              "      <td>0.978196</td>\n",
              "      <td>0.787107</td>\n",
              "      <td>02:02</td>\n",
              "    </tr>\n",
              "  </tbody>\n",
              "</table>"
            ],
            "text/plain": [
              "<IPython.core.display.HTML object>"
            ]
          },
          "metadata": {
            "tags": []
          }
        },
        {
          "output_type": "display_data",
          "data": {
            "text/html": [
              "<table border=\"1\" class=\"dataframe\">\n",
              "  <thead>\n",
              "    <tr style=\"text-align: left;\">\n",
              "      <th>epoch</th>\n",
              "      <th>train_loss</th>\n",
              "      <th>valid_loss</th>\n",
              "      <th>accuracy</th>\n",
              "      <th>roc_auc_score</th>\n",
              "      <th>time</th>\n",
              "    </tr>\n",
              "  </thead>\n",
              "  <tbody>\n",
              "    <tr>\n",
              "      <td>0</td>\n",
              "      <td>0.093323</td>\n",
              "      <td>0.088365</td>\n",
              "      <td>0.978048</td>\n",
              "      <td>0.797209</td>\n",
              "      <td>02:20</td>\n",
              "    </tr>\n",
              "  </tbody>\n",
              "</table>"
            ],
            "text/plain": [
              "<IPython.core.display.HTML object>"
            ]
          },
          "metadata": {
            "tags": []
          }
        },
        {
          "output_type": "display_data",
          "data": {
            "text/html": [
              "<table border=\"1\" class=\"dataframe\">\n",
              "  <thead>\n",
              "    <tr style=\"text-align: left;\">\n",
              "      <th>epoch</th>\n",
              "      <th>train_loss</th>\n",
              "      <th>valid_loss</th>\n",
              "      <th>accuracy</th>\n",
              "      <th>roc_auc_score</th>\n",
              "      <th>time</th>\n",
              "    </tr>\n",
              "  </thead>\n",
              "  <tbody>\n",
              "    <tr>\n",
              "      <td>0</td>\n",
              "      <td>0.087912</td>\n",
              "      <td>0.089011</td>\n",
              "      <td>0.977158</td>\n",
              "      <td>0.800706</td>\n",
              "      <td>03:31</td>\n",
              "    </tr>\n",
              "  </tbody>\n",
              "</table>"
            ],
            "text/plain": [
              "<IPython.core.display.HTML object>"
            ]
          },
          "metadata": {
            "tags": []
          }
        },
        {
          "output_type": "display_data",
          "data": {
            "text/html": [
              "<table border=\"1\" class=\"dataframe\">\n",
              "  <thead>\n",
              "    <tr style=\"text-align: left;\">\n",
              "      <th>epoch</th>\n",
              "      <th>train_loss</th>\n",
              "      <th>valid_loss</th>\n",
              "      <th>accuracy</th>\n",
              "      <th>roc_auc_score</th>\n",
              "      <th>time</th>\n",
              "    </tr>\n",
              "  </thead>\n",
              "  <tbody>\n",
              "    <tr>\n",
              "      <td>0</td>\n",
              "      <td>0.078443</td>\n",
              "      <td>0.094713</td>\n",
              "      <td>0.977306</td>\n",
              "      <td>0.771528</td>\n",
              "      <td>04:29</td>\n",
              "    </tr>\n",
              "    <tr>\n",
              "      <td>1</td>\n",
              "      <td>0.073527</td>\n",
              "      <td>0.105538</td>\n",
              "      <td>0.974933</td>\n",
              "      <td>0.784495</td>\n",
              "      <td>04:28</td>\n",
              "    </tr>\n",
              "  </tbody>\n",
              "</table>"
            ],
            "text/plain": [
              "<IPython.core.display.HTML object>"
            ]
          },
          "metadata": {
            "tags": []
          }
        },
        {
          "output_type": "display_data",
          "data": {
            "text/html": [
              ""
            ],
            "text/plain": [
              "<IPython.core.display.HTML object>"
            ]
          },
          "metadata": {
            "tags": []
          }
        },
        {
          "output_type": "display_data",
          "data": {
            "image/png": "[encoded data removed]",
            "text/plain": [
              "<Figure size 432x288 with 1 Axes>"
            ]
          },
          "metadata": {
            "tags": [],
            "needs_background": "light"
          }
        }
      ]
    },
    {
      "cell_type": "code",
      "metadata": {
        "id": "vKv7PKupmNRQ",
        "colab": {
          "base_uri": "https://localhost:8080/",
          "height": 1000
        },
        "outputId": "464faa2b-c47c-4327-9d1e-23a62488e1f5"
      },
      "source": [
        "fold = 0\n",
        "for folds in range(1,2):\n",
        "  print(\"fold\",folds)\n",
        "  df=df_all.copy()\n",
        "  mask1 = df.kfold==folds\n",
        "  mask2 = df.kfold!=folds\n",
        "  column_name ='is_valid'\n",
        "  df.loc[mask1,column_name] = True\n",
        "  df.loc[mask2,column_name] =False\n",
        "  print(df.OpenStatus.value_counts())\n",
        "  dls_lm = TextDataLoaders.from_df(df,text_col='question', label_col='OpenStatus',\n",
        "                                valid_col='is_valid',seq_len=144,is_lm=True)\n",
        "  \n",
        "  dls_lm.show_batch(max_n=2)  \n",
        "  learn = language_model_learner(dls_lm,AWD_LSTM,metrics=[accuracy,Perplexity],wd=0.1,path='').to_fp16()\n",
        "  learn.fit_one_cycle(1,1e-2)\n",
        "  learn.save('1epoch')\n",
        "  learn = learn.load('1epoch')\n",
        "  learn.unfreeze()\n",
        "  learn.fit_one_cycle(10,1e-3)\n",
        "  learn.save_encoder('finetuned')\n",
        "\n",
        "  #classification\n",
        "  dls_clas = TextDataLoaders.from_df(df,text_col='question', label_col='OpenStatus',\n",
        "                                valid_col='is_valid',seq_len=144,text_vocab=dls_lm.vocab)\n",
        "\n",
        "  roc_score=RocAucBinary() \n",
        "  learn = text_classifier_learner(dls_clas, AWD_LSTM, drop_mult=0.5,metrics=[accuracy, roc_score])\n",
        "  learn=learn.load_encoder('finetuned')\n",
        "  learn.fit_one_cycle(1,2e-2)\n",
        "  learn.freeze_to(-2)\n",
        "  learn.fit_one_cycle(1,slice(1e-2/(2.6**4),1e-2))\n",
        "  learn.freeze_to(-3)\n",
        "  learn.fit_one_cycle(1,slice(5e-3/(2.6**4),5e-3))\n",
        "  learn.unfreeze()\n",
        "  learn.fit_one_cycle(2,slice(1e-3/(2.6**4),5e-2))\n",
        "  interp = ClassificationInterpretation.from_learner(learn)\n",
        "  interp.plot_confusion_matrix()"
      ],
      "execution_count": 20,
      "outputs": [
        {
          "output_type": "stream",
          "text": [
            "fold 1\n",
            "1    33005\n",
            "0      701\n",
            "Name: OpenStatus, dtype: int64\n"
          ],
          "name": "stdout"
        },
        {
          "output_type": "display_data",
          "data": {
            "text/html": [
              ""
            ],
            "text/plain": [
              "<IPython.core.display.HTML object>"
            ]
          },
          "metadata": {
            "tags": []
          }
        },
        {
          "output_type": "stream",
          "text": [
            "/usr/local/lib/python3.7/dist-packages/numpy/core/_asarray.py:83: VisibleDeprecationWarning: Creating an ndarray from ragged nested sequences (which is a list-or-tuple of lists-or-tuples-or ndarrays with different lengths or shapes) is deprecated. If you meant to do this, you must specify 'dtype=object' when creating the ndarray\n",
            "  return array(a, dtype, copy=False, order=order)\n"
          ],
          "name": "stderr"
        },
        {
          "output_type": "display_data",
          "data": {
            "text/html": [
              "<table border=\"1\" class=\"dataframe\">\n",
              "  <thead>\n",
              "    <tr style=\"text-align: right;\">\n",
              "      <th></th>\n",
              "      <th>text</th>\n",
              "      <th>text_</th>\n",
              "    </tr>\n",
              "  </thead>\n",
              "  <tbody>\n",
              "    <tr>\n",
              "      <th>0</th>\n",
              "      <td>xxbos xxup ssh to server behind firewall i am currently trying to work out how to xxup ssh to servers behind firewalls that deny all incoming connections . xxmaj the servers can xxup ssh out , so i am wondering if there is a way to get the server behind the firewall to create an xxup ssh tunnel to my workstation , then allow my workstation to send commands back to the server through it ? \\r\\n\\r\\n i have looked into tunneling / reverse tunneling , but these appear to be port forwarding solutions , which will not work as the firewall xxunk all connections on all ports . \\r\\n\\r\\n xxmaj ideally , i would like to do this in xxmaj ruby ( using the xxunk gem ) , such that instead of opening a new connection like : \\r\\n\\r\\n▁ xxunk ' , '</td>\n",
              "      <td>xxup ssh to server behind firewall i am currently trying to work out how to xxup ssh to servers behind firewalls that deny all incoming connections . xxmaj the servers can xxup ssh out , so i am wondering if there is a way to get the server behind the firewall to create an xxup ssh tunnel to my workstation , then allow my workstation to send commands back to the server through it ? \\r\\n\\r\\n i have looked into tunneling / reverse tunneling , but these appear to be port forwarding solutions , which will not work as the firewall xxunk all connections on all ports . \\r\\n\\r\\n xxmaj ideally , i would like to do this in xxmaj ruby ( using the xxunk gem ) , such that instead of opening a new connection like : \\r\\n\\r\\n▁ xxunk ' , ' user</td>\n",
              "    </tr>\n",
              "    <tr>\n",
              "      <th>1</th>\n",
              "      <td>xxup init xxup sender xxup socket \\r\\n▁\\t▁ / / xxrep 3 &gt; xxmaj step # 1 xxrep 3 &lt; \\r\\n▁\\t▁ / / xxmaj create a socket \\r\\n▁\\t▁ / / - xxup af_inet is xxmaj address xxmaj family xxmaj internet and xxup sock_dgram is datagram \\r\\n▁\\t▁ xxunk = socket(af_inet , xxup sock_dgram , 0 ) ; \\r\\n▁\\t▁ if ( xxunk &lt; 0 ) \\r\\n▁\\t▁ { \\r\\n▁\\t▁ printf ( \" xxrep 3 * xxup error - socket ( ) failed \\n \") ; \\r\\n▁\\t▁ exit(-1 ) ; \\r\\n▁\\t▁ } \\r\\n▁\\t▁ printf ( \" xxrep 3 * xxmaj sender -- socket created \\n \") ; \\r\\n▁\\t▁ / / xxrep 3 &gt; xxmaj step # 2 xxrep 3 &lt; \\r\\n▁\\t▁ / / xxmaj fill - in server1 socket 's address information \\r\\n▁\\t▁ server_addr.sin_family = xxup af_inet ; / / xxmaj address family to use \\r\\n▁\\t▁ server_addr.sin_port = htons(port_num</td>\n",
              "      <td>init xxup sender xxup socket \\r\\n▁\\t▁ / / xxrep 3 &gt; xxmaj step # 1 xxrep 3 &lt; \\r\\n▁\\t▁ / / xxmaj create a socket \\r\\n▁\\t▁ / / - xxup af_inet is xxmaj address xxmaj family xxmaj internet and xxup sock_dgram is datagram \\r\\n▁\\t▁ xxunk = socket(af_inet , xxup sock_dgram , 0 ) ; \\r\\n▁\\t▁ if ( xxunk &lt; 0 ) \\r\\n▁\\t▁ { \\r\\n▁\\t▁ printf ( \" xxrep 3 * xxup error - socket ( ) failed \\n \") ; \\r\\n▁\\t▁ exit(-1 ) ; \\r\\n▁\\t▁ } \\r\\n▁\\t▁ printf ( \" xxrep 3 * xxmaj sender -- socket created \\n \") ; \\r\\n▁\\t▁ / / xxrep 3 &gt; xxmaj step # 2 xxrep 3 &lt; \\r\\n▁\\t▁ / / xxmaj fill - in server1 socket 's address information \\r\\n▁\\t▁ server_addr.sin_family = xxup af_inet ; / / xxmaj address family to use \\r\\n▁\\t▁ server_addr.sin_port = htons(port_num )</td>\n",
              "    </tr>\n",
              "  </tbody>\n",
              "</table>"
            ],
            "text/plain": [
              "<IPython.core.display.HTML object>"
            ]
          },
          "metadata": {
            "tags": []
          }
        },
        {
          "output_type": "display_data",
          "data": {
            "text/html": [
              "<table border=\"1\" class=\"dataframe\">\n",
              "  <thead>\n",
              "    <tr style=\"text-align: left;\">\n",
              "      <th>epoch</th>\n",
              "      <th>train_loss</th>\n",
              "      <th>valid_loss</th>\n",
              "      <th>accuracy</th>\n",
              "      <th>perplexity</th>\n",
              "      <th>time</th>\n",
              "    </tr>\n",
              "  </thead>\n",
              "  <tbody>\n",
              "    <tr>\n",
              "      <td>0</td>\n",
              "      <td>4.306540</td>\n",
              "      <td>4.003561</td>\n",
              "      <td>0.304739</td>\n",
              "      <td>54.792923</td>\n",
              "      <td>04:27</td>\n",
              "    </tr>\n",
              "  </tbody>\n",
              "</table>"
            ],
            "text/plain": [
              "<IPython.core.display.HTML object>"
            ]
          },
          "metadata": {
            "tags": []
          }
        },
        {
          "output_type": "display_data",
          "data": {
            "text/html": [
              "\n",
              "    <div>\n",
              "        <style>\n",
              "            /* Turns off some styling */\n",
              "            progress {\n",
              "                /* gets rid of default border in Firefox and Opera. */\n",
              "                border: none;\n",
              "                /* Needs to be in here for Safari polyfill so background images work as expected. */\n",
              "                background-size: auto;\n",
              "            }\n",
              "            .progress-bar-interrupted, .progress-bar-interrupted::-webkit-progress-bar {\n",
              "                background: #F44336;\n",
              "            }\n",
              "        </style>\n",
              "      <progress value='5' class='' max='10' style='width:300px; height:20px; vertical-align: middle;'></progress>\n",
              "      50.00% [5/10 23:41<23:41]\n",
              "    </div>\n",
              "    \n",
              "<table border=\"1\" class=\"dataframe\">\n",
              "  <thead>\n",
              "    <tr style=\"text-align: left;\">\n",
              "      <th>epoch</th>\n",
              "      <th>train_loss</th>\n",
              "      <th>valid_loss</th>\n",
              "      <th>accuracy</th>\n",
              "      <th>perplexity</th>\n",
              "      <th>time</th>\n",
              "    </tr>\n",
              "  </thead>\n",
              "  <tbody>\n",
              "    <tr>\n",
              "      <td>0</td>\n",
              "      <td>3.874503</td>\n",
              "      <td>3.740707</td>\n",
              "      <td>0.342272</td>\n",
              "      <td>42.127769</td>\n",
              "      <td>04:52</td>\n",
              "    </tr>\n",
              "    <tr>\n",
              "      <td>1</td>\n",
              "      <td>3.654639</td>\n",
              "      <td>3.537352</td>\n",
              "      <td>0.368227</td>\n",
              "      <td>34.375759</td>\n",
              "      <td>04:42</td>\n",
              "    </tr>\n",
              "    <tr>\n",
              "      <td>2</td>\n",
              "      <td>3.430633</td>\n",
              "      <td>3.417376</td>\n",
              "      <td>0.380605</td>\n",
              "      <td>30.489292</td>\n",
              "      <td>04:44</td>\n",
              "    </tr>\n",
              "    <tr>\n",
              "      <td>3</td>\n",
              "      <td>3.277994</td>\n",
              "      <td>3.337526</td>\n",
              "      <td>0.391414</td>\n",
              "      <td>28.149401</td>\n",
              "      <td>04:41</td>\n",
              "    </tr>\n",
              "    <tr>\n",
              "      <td>4</td>\n",
              "      <td>3.236820</td>\n",
              "      <td>3.285862</td>\n",
              "      <td>0.397027</td>\n",
              "      <td>26.732010</td>\n",
              "      <td>04:40</td>\n",
              "    </tr>\n",
              "  </tbody>\n",
              "</table><p>\n",
              "\n",
              "    <div>\n",
              "        <style>\n",
              "            /* Turns off some styling */\n",
              "            progress {\n",
              "                /* gets rid of default border in Firefox and Opera. */\n",
              "                border: none;\n",
              "                /* Needs to be in here for Safari polyfill so background images work as expected. */\n",
              "                background-size: auto;\n",
              "            }\n",
              "            .progress-bar-interrupted, .progress-bar-interrupted::-webkit-progress-bar {\n",
              "                background: #F44336;\n",
              "            }\n",
              "        </style>\n",
              "      <progress value='515' class='' max='620' style='width:300px; height:20px; vertical-align: middle;'></progress>\n",
              "      83.06% [515/620 03:26<00:42 3.1508]\n",
              "    </div>\n",
              "    "
            ],
            "text/plain": [
              "<IPython.core.display.HTML object>"
            ]
          },
          "metadata": {
            "tags": []
          }
        },
        {
          "output_type": "display_data",
          "data": {
            "text/html": [
              "<table border=\"1\" class=\"dataframe\">\n",
              "  <thead>\n",
              "    <tr style=\"text-align: left;\">\n",
              "      <th>epoch</th>\n",
              "      <th>train_loss</th>\n",
              "      <th>valid_loss</th>\n",
              "      <th>accuracy</th>\n",
              "      <th>perplexity</th>\n",
              "      <th>time</th>\n",
              "    </tr>\n",
              "  </thead>\n",
              "  <tbody>\n",
              "    <tr>\n",
              "      <td>0</td>\n",
              "      <td>3.874503</td>\n",
              "      <td>3.740707</td>\n",
              "      <td>0.342272</td>\n",
              "      <td>42.127769</td>\n",
              "      <td>04:52</td>\n",
              "    </tr>\n",
              "    <tr>\n",
              "      <td>1</td>\n",
              "      <td>3.654639</td>\n",
              "      <td>3.537352</td>\n",
              "      <td>0.368227</td>\n",
              "      <td>34.375759</td>\n",
              "      <td>04:42</td>\n",
              "    </tr>\n",
              "    <tr>\n",
              "      <td>2</td>\n",
              "      <td>3.430633</td>\n",
              "      <td>3.417376</td>\n",
              "      <td>0.380605</td>\n",
              "      <td>30.489292</td>\n",
              "      <td>04:44</td>\n",
              "    </tr>\n",
              "    <tr>\n",
              "      <td>3</td>\n",
              "      <td>3.277994</td>\n",
              "      <td>3.337526</td>\n",
              "      <td>0.391414</td>\n",
              "      <td>28.149401</td>\n",
              "      <td>04:41</td>\n",
              "    </tr>\n",
              "    <tr>\n",
              "      <td>4</td>\n",
              "      <td>3.236820</td>\n",
              "      <td>3.285862</td>\n",
              "      <td>0.397027</td>\n",
              "      <td>26.732010</td>\n",
              "      <td>04:40</td>\n",
              "    </tr>\n",
              "    <tr>\n",
              "      <td>5</td>\n",
              "      <td>3.149795</td>\n",
              "      <td>3.245033</td>\n",
              "      <td>0.402564</td>\n",
              "      <td>25.662563</td>\n",
              "      <td>04:42</td>\n",
              "    </tr>\n",
              "    <tr>\n",
              "      <td>6</td>\n",
              "      <td>3.115597</td>\n",
              "      <td>3.221409</td>\n",
              "      <td>0.405922</td>\n",
              "      <td>25.063417</td>\n",
              "      <td>04:49</td>\n",
              "    </tr>\n",
              "    <tr>\n",
              "      <td>7</td>\n",
              "      <td>2.974171</td>\n",
              "      <td>3.205839</td>\n",
              "      <td>0.408147</td>\n",
              "      <td>24.676188</td>\n",
              "      <td>04:46</td>\n",
              "    </tr>\n",
              "    <tr>\n",
              "      <td>8</td>\n",
              "      <td>3.014079</td>\n",
              "      <td>3.200062</td>\n",
              "      <td>0.409212</td>\n",
              "      <td>24.534046</td>\n",
              "      <td>04:44</td>\n",
              "    </tr>\n",
              "    <tr>\n",
              "      <td>9</td>\n",
              "      <td>2.955843</td>\n",
              "      <td>3.200768</td>\n",
              "      <td>0.409370</td>\n",
              "      <td>24.551390</td>\n",
              "      <td>04:45</td>\n",
              "    </tr>\n",
              "  </tbody>\n",
              "</table>"
            ],
            "text/plain": [
              "<IPython.core.display.HTML object>"
            ]
          },
          "metadata": {
            "tags": []
          }
        },
        {
          "output_type": "display_data",
          "data": {
            "text/html": [
              ""
            ],
            "text/plain": [
              "<IPython.core.display.HTML object>"
            ]
          },
          "metadata": {
            "tags": []
          }
        },
        {
          "output_type": "stream",
          "text": [
            "/usr/local/lib/python3.7/dist-packages/numpy/core/_asarray.py:83: VisibleDeprecationWarning: Creating an ndarray from ragged nested sequences (which is a list-or-tuple of lists-or-tuples-or ndarrays with different lengths or shapes) is deprecated. If you meant to do this, you must specify 'dtype=object' when creating the ndarray\n",
            "  return array(a, dtype, copy=False, order=order)\n"
          ],
          "name": "stderr"
        },
        {
          "output_type": "display_data",
          "data": {
            "text/html": [
              "<table border=\"1\" class=\"dataframe\">\n",
              "  <thead>\n",
              "    <tr style=\"text-align: left;\">\n",
              "      <th>epoch</th>\n",
              "      <th>train_loss</th>\n",
              "      <th>valid_loss</th>\n",
              "      <th>accuracy</th>\n",
              "      <th>roc_auc_score</th>\n",
              "      <th>time</th>\n",
              "    </tr>\n",
              "  </thead>\n",
              "  <tbody>\n",
              "    <tr>\n",
              "      <td>0</td>\n",
              "      <td>0.105602</td>\n",
              "      <td>0.088323</td>\n",
              "      <td>0.978935</td>\n",
              "      <td>0.779346</td>\n",
              "      <td>02:01</td>\n",
              "    </tr>\n",
              "  </tbody>\n",
              "</table>"
            ],
            "text/plain": [
              "<IPython.core.display.HTML object>"
            ]
          },
          "metadata": {
            "tags": []
          }
        },
        {
          "output_type": "display_data",
          "data": {
            "text/html": [
              "<table border=\"1\" class=\"dataframe\">\n",
              "  <thead>\n",
              "    <tr style=\"text-align: left;\">\n",
              "      <th>epoch</th>\n",
              "      <th>train_loss</th>\n",
              "      <th>valid_loss</th>\n",
              "      <th>accuracy</th>\n",
              "      <th>roc_auc_score</th>\n",
              "      <th>time</th>\n",
              "    </tr>\n",
              "  </thead>\n",
              "  <tbody>\n",
              "    <tr>\n",
              "      <td>0</td>\n",
              "      <td>0.085999</td>\n",
              "      <td>0.085330</td>\n",
              "      <td>0.979528</td>\n",
              "      <td>0.810281</td>\n",
              "      <td>02:20</td>\n",
              "    </tr>\n",
              "  </tbody>\n",
              "</table>"
            ],
            "text/plain": [
              "<IPython.core.display.HTML object>"
            ]
          },
          "metadata": {
            "tags": []
          }
        },
        {
          "output_type": "display_data",
          "data": {
            "text/html": [
              "<table border=\"1\" class=\"dataframe\">\n",
              "  <thead>\n",
              "    <tr style=\"text-align: left;\">\n",
              "      <th>epoch</th>\n",
              "      <th>train_loss</th>\n",
              "      <th>valid_loss</th>\n",
              "      <th>accuracy</th>\n",
              "      <th>roc_auc_score</th>\n",
              "      <th>time</th>\n",
              "    </tr>\n",
              "  </thead>\n",
              "  <tbody>\n",
              "    <tr>\n",
              "      <td>0</td>\n",
              "      <td>0.076251</td>\n",
              "      <td>0.086446</td>\n",
              "      <td>0.978342</td>\n",
              "      <td>0.818849</td>\n",
              "      <td>03:29</td>\n",
              "    </tr>\n",
              "  </tbody>\n",
              "</table>"
            ],
            "text/plain": [
              "<IPython.core.display.HTML object>"
            ]
          },
          "metadata": {
            "tags": []
          }
        },
        {
          "output_type": "display_data",
          "data": {
            "text/html": [
              "<table border=\"1\" class=\"dataframe\">\n",
              "  <thead>\n",
              "    <tr style=\"text-align: left;\">\n",
              "      <th>epoch</th>\n",
              "      <th>train_loss</th>\n",
              "      <th>valid_loss</th>\n",
              "      <th>accuracy</th>\n",
              "      <th>roc_auc_score</th>\n",
              "      <th>time</th>\n",
              "    </tr>\n",
              "  </thead>\n",
              "  <tbody>\n",
              "    <tr>\n",
              "      <td>0</td>\n",
              "      <td>0.094366</td>\n",
              "      <td>0.091320</td>\n",
              "      <td>0.979232</td>\n",
              "      <td>0.799950</td>\n",
              "      <td>04:29</td>\n",
              "    </tr>\n",
              "    <tr>\n",
              "      <td>1</td>\n",
              "      <td>0.072572</td>\n",
              "      <td>0.094860</td>\n",
              "      <td>0.976561</td>\n",
              "      <td>0.811856</td>\n",
              "      <td>04:29</td>\n",
              "    </tr>\n",
              "  </tbody>\n",
              "</table>"
            ],
            "text/plain": [
              "<IPython.core.display.HTML object>"
            ]
          },
          "metadata": {
            "tags": []
          }
        },
        {
          "output_type": "display_data",
          "data": {
            "text/html": [
              ""
            ],
            "text/plain": [
              "<IPython.core.display.HTML object>"
            ]
          },
          "metadata": {
            "tags": []
          }
        },
        {
          "output_type": "display_data",
          "data": {
            "image/png": "[encoded data removed]",
            "text/plain": [
              "<Figure size 432x288 with 1 Axes>"
            ]
          },
          "metadata": {
            "tags": [],
            "needs_background": "light"
          }
        }
      ]
    },
    {
      "cell_type": "code",
      "metadata": {
        "id": "uxeWidct3QwJ",
        "colab": {
          "base_uri": "https://localhost:8080/"
        },
        "outputId": "3d15497c-90a8-4843-985d-e0ee8d63b529"
      },
      "source": [
        "for folds in range(1,2):\n",
        "  print(folds)"
      ],
      "execution_count": 19,
      "outputs": [
        {
          "output_type": "stream",
          "text": [
            "1\n"
          ],
          "name": "stdout"
        }
      ]
    },
    {
      "cell_type": "code",
      "metadata": {
        "id": "pPPK7gqudbs3"
      },
      "source": [
        ""
      ],
      "execution_count": null,
      "outputs": []
    }
  ]
}
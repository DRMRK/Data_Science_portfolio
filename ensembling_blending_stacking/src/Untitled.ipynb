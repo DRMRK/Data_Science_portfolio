{
 "cells": [
  {
   "cell_type": "code",
   "execution_count": 2,
   "metadata": {},
   "outputs": [],
   "source": [
    "import pandas as pd\n",
    "import glob"
   ]
  },
  {
   "cell_type": "code",
   "execution_count": 24,
   "metadata": {},
   "outputs": [
    {
     "name": "stdout",
     "output_type": "stream",
     "text": [
      "Index(['id', 'is_duplicate', 'kfold', 'rf_svd_pred', 'is_duplicate_y',\n",
      "       'kfold_y', 'lr_pred', 'is_duplicate_y', 'kfold_y', 'svm_pred',\n",
      "       'is_duplicate_y', 'kfold_y', 'lr_cnt_pred'],\n",
      "      dtype='object')\n"
     ]
    }
   ],
   "source": [
    "files = glob.glob(\"../model_preds/*.csv\")\n",
    "df=None\n",
    "for f in files:\n",
    "    if df is None:\n",
    "        df = pd.read_csv(f)\n",
    "    else:\n",
    "        temp_df = pd.read_csv(f)\n",
    "        df = df.merge(temp_df, on='id',how='left',suffixes=(None, '_y'))\n",
    "print(df.columns)        \n",
    "targets = df.is_duplicate.values\n",
    "#pred_cols =[\"lr_pred\",\"lr_cnt_pred\",\"rf_svd_pred\"]"
   ]
  },
  {
   "cell_type": "code",
   "execution_count": 19,
   "metadata": {},
   "outputs": [
    {
     "data": {
      "text/plain": [
       "Index(['lr_pred'], dtype='object')"
      ]
     },
     "execution_count": 19,
     "metadata": {},
     "output_type": "execute_result"
    }
   ],
   "source": [
    "cols_to_use"
   ]
  },
  {
   "cell_type": "code",
   "execution_count": null,
   "metadata": {},
   "outputs": [],
   "source": []
  }
 ],
 "metadata": {
  "kernelspec": {
   "display_name": "Python 3",
   "language": "python",
   "name": "python3"
  },
  "language_info": {
   "codemirror_mode": {
    "name": "ipython",
    "version": 3
   },
   "file_extension": ".py",
   "mimetype": "text/x-python",
   "name": "python",
   "nbconvert_exporter": "python",
   "pygments_lexer": "ipython3",
   "version": "3.7.6"
  }
 },
 "nbformat": 4,
 "nbformat_minor": 4
}

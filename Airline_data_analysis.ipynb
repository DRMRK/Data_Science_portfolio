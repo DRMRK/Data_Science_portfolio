{
 "cells": [
  {
   "cell_type": "code",
   "execution_count": 77,
   "metadata": {},
   "outputs": [
    {
     "name": "stdout",
     "output_type": "stream",
     "text": [
      "Untitled.ipynb airline.csv\r\n"
     ]
    }
   ],
   "source": [
    "!ls"
   ]
  },
  {
   "cell_type": "markdown",
   "metadata": {},
   "source": [
    "This is exploratory data from Bureau of Transport Statistics. I download, clean and analyze this data. \n",
    "Explanations of the columns can be found in https://www.transtats.bts.gov/DL_SelectFields.asp?Table_ID=236&DB_Short_Name=On%20Time. I am interested in Departure delay of the flights."
   ]
  },
  {
   "cell_type": "code",
   "execution_count": 78,
   "metadata": {},
   "outputs": [],
   "source": [
    "import pandas as pd\n",
    "import matplotlib.pyplot as plt\n",
    "%matplotlib inline"
   ]
  },
  {
   "cell_type": "code",
   "execution_count": 79,
   "metadata": {},
   "outputs": [
    {
     "name": "stdout",
     "output_type": "stream",
     "text": [
      "\"YEAR\",\"QUARTER\",\"MONTH\",\"DAY_OF_MONTH\",\"DAY_OF_WEEK\",\"FL_DATE\",\"OP_UNIQUE_CARRIER\",\"OP_CARRIER_AIRLINE_ID\",\"ORIGIN_AIRPORT_ID\",\"ORIGIN_AIRPORT_SEQ_ID\",\"ORIGIN_CITY_MARKET_ID\",\"ORIGIN\",\"ORIGIN_CITY_NAME\",\"ORIGIN_STATE_ABR\",\"ORIGIN_STATE_FIPS\",\"ORIGIN_STATE_NM\",\"DEST_AIRPORT_ID\",\"DEST_AIRPORT_SEQ_ID\",\"DEST_CITY_MARKET_ID\",\"DEST\",\"DEST_CITY_NAME\",\"DEST_STATE_ABR\",\"DEST_STATE_FIPS\",\"DEST_STATE_NM\",\"DEST_WAC\",\"CRS_DEP_TIME\",\"DEP_TIME\",\"DEP_DELAY\",\"CRS_ARR_TIME\",\"ARR_TIME\",\"ARR_DELAY\",\"FLIGHTS\",\"DISTANCE\",\"CARRIER_DELAY\",\"WEATHER_DELAY\",\"NAS_DELAY\",\"SECURITY_DELAY\",\"LATE_AIRCRAFT_DELAY\",\r\n",
      "2020,1,1,1,3,2020-01-01,\"WN\",19393,13891,1389101,32575,\"ONT\",\"Ontario, CA\",\"CA\",\"06\",\"California\",14771,1477104,32457,\"SFO\",\"San Francisco, CA\",\"CA\",\"06\",\"California\",91,\"1810\",\"1851\",41.00,\"1945\",\"2053\",68.00,1.00,363.00,8.00,0.00,27.00,0.00,33.00,\r\n",
      "2020,1,1,1,3,2020-01-01,\"WN\",19393,13891,1389101,32575,\"ONT\",\"Ontario, CA\",\"CA\",\"06\",\"California\",14771,1477104,32457,\"SFO\",\"San Francisco, CA\",\"CA\",\"06\",\"California\",91,\"1150\",\"1146\",-4.00,\"1320\",\"1318\",-2.00,1.00,363.00,,,,,,\r\n",
      "2020,1,1,1,3,2020-01-01,\"WN\",19393,13891,1389101,32575,\"ONT\",\"Ontario, CA\",\"CA\",\"06\",\"California\",14831,1483106,32457,\"SJC\",\"San Jose, CA\",\"CA\",\"06\",\"California\",91,\"2020\",\"2016\",-4.00,\"2130\",\"2124\",-6.00,1.00,333.00,,,,,,\r\n",
      "2020,1,1,1,3,2020-01-01,\"WN\",19393,13891,1389101,32575,\"ONT\",\"Ontario, CA\",\"CA\",\"06\",\"California\",14831,1483106,32457,\"SJC\",\"San Jose, CA\",\"CA\",\"06\",\"California\",91,\"1340\",\"1350\",10.00,\"1455\",\"1505\",10.00,1.00,333.00,,,,,,\r\n",
      "2020,1,1,1,3,2020-01-01,\"WN\",19393,13891,1389101,32575,\"ONT\",\"Ontario, CA\",\"CA\",\"06\",\"California\",14831,1483106,32457,\"SJC\",\"San Jose, CA\",\"CA\",\"06\",\"California\",91,\"0915\",\"0916\",1.00,\"1035\",\"1023\",-12.00,1.00,333.00,,,,,,\r\n",
      "2020,1,1,1,3,2020-01-01,\"WN\",19393,13891,1389101,32575,\"ONT\",\"Ontario, CA\",\"CA\",\"06\",\"California\",14831,1483106,32457,\"SJC\",\"San Jose, CA\",\"CA\",\"06\",\"California\",91,\"0600\",\"0602\",2.00,\"0715\",\"0722\",7.00,1.00,333.00,,,,,,\r\n",
      "2020,1,1,1,3,2020-01-01,\"WN\",19393,13891,1389101,32575,\"ONT\",\"Ontario, CA\",\"CA\",\"06\",\"California\",14831,1483106,32457,\"SJC\",\"San Jose, CA\",\"CA\",\"06\",\"California\",91,\"1620\",\"1624\",4.00,\"1740\",\"1736\",-4.00,1.00,333.00,,,,,,\r\n",
      "2020,1,1,1,3,2020-01-01,\"WN\",19393,13891,1389101,32575,\"ONT\",\"Ontario, CA\",\"CA\",\"06\",\"California\",14893,1489302,33192,\"SMF\",\"Sacramento, CA\",\"CA\",\"06\",\"California\",91,\"1505\",\"1604\",59.00,\"1630\",\"1717\",47.00,1.00,390.00,0.00,0.00,0.00,7.00,40.00,\r\n",
      "2020,1,1,1,3,2020-01-01,\"WN\",19393,13891,1389101,32575,\"ONT\",\"Ontario, CA\",\"CA\",\"06\",\"California\",14893,1489302,33192,\"SMF\",\"Sacramento, CA\",\"CA\",\"06\",\"California\",91,\"1230\",\"1225\",-5.00,\"1355\",\"1405\",10.00,1.00,390.00,,,,,,\r\n"
     ]
    }
   ],
   "source": [
    "!head airline.csv"
   ]
  },
  {
   "cell_type": "code",
   "execution_count": 80,
   "metadata": {},
   "outputs": [
    {
     "name": "stdout",
     "output_type": "stream",
     "text": [
      "  607347 airline.csv\r\n"
     ]
    }
   ],
   "source": [
    "!wc -l airline.csv"
   ]
  },
  {
   "cell_type": "code",
   "execution_count": 81,
   "metadata": {},
   "outputs": [],
   "source": [
    "df = pd.read_csv('airline.csv',parse_dates =['FL_DATE'],infer_datetime_format = True)"
   ]
  },
  {
   "cell_type": "code",
   "execution_count": 82,
   "metadata": {},
   "outputs": [
    {
     "data": {
      "text/html": [
       "<div>\n",
       "<style scoped>\n",
       "    .dataframe tbody tr th:only-of-type {\n",
       "        vertical-align: middle;\n",
       "    }\n",
       "\n",
       "    .dataframe tbody tr th {\n",
       "        vertical-align: top;\n",
       "    }\n",
       "\n",
       "    .dataframe thead th {\n",
       "        text-align: right;\n",
       "    }\n",
       "</style>\n",
       "<table border=\"1\" class=\"dataframe\">\n",
       "  <thead>\n",
       "    <tr style=\"text-align: right;\">\n",
       "      <th></th>\n",
       "      <th>YEAR</th>\n",
       "      <th>QUARTER</th>\n",
       "      <th>MONTH</th>\n",
       "      <th>DAY_OF_MONTH</th>\n",
       "      <th>DAY_OF_WEEK</th>\n",
       "      <th>FL_DATE</th>\n",
       "      <th>OP_UNIQUE_CARRIER</th>\n",
       "      <th>OP_CARRIER_AIRLINE_ID</th>\n",
       "      <th>ORIGIN_AIRPORT_ID</th>\n",
       "      <th>ORIGIN_AIRPORT_SEQ_ID</th>\n",
       "      <th>...</th>\n",
       "      <th>ARR_TIME</th>\n",
       "      <th>ARR_DELAY</th>\n",
       "      <th>FLIGHTS</th>\n",
       "      <th>DISTANCE</th>\n",
       "      <th>CARRIER_DELAY</th>\n",
       "      <th>WEATHER_DELAY</th>\n",
       "      <th>NAS_DELAY</th>\n",
       "      <th>SECURITY_DELAY</th>\n",
       "      <th>LATE_AIRCRAFT_DELAY</th>\n",
       "      <th>Unnamed: 38</th>\n",
       "    </tr>\n",
       "  </thead>\n",
       "  <tbody>\n",
       "    <tr>\n",
       "      <th>0</th>\n",
       "      <td>2020</td>\n",
       "      <td>1</td>\n",
       "      <td>1</td>\n",
       "      <td>1</td>\n",
       "      <td>3</td>\n",
       "      <td>2020-01-01</td>\n",
       "      <td>WN</td>\n",
       "      <td>19393</td>\n",
       "      <td>13891</td>\n",
       "      <td>1389101</td>\n",
       "      <td>...</td>\n",
       "      <td>2053.0</td>\n",
       "      <td>68.0</td>\n",
       "      <td>1.0</td>\n",
       "      <td>363.0</td>\n",
       "      <td>8.0</td>\n",
       "      <td>0.0</td>\n",
       "      <td>27.0</td>\n",
       "      <td>0.0</td>\n",
       "      <td>33.0</td>\n",
       "      <td>NaN</td>\n",
       "    </tr>\n",
       "    <tr>\n",
       "      <th>1</th>\n",
       "      <td>2020</td>\n",
       "      <td>1</td>\n",
       "      <td>1</td>\n",
       "      <td>1</td>\n",
       "      <td>3</td>\n",
       "      <td>2020-01-01</td>\n",
       "      <td>WN</td>\n",
       "      <td>19393</td>\n",
       "      <td>13891</td>\n",
       "      <td>1389101</td>\n",
       "      <td>...</td>\n",
       "      <td>1318.0</td>\n",
       "      <td>-2.0</td>\n",
       "      <td>1.0</td>\n",
       "      <td>363.0</td>\n",
       "      <td>NaN</td>\n",
       "      <td>NaN</td>\n",
       "      <td>NaN</td>\n",
       "      <td>NaN</td>\n",
       "      <td>NaN</td>\n",
       "      <td>NaN</td>\n",
       "    </tr>\n",
       "    <tr>\n",
       "      <th>2</th>\n",
       "      <td>2020</td>\n",
       "      <td>1</td>\n",
       "      <td>1</td>\n",
       "      <td>1</td>\n",
       "      <td>3</td>\n",
       "      <td>2020-01-01</td>\n",
       "      <td>WN</td>\n",
       "      <td>19393</td>\n",
       "      <td>13891</td>\n",
       "      <td>1389101</td>\n",
       "      <td>...</td>\n",
       "      <td>2124.0</td>\n",
       "      <td>-6.0</td>\n",
       "      <td>1.0</td>\n",
       "      <td>333.0</td>\n",
       "      <td>NaN</td>\n",
       "      <td>NaN</td>\n",
       "      <td>NaN</td>\n",
       "      <td>NaN</td>\n",
       "      <td>NaN</td>\n",
       "      <td>NaN</td>\n",
       "    </tr>\n",
       "    <tr>\n",
       "      <th>3</th>\n",
       "      <td>2020</td>\n",
       "      <td>1</td>\n",
       "      <td>1</td>\n",
       "      <td>1</td>\n",
       "      <td>3</td>\n",
       "      <td>2020-01-01</td>\n",
       "      <td>WN</td>\n",
       "      <td>19393</td>\n",
       "      <td>13891</td>\n",
       "      <td>1389101</td>\n",
       "      <td>...</td>\n",
       "      <td>1505.0</td>\n",
       "      <td>10.0</td>\n",
       "      <td>1.0</td>\n",
       "      <td>333.0</td>\n",
       "      <td>NaN</td>\n",
       "      <td>NaN</td>\n",
       "      <td>NaN</td>\n",
       "      <td>NaN</td>\n",
       "      <td>NaN</td>\n",
       "      <td>NaN</td>\n",
       "    </tr>\n",
       "    <tr>\n",
       "      <th>4</th>\n",
       "      <td>2020</td>\n",
       "      <td>1</td>\n",
       "      <td>1</td>\n",
       "      <td>1</td>\n",
       "      <td>3</td>\n",
       "      <td>2020-01-01</td>\n",
       "      <td>WN</td>\n",
       "      <td>19393</td>\n",
       "      <td>13891</td>\n",
       "      <td>1389101</td>\n",
       "      <td>...</td>\n",
       "      <td>1023.0</td>\n",
       "      <td>-12.0</td>\n",
       "      <td>1.0</td>\n",
       "      <td>333.0</td>\n",
       "      <td>NaN</td>\n",
       "      <td>NaN</td>\n",
       "      <td>NaN</td>\n",
       "      <td>NaN</td>\n",
       "      <td>NaN</td>\n",
       "      <td>NaN</td>\n",
       "    </tr>\n",
       "  </tbody>\n",
       "</table>\n",
       "<p>5 rows × 39 columns</p>\n",
       "</div>"
      ],
      "text/plain": [
       "   YEAR  QUARTER  MONTH  DAY_OF_MONTH  DAY_OF_WEEK    FL_DATE  \\\n",
       "0  2020        1      1             1            3 2020-01-01   \n",
       "1  2020        1      1             1            3 2020-01-01   \n",
       "2  2020        1      1             1            3 2020-01-01   \n",
       "3  2020        1      1             1            3 2020-01-01   \n",
       "4  2020        1      1             1            3 2020-01-01   \n",
       "\n",
       "  OP_UNIQUE_CARRIER  OP_CARRIER_AIRLINE_ID  ORIGIN_AIRPORT_ID  \\\n",
       "0                WN                  19393              13891   \n",
       "1                WN                  19393              13891   \n",
       "2                WN                  19393              13891   \n",
       "3                WN                  19393              13891   \n",
       "4                WN                  19393              13891   \n",
       "\n",
       "   ORIGIN_AIRPORT_SEQ_ID  ...  ARR_TIME ARR_DELAY FLIGHTS DISTANCE  \\\n",
       "0                1389101  ...    2053.0      68.0     1.0    363.0   \n",
       "1                1389101  ...    1318.0      -2.0     1.0    363.0   \n",
       "2                1389101  ...    2124.0      -6.0     1.0    333.0   \n",
       "3                1389101  ...    1505.0      10.0     1.0    333.0   \n",
       "4                1389101  ...    1023.0     -12.0     1.0    333.0   \n",
       "\n",
       "   CARRIER_DELAY WEATHER_DELAY  NAS_DELAY  SECURITY_DELAY  \\\n",
       "0            8.0           0.0       27.0             0.0   \n",
       "1            NaN           NaN        NaN             NaN   \n",
       "2            NaN           NaN        NaN             NaN   \n",
       "3            NaN           NaN        NaN             NaN   \n",
       "4            NaN           NaN        NaN             NaN   \n",
       "\n",
       "   LATE_AIRCRAFT_DELAY Unnamed: 38  \n",
       "0                 33.0         NaN  \n",
       "1                  NaN         NaN  \n",
       "2                  NaN         NaN  \n",
       "3                  NaN         NaN  \n",
       "4                  NaN         NaN  \n",
       "\n",
       "[5 rows x 39 columns]"
      ]
     },
     "execution_count": 82,
     "metadata": {},
     "output_type": "execute_result"
    }
   ],
   "source": [
    "df.head()"
   ]
  },
  {
   "cell_type": "code",
   "execution_count": 83,
   "metadata": {},
   "outputs": [
    {
     "name": "stdout",
     "output_type": "stream",
     "text": [
      "<class 'pandas.core.frame.DataFrame'>\n",
      "RangeIndex: 607346 entries, 0 to 607345\n",
      "Data columns (total 39 columns):\n",
      " #   Column                 Non-Null Count   Dtype         \n",
      "---  ------                 --------------   -----         \n",
      " 0   YEAR                   607346 non-null  int64         \n",
      " 1   QUARTER                607346 non-null  int64         \n",
      " 2   MONTH                  607346 non-null  int64         \n",
      " 3   DAY_OF_MONTH           607346 non-null  int64         \n",
      " 4   DAY_OF_WEEK            607346 non-null  int64         \n",
      " 5   FL_DATE                607346 non-null  datetime64[ns]\n",
      " 6   OP_UNIQUE_CARRIER      607346 non-null  object        \n",
      " 7   OP_CARRIER_AIRLINE_ID  607346 non-null  int64         \n",
      " 8   ORIGIN_AIRPORT_ID      607346 non-null  int64         \n",
      " 9   ORIGIN_AIRPORT_SEQ_ID  607346 non-null  int64         \n",
      " 10  ORIGIN_CITY_MARKET_ID  607346 non-null  int64         \n",
      " 11  ORIGIN                 607346 non-null  object        \n",
      " 12  ORIGIN_CITY_NAME       607346 non-null  object        \n",
      " 13  ORIGIN_STATE_ABR       607346 non-null  object        \n",
      " 14  ORIGIN_STATE_FIPS      607346 non-null  int64         \n",
      " 15  ORIGIN_STATE_NM        607346 non-null  object        \n",
      " 16  DEST_AIRPORT_ID        607346 non-null  int64         \n",
      " 17  DEST_AIRPORT_SEQ_ID    607346 non-null  int64         \n",
      " 18  DEST_CITY_MARKET_ID    607346 non-null  int64         \n",
      " 19  DEST                   607346 non-null  object        \n",
      " 20  DEST_CITY_NAME         607346 non-null  object        \n",
      " 21  DEST_STATE_ABR         607346 non-null  object        \n",
      " 22  DEST_STATE_FIPS        607346 non-null  int64         \n",
      " 23  DEST_STATE_NM          607346 non-null  object        \n",
      " 24  DEST_WAC               607346 non-null  int64         \n",
      " 25  CRS_DEP_TIME           607346 non-null  int64         \n",
      " 26  DEP_TIME               600682 non-null  float64       \n",
      " 27  DEP_DELAY              600647 non-null  float64       \n",
      " 28  CRS_ARR_TIME           607346 non-null  int64         \n",
      " 29  ARR_TIME               600271 non-null  float64       \n",
      " 30  ARR_DELAY              599268 non-null  float64       \n",
      " 31  FLIGHTS                607346 non-null  float64       \n",
      " 32  DISTANCE               607346 non-null  float64       \n",
      " 33  CARRIER_DELAY          82285 non-null   float64       \n",
      " 34  WEATHER_DELAY          82285 non-null   float64       \n",
      " 35  NAS_DELAY              82285 non-null   float64       \n",
      " 36  SECURITY_DELAY         82285 non-null   float64       \n",
      " 37  LATE_AIRCRAFT_DELAY    82285 non-null   float64       \n",
      " 38  Unnamed: 38            0 non-null       float64       \n",
      "dtypes: datetime64[ns](1), float64(12), int64(17), object(9)\n",
      "memory usage: 180.7+ MB\n"
     ]
    }
   ],
   "source": [
    "df.info()"
   ]
  },
  {
   "cell_type": "markdown",
   "metadata": {},
   "source": [
    "#### Investigate DEP Delay.\n",
    "Take only those rows where DEP_DELAY delay is reported and "
   ]
  },
  {
   "cell_type": "markdown",
   "metadata": {},
   "source": [
    "Find out, if there is any null values"
   ]
  },
  {
   "cell_type": "code",
   "execution_count": 90,
   "metadata": {},
   "outputs": [
    {
     "data": {
      "text/plain": [
       "6699"
      ]
     },
     "execution_count": 90,
     "metadata": {},
     "output_type": "execute_result"
    }
   ],
   "source": [
    "df.DEP_DELAY.isnull().sum()"
   ]
  },
  {
   "cell_type": "markdown",
   "metadata": {},
   "source": [
    "Take only those rows where DEP_DELAY is reported."
   ]
  },
  {
   "cell_type": "code",
   "execution_count": 105,
   "metadata": {},
   "outputs": [
    {
     "name": "stdout",
     "output_type": "stream",
     "text": [
      "Rows of data  600647\n"
     ]
    }
   ],
   "source": [
    "data = df[df['DEP_DELAY'].notna()]\n",
    "print(\"Rows of data \", len(data))"
   ]
  },
  {
   "cell_type": "markdown",
   "metadata": {},
   "source": [
    "Find fraction of flights that were on time. This assumes DEP_delay is reported on these flights"
   ]
  },
  {
   "cell_type": "code",
   "execution_count": 106,
   "metadata": {},
   "outputs": [
    {
     "data": {
      "text/plain": [
       "5.013427187682615"
      ]
     },
     "execution_count": 106,
     "metadata": {},
     "output_type": "execute_result"
    }
   ],
   "source": [
    "100*len(data[data['DEP_DELAY']==0])/len(data)"
   ]
  },
  {
   "cell_type": "markdown",
   "metadata": {},
   "source": [
    "Only 5.01% flights were reported with value of Departure Delay as zero. Lets look at the histogram of delays."
   ]
  },
  {
   "cell_type": "code",
   "execution_count": 112,
   "metadata": {},
   "outputs": [
    {
     "data": {
      "text/plain": [
       "<matplotlib.axes._subplots.AxesSubplot at 0x7fd1aae6e610>"
      ]
     },
     "execution_count": 112,
     "metadata": {},
     "output_type": "execute_result"
    },
    {
     "data": {
      "image/png": "[encoded data removed]",
      "text/plain": [
       "<Figure size 576x360 with 1 Axes>"
      ]
     },
     "metadata": {
      "needs_background": "light"
     },
     "output_type": "display_data"
    }
   ],
   "source": [
    "data.ARR_DELAY.hist(bins=80,figsize =(8,5))"
   ]
  },
  {
   "cell_type": "markdown",
   "metadata": {},
   "source": [
    "Take only those rows where departure delay is 500 or less"
   ]
  },
  {
   "cell_type": "code",
   "execution_count": 113,
   "metadata": {},
   "outputs": [],
   "source": [
    "data = data[data['DEP_DELAY']<=500]"
   ]
  },
  {
   "cell_type": "code",
   "execution_count": 115,
   "metadata": {},
   "outputs": [
    {
     "data": {
      "image/png": "[encoded data removed]",
      "text/plain": [
       "<Figure size 720x504 with 1 Axes>"
      ]
     },
     "metadata": {
      "needs_background": "light"
     },
     "output_type": "display_data"
    }
   ],
   "source": [
    "boxplot = data.boxplot(column=['DEP_DELAY','ARR_DELAY'],figsize = (10,7))"
   ]
  },
  {
   "cell_type": "markdown",
   "metadata": {},
   "source": [
    "Assuming flight time is about the same, we can expact Arrival and Departure delay are correlated. So, we can do a linear regression on that data. "
   ]
  },
  {
   "cell_type": "code",
   "execution_count": 117,
   "metadata": {},
   "outputs": [
    {
     "data": {
      "text/plain": [
       "[<matplotlib.lines.Line2D at 0x7fd1ba6bbf50>]"
      ]
     },
     "execution_count": 117,
     "metadata": {},
     "output_type": "execute_result"
    },
    {
     "data": {
      "image/png": "[encoded data removed]",
      "text/plain": [
       "<Figure size 432x288 with 1 Axes>"
      ]
     },
     "metadata": {
      "needs_background": "light"
     },
     "output_type": "display_data"
    }
   ],
   "source": [
    "plt.plot(data['DEP_DELAY'],data['ARR_DELAY'],'.')"
   ]
  },
  {
   "cell_type": "code",
   "execution_count": 199,
   "metadata": {},
   "outputs": [],
   "source": [
    "from sklearn.linear_model import LinearRegression \n",
    "import numpy as np\n",
    "from sklearn.metrics import mean_squared_error, r2_score\n",
    "from sklearn.model_selection import train_test_split"
   ]
  },
  {
   "cell_type": "code",
   "execution_count": 200,
   "metadata": {},
   "outputs": [],
   "source": [
    "#Fill None in ARR_DELAY with corresponding DEP_DELAY values\n",
    "data['ARR_DELAY'].fillna(data['DEP_DELAY'],inplace = True)\n",
    "y = data['ARR_DELAY'].values.reshape(len(data),1)\n",
    "X = data['DEP_DELAY'].values.reshape(len(data),1)\n",
    "X_train, X_test, y_train, y_test = train_test_split(X, y, test_size=0.2, random_state=42)"
   ]
  },
  {
   "cell_type": "code",
   "execution_count": 250,
   "metadata": {},
   "outputs": [],
   "source": [
    "reg = LinearRegression()\n",
    "reg.fit(X_train,y_train)\n",
    "y_pred = reg.predict(X_test)"
   ]
  },
  {
   "cell_type": "code",
   "execution_count": 251,
   "metadata": {},
   "outputs": [
    {
     "name": "stdout",
     "output_type": "stream",
     "text": [
      "Coefficients: [[1.00386386]]  Intercept  [-7.7457785]\n",
      "Mean squared error: 183.46\n",
      "Coefficient of determination: 0.85\n"
     ]
    }
   ],
   "source": [
    "# The coefficients\n",
    "print('Coefficients:', reg.coef_,' Intercept ',reg.intercept_)\n",
    "print('Mean squared error: %.2f'% mean_squared_error(y_test, y_pred))\n",
    "print('Coefficient of determination: %.2f'% r2_score(y_test, y_pred))"
   ]
  },
  {
   "cell_type": "code",
   "execution_count": 252,
   "metadata": {},
   "outputs": [
    {
     "data": {
      "image/png": "[encoded data removed]",
      "text/plain": [
       "<Figure size 432x288 with 1 Axes>"
      ]
     },
     "metadata": {
      "needs_background": "light"
     },
     "output_type": "display_data"
    }
   ],
   "source": [
    "plt.scatter(X_test, y_test,  color='black')\n",
    "plt.plot(X_test, Y_model,'.', color='blue', linewidth=3)\n",
    "plt.xlabel('Departure delay')\n",
    "plt.ylabel('Arrival delay')\n",
    "plt.show()"
   ]
  },
  {
   "cell_type": "markdown",
   "metadata": {},
   "source": [
    "In terms of hypothesis testing. We are assuming the model is $Y = \\beta_0+ \\beta_1+\\epsilon$\n",
    "\n",
    "$\\text{NULL hypothesis is } H_0: \\text{There is no relation between Dep_delay and Arr_delay}$\n",
    "\n",
    "$\\text{Alternative hypothesis is } H_a: \\text{There is some relation between Dep_delay and Arr_delay}$\n",
    "\n",
    "Mathematically, this corresponds to testing\n",
    "\n",
    "$H_0 : \\beta _1 = 0$\n",
    "\n",
    "Versus\n",
    "\n",
    "$H_a : \\beta _1 \\neq 0$\n",
    "\n",
    "\n",
    "\n",
    "\n"
   ]
  },
  {
   "cell_type": "code",
   "execution_count": 255,
   "metadata": {},
   "outputs": [],
   "source": [
    "import statsmodels.api as sm\n",
    "import statsmodels.formula.api as smf"
   ]
  },
  {
   "cell_type": "code",
   "execution_count": 257,
   "metadata": {},
   "outputs": [
    {
     "name": "stdout",
     "output_type": "stream",
     "text": [
      "                            OLS Regression Results                            \n",
      "==============================================================================\n",
      "Dep. Variable:                      y   R-squared:                       0.845\n",
      "Model:                            OLS   Adj. R-squared:                  0.845\n",
      "Method:                 Least Squares   F-statistic:                 2.612e+06\n",
      "Date:                Fri, 07 Aug 2020   Prob (F-statistic):               0.00\n",
      "Time:                        16:19:07   Log-Likelihood:            -1.9304e+06\n",
      "No. Observations:              479934   AIC:                         3.861e+06\n",
      "Df Residuals:                  479932   BIC:                         3.861e+06\n",
      "Df Model:                           1                                         \n",
      "Covariance Type:            nonrobust                                         \n",
      "==============================================================================\n",
      "                 coef    std err          t      P>|t|      [0.025      0.975]\n",
      "------------------------------------------------------------------------------\n",
      "const         -7.7458      0.020   -391.922      0.000      -7.785      -7.707\n",
      "x1             1.0039      0.001   1616.096      0.000       1.003       1.005\n",
      "==============================================================================\n",
      "Omnibus:                   118031.481   Durbin-Watson:                   1.998\n",
      "Prob(Omnibus):                  0.000   Jarque-Bera (JB):           768542.493\n",
      "Skew:                           1.026   Prob(JB):                         0.00\n",
      "Kurtosis:                       8.850   Cond. No.                         32.3\n",
      "==============================================================================\n",
      "\n",
      "Warnings:\n",
      "[1] Standard Errors assume that the covariance matrix of the errors is correctly specified.\n"
     ]
    }
   ],
   "source": [
    "X_train = sm.add_constant(X_train)\n",
    "results = sm.OLS(y_train, X_train).fit()\n",
    "print(results.summary())"
   ]
  },
  {
   "cell_type": "code",
   "execution_count": null,
   "metadata": {},
   "outputs": [],
   "source": []
  }
 ],
 "metadata": {
  "kernelspec": {
   "display_name": "Python 3",
   "language": "python",
   "name": "python3"
  },
  "language_info": {
   "codemirror_mode": {
    "name": "ipython",
    "version": 3
   },
   "file_extension": ".py",
   "mimetype": "text/x-python",
   "name": "python",
   "nbconvert_exporter": "python",
   "pygments_lexer": "ipython3",
   "version": "3.7.6"
  }
 },
 "nbformat": 4,
 "nbformat_minor": 4
}

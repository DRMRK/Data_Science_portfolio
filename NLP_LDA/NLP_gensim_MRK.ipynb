{
 "cells": [
  {
   "cell_type": "markdown",
   "metadata": {},
   "source": [
    "### Finding out topics in tweets"
   ]
  },
  {
   "cell_type": "code",
   "execution_count": 1,
   "metadata": {},
   "outputs": [],
   "source": [
    "import re\n",
    "import numpy as np\n",
    "import pandas as pd\n",
    "from pprint import pprint\n",
    "\n",
    "# Gensim\n",
    "import gensim\n",
    "import gensim.corpora as corpora\n",
    "from gensim.utils import simple_preprocess\n",
    "from gensim.models import CoherenceModel\n",
    "\n",
    "# spacy for lemmatization\n",
    "import spacy\n",
    "\n",
    "# Plotting tools\n",
    "import pyLDAvis\n",
    "import pyLDAvis.gensim  # don't skip this\n",
    "import matplotlib.pyplot as plt\n",
    "%matplotlib inline\n",
    "\n",
    "# Enable logging for gensim - optional\n",
    "import logging\n",
    "logging.basicConfig(format='%(asctime)s : %(levelname)s : %(message)s', level=logging.ERROR)\n",
    "\n",
    "import warnings\n",
    "warnings.filterwarnings(\"ignore\",category=DeprecationWarning)"
   ]
  },
  {
   "cell_type": "markdown",
   "metadata": {},
   "source": [
    "#### Import dataset\n",
    "- Looking over 23,000 tweets directed at Translink and find out the common topics in the tweets"
   ]
  },
  {
   "cell_type": "code",
   "execution_count": 2,
   "metadata": {},
   "outputs": [
    {
     "data": {
      "text/html": [
       "<div>\n",
       "<style scoped>\n",
       "    .dataframe tbody tr th:only-of-type {\n",
       "        vertical-align: middle;\n",
       "    }\n",
       "\n",
       "    .dataframe tbody tr th {\n",
       "        vertical-align: top;\n",
       "    }\n",
       "\n",
       "    .dataframe thead th {\n",
       "        text-align: right;\n",
       "    }\n",
       "</style>\n",
       "<table border=\"1\" class=\"dataframe\">\n",
       "  <thead>\n",
       "    <tr style=\"text-align: right;\">\n",
       "      <th></th>\n",
       "      <th>TweetID</th>\n",
       "      <th>ScreenName</th>\n",
       "      <th>TweetText</th>\n",
       "      <th>TweetDateTime</th>\n",
       "      <th>Followers</th>\n",
       "      <th>SentimentPolarity</th>\n",
       "    </tr>\n",
       "  </thead>\n",
       "  <tbody>\n",
       "    <tr>\n",
       "      <th>0</th>\n",
       "      <td>1043979473656328192</td>\n",
       "      <td>ScienceOfSmut</td>\n",
       "      <td>Ok there’s a problem train at Broadway Station...</td>\n",
       "      <td>2018-09-23 21:44:37</td>\n",
       "      <td>1171</td>\n",
       "      <td>0.091343</td>\n",
       "    </tr>\n",
       "    <tr>\n",
       "      <th>1</th>\n",
       "      <td>1043981305329774592</td>\n",
       "      <td>ScienceOfSmut</td>\n",
       "      <td>HALLELU! Our #skytrain is moving again. @trans...</td>\n",
       "      <td>2018-09-23 21:51:54</td>\n",
       "      <td>1171</td>\n",
       "      <td>0.314101</td>\n",
       "    </tr>\n",
       "    <tr>\n",
       "      <th>2</th>\n",
       "      <td>1043981487815553024</td>\n",
       "      <td>itsrho</td>\n",
       "      <td>@TransLink well youre@403 Bridgeport never sho...</td>\n",
       "      <td>2018-09-23 21:52:37</td>\n",
       "      <td>6</td>\n",
       "      <td>0.250553</td>\n",
       "    </tr>\n",
       "    <tr>\n",
       "      <th>3</th>\n",
       "      <td>1043981809833267200</td>\n",
       "      <td>ScienceOfSmut</td>\n",
       "      <td>Aaaaand we’ve stopped... #spoketoosoon #stopth...</td>\n",
       "      <td>2018-09-23 21:53:54</td>\n",
       "      <td>1171</td>\n",
       "      <td>0.119664</td>\n",
       "    </tr>\n",
       "    <tr>\n",
       "      <th>4</th>\n",
       "      <td>1043981814409261056</td>\n",
       "      <td>huynh_patrick1</td>\n",
       "      <td>@TransLink I keep hearing a skytrain announcem...</td>\n",
       "      <td>2018-09-23 21:53:55</td>\n",
       "      <td>3</td>\n",
       "      <td>0.198395</td>\n",
       "    </tr>\n",
       "  </tbody>\n",
       "</table>\n",
       "</div>"
      ],
      "text/plain": [
       "               TweetID      ScreenName  \\\n",
       "0  1043979473656328192   ScienceOfSmut   \n",
       "1  1043981305329774592   ScienceOfSmut   \n",
       "2  1043981487815553024          itsrho   \n",
       "3  1043981809833267200   ScienceOfSmut   \n",
       "4  1043981814409261056  huynh_patrick1   \n",
       "\n",
       "                                           TweetText        TweetDateTime  \\\n",
       "0  Ok there’s a problem train at Broadway Station...  2018-09-23 21:44:37   \n",
       "1  HALLELU! Our #skytrain is moving again. @trans...  2018-09-23 21:51:54   \n",
       "2  @TransLink well youre@403 Bridgeport never sho...  2018-09-23 21:52:37   \n",
       "3  Aaaaand we’ve stopped... #spoketoosoon #stopth...  2018-09-23 21:53:54   \n",
       "4  @TransLink I keep hearing a skytrain announcem...  2018-09-23 21:53:55   \n",
       "\n",
       "   Followers  SentimentPolarity  \n",
       "0       1171           0.091343  \n",
       "1       1171           0.314101  \n",
       "2          6           0.250553  \n",
       "3       1171           0.119664  \n",
       "4          3           0.198395  "
      ]
     },
     "execution_count": 2,
     "metadata": {},
     "output_type": "execute_result"
    }
   ],
   "source": [
    "df=pd.read_csv('data/tweet_data.csv')\n",
    "df.head()"
   ]
  },
  {
   "cell_type": "code",
   "execution_count": 3,
   "metadata": {},
   "outputs": [
    {
     "data": {
      "text/plain": [
       "(23581, 6)"
      ]
     },
     "execution_count": 3,
     "metadata": {},
     "output_type": "execute_result"
    }
   ],
   "source": [
    "df.shape"
   ]
  },
  {
   "cell_type": "code",
   "execution_count": 4,
   "metadata": {},
   "outputs": [
    {
     "name": "stderr",
     "output_type": "stream",
     "text": [
      "[nltk_data] Downloading package stopwords to\n",
      "[nltk_data]     /Users/franciumpnc/nltk_data...\n",
      "[nltk_data]   Package stopwords is already up-to-date!\n"
     ]
    },
    {
     "data": {
      "text/plain": [
       "True"
      ]
     },
     "execution_count": 4,
     "metadata": {},
     "output_type": "execute_result"
    }
   ],
   "source": [
    "import nltk\n",
    "from nltk.tokenize import RegexpTokenizer\n",
    "from nltk.corpus import stopwords\n",
    "import string\n",
    "nltk.download('stopwords')"
   ]
  },
  {
   "cell_type": "markdown",
   "metadata": {},
   "source": [
    "### Prepare the data for modelling. \n",
    "- remove links\n",
    "- remove retweet\n",
    "- remove tweeted at\n",
    "- lowercase\n",
    "- strip punctuation\n",
    "- remove double spacing\n",
    "- remove numbers\n",
    "- remove distracting single quotes\n",
    "- remove stopwords\n",
    "- apply word rooter"
   ]
  },
  {
   "cell_type": "code",
   "execution_count": 5,
   "metadata": {},
   "outputs": [],
   "source": [
    "def remove_links(tweet):\n",
    "    '''Takes a string and removes web links from it'''\n",
    "    tweet = re.sub(r'http\\S+', '', tweet) # remove http links\n",
    "    tweet = re.sub(r'bit.ly/\\S+', '', tweet) # rempve bitly links\n",
    "    tweet = tweet.strip('[link]') # remove [links]\n",
    "    return tweet\n",
    "\n",
    "def remove_users(tweet):\n",
    "    '''Takes a string and removes retweet and @user information'''\n",
    "    tweet = re.sub('(RT\\s@[A-Za-z]+[A-Za-z0-9-_]+)', '', tweet) # remove retweet\n",
    "    tweet = re.sub('(@[A-Za-z]+[A-Za-z0-9-_]+)', '', tweet) # remove tweeted at\n",
    "    return tweet"
   ]
  },
  {
   "cell_type": "code",
   "execution_count": 6,
   "metadata": {},
   "outputs": [],
   "source": [
    "punctuation = list(string.punctuation)\n",
    "my_stopwords = nltk.corpus.stopwords.words('english')+ punctuation + ['rt', 'via']\n",
    "newStopWords = ['translink','transit','vancouver','skytrain','station','people','go','one','thank','time','stop','train']\n",
    "my_stopwords.extend(newStopWords)\n",
    "\n",
    "word_rooter = nltk.stem.snowball.PorterStemmer(ignore_stopwords=False).stem\n",
    "my_punctuation = '!\"$%&\\'()*+,-./:;<=>?[\\\\]^_`{|}~•@'\n",
    "\n",
    "# cleaning master function\n",
    "def clean_tweet(tweet, bigrams=False):\n",
    "    tweet = remove_users(tweet)\n",
    "    tweet = remove_links(tweet)\n",
    "    tweet = tweet.lower() # lower case\n",
    "    tweet = re.sub('['+my_punctuation + ']+', ' ', tweet) # strip punctuation\n",
    "    tweet = re.sub('\\s+', ' ', tweet) #remove double spacing\n",
    "    tweet = re.sub('([0-9]+)', '', tweet) # remove numbers\n",
    "    tweet = re.sub(\"\\'\",\"\",tweet) # Remove distracting single quotes\n",
    "    \n",
    "    tweet_token_list = [word for word in tweet.split(' ')\n",
    "                            if word not in my_stopwords] # remove stopwords\n",
    "\n",
    "    tweet_token_list = [word_rooter(word) if '#' not in word else word\n",
    "                        for word in tweet_token_list] # apply word rooter\n",
    "    if bigrams:\n",
    "        tweet_token_list = tweet_token_list+[tweet_token_list[i]+'_'+tweet_token_list[i+1]\n",
    "                                            for i in range(len(tweet_token_list)-1)]\n",
    "    tweet = ' '.join(tweet_token_list)\n",
    "    return tweet"
   ]
  },
  {
   "cell_type": "code",
   "execution_count": 7,
   "metadata": {},
   "outputs": [],
   "source": [
    "RE_EMOJI = re.compile('[\\U00010000-\\U0010ffff]', flags=re.UNICODE)\n",
    "\n",
    "def strip_emoji(text):\n",
    "    return RE_EMOJI.sub(r'', text)"
   ]
  },
  {
   "cell_type": "code",
   "execution_count": 8,
   "metadata": {},
   "outputs": [],
   "source": [
    "df['clean_tweet'] = df.TweetText.apply(clean_tweet)"
   ]
  },
  {
   "cell_type": "code",
   "execution_count": 9,
   "metadata": {},
   "outputs": [],
   "source": [
    "df['clean_tweet'] = df.clean_tweet.apply(strip_emoji)"
   ]
  },
  {
   "cell_type": "code",
   "execution_count": 10,
   "metadata": {
    "scrolled": true
   },
   "outputs": [
    {
     "data": {
      "text/plain": [
       "['ok there’ problem broadway current i’m stuck outsid nanaimo a… ',\n",
       " 'hallelu #skytrain move ',\n",
       " ' well your  bridgeport never show  pm  road',\n",
       " 'aaaaand we’v stop #spoketoosoon #stopthistrainiwannagetoff #skytrainfail ',\n",
       " ' keep hear announc stuff control center can’t hear it’ saying… ',\n",
       " ' where’  p  bu nd still hasn’t shown ',\n",
       " ' done thank twitter desk know feedback form differ',\n",
       " ' ouch feel asham ',\n",
       " '     show',\n",
       " ' retir damn mark train hear anyth tho',\n",
       " ' littl grill station ',\n",
       " ' link success help la',\n",
       " ' work mani new car recent ord',\n",
       " ' guess want pay ride ',\n",
       " ' welp goe perfect opportun final get cat bu ',\n",
       " ' display scott road dead pixel say “trai to” instead “train to”',\n",
       " ' creat lane strictli buse goal lot cheaper see',\n",
       " ' pretti sure pa',\n",
       " ' eb side',\n",
       " ' enough litter']"
      ]
     },
     "execution_count": 10,
     "metadata": {},
     "output_type": "execute_result"
    }
   ],
   "source": [
    "#Convert to list\n",
    "data=df.clean_tweet.values.tolist()\n",
    "data[:20]"
   ]
  },
  {
   "cell_type": "code",
   "execution_count": 11,
   "metadata": {},
   "outputs": [],
   "source": [
    "\"\"\"Let’s tokenize each sentence into a list of words, removing punctuations and unnecessary characters altogether.\n",
    "Gensim’s simple_preprocess() is great for this. Additionally I have set deacc=True to remove the punctuations.\"\"\"\n",
    "\n",
    "def sent_to_words(sentences):\n",
    "    for sentence in sentences:\n",
    "        yield(gensim.utils.simple_preprocess(str(sentence), deacc=True,min_len=1))  # deacc=True removes punctuations\n",
    "\n",
    "data_words = list(sent_to_words(data))"
   ]
  },
  {
   "cell_type": "markdown",
   "metadata": {},
   "source": [
    "### Check how the tweets looks like after processing"
   ]
  },
  {
   "cell_type": "code",
   "execution_count": 12,
   "metadata": {},
   "outputs": [
    {
     "name": "stdout",
     "output_type": "stream",
     "text": [
      "0    Ok there’s a problem train at Broadway Station...\n",
      "1    HALLELU! Our #skytrain is moving again. @trans...\n",
      "2    @TransLink well youre@403 Bridgeport never sho...\n",
      "3    Aaaaand we’ve stopped... #spoketoosoon #stopth...\n",
      "Name: TweetText, dtype: object\n",
      "------\n",
      "['ok there’ problem broadway current i’m stuck outsid nanaimo a… ', 'hallelu #skytrain move ', ' well your  bridgeport never show  pm  road', 'aaaaand we’v stop #spoketoosoon #stopthistrainiwannagetoff #skytrainfail ']\n",
      "------\n",
      "[['ok', 'there', 'problem', 'broadway', 'current', 'i', 'm', 'stuck', 'outsid', 'nanaimo', 'a'], ['hallelu', 'skytrain', 'move'], ['well', 'your', 'bridgeport', 'never', 'show', 'pm', 'road'], ['aaaaand', 'we', 'v', 'stop', 'spoketoosoon', 'skytrainfail']]\n"
     ]
    }
   ],
   "source": [
    "print(df.TweetText[:4])\n",
    "print('------')\n",
    "print(data[:4])\n",
    "print('------')\n",
    "print(data_words[:4])"
   ]
  },
  {
   "cell_type": "code",
   "execution_count": 13,
   "metadata": {},
   "outputs": [
    {
     "data": {
      "image/png": "[encoded data removed]",
      "text/plain": [
       "<Figure size 360x360 with 1 Axes>"
      ]
     },
     "metadata": {
      "needs_background": "light"
     },
     "output_type": "display_data"
    }
   ],
   "source": [
    "sentence_lengths = [len(tokens) for tokens in data_words]\n",
    "import matplotlib.pyplot as plt\n",
    "fig = plt.figure(figsize=(5, 5)) \n",
    "plt.xlabel('Sentence length')\n",
    "plt.ylabel('Number of sentences')\n",
    "plt.hist(sentence_lengths,bins=50)\n",
    "plt.show()"
   ]
  },
  {
   "cell_type": "markdown",
   "metadata": {},
   "source": [
    "#### Words in vacabulary and maximum sentence length"
   ]
  },
  {
   "cell_type": "code",
   "execution_count": 14,
   "metadata": {},
   "outputs": [
    {
     "name": "stdout",
     "output_type": "stream",
     "text": [
      "204479 words total, with a vocabulary size of 11821\n",
      "Max sentence length is 45\n"
     ]
    }
   ],
   "source": [
    "all_words =[word for token in data_words for word in token]\n",
    "VOCAB = sorted(list(set(all_words)))\n",
    "print(\"%s words total, with a vocabulary size of %s\" % (len(all_words), len(VOCAB)))\n",
    "print(\"Max sentence length is %s\" % max(sentence_lengths))"
   ]
  },
  {
   "cell_type": "code",
   "execution_count": 15,
   "metadata": {},
   "outputs": [],
   "source": [
    "\"\"\" Bigrams are two words frequently occurring together in the document. Trigrams are 3 words frequently occurring.\n",
    "Some examples in our example are: ‘front_bumper’, ‘oil_leak’, ‘maryland_college_park’ etc.\"\"\"\n",
    "# Build the bigram and trigram models\n",
    "bigram = gensim.models.Phrases(data_words, min_count=5, threshold=100) # higher threshold fewer phrases.\n",
    "trigram = gensim.models.Phrases(bigram[data_words], threshold=100)  \n",
    "\n",
    "# Faster way to get a sentence clubbed as a trigram/bigram\n",
    "bigram_mod = gensim.models.phrases.Phraser(bigram)\n",
    "trigram_mod = gensim.models.phrases.Phraser(trigram)"
   ]
  },
  {
   "cell_type": "markdown",
   "metadata": {},
   "source": [
    "### Look at a few tweets after processing"
   ]
  },
  {
   "cell_type": "code",
   "execution_count": 16,
   "metadata": {},
   "outputs": [
    {
     "name": "stdout",
     "output_type": "stream",
     "text": [
      "Ok there’s a problem train at Broadway Station. Currently I’m stuck just outside Nanaimo Station. @TransLink  why a… https://t.co/RDSgEked9u\n",
      "['ok', 'there', 'problem', 'broadway', 'current', 'i_m', 'stuck', 'outsid', 'nanaimo', 'a']\n",
      "['ok', 'there', 'problem', 'broadway', 'current', 'i_m', 'stuck', 'outsid', 'nanaimo', 'a']\n",
      "-------\n",
      "HALLELU! Our #skytrain is moving again. @translink\n",
      "['hallelu', 'skytrain', 'move']\n",
      "['hallelu', 'skytrain', 'move']\n",
      "-------\n",
      "@TransLink well youre@403 Bridgeport never showed up for 2:45pm 3 road\n",
      "['well', 'your', 'bridgeport', 'never', 'show', 'pm', 'road']\n",
      "['well', 'your', 'bridgeport', 'never', 'show', 'pm', 'road']\n",
      "-------\n",
      "Aaaaand we’ve stopped... #spoketoosoon #stopthistrainiwannagetoff #skytrainfail @TransLink\n",
      "['aaaaand', 'we_v', 'stop', 'spoketoosoon', 'skytrainfail']\n",
      "['aaaaand', 'we', 'v', 'stop', 'spoketoosoon', 'skytrainfail']\n",
      "-------\n",
      "@TransLink I keep hearing a skytrain announcement about stuff from control center but I can’t hear what it’s saying… https://t.co/PhSz5ovtRt\n",
      "['keep', 'hear', 'announc', 'stuff', 'control', 'center', 'can', 't', 'hear', 'it', 'saying']\n",
      "['keep', 'hear', 'announc', 'stuff', 'control', 'center', 'can', 't', 'hear', 'it', 'saying']\n",
      "-------\n",
      "@TransLink where’s the 3:08p 340 bus at 22nd station?? It still hasn’t shown up.\n",
      "['where', 'p', 'bu', 'nd', 'still', 'hasn', 't', 'shown']\n",
      "['where', 'p', 'bu', 'nd', 'still', 'hasn', 't', 'shown']\n",
      "-------\n",
      "@GabrielBauman @TransLink Done! thanks @TransLink Twitter desk. I know you and the feedback form people are differe\n",
      "['done', 'thank', 'twitter_desk', 'know', 'feedback_form', 'differ']\n",
      "['done', 'thank', 'twitter_desk', 'know', 'feedback', 'form', 'differ']\n",
      "-------\n",
      "@Wolowic @TransLink Ouch! Now I feel ashamed.\n",
      "['ouch', 'feel', 'asham']\n",
      "['ouch', 'feel', 'asham']\n",
      "-------\n"
     ]
    }
   ],
   "source": [
    "for i in range(0,8):\n",
    "    print(df.TweetText[i])\n",
    "# See trigram example\n",
    "    print(trigram_mod[bigram_mod[data_words[i]]])\n",
    "# See bigram example\n",
    "    print(bigram_mod[data_words[i]])\n",
    "    print('-------')"
   ]
  },
  {
   "cell_type": "code",
   "execution_count": 17,
   "metadata": {},
   "outputs": [],
   "source": [
    "# Define functions for stopwords, bigrams, trigrams and lemmatization\n",
    "stop_words=my_stopwords\n",
    "\n",
    "def remove_stopwords(texts):\n",
    "    return [[word for word in simple_preprocess(str(doc)) if word not in stop_words] for doc in texts]\n",
    "\n",
    "def make_bigrams(texts):\n",
    "    return [bigram_mod[doc] for doc in texts]\n",
    "\n",
    "def make_trigrams(texts):\n",
    "    return [trigram_mod[bigram_mod[doc]] for doc in texts]\n",
    "\n",
    "def lemmatization(texts, allowed_postags=['NOUN', 'ADJ', 'VERB', 'ADV']):\n",
    "    \"\"\"https://spacy.io/api/annotation\"\"\"\n",
    "    texts_out = []\n",
    "    for sent in texts:\n",
    "        doc = nlp(\" \".join(sent)) \n",
    "        texts_out.append([token.lemma_ for token in doc])\n",
    "        #texts_out.append([token.lemma_ for token in doc if token.pos_ in allowed_postags])\n",
    "    return texts_out\n"
   ]
  },
  {
   "cell_type": "markdown",
   "metadata": {},
   "source": [
    "### Remove stopwords, Lemmatization (the process of converting a word to its base form)"
   ]
  },
  {
   "cell_type": "code",
   "execution_count": 18,
   "metadata": {},
   "outputs": [],
   "source": [
    "\n",
    "# Remove Stop Words\n",
    "data_words_nostops = remove_stopwords(data_words)\n",
    "\n",
    "# Form Bigrams\n",
    "data_words_bigrams = make_bigrams(data_words_nostops)\n",
    "\n",
    "# Initialize spacy 'en' model, keeping only tagger component (for efficiency)\n",
    "# python3 -m spacy download en\n",
    "nlp = spacy.load('en', disable=['parser', 'ner'])\n",
    "\n",
    "# Do lemmatization keeping only noun, adj, vb, adv\n",
    "#data_lemmatized = lemmatization(data_words_bigrams, allowed_postags=['NOUN', 'ADJ', 'VERB', 'ADV'])\n",
    "data_lemmatized = lemmatization(data_words_bigrams)\n"
   ]
  },
  {
   "cell_type": "code",
   "execution_count": 19,
   "metadata": {},
   "outputs": [
    {
     "name": "stdout",
     "output_type": "stream",
     "text": [
      "Ok there’s a problem train at Broadway Station. Currently I’m stuck just outside Nanaimo Station. @TransLink  why a… https://t.co/RDSgEked9u\n",
      "['ok', 'problem', 'broadway', 'current', 'stuck', 'outsid', 'nanaimo']\n",
      "-------\n",
      "HALLELU! Our #skytrain is moving again. @translink\n",
      "['hallelu', 'move']\n",
      "-------\n",
      "@TransLink well youre@403 Bridgeport never showed up for 2:45pm 3 road\n",
      "['well', 'bridgeport', 'never', 'show', 'pm', 'road']\n",
      "-------\n",
      "Aaaaand we’ve stopped... #spoketoosoon #stopthistrainiwannagetoff #skytrainfail @TransLink\n",
      "['aaaaand', 'spoketoosoon', 'skytrainfail']\n",
      "-------\n",
      "@TransLink I keep hearing a skytrain announcement about stuff from control center but I can’t hear what it’s saying… https://t.co/PhSz5ovtRt\n",
      "['keep', 'hear', 'announc', 'stuff', 'control', 'center', 'hear', 'say']\n",
      "-------\n",
      "@TransLink where’s the 3:08p 340 bus at 22nd station?? It still hasn’t shown up.\n",
      "['bu', 'nd', 'still', 'show']\n",
      "-------\n",
      "@GabrielBauman @TransLink Done! thanks @TransLink Twitter desk. I know you and the feedback form people are differe\n",
      "['do', 'twitter_desk', 'know', 'feedback', 'form', 'differ']\n",
      "-------\n",
      "@Wolowic @TransLink Ouch! Now I feel ashamed.\n",
      "['ouch', 'feel', 'asham']\n",
      "-------\n"
     ]
    }
   ],
   "source": [
    "for i in range(0,8):\n",
    "    print(df.TweetText[i])\n",
    "    print(data_lemmatized[i])\n",
    "    print('-------')"
   ]
  },
  {
   "cell_type": "code",
   "execution_count": 20,
   "metadata": {},
   "outputs": [
    {
     "name": "stdout",
     "output_type": "stream",
     "text": [
      "182806 words total, with a vocabulary size of 11762\n",
      "Max sentence length is 45\n"
     ]
    }
   ],
   "source": [
    "all_words =[word for token in data_lemmatized for word in token]\n",
    "VOCAB = sorted(list(set(all_words)))\n",
    "print(\"%s words total, with a vocabulary size of %s\" % (len(all_words), len(VOCAB)))\n",
    "print(\"Max sentence length is %s\" % max(sentence_lengths))"
   ]
  },
  {
   "cell_type": "markdown",
   "metadata": {},
   "source": [
    "### Sanity check: make sure the code is doing what I think it is doing"
   ]
  },
  {
   "cell_type": "code",
   "execution_count": 21,
   "metadata": {},
   "outputs": [
    {
     "name": "stdout",
     "output_type": "stream",
     "text": [
      "[['ok', 'problem', 'broadway', 'broadway', 'current', 'stuck', 'outsid', 'nanaimo', 'nanaimo', 'nanaimo'], ['hallelu', 'move', 'move']]\n",
      "[[(0, 2), (1, 1), (2, 3), (3, 1), (4, 1), (5, 1), (6, 1)], [(7, 1), (8, 2)]]\n",
      "0 broadway\n",
      "1 current\n",
      "2 nanaimo\n",
      "3 ok\n",
      "4 outsid\n",
      "5 problem\n",
      "6 stuck\n",
      "7 hallelu\n",
      "8 move\n"
     ]
    }
   ],
   "source": [
    "aa=[['ok', 'problem', 'broadway','broadway', 'current', 'stuck', 'outsid', 'nanaimo',\n",
    "     'nanaimo','nanaimo'],['hallelu', 'move','move']]\n",
    "# Create Dictionary\n",
    "id2word = corpora.Dictionary(aa)\n",
    "# Create Corpus\n",
    "texts = aa\n",
    "# Term Document Frequency\n",
    "corpus = [id2word.doc2bow(text) for text in texts]\n",
    "print(texts)\n",
    "print(corpus)\n",
    "for i in np.arange(0,9):\n",
    "    print(i,id2word[i])"
   ]
  },
  {
   "cell_type": "markdown",
   "metadata": {},
   "source": [
    "#### Now get ready for LDA"
   ]
  },
  {
   "cell_type": "code",
   "execution_count": 22,
   "metadata": {},
   "outputs": [
    {
     "name": "stdout",
     "output_type": "stream",
     "text": [
      "Ok there’s a problem train at Broadway Station. Currently I’m stuck just outside Nanaimo Station. @TransLink  why a… https://t.co/RDSgEked9u\n",
      "['ok', 'problem', 'broadway', 'current', 'stuck', 'outsid', 'nanaimo']\n",
      "[(0, 1), (1, 1), (2, 1), (3, 1), (4, 1), (5, 1), (6, 1)]\n",
      "HALLELU! Our #skytrain is moving again. @translink\n",
      "['hallelu', 'move']\n",
      "[(7, 1), (8, 1)]\n",
      "@TransLink well youre@403 Bridgeport never showed up for 2:45pm 3 road\n",
      "['well', 'bridgeport', 'never', 'show', 'pm', 'road']\n",
      "[(9, 1), (10, 1), (11, 1), (12, 1), (13, 1), (14, 1)]\n",
      "Aaaaand we’ve stopped... #spoketoosoon #stopthistrainiwannagetoff #skytrainfail @TransLink\n",
      "['aaaaand', 'spoketoosoon', 'skytrainfail']\n",
      "[(15, 1), (16, 1), (17, 1)]\n",
      "@TransLink I keep hearing a skytrain announcement about stuff from control center but I can’t hear what it’s saying… https://t.co/PhSz5ovtRt\n",
      "['keep', 'hear', 'announc', 'stuff', 'control', 'center', 'hear', 'say']\n",
      "[(18, 1), (19, 1), (20, 1), (21, 2), (22, 1), (23, 1), (24, 1)]\n",
      "------\n",
      "length of vocabulary 11762\n"
     ]
    }
   ],
   "source": [
    "\"\"\"The two main inputs to the LDA topic model are the dictionary(id2word) and the corpus.\n",
    "\"\"\"\n",
    "# Create Dictionary\n",
    "id2word = corpora.Dictionary(data_lemmatized)\n",
    "\n",
    "# Create Corpus\n",
    "texts = data_lemmatized\n",
    "\n",
    "# Term Document Frequency\n",
    "corpus = [id2word.doc2bow(text) for text in texts]\n",
    "\n",
    "# View\n",
    "for i in range(0,5):\n",
    "    print(df.TweetText[i])\n",
    "    print(data_lemmatized[i])\n",
    "    print(corpus[i])\n",
    "print('------')    \n",
    "print('length of vocabulary',len(id2word))    "
   ]
  },
  {
   "cell_type": "code",
   "execution_count": 23,
   "metadata": {},
   "outputs": [
    {
     "name": "stdout",
     "output_type": "stream",
     "text": [
      "0 broadway\n",
      "1 current\n",
      "2 nanaimo\n",
      "3 ok\n",
      "4 outsid\n",
      "5 problem\n",
      "6 stuck\n",
      "7 hallelu\n",
      "8 move\n",
      "9 bridgeport\n",
      "10 never\n",
      "11 pm\n",
      "12 road\n",
      "13 show\n",
      "14 well\n",
      "15 aaaaand\n",
      "16 skytrainfail\n",
      "17 spoketoosoon\n",
      "18 announc\n",
      "19 center\n",
      "20 control\n",
      "21 hear\n"
     ]
    }
   ],
   "source": [
    "\"\"\"what word a given id corresponds\"\"\"\n",
    "for i in np.arange(0,22):\n",
    "    print(i,id2word[i])"
   ]
  },
  {
   "cell_type": "code",
   "execution_count": 24,
   "metadata": {},
   "outputs": [
    {
     "data": {
      "text/plain": [
       "[[('broadway', 1),\n",
       "  ('current', 1),\n",
       "  ('nanaimo', 1),\n",
       "  ('ok', 1),\n",
       "  ('outsid', 1),\n",
       "  ('problem', 1),\n",
       "  ('stuck', 1)],\n",
       " [('hallelu', 1), ('move', 1)],\n",
       " [('bridgeport', 1),\n",
       "  ('never', 1),\n",
       "  ('pm', 1),\n",
       "  ('road', 1),\n",
       "  ('show', 1),\n",
       "  ('well', 1)],\n",
       " [('aaaaand', 1), ('skytrainfail', 1), ('spoketoosoon', 1)],\n",
       " [('announc', 1),\n",
       "  ('center', 1),\n",
       "  ('control', 1),\n",
       "  ('hear', 2),\n",
       "  ('keep', 1),\n",
       "  ('say', 1),\n",
       "  ('stuff', 1)]]"
      ]
     },
     "execution_count": 24,
     "metadata": {},
     "output_type": "execute_result"
    }
   ],
   "source": [
    "# Human readable format of corpus (term-frequency)\n",
    "[[(id2word[id], freq) for id, freq in cp] for cp in corpus[:5]]"
   ]
  },
  {
   "cell_type": "code",
   "execution_count": 25,
   "metadata": {},
   "outputs": [],
   "source": [
    "# Build LDA model\n",
    "lda_model = gensim.models.ldamodel.LdaModel(corpus=corpus,\n",
    "                                           id2word=id2word,\n",
    "                                           num_topics=4, \n",
    "                                           random_state=100,\n",
    "                                           update_every=1,\n",
    "                                           chunksize=100,\n",
    "                                           passes=10,\n",
    "                                           alpha='auto',\n",
    "                                           per_word_topics=True)"
   ]
  },
  {
   "cell_type": "code",
   "execution_count": 26,
   "metadata": {},
   "outputs": [
    {
     "name": "stdout",
     "output_type": "stream",
     "text": [
      "[(0,\n",
      "  '0.026*\"like\" + 0.019*\"minut\" + 0.017*\"day\" + 0.013*\"even\" + 0.012*\"today\" + '\n",
      "  '0.011*\"snow\" + 0.011*\"great\" + 0.011*\"open\" + 0.010*\"drive\" + 0.010*\"let\"'),\n",
      " (1,\n",
      "  '0.034*\"wait\" + 0.027*\"know\" + 0.023*\"late\" + 0.019*\"run\" + 0.018*\"amp\" + '\n",
      "  '0.017*\"well\" + 0.016*\"way\" + 0.015*\"want\" + 0.014*\"never\" + 0.013*\"pm\"'),\n",
      " (2,\n",
      "  '0.068*\"bu\" + 0.035*\"get\" + 0.018*\"come\" + 0.016*\"buse\" + 0.016*\"see\" + '\n",
      "  '0.016*\"driver\" + 0.016*\"work\" + 0.014*\"take\" + 0.011*\"need\" + '\n",
      "  '0.011*\"servic\"'),\n",
      " (3,\n",
      "  '0.039*\"line\" + 0.022*\"say\" + 0.020*\"good\" + 0.020*\"use\" + 0.020*\"would\" + '\n",
      "  '0.017*\"show\" + 0.016*\"happen\" + 0.016*\"delay\" + 0.015*\"still\" + '\n",
      "  '0.013*\"look\"')]\n"
     ]
    }
   ],
   "source": [
    "# Print the Keyword in the 4 topics\n",
    "pprint(lda_model.print_topics())\n",
    "doc_lda = lda_model[corpus]"
   ]
  },
  {
   "cell_type": "code",
   "execution_count": 27,
   "metadata": {},
   "outputs": [
    {
     "name": "stdout",
     "output_type": "stream",
     "text": [
      "\n",
      "Perplexity:  -8.027654201530499\n",
      "\n",
      "Coherence Score:  0.23018181865842688\n"
     ]
    }
   ],
   "source": [
    "# Compute Perplexity\n",
    "print('\\nPerplexity: ', lda_model.log_perplexity(corpus))  # a measure of how good the model is. lower the better.\n",
    "\n",
    "# Compute Coherence Score\n",
    "coherence_model_lda = CoherenceModel(model=lda_model, texts=data_lemmatized, dictionary=id2word, coherence='c_v')\n",
    "coherence_lda = coherence_model_lda.get_coherence()\n",
    "print('\\nCoherence Score: ', coherence_lda)"
   ]
  },
  {
   "cell_type": "code",
   "execution_count": 28,
   "metadata": {},
   "outputs": [
    {
     "data": {
      "text/html": [
       "\n",
       "<link rel=\"stylesheet\" type=\"text/css\" href=\"https://cdn.rawgit.com/bmabey/pyLDAvis/files/ldavis.v1.0.0.css\">\n",
       "\n",
       "\n",
       "<div id=\"ldavis_el273031406261097833929531269454\"></div>\n",
       "<script type=\"text/javascript\">\n",
       "\n",
       "var ldavis_el273031406261097833929531269454_data = {\"mdsDat\": {\"x\": [0.3646078796279516, -0.13872178828155113, -0.12264405135657568, -0.10324203998982465], \"y\": [0.012648621165849439, 0.301275664920639, -0.24592957255273978, -0.06799471353374872], \"topics\": [1, 2, 3, 4], \"cluster\": [1, 1, 1, 1], \"Freq\": [35.87841945400479, 22.5370155660932, 21.96687946414301, 19.617685515759007]}, \"tinfo\": {\"Term\": [\"bu\", \"line\", \"get\", \"wait\", \"like\", \"know\", \"say\", \"late\", \"good\", \"use\", \"would\", \"come\", \"minut\", \"run\", \"buse\", \"see\", \"driver\", \"amp\", \"work\", \"show\", \"well\", \"day\", \"happen\", \"delay\", \"way\", \"still\", \"take\", \"want\", \"never\", \"even\", \"bu\", \"get\", \"come\", \"buse\", \"driver\", \"see\", \"work\", \"take\", \"servic\", \"need\", \"make\", \"rout\", \"min\", \"think\", \"right\", \"morn\", \"new\", \"back\", \"-PRON-\", \"pass\", \"leav\", \"plea\", \"waterfront\", \"issu\", \"realli\", \"help\", \"west\", \"updat\", \"give\", \"hi\", \"ubc\", \"westvan\", \"line\", \"say\", \"good\", \"would\", \"use\", \"show\", \"happen\", \"delay\", \"still\", \"look\", \"hey\", \"car\", \"long\", \"thing\", \"tri\", \"also\", \"find\", \"schedul\", \"anoth\", \"ride\", \"expo\", \"commun\", \"plan\", \"canada\", \"wonder\", \"provid\", \"miss\", \"compass\", \"oh\", \"point\", \"like\", \"minut\", \"day\", \"even\", \"today\", \"great\", \"drive\", \"snow\", \"open\", \"let\", \"could\", \"hour\", \"ye\", \"past\", \"someth\", \"alway\", \"full\", \"card\", \"ask\", \"go\", \"number\", \"sinc\", \"compass_card\", \"mayb\", \"head\", \"sure\", \"lane\", \"wristband\", \"walk\", \"first\", \"live\", \"wait\", \"know\", \"late\", \"run\", \"amp\", \"well\", \"way\", \"want\", \"never\", \"next\", \"pm\", \"pay\", \"guy\", \"much\", \"year\", \"passeng\", \"around\", \"keep\", \"system\", \"last\", \"platform\", \"leave\", \"do\", \"road\", \"hear\", \"citi\", \"announc\", \"hope\", \"fare\", \"support\"], \"Freq\": [4442.0, 1627.0, 2293.0, 1220.0, 1059.0, 982.0, 904.0, 812.0, 825.0, 815.0, 815.0, 1179.0, 769.0, 683.0, 1079.0, 1066.0, 1050.0, 652.0, 1036.0, 685.0, 623.0, 663.0, 672.0, 640.0, 576.0, 618.0, 898.0, 530.0, 500.0, 514.0, 4442.239517996526, 2292.3765880348587, 1178.753371256691, 1079.1955816064562, 1049.5538382754723, 1065.4557045536683, 1035.3153977357154, 897.722870361393, 743.23342657377, 744.6210603318531, 712.2703861603766, 665.5200110220911, 609.1487410722934, 604.5299125906517, 567.0537834292119, 533.9628383806738, 521.0450840883753, 514.4924743190022, 489.76627254708603, 492.26898550813644, 467.4683534974465, 453.3869891653275, 427.8966939532625, 412.9575646412658, 386.0198654711668, 385.9151683605732, 374.74657049208025, 372.00550973316746, 361.85215009490827, 351.9912276894185, 359.0573969438066, 400.43016442437477, 1626.4709053180609, 903.6446061545954, 824.860205835338, 814.3648227079843, 814.6201338551522, 684.6060592802262, 672.2321017967953, 639.301222834886, 618.0086798785743, 517.4689611677796, 512.8748953017289, 494.30831874916544, 414.15040277989783, 415.65468193900745, 416.77376894205787, 396.912027410136, 407.59918166967253, 383.3218695311867, 310.3679946087109, 307.939469144675, 298.3714594425503, 305.03623530781664, 290.9803667212103, 281.19117560822764, 284.6089262512097, 276.67785851122034, 263.9070828907275, 265.65506640078945, 256.35054056515133, 245.0326096894642, 1058.6026211717256, 768.5382472829745, 662.8373344408064, 513.7640456936393, 494.30632788173654, 451.22319514536423, 421.1933665081138, 454.5960158284, 424.2220050239824, 408.44295617970664, 377.61862510202366, 385.3187614447814, 370.5218827704662, 375.2088263471153, 369.6219902021321, 313.0352704922825, 312.76295033035393, 310.1425209152819, 292.1463338000881, 294.96538882526823, 291.3836952308308, 288.3002299131512, 290.53002771504686, 280.75580393147146, 280.5698378523408, 272.16936952410293, 272.40440297293077, 331.0055962613287, 267.4304601622448, 258.8405102573522, 269.03545307706236, 1219.7415793025107, 981.414992855712, 811.3618062539726, 682.3680080959128, 652.133290392464, 623.2718214043892, 575.5127186691503, 530.1134153972843, 499.4497495166891, 468.24354418350765, 472.32868857680563, 467.9236115673833, 384.0601181124176, 352.62185391956064, 334.7194881573519, 315.6419653747512, 311.5143369760549, 307.4528393404786, 300.6960121171337, 274.7011781128085, 279.7429474138248, 254.43951387785654, 242.43893463128927, 240.27163246753344, 242.56257911869844, 236.26970261782805, 229.8596945077346, 216.48139102950122, 220.84079439318288, 214.85024903764685], \"Total\": [4442.0, 1627.0, 2293.0, 1220.0, 1059.0, 982.0, 904.0, 812.0, 825.0, 815.0, 815.0, 1179.0, 769.0, 683.0, 1079.0, 1066.0, 1050.0, 652.0, 1036.0, 685.0, 623.0, 663.0, 672.0, 640.0, 576.0, 618.0, 898.0, 530.0, 500.0, 514.0, 4442.934412923016, 2293.06529340538, 1179.448202854595, 1079.889946878778, 1050.2405538882729, 1066.1556211638317, 1036.0132434333827, 898.4251697098412, 743.9177744546728, 745.3112088322972, 712.9582275841333, 666.2142454726198, 609.8488857385756, 605.2286266982528, 567.7487657043238, 534.6527514702161, 521.7246882718332, 515.1845786812016, 490.4582779261656, 492.9674551230236, 468.1633088642237, 454.07466172059424, 428.59651878153255, 413.6493612559666, 386.7137797827748, 386.60892764286, 375.4328782840719, 372.6990588505346, 362.54741706500266, 352.68048109625164, 359.76829177479794, 403.2326655654654, 1627.1725413541656, 904.3497654484223, 825.5666133448361, 815.0677426353153, 815.3244967628995, 685.3082271142652, 672.9500404537308, 640.0011652043589, 618.7086704388519, 518.1656727115636, 513.5765273436311, 495.0048839850467, 414.8520233080838, 416.3630042041825, 417.4860571125522, 397.60912399054376, 408.33263226932667, 384.0236870543673, 311.0770693433265, 308.64697424180235, 299.06336171461766, 305.74762835348764, 291.6677763837302, 281.8877848061922, 285.3193913624816, 277.39315517506185, 264.6156175530909, 266.3963576414114, 257.07334639961056, 245.74414414876605, 1059.297031301457, 769.2372525856581, 663.5329263014219, 514.4579888267477, 495.0016562762808, 451.91112467160514, 421.888189230654, 455.34910934104994, 424.92784218988544, 409.1398958625908, 378.31053874683323, 386.0251925310133, 371.2213385726245, 375.9250754149448, 370.32813856709214, 313.7347166415594, 313.4626580673351, 310.8520583241947, 292.8354558297989, 295.6671861401118, 292.0860017756747, 289.00221129966906, 291.23952767417114, 281.45890022917246, 281.2748121899532, 272.85750668888556, 273.1080223934881, 331.87655298070837, 268.135663830572, 259.53542167658674, 269.75948310285537, 1220.4412108714548, 982.1118266388884, 812.065688556732, 683.0581495966176, 652.814385251988, 623.9606583822657, 576.2108480488907, 530.8042811766798, 500.1526622030291, 468.93216327579853, 473.0344196201136, 468.6326356237704, 384.7468923919596, 353.3073243991633, 335.40249820250926, 316.3403409551952, 312.2090350650737, 308.14471948296915, 301.39220335888064, 275.3800418983678, 280.44381349566993, 255.13742269804976, 243.12419110623202, 240.95682910953974, 243.25906204702173, 236.9538770645934, 230.55115132962402, 217.15932125055906, 221.54514173911173, 215.5463820136426], \"Category\": [\"Default\", \"Default\", \"Default\", \"Default\", \"Default\", \"Default\", \"Default\", \"Default\", \"Default\", \"Default\", \"Default\", \"Default\", \"Default\", \"Default\", \"Default\", \"Default\", \"Default\", \"Default\", \"Default\", \"Default\", \"Default\", \"Default\", \"Default\", \"Default\", \"Default\", \"Default\", \"Default\", \"Default\", \"Default\", \"Default\", \"Topic1\", \"Topic1\", \"Topic1\", \"Topic1\", \"Topic1\", \"Topic1\", \"Topic1\", \"Topic1\", \"Topic1\", \"Topic1\", \"Topic1\", \"Topic1\", \"Topic1\", \"Topic1\", \"Topic1\", \"Topic1\", \"Topic1\", \"Topic1\", \"Topic1\", \"Topic1\", \"Topic1\", \"Topic1\", \"Topic1\", \"Topic1\", \"Topic1\", \"Topic1\", \"Topic1\", \"Topic1\", \"Topic1\", \"Topic1\", \"Topic1\", \"Topic1\", \"Topic2\", \"Topic2\", \"Topic2\", \"Topic2\", \"Topic2\", \"Topic2\", \"Topic2\", \"Topic2\", \"Topic2\", \"Topic2\", \"Topic2\", \"Topic2\", \"Topic2\", \"Topic2\", \"Topic2\", \"Topic2\", \"Topic2\", \"Topic2\", \"Topic2\", \"Topic2\", \"Topic2\", \"Topic2\", \"Topic2\", \"Topic2\", \"Topic2\", \"Topic2\", \"Topic2\", \"Topic2\", \"Topic2\", \"Topic2\", \"Topic3\", \"Topic3\", \"Topic3\", \"Topic3\", \"Topic3\", \"Topic3\", \"Topic3\", \"Topic3\", \"Topic3\", \"Topic3\", \"Topic3\", \"Topic3\", \"Topic3\", \"Topic3\", \"Topic3\", \"Topic3\", \"Topic3\", \"Topic3\", \"Topic3\", \"Topic3\", \"Topic3\", \"Topic3\", \"Topic3\", \"Topic3\", \"Topic3\", \"Topic3\", \"Topic3\", \"Topic3\", \"Topic3\", \"Topic3\", \"Topic3\", \"Topic4\", \"Topic4\", \"Topic4\", \"Topic4\", \"Topic4\", \"Topic4\", \"Topic4\", \"Topic4\", \"Topic4\", \"Topic4\", \"Topic4\", \"Topic4\", \"Topic4\", \"Topic4\", \"Topic4\", \"Topic4\", \"Topic4\", \"Topic4\", \"Topic4\", \"Topic4\", \"Topic4\", \"Topic4\", \"Topic4\", \"Topic4\", \"Topic4\", \"Topic4\", \"Topic4\", \"Topic4\", \"Topic4\", \"Topic4\"], \"logprob\": [30.0, 29.0, 28.0, 27.0, 26.0, 25.0, 24.0, 23.0, 22.0, 21.0, 20.0, 19.0, 18.0, 17.0, 16.0, 15.0, 14.0, 13.0, 12.0, 11.0, 10.0, 9.0, 8.0, 7.0, 6.0, 5.0, 4.0, 3.0, 2.0, 1.0, -2.692199945449829, -3.353800058364868, -4.018899917602539, -4.1072001457214355, -4.135000228881836, -4.119999885559082, -4.14870023727417, -4.291299819946289, -4.480100154876709, -4.478300094604492, -4.52269983291626, -4.59060001373291, -4.679100036621094, -4.686699867248535, -4.750699996948242, -4.810800075531006, -4.835299968719482, -4.8480000495910645, -4.897200107574463, -4.892099857330322, -4.94379997253418, -4.974400043487549, -5.032299995422363, -5.067800045013428, -5.135300159454346, -5.135499954223633, -5.164899826049805, -5.1722002029418945, -5.199900150299072, -5.227499961853027, -5.207699775695801, -5.098599910736084, -3.2320001125335693, -3.819700002670288, -3.9110000133514404, -3.923799991607666, -3.9233999252319336, -4.097300052642822, -4.115600109100342, -4.165800094604492, -4.199699878692627, -4.377200126647949, -4.386099815368652, -4.422999858856201, -4.599899768829346, -4.59630012512207, -4.593599796295166, -4.642499923706055, -4.615900039672852, -4.677299976348877, -4.888400077819824, -4.896299839019775, -4.927800178527832, -4.905700206756592, -4.952899932861328, -4.987100124359131, -4.975100040435791, -5.003300189971924, -5.050600051879883, -5.044000148773193, -5.079599857330322, -5.124800205230713, -3.6357998847961426, -3.9560999870300293, -4.104000091552734, -4.358799934387207, -4.39739990234375, -4.48859977722168, -4.557499885559082, -4.481100082397461, -4.550300121307373, -4.588200092315674, -4.6666998863220215, -4.646500110626221, -4.6855998039245605, -4.673099994659424, -4.6880998611450195, -4.8541998863220215, -4.855100154876709, -4.863500118255615, -4.923299789428711, -4.913700103759766, -4.925899982452393, -4.936500072479248, -4.928800106048584, -4.963099956512451, -4.963699817657471, -4.994100093841553, -4.993299961090088, -4.798399925231934, -5.01170015335083, -5.044300079345703, -5.00570011138916, -3.38100004196167, -3.598400115966797, -3.7887001037597656, -3.961899995803833, -4.007199764251709, -4.052499771118164, -4.132199764251709, -4.214399814605713, -4.273900032043457, -4.338500022888184, -4.329800128936768, -4.339099884033203, -4.536600112915039, -4.622000217437744, -4.674099922180176, -4.732800006866455, -4.745999813079834, -4.759099960327148, -4.781300067901611, -4.871799945831299, -4.853600025177002, -4.948400020599365, -4.996699810028076, -5.00570011138916, -4.996200084686279, -5.022500038146973, -5.050000190734863, -5.109899997711182, -5.090000152587891, -5.117499828338623], \"loglift\": [30.0, 29.0, 28.0, 27.0, 26.0, 25.0, 24.0, 23.0, 22.0, 21.0, 20.0, 19.0, 18.0, 17.0, 16.0, 15.0, 14.0, 13.0, 12.0, 11.0, 10.0, 9.0, 8.0, 7.0, 6.0, 5.0, 4.0, 3.0, 2.0, 1.0, 1.0249, 1.0247, 1.0244, 1.0244, 1.0244, 1.0244, 1.0244, 1.0243, 1.0241, 1.0241, 1.0241, 1.024, 1.0239, 1.0239, 1.0238, 1.0237, 1.0237, 1.0237, 1.0236, 1.0236, 1.0235, 1.0235, 1.0234, 1.0234, 1.0232, 1.0232, 1.0232, 1.0232, 1.0231, 1.0231, 1.0231, 1.0181, 1.4896, 1.4892, 1.4892, 1.4891, 1.4891, 1.489, 1.4889, 1.4889, 1.4889, 1.4887, 1.4886, 1.4886, 1.4883, 1.4883, 1.4883, 1.4883, 1.4882, 1.4882, 1.4877, 1.4877, 1.4877, 1.4877, 1.4877, 1.4875, 1.4875, 1.4874, 1.4873, 1.4872, 1.4872, 1.4871, 1.515, 1.5147, 1.5146, 1.5143, 1.5142, 1.5141, 1.514, 1.514, 1.514, 1.5139, 1.5138, 1.5138, 1.5137, 1.5137, 1.5137, 1.5134, 1.5134, 1.5133, 1.5133, 1.5133, 1.5132, 1.5132, 1.5132, 1.5131, 1.5131, 1.5131, 1.5131, 1.513, 1.513, 1.513, 1.5129, 1.6282, 1.628, 1.6279, 1.6277, 1.6277, 1.6276, 1.6275, 1.6274, 1.6273, 1.6273, 1.6272, 1.6272, 1.627, 1.6268, 1.6267, 1.6265, 1.6265, 1.6265, 1.6264, 1.6263, 1.6262, 1.626, 1.6259, 1.6259, 1.6259, 1.6258, 1.6257, 1.6256, 1.6256, 1.6255]}, \"token.table\": {\"Topic\": [1, 2, 3, 4, 4, 2, 4, 3, 1, 1, 1, 2, 2, 3, 4, 1, 2, 2, 3, 3, 3, 2, 4, 3, 1, 3, 2, 4, 2, 3, 3, 1, 1, 3, 2, 3, 4, 2, 3, 4, 1, 2, 1, 4, 3, 1, 4, 4, 3, 4, 4, 1, 4, 3, 3, 2, 3, 2, 2, 1, 3, 1, 3, 2, 1, 4, 1, 4, 1, 4, 3, 2, 3, 1, 4, 3, 4, 2, 4, 1, 4, 2, 2, 1, 2, 1, 4, 1, 4, 2, 2, 1, 1, 2, 3, 3, 3, 2, 4, 3, 4, 1, 2, 1, 3, 2, 1, 1, 2, 4, 3, 4, 1, 4, 4, 1, 1, 2, 3, 4, 2, 1, 2, 3, 3, 4], \"Freq\": [0.999065612822148, 0.9984680331667685, 0.9976581595769053, 0.9987525010624978, 0.9976094184459915, 0.996537612542126, 0.9993304643953366, 0.9971470127227884, 0.9977006713123402, 0.9997896856365248, 0.9991758911346937, 0.996850573689092, 0.9979699513730917, 0.9972589587188577, 0.9959744188345423, 0.9996199893700205, 0.9975547533843067, 0.9985121506730775, 0.9991775578126911, 0.9991791432830238, 0.9991968351828561, 0.9984356822162359, 0.9953760623279942, 0.9978947283822435, 0.9997709535330908, 0.9991097643798045, 0.9964443597887715, 0.9975393649581642, 0.999185388962234, 0.9979369996082695, 0.9985240408851643, 0.9995354282285621, 0.9984900814645591, 0.9977434555764478, 0.9993136673217192, 0.9979838410212467, 0.9980587435357406, 0.9985882451941154, 0.9990229761854126, 0.9989350363976506, 0.9984249519363854, 0.998877426609403, 0.9980705450606836, 0.9946614253356344, 0.9973442341307013, 0.9984301649735541, 0.9962851238051723, 0.9988679225636724, 0.9959429152473167, 0.9986199366673492, 0.9986876818319637, 0.9975151643834586, 0.9955419213456747, 0.9972139215116445, 0.9997195958331988, 0.9992793994955264, 0.9971845916439357, 0.9979461994633902, 0.9977503860773647, 0.9986559835526686, 0.9983695657561413, 0.9986080392070446, 0.9996915742381682, 0.9976735403647619, 0.9987791113607456, 0.9991301499348028, 0.9995824444492324, 0.9976953792509032, 0.998610975696332, 0.9980121575170132, 0.9962819109129758, 0.995824746459938, 0.9978164711798978, 0.9980374868300744, 0.9989241304028202, 0.9975392026883982, 0.9986500393364018, 0.997710489681069, 0.9984174602030336, 0.9976332929115179, 0.9978132254711098, 0.9969718743396971, 0.9985826788883319, 0.9981542426981119, 0.9979038374071488, 0.9986811671824687, 0.9960290434055108, 0.9996784135522833, 0.9984508645460969, 0.9996132409585479, 0.9973343127289375, 0.9989160858500468, 0.9987662958378087, 0.9995502357887004, 0.9965321673659103, 0.999233314979895, 0.9991139248333605, 0.9988545975307745, 0.9974651302028905, 0.9968573095192015, 0.9986986944104402, 0.9995267611325065, 0.9991281545177715, 0.999622247381952, 0.9979764587379042, 0.9988357524658095, 0.997864481689012, 0.9981243342747078, 0.9996020029274383, 0.999638482486887, 0.9957645923919706, 0.9984847876982137, 0.9986082043241312, 0.9996340783072643, 0.9984603862930134, 0.9988469888784105, 0.9919831257695054, 0.0024799578144237633, 0.0024799578144237633, 0.0024799578144237633, 0.9988805830513081, 0.9990219783001761, 0.9986899952243686, 0.9973587981047901, 0.9994037557930382, 0.9987999546674031], \"Term\": [\"-PRON-\", \"also\", \"alway\", \"amp\", \"announc\", \"anoth\", \"around\", \"ask\", \"back\", \"bu\", \"buse\", \"canada\", \"car\", \"card\", \"citi\", \"come\", \"commun\", \"compass\", \"compass_card\", \"could\", \"day\", \"delay\", \"do\", \"drive\", \"driver\", \"even\", \"expo\", \"fare\", \"find\", \"first\", \"full\", \"get\", \"give\", \"go\", \"good\", \"great\", \"guy\", \"happen\", \"head\", \"hear\", \"help\", \"hey\", \"hi\", \"hope\", \"hour\", \"issu\", \"keep\", \"know\", \"lane\", \"last\", \"late\", \"leav\", \"leave\", \"let\", \"like\", \"line\", \"live\", \"long\", \"look\", \"make\", \"mayb\", \"min\", \"minut\", \"miss\", \"morn\", \"much\", \"need\", \"never\", \"new\", \"next\", \"number\", \"oh\", \"open\", \"pass\", \"passeng\", \"past\", \"pay\", \"plan\", \"platform\", \"plea\", \"pm\", \"point\", \"provid\", \"realli\", \"ride\", \"right\", \"road\", \"rout\", \"run\", \"say\", \"schedul\", \"see\", \"servic\", \"show\", \"sinc\", \"snow\", \"someth\", \"still\", \"support\", \"sure\", \"system\", \"take\", \"thing\", \"think\", \"today\", \"tri\", \"ubc\", \"updat\", \"use\", \"wait\", \"walk\", \"want\", \"waterfront\", \"way\", \"well\", \"west\", \"westvan\", \"westvan\", \"westvan\", \"westvan\", \"wonder\", \"work\", \"would\", \"wristband\", \"ye\", \"year\"]}, \"R\": 30, \"lambda.step\": 0.01, \"plot.opts\": {\"xlab\": \"PC1\", \"ylab\": \"PC2\"}, \"topic.order\": [3, 4, 1, 2]};\n",
       "\n",
       "function LDAvis_load_lib(url, callback){\n",
       "  var s = document.createElement('script');\n",
       "  s.src = url;\n",
       "  s.async = true;\n",
       "  s.onreadystatechange = s.onload = callback;\n",
       "  s.onerror = function(){console.warn(\"failed to load library \" + url);};\n",
       "  document.getElementsByTagName(\"head\")[0].appendChild(s);\n",
       "}\n",
       "\n",
       "if(typeof(LDAvis) !== \"undefined\"){\n",
       "   // already loaded: just create the visualization\n",
       "   !function(LDAvis){\n",
       "       new LDAvis(\"#\" + \"ldavis_el273031406261097833929531269454\", ldavis_el273031406261097833929531269454_data);\n",
       "   }(LDAvis);\n",
       "}else if(typeof define === \"function\" && define.amd){\n",
       "   // require.js is available: use it to load d3/LDAvis\n",
       "   require.config({paths: {d3: \"https://cdnjs.cloudflare.com/ajax/libs/d3/3.5.5/d3.min\"}});\n",
       "   require([\"d3\"], function(d3){\n",
       "      window.d3 = d3;\n",
       "      LDAvis_load_lib(\"https://cdn.rawgit.com/bmabey/pyLDAvis/files/ldavis.v1.0.0.js\", function(){\n",
       "        new LDAvis(\"#\" + \"ldavis_el273031406261097833929531269454\", ldavis_el273031406261097833929531269454_data);\n",
       "      });\n",
       "    });\n",
       "}else{\n",
       "    // require.js not available: dynamically load d3 & LDAvis\n",
       "    LDAvis_load_lib(\"https://cdnjs.cloudflare.com/ajax/libs/d3/3.5.5/d3.min.js\", function(){\n",
       "         LDAvis_load_lib(\"https://cdn.rawgit.com/bmabey/pyLDAvis/files/ldavis.v1.0.0.js\", function(){\n",
       "                 new LDAvis(\"#\" + \"ldavis_el273031406261097833929531269454\", ldavis_el273031406261097833929531269454_data);\n",
       "            })\n",
       "         });\n",
       "}\n",
       "</script>"
      ],
      "text/plain": [
       "PreparedData(topic_coordinates=              x         y  topics  cluster       Freq\n",
       "topic                                                \n",
       "2      0.364608  0.012649       1        1  35.878419\n",
       "3     -0.138722  0.301276       2        1  22.537016\n",
       "0     -0.122644 -0.245930       3        1  21.966879\n",
       "1     -0.103242 -0.067995       4        1  19.617686, topic_info=         Term         Freq        Total Category  logprob  loglift\n",
       "25         bu  4442.000000  4442.000000  Default  30.0000  30.0000\n",
       "101      line  1627.000000  1627.000000  Default  29.0000  29.0000\n",
       "60        get  2293.000000  2293.000000  Default  28.0000  28.0000\n",
       "103      wait  1220.000000  1220.000000  Default  27.0000  27.0000\n",
       "282      like  1059.000000  1059.000000  Default  26.0000  26.0000\n",
       "...       ...          ...          ...      ...      ...      ...\n",
       "218      citi   236.269703   236.953877   Topic4  -5.0225   1.6258\n",
       "18    announc   229.859695   230.551151   Topic4  -5.0500   1.6257\n",
       "337      hope   216.481391   217.159321   Topic4  -5.1099   1.6256\n",
       "930      fare   220.840794   221.545142   Topic4  -5.0900   1.6256\n",
       "1286  support   214.850249   215.546382   Topic4  -5.1175   1.6255\n",
       "\n",
       "[153 rows x 6 columns], token_table=      Topic      Freq       Term\n",
       "term                            \n",
       "194       1  0.999066     -PRON-\n",
       "181       2  0.998468       also\n",
       "589       3  0.997658      alway\n",
       "208       4  0.998753        amp\n",
       "18        4  0.997609    announc\n",
       "...     ...       ...        ...\n",
       "53        1  0.999022       work\n",
       "270       2  0.998690      would\n",
       "6294      3  0.997359  wristband\n",
       "429       3  0.999404         ye\n",
       "222       4  0.998800       year\n",
       "\n",
       "[126 rows x 3 columns], R=30, lambda_step=0.01, plot_opts={'xlab': 'PC1', 'ylab': 'PC2'}, topic_order=[3, 4, 1, 2])"
      ]
     },
     "execution_count": 28,
     "metadata": {},
     "output_type": "execute_result"
    }
   ],
   "source": [
    "# Visualize the topics\n",
    "pyLDAvis.enable_notebook()\n",
    "vis = pyLDAvis.gensim.prepare(lda_model, corpus, id2word)\n",
    "vis"
   ]
  },
  {
   "cell_type": "code",
   "execution_count": 33,
   "metadata": {},
   "outputs": [
    {
     "data": {
      "image/png": "[encoded data removed]",
      "text/plain": [
       "<Figure size 720x720 with 4 Axes>"
      ]
     },
     "metadata": {
      "needs_background": "light"
     },
     "output_type": "display_data"
    }
   ],
   "source": [
    "from matplotlib import pyplot as plt\n",
    "from wordcloud import WordCloud, STOPWORDS\n",
    "import matplotlib.colors as mcolors\n",
    "\n",
    "cols = [color for name, color in mcolors.TABLEAU_COLORS.items()]  # more colors: 'mcolors.XKCD_COLORS'\n",
    "\n",
    "cloud = WordCloud(stopwords=stop_words,\n",
    "                  background_color='white',\n",
    "                  width=2500,\n",
    "                  height=1800,\n",
    "                  max_words=10,\n",
    "                  colormap='tab10',\n",
    "                  color_func=lambda *args, **kwargs: cols[i],\n",
    "                  prefer_horizontal=1.0)\n",
    "\n",
    "topics = lda_model.show_topics(formatted=False)\n",
    "\n",
    "fig, axes = plt.subplots(2, 2, figsize=(10,10), sharex=True, sharey=True)\n",
    "\n",
    "for i, ax in enumerate(axes.flatten()):\n",
    "    fig.add_subplot(ax)\n",
    "    topic_words = dict(topics[i][1])\n",
    "    cloud.generate_from_frequencies(topic_words, max_font_size=300)\n",
    "    plt.gca().imshow(cloud)\n",
    "    plt.gca().set_title('Topic ' + str(i), fontdict=dict(size=16))\n",
    "    plt.gca().axis('off')\n",
    "\n",
    "\n",
    "plt.subplots_adjust(wspace=0, hspace=0)\n",
    "plt.axis('off')\n",
    "plt.margins(x=0, y=0)\n",
    "plt.tight_layout()\n",
    "plt.show()"
   ]
  },
  {
   "cell_type": "code",
   "execution_count": 34,
   "metadata": {},
   "outputs": [],
   "source": [
    "import os\n",
    "#mallet_path = 'mallet-2.0.8/bin/mallet' # update this path\n",
    "mallet_path = 'Mallet/bin/mallet'\n",
    "#ldamallet = gensim.models.wrappers.LdaMallet(mallet_path, corpus=corpus, num_topics=20, id2word=id2word)\n",
    "from gensim.models.wrappers import LdaMallet"
   ]
  },
  {
   "cell_type": "code",
   "execution_count": 35,
   "metadata": {},
   "outputs": [],
   "source": [
    "from gensim.models.wrappers import LdaMallet\n",
    "\n",
    "ldamallet = gensim.models.wrappers.LdaMallet(mallet_path,corpus=corpus, num_topics=4, id2word=id2word)"
   ]
  },
  {
   "cell_type": "code",
   "execution_count": 36,
   "metadata": {},
   "outputs": [
    {
     "name": "stdout",
     "output_type": "stream",
     "text": [
      "[(0,\n",
      "  [('amp', 0.021297142111444605),\n",
      "   ('pass', 0.012084040193135848),\n",
      "   ('year', 0.01150985253817043),\n",
      "   ('realli', 0.00999608508417069),\n",
      "   ('tri', 0.009343599112619078),\n",
      "   ('pay', 0.009343599112619078),\n",
      "   ('plan', 0.008638914263343338),\n",
      "   ('thing', 0.008247422680412371),\n",
      "   ('citi', 0.007934229414067597),\n",
      "   ('love', 0.007516638392274566)]),\n",
      " (1,\n",
      "  [('line', 0.03926158429536628),\n",
      "   ('hey', 0.016704793318082674),\n",
      "   ('min', 0.015401393839442465),\n",
      "   ('morn', 0.01481619407352237),\n",
      "   ('delay', 0.014443794222482311),\n",
      "   ('car', 0.013645794541682183),\n",
      "   ('guy', 0.011491195403521838),\n",
      "   ('everi', 0.011411395435441826),\n",
      "   ('issu', 0.011145395541841784),\n",
      "   ('long', 0.01093259562696175)]),\n",
      " (2,\n",
      "  [('work', 0.024011674184133722),\n",
      "   ('day', 0.020270628814009022),\n",
      "   ('make', 0.018997081453966568),\n",
      "   ('good', 0.01825417882727514),\n",
      "   ('today', 0.016211196603873705),\n",
      "   ('back', 0.013664101883788804),\n",
      "   ('great', 0.012682409127089414),\n",
      "   ('updat', 0.008941363756964712),\n",
      "   ('surrey', 0.008808702573626957),\n",
      "   ('mani', 0.008782170336959405)]),\n",
      " (3,\n",
      "  [('bu', 0.11768696832106884),\n",
      "   ('wait', 0.034262303637597205),\n",
      "   ('driver', 0.03136579510463963),\n",
      "   ('buse', 0.026538280883043684),\n",
      "   ('servic', 0.023015500234852042),\n",
      "   ('late', 0.021084494546213663),\n",
      "   ('show', 0.018683784771149733),\n",
      "   ('run', 0.017326861854809247),\n",
      "   ('rout', 0.015395856166170868),\n",
      "   ('-PRON-', 0.014952246751213403)])]\n",
      "\n",
      "Coherence Score:  0.34086039920100053\n"
     ]
    }
   ],
   "source": [
    "# Show Topics\n",
    "pprint(ldamallet.show_topics(formatted=False))\n",
    "\n",
    "# Compute Coherence Score\n",
    "coherence_model_ldamallet = CoherenceModel(model=ldamallet, texts=data_lemmatized, dictionary=id2word, coherence='c_v')\n",
    "coherence_ldamallet = coherence_model_ldamallet.get_coherence()\n",
    "print('\\nCoherence Score: ', coherence_ldamallet)"
   ]
  },
  {
   "cell_type": "code",
   "execution_count": 37,
   "metadata": {},
   "outputs": [
    {
     "data": {
      "image/png": "[encoded data removed]",
      "text/plain": [
       "<Figure size 720x720 with 4 Axes>"
      ]
     },
     "metadata": {
      "needs_background": "light"
     },
     "output_type": "display_data"
    }
   ],
   "source": [
    "from matplotlib import pyplot as plt\n",
    "from wordcloud import WordCloud, STOPWORDS\n",
    "import matplotlib.colors as mcolors\n",
    "\n",
    "cols = [color for name, color in mcolors.TABLEAU_COLORS.items()]  # more colors: 'mcolors.XKCD_COLORS'\n",
    "\n",
    "cloud = WordCloud(stopwords=stop_words,\n",
    "                  background_color='white',\n",
    "                  width=2500,\n",
    "                  height=1800,\n",
    "                  max_words=10,\n",
    "                  colormap='tab10',\n",
    "                  color_func=lambda *args, **kwargs: cols[i],\n",
    "                  prefer_horizontal=1.0)\n",
    "\n",
    "topics = ldamallet.show_topics(formatted=False)\n",
    "\n",
    "fig, axes = plt.subplots(2, 2, figsize=(10,10), sharex=True, sharey=True)\n",
    "\n",
    "for i, ax in enumerate(axes.flatten()):\n",
    "    fig.add_subplot(ax)\n",
    "    topic_words = dict(topics[i][1])\n",
    "    cloud.generate_from_frequencies(topic_words, max_font_size=300)\n",
    "    plt.gca().imshow(cloud)\n",
    "    plt.gca().set_title('Topic ' + str(i), fontdict=dict(size=16))\n",
    "    plt.gca().axis('off')\n",
    "\n",
    "\n",
    "plt.subplots_adjust(wspace=0, hspace=0)\n",
    "plt.axis('off')\n",
    "plt.margins(x=0, y=0)\n",
    "plt.tight_layout()\n",
    "plt.show()"
   ]
  },
  {
   "cell_type": "code",
   "execution_count": 38,
   "metadata": {},
   "outputs": [
    {
     "data": {
      "text/html": [
       "<div>\n",
       "<style scoped>\n",
       "    .dataframe tbody tr th:only-of-type {\n",
       "        vertical-align: middle;\n",
       "    }\n",
       "\n",
       "    .dataframe tbody tr th {\n",
       "        vertical-align: top;\n",
       "    }\n",
       "\n",
       "    .dataframe thead th {\n",
       "        text-align: right;\n",
       "    }\n",
       "</style>\n",
       "<table border=\"1\" class=\"dataframe\">\n",
       "  <thead>\n",
       "    <tr style=\"text-align: right;\">\n",
       "      <th></th>\n",
       "      <th>Document_No</th>\n",
       "      <th>Dominant_Topic</th>\n",
       "      <th>Topic_Perc_Contrib</th>\n",
       "      <th>Keywords</th>\n",
       "      <th>Text</th>\n",
       "    </tr>\n",
       "  </thead>\n",
       "  <tbody>\n",
       "    <tr>\n",
       "      <th>0</th>\n",
       "      <td>0</td>\n",
       "      <td>1.0</td>\n",
       "      <td>0.3125</td>\n",
       "      <td>line, hey, min, morn, delay, car, guy, everi, ...</td>\n",
       "      <td>ok there’ problem broadway current i’m stuck o...</td>\n",
       "    </tr>\n",
       "    <tr>\n",
       "      <th>1</th>\n",
       "      <td>1</td>\n",
       "      <td>0.0</td>\n",
       "      <td>0.2596</td>\n",
       "      <td>amp, pass, year, realli, tri, pay, plan, thing...</td>\n",
       "      <td>hallelu #skytrain move</td>\n",
       "    </tr>\n",
       "    <tr>\n",
       "      <th>2</th>\n",
       "      <td>2</td>\n",
       "      <td>3.0</td>\n",
       "      <td>0.2870</td>\n",
       "      <td>bu, wait, driver, buse, servic, late, show, ru...</td>\n",
       "      <td>well your  bridgeport never show  pm  road</td>\n",
       "    </tr>\n",
       "    <tr>\n",
       "      <th>3</th>\n",
       "      <td>3</td>\n",
       "      <td>1.0</td>\n",
       "      <td>0.2715</td>\n",
       "      <td>line, hey, min, morn, delay, car, guy, everi, ...</td>\n",
       "      <td>aaaaand we’v stop #spoketoosoon #stopthistrain...</td>\n",
       "    </tr>\n",
       "    <tr>\n",
       "      <th>4</th>\n",
       "      <td>4</td>\n",
       "      <td>2.0</td>\n",
       "      <td>0.2946</td>\n",
       "      <td>work, day, make, good, today, back, great, upd...</td>\n",
       "      <td>keep hear announc stuff control center can’t ...</td>\n",
       "    </tr>\n",
       "    <tr>\n",
       "      <th>5</th>\n",
       "      <td>5</td>\n",
       "      <td>3.0</td>\n",
       "      <td>0.2788</td>\n",
       "      <td>bu, wait, driver, buse, servic, late, show, ru...</td>\n",
       "      <td>where’  p  bu nd still hasn’t shown</td>\n",
       "    </tr>\n",
       "    <tr>\n",
       "      <th>6</th>\n",
       "      <td>6</td>\n",
       "      <td>0.0</td>\n",
       "      <td>0.2870</td>\n",
       "      <td>amp, pass, year, realli, tri, pay, plan, thing...</td>\n",
       "      <td>done thank twitter desk know feedback form di...</td>\n",
       "    </tr>\n",
       "    <tr>\n",
       "      <th>7</th>\n",
       "      <td>7</td>\n",
       "      <td>2.0</td>\n",
       "      <td>0.2736</td>\n",
       "      <td>work, day, make, good, today, back, great, upd...</td>\n",
       "      <td>ouch feel asham</td>\n",
       "    </tr>\n",
       "    <tr>\n",
       "      <th>8</th>\n",
       "      <td>8</td>\n",
       "      <td>3.0</td>\n",
       "      <td>0.2647</td>\n",
       "      <td>bu, wait, driver, buse, servic, late, show, ru...</td>\n",
       "      <td>show</td>\n",
       "    </tr>\n",
       "    <tr>\n",
       "      <th>9</th>\n",
       "      <td>9</td>\n",
       "      <td>0.0</td>\n",
       "      <td>0.2589</td>\n",
       "      <td>amp, pass, year, realli, tri, pay, plan, thing...</td>\n",
       "      <td>retir damn mark train hear anyth tho</td>\n",
       "    </tr>\n",
       "    <tr>\n",
       "      <th>10</th>\n",
       "      <td>10</td>\n",
       "      <td>2.0</td>\n",
       "      <td>0.2703</td>\n",
       "      <td>work, day, make, good, today, back, great, upd...</td>\n",
       "      <td>littl grill station</td>\n",
       "    </tr>\n",
       "    <tr>\n",
       "      <th>11</th>\n",
       "      <td>11</td>\n",
       "      <td>2.0</td>\n",
       "      <td>0.2736</td>\n",
       "      <td>work, day, make, good, today, back, great, upd...</td>\n",
       "      <td>link success help la</td>\n",
       "    </tr>\n",
       "    <tr>\n",
       "      <th>12</th>\n",
       "      <td>12</td>\n",
       "      <td>0.0</td>\n",
       "      <td>0.2636</td>\n",
       "      <td>amp, pass, year, realli, tri, pay, plan, thing...</td>\n",
       "      <td>work mani new car recent ord</td>\n",
       "    </tr>\n",
       "    <tr>\n",
       "      <th>13</th>\n",
       "      <td>13</td>\n",
       "      <td>2.0</td>\n",
       "      <td>0.2736</td>\n",
       "      <td>work, day, make, good, today, back, great, upd...</td>\n",
       "      <td>guess want pay ride</td>\n",
       "    </tr>\n",
       "    <tr>\n",
       "      <th>14</th>\n",
       "      <td>14</td>\n",
       "      <td>0.0</td>\n",
       "      <td>0.2719</td>\n",
       "      <td>amp, pass, year, realli, tri, pay, plan, thing...</td>\n",
       "      <td>welp goe perfect opportun final get cat bu</td>\n",
       "    </tr>\n",
       "    <tr>\n",
       "      <th>15</th>\n",
       "      <td>15</td>\n",
       "      <td>1.0</td>\n",
       "      <td>0.2636</td>\n",
       "      <td>line, hey, min, morn, delay, car, guy, everi, ...</td>\n",
       "      <td>display scott road dead pixel say “trai to” i...</td>\n",
       "    </tr>\n",
       "    <tr>\n",
       "      <th>16</th>\n",
       "      <td>16</td>\n",
       "      <td>0.0</td>\n",
       "      <td>0.2817</td>\n",
       "      <td>amp, pass, year, realli, tri, pay, plan, thing...</td>\n",
       "      <td>creat lane strictli buse goal lot cheaper see</td>\n",
       "    </tr>\n",
       "    <tr>\n",
       "      <th>17</th>\n",
       "      <td>17</td>\n",
       "      <td>1.0</td>\n",
       "      <td>0.2596</td>\n",
       "      <td>line, hey, min, morn, delay, car, guy, everi, ...</td>\n",
       "      <td>pretti sure pa</td>\n",
       "    </tr>\n",
       "    <tr>\n",
       "      <th>18</th>\n",
       "      <td>18</td>\n",
       "      <td>1.0</td>\n",
       "      <td>0.2596</td>\n",
       "      <td>line, hey, min, morn, delay, car, guy, everi, ...</td>\n",
       "      <td>eb side</td>\n",
       "    </tr>\n",
       "    <tr>\n",
       "      <th>19</th>\n",
       "      <td>19</td>\n",
       "      <td>3.0</td>\n",
       "      <td>0.2647</td>\n",
       "      <td>bu, wait, driver, buse, servic, late, show, ru...</td>\n",
       "      <td>enough litter</td>\n",
       "    </tr>\n",
       "  </tbody>\n",
       "</table>\n",
       "</div>"
      ],
      "text/plain": [
       "    Document_No  Dominant_Topic  Topic_Perc_Contrib  \\\n",
       "0             0             1.0              0.3125   \n",
       "1             1             0.0              0.2596   \n",
       "2             2             3.0              0.2870   \n",
       "3             3             1.0              0.2715   \n",
       "4             4             2.0              0.2946   \n",
       "5             5             3.0              0.2788   \n",
       "6             6             0.0              0.2870   \n",
       "7             7             2.0              0.2736   \n",
       "8             8             3.0              0.2647   \n",
       "9             9             0.0              0.2589   \n",
       "10           10             2.0              0.2703   \n",
       "11           11             2.0              0.2736   \n",
       "12           12             0.0              0.2636   \n",
       "13           13             2.0              0.2736   \n",
       "14           14             0.0              0.2719   \n",
       "15           15             1.0              0.2636   \n",
       "16           16             0.0              0.2817   \n",
       "17           17             1.0              0.2596   \n",
       "18           18             1.0              0.2596   \n",
       "19           19             3.0              0.2647   \n",
       "\n",
       "                                             Keywords  \\\n",
       "0   line, hey, min, morn, delay, car, guy, everi, ...   \n",
       "1   amp, pass, year, realli, tri, pay, plan, thing...   \n",
       "2   bu, wait, driver, buse, servic, late, show, ru...   \n",
       "3   line, hey, min, morn, delay, car, guy, everi, ...   \n",
       "4   work, day, make, good, today, back, great, upd...   \n",
       "5   bu, wait, driver, buse, servic, late, show, ru...   \n",
       "6   amp, pass, year, realli, tri, pay, plan, thing...   \n",
       "7   work, day, make, good, today, back, great, upd...   \n",
       "8   bu, wait, driver, buse, servic, late, show, ru...   \n",
       "9   amp, pass, year, realli, tri, pay, plan, thing...   \n",
       "10  work, day, make, good, today, back, great, upd...   \n",
       "11  work, day, make, good, today, back, great, upd...   \n",
       "12  amp, pass, year, realli, tri, pay, plan, thing...   \n",
       "13  work, day, make, good, today, back, great, upd...   \n",
       "14  amp, pass, year, realli, tri, pay, plan, thing...   \n",
       "15  line, hey, min, morn, delay, car, guy, everi, ...   \n",
       "16  amp, pass, year, realli, tri, pay, plan, thing...   \n",
       "17  line, hey, min, morn, delay, car, guy, everi, ...   \n",
       "18  line, hey, min, morn, delay, car, guy, everi, ...   \n",
       "19  bu, wait, driver, buse, servic, late, show, ru...   \n",
       "\n",
       "                                                 Text  \n",
       "0   ok there’ problem broadway current i’m stuck o...  \n",
       "1                             hallelu #skytrain move   \n",
       "2          well your  bridgeport never show  pm  road  \n",
       "3   aaaaand we’v stop #spoketoosoon #stopthistrain...  \n",
       "4    keep hear announc stuff control center can’t ...  \n",
       "5                where’  p  bu nd still hasn’t shown   \n",
       "6    done thank twitter desk know feedback form di...  \n",
       "7                                    ouch feel asham   \n",
       "8                                                show  \n",
       "9                retir damn mark train hear anyth tho  \n",
       "10                               littl grill station   \n",
       "11                               link success help la  \n",
       "12                       work mani new car recent ord  \n",
       "13                               guess want pay ride   \n",
       "14        welp goe perfect opportun final get cat bu   \n",
       "15   display scott road dead pixel say “trai to” i...  \n",
       "16      creat lane strictli buse goal lot cheaper see  \n",
       "17                                     pretti sure pa  \n",
       "18                                            eb side  \n",
       "19                                      enough litter  "
      ]
     },
     "execution_count": 38,
     "metadata": {},
     "output_type": "execute_result"
    }
   ],
   "source": [
    "def format_topics_sentences(ldamodel=lda_model, corpus=corpus, texts=data):\n",
    "    # Init output\n",
    "    sent_topics_df = pd.DataFrame()\n",
    "\n",
    "    # Get main topic in each document\n",
    "    for i, row in enumerate(ldamodel[corpus]):\n",
    "        row = sorted(row, key=lambda x: (x[1]), reverse=True)\n",
    "        # Get the Dominant topic, Perc Contribution and Keywords for each document\n",
    "        for j, (topic_num, prop_topic) in enumerate(row):\n",
    "            if j == 0:  # => dominant topic\n",
    "                wp = ldamodel.show_topic(topic_num)\n",
    "                topic_keywords = \", \".join([word for word, prop in wp])\n",
    "                sent_topics_df = sent_topics_df.append(pd.Series([int(topic_num), round(prop_topic,4), topic_keywords]), ignore_index=True)\n",
    "            else:\n",
    "                break\n",
    "    sent_topics_df.columns = ['Dominant_Topic', 'Perc_Contribution', 'Topic_Keywords']\n",
    "\n",
    "    # Add original text to the end of the output\n",
    "    contents = pd.Series(texts)\n",
    "    sent_topics_df = pd.concat([sent_topics_df, contents], axis=1)\n",
    "    return(sent_topics_df)\n",
    "\n",
    "\n",
    "df_topic_sents_keywords = format_topics_sentences(ldamodel=ldamallet, corpus=corpus, texts=data)\n",
    "\n",
    "# Format\n",
    "df_dominant_topic = df_topic_sents_keywords.reset_index()\n",
    "df_dominant_topic.columns = ['Document_No', 'Dominant_Topic', 'Topic_Perc_Contrib', 'Keywords', 'Text']\n",
    "\n",
    "# Show\n",
    "df_dominant_topic.head(20)"
   ]
  },
  {
   "cell_type": "code",
   "execution_count": 37,
   "metadata": {},
   "outputs": [
    {
     "data": {
      "text/plain": [
       "[[(0, 1), (1, 1), (2, 1), (3, 1), (4, 1), (5, 1), (6, 1)],\n",
       " [(7, 1), (8, 1)],\n",
       " [(9, 1), (10, 1), (11, 1), (12, 1), (13, 1), (14, 1)],\n",
       " [(15, 1), (16, 1), (17, 1)],\n",
       " [(18, 1), (19, 1), (20, 1), (21, 2), (22, 1), (23, 1), (24, 1)],\n",
       " [(13, 1), (25, 1), (26, 1), (27, 1)],\n",
       " [(28, 1), (29, 1), (30, 1), (31, 1), (32, 1), (33, 1)],\n",
       " [(34, 1), (35, 1), (36, 1)],\n",
       " [(13, 1)],\n",
       " [(21, 1), (37, 1), (38, 1), (39, 1), (40, 1), (41, 1)]]"
      ]
     },
     "execution_count": 37,
     "metadata": {},
     "output_type": "execute_result"
    }
   ],
   "source": [
    "corpus[:10]"
   ]
  },
  {
   "cell_type": "code",
   "execution_count": 56,
   "metadata": {},
   "outputs": [],
   "source": [
    "from sklearn.feature_extraction.text import CountVectorizer\n",
    "from biterm.utility import vec_to_biterms"
   ]
  },
  {
   "cell_type": "code",
   "execution_count": 57,
   "metadata": {},
   "outputs": [
    {
     "data": {
      "text/plain": [
       "[['ok', 'problem', 'broadway', 'current', 'stuck', 'outsid', 'nanaimo'],\n",
       " ['hallelu', 'move'],\n",
       " ['well', 'bridgeport', 'never', 'show', 'pm', 'road'],\n",
       " ['aaaaand', 'spoketoosoon', 'skytrainfail'],\n",
       " ['keep', 'hear', 'announc', 'stuff', 'control', 'center', 'hear', 'say'],\n",
       " ['bu', 'nd', 'still', 'show'],\n",
       " ['do', 'twitter_desk', 'know', 'feedback', 'form', 'differ'],\n",
       " ['ouch', 'feel', 'asham'],\n",
       " ['show'],\n",
       " ['retir', 'damn', 'mark', 'hear', 'anyth', 'tho']]"
      ]
     },
     "execution_count": 57,
     "metadata": {},
     "output_type": "execute_result"
    }
   ],
   "source": [
    "data_lemmatized[:10]"
   ]
  },
  {
   "cell_type": "code",
   "execution_count": 58,
   "metadata": {},
   "outputs": [
    {
     "data": {
      "text/plain": [
       "['ok problem broadway current stuck outsid nanaimo',\n",
       " 'hallelu move',\n",
       " 'well bridgeport never show pm road',\n",
       " 'aaaaand spoketoosoon skytrainfail',\n",
       " 'keep hear announc stuff control center hear say',\n",
       " 'bu nd still show',\n",
       " 'do twitter_desk know feedback form differ',\n",
       " 'ouch feel asham',\n",
       " 'show',\n",
       " 'retir damn mark hear anyth tho']"
      ]
     },
     "execution_count": 58,
     "metadata": {},
     "output_type": "execute_result"
    }
   ],
   "source": [
    "[' '.join(i) for i in data_lemmatized[:10]]"
   ]
  },
  {
   "cell_type": "code",
   "execution_count": 59,
   "metadata": {},
   "outputs": [],
   "source": [
    "vocab2 = [' '.join(i) for i in data_lemmatized]"
   ]
  },
  {
   "cell_type": "code",
   "execution_count": 65,
   "metadata": {},
   "outputs": [],
   "source": [
    "vectorizer = CountVectorizer()\n",
    "X = vectorizer.fit_transform(vocab2)\n",
    "#print(vectorizer.get_feature_names())\n",
    "biterms = vec_to_biterms(X)"
   ]
  },
  {
   "cell_type": "code",
   "execution_count": 69,
   "metadata": {},
   "outputs": [],
   "source": [
    "#from biterm.cbtm import oBTM\n",
    "\n",
    "#btm = oBTM(num_topics=20, V=vocab2)\n",
    "#topics = btm.fit_transform(biterms, iterations=100)"
   ]
  },
  {
   "cell_type": "code",
   "execution_count": 68,
   "metadata": {},
   "outputs": [
    {
     "name": "stdout",
     "output_type": "stream",
     "text": [
      "\n",
      "\n",
      " Train Online BTM ..\n"
     ]
    },
    {
     "name": "stderr",
     "output_type": "stream",
     "text": [
      "100%|██████████| 50/50 [05:03<00:00,  6.08s/it]\n",
      "100%|██████████| 50/50 [05:06<00:00,  6.13s/it]\n",
      "100%|██████████| 50/50 [05:04<00:00,  6.10s/it]\n",
      "100%|██████████| 50/50 [05:23<00:00,  6.46s/it]\n",
      "100%|██████████| 50/50 [05:20<00:00,  6.41s/it]\n",
      "100%|██████████| 50/50 [05:33<00:00,  6.67s/it]\n",
      "100%|██████████| 50/50 [04:32<00:00,  5.44s/it]\n",
      "100%|██████████| 50/50 [12:07<00:00, 14.54s/it]\n",
      "100%|██████████| 50/50 [13:03<00:00, 15.67s/it]\n",
      "100%|██████████| 50/50 [13:09<00:00, 15.79s/it]\n",
      "100%|██████████| 50/50 [13:16<00:00, 15.93s/it]\n",
      "100%|██████████| 50/50 [12:51<00:00, 15.43s/it]\n",
      "100%|██████████| 50/50 [11:10<00:00, 13.42s/it]\n",
      "100%|██████████| 50/50 [11:08<00:00, 13.37s/it]\n",
      "100%|██████████| 50/50 [11:26<00:00, 13.74s/it]\n",
      "100%|██████████| 50/50 [10:08<00:00, 12.16s/it]\n",
      "100%|██████████| 50/50 [13:44<00:00, 16.48s/it]\n",
      "100%|██████████| 50/50 [13:11<00:00, 15.82s/it]\n",
      "100%|██████████| 50/50 [14:10<00:00, 17.02s/it]\n",
      "100%|██████████| 50/50 [14:47<00:00, 17.76s/it]\n",
      "100%|██████████| 50/50 [13:10<00:00, 15.82s/it]\n",
      "100%|██████████| 50/50 [12:37<00:00, 15.15s/it]\n",
      "100%|██████████| 50/50 [14:13<00:00, 17.07s/it]\n",
      "100%|██████████| 50/50 [07:01<00:00,  8.42s/it]\n",
      "<ipython-input-68-1fe6e7c6d667>:29: RuntimeWarning: invalid value encountered in true_divide\n",
      "  topics = btm.transform(biterms)\n"
     ]
    },
    {
     "name": "stdout",
     "output_type": "stream",
     "text": [
      "\n",
      "\n",
      " Visualize Topics ..\n"
     ]
    },
    {
     "ename": "ValidationError",
     "evalue": "\n * Not all rows (distributions) in doc_topic_dists sum to 1.",
     "output_type": "error",
     "traceback": [
      "\u001b[0;31m---------------------------------------------------------------------------\u001b[0m",
      "\u001b[0;31mValidationError\u001b[0m                           Traceback (most recent call last)",
      "\u001b[0;32m<ipython-input-68-1fe6e7c6d667>\u001b[0m in \u001b[0;36m<module>\u001b[0;34m\u001b[0m\n\u001b[1;32m     30\u001b[0m \u001b[0;34m\u001b[0m\u001b[0m\n\u001b[1;32m     31\u001b[0m     \u001b[0mprint\u001b[0m\u001b[0;34m(\u001b[0m\u001b[0;34m\"\\n\\n Visualize Topics ..\"\u001b[0m\u001b[0;34m)\u001b[0m\u001b[0;34m\u001b[0m\u001b[0;34m\u001b[0m\u001b[0m\n\u001b[0;32m---> 32\u001b[0;31m     \u001b[0mvis\u001b[0m \u001b[0;34m=\u001b[0m \u001b[0mpyLDAvis\u001b[0m\u001b[0;34m.\u001b[0m\u001b[0mprepare\u001b[0m\u001b[0;34m(\u001b[0m\u001b[0mbtm\u001b[0m\u001b[0;34m.\u001b[0m\u001b[0mphi_wz\u001b[0m\u001b[0;34m.\u001b[0m\u001b[0mT\u001b[0m\u001b[0;34m,\u001b[0m \u001b[0mtopics\u001b[0m\u001b[0;34m,\u001b[0m \u001b[0mnp\u001b[0m\u001b[0;34m.\u001b[0m\u001b[0mcount_nonzero\u001b[0m\u001b[0;34m(\u001b[0m\u001b[0mX\u001b[0m\u001b[0;34m,\u001b[0m \u001b[0maxis\u001b[0m\u001b[0;34m=\u001b[0m\u001b[0;36m1\u001b[0m\u001b[0;34m)\u001b[0m\u001b[0;34m,\u001b[0m \u001b[0mvocab\u001b[0m\u001b[0;34m,\u001b[0m \u001b[0mnp\u001b[0m\u001b[0;34m.\u001b[0m\u001b[0msum\u001b[0m\u001b[0;34m(\u001b[0m\u001b[0mX\u001b[0m\u001b[0;34m,\u001b[0m \u001b[0maxis\u001b[0m\u001b[0;34m=\u001b[0m\u001b[0;36m0\u001b[0m\u001b[0;34m)\u001b[0m\u001b[0;34m)\u001b[0m\u001b[0;34m\u001b[0m\u001b[0;34m\u001b[0m\u001b[0m\n\u001b[0m\u001b[1;32m     33\u001b[0m     \u001b[0mpyLDAvis\u001b[0m\u001b[0;34m.\u001b[0m\u001b[0msave_html\u001b[0m\u001b[0;34m(\u001b[0m\u001b[0mvis\u001b[0m\u001b[0;34m,\u001b[0m \u001b[0;34m'online_btm.html'\u001b[0m\u001b[0;34m)\u001b[0m\u001b[0;34m\u001b[0m\u001b[0;34m\u001b[0m\u001b[0m\n\u001b[1;32m     34\u001b[0m     \u001b[0mpyLDAvis\u001b[0m\u001b[0;34m.\u001b[0m\u001b[0mdisplay\u001b[0m\u001b[0;34m(\u001b[0m\u001b[0;34m)\u001b[0m\u001b[0;34m\u001b[0m\u001b[0;34m\u001b[0m\u001b[0m\n",
      "\u001b[0;32m/Applications/anaconda3/envs/nlp-env/lib/python3.8/site-packages/pyLDAvis/_prepare.py\u001b[0m in \u001b[0;36mprepare\u001b[0;34m(topic_term_dists, doc_topic_dists, doc_lengths, vocab, term_frequency, R, lambda_step, mds, n_jobs, plot_opts, sort_topics)\u001b[0m\n\u001b[1;32m    372\u001b[0m    \u001b[0mdoc_lengths\u001b[0m      \u001b[0;34m=\u001b[0m \u001b[0m_series_with_name\u001b[0m\u001b[0;34m(\u001b[0m\u001b[0mdoc_lengths\u001b[0m\u001b[0;34m,\u001b[0m \u001b[0;34m'doc_length'\u001b[0m\u001b[0;34m)\u001b[0m\u001b[0;34m\u001b[0m\u001b[0;34m\u001b[0m\u001b[0m\n\u001b[1;32m    373\u001b[0m    \u001b[0mvocab\u001b[0m            \u001b[0;34m=\u001b[0m \u001b[0m_series_with_name\u001b[0m\u001b[0;34m(\u001b[0m\u001b[0mvocab\u001b[0m\u001b[0;34m,\u001b[0m \u001b[0;34m'vocab'\u001b[0m\u001b[0;34m)\u001b[0m\u001b[0;34m\u001b[0m\u001b[0;34m\u001b[0m\u001b[0m\n\u001b[0;32m--> 374\u001b[0;31m    \u001b[0m_input_validate\u001b[0m\u001b[0;34m(\u001b[0m\u001b[0mtopic_term_dists\u001b[0m\u001b[0;34m,\u001b[0m \u001b[0mdoc_topic_dists\u001b[0m\u001b[0;34m,\u001b[0m \u001b[0mdoc_lengths\u001b[0m\u001b[0;34m,\u001b[0m \u001b[0mvocab\u001b[0m\u001b[0;34m,\u001b[0m \u001b[0mterm_frequency\u001b[0m\u001b[0;34m)\u001b[0m\u001b[0;34m\u001b[0m\u001b[0;34m\u001b[0m\u001b[0m\n\u001b[0m\u001b[1;32m    375\u001b[0m    \u001b[0mR\u001b[0m \u001b[0;34m=\u001b[0m \u001b[0mmin\u001b[0m\u001b[0;34m(\u001b[0m\u001b[0mR\u001b[0m\u001b[0;34m,\u001b[0m \u001b[0mlen\u001b[0m\u001b[0;34m(\u001b[0m\u001b[0mvocab\u001b[0m\u001b[0;34m)\u001b[0m\u001b[0;34m)\u001b[0m\u001b[0;34m\u001b[0m\u001b[0;34m\u001b[0m\u001b[0m\n\u001b[1;32m    376\u001b[0m \u001b[0;34m\u001b[0m\u001b[0m\n",
      "\u001b[0;32m/Applications/anaconda3/envs/nlp-env/lib/python3.8/site-packages/pyLDAvis/_prepare.py\u001b[0m in \u001b[0;36m_input_validate\u001b[0;34m(*args)\u001b[0m\n\u001b[1;32m     63\u001b[0m    \u001b[0mres\u001b[0m \u001b[0;34m=\u001b[0m \u001b[0m_input_check\u001b[0m\u001b[0;34m(\u001b[0m\u001b[0;34m*\u001b[0m\u001b[0margs\u001b[0m\u001b[0;34m)\u001b[0m\u001b[0;34m\u001b[0m\u001b[0;34m\u001b[0m\u001b[0m\n\u001b[1;32m     64\u001b[0m    \u001b[0;32mif\u001b[0m \u001b[0mres\u001b[0m\u001b[0;34m:\u001b[0m\u001b[0;34m\u001b[0m\u001b[0;34m\u001b[0m\u001b[0m\n\u001b[0;32m---> 65\u001b[0;31m       \u001b[0;32mraise\u001b[0m \u001b[0mValidationError\u001b[0m\u001b[0;34m(\u001b[0m\u001b[0;34m'\\n'\u001b[0m \u001b[0;34m+\u001b[0m \u001b[0;34m'\\n'\u001b[0m\u001b[0;34m.\u001b[0m\u001b[0mjoin\u001b[0m\u001b[0;34m(\u001b[0m\u001b[0;34m[\u001b[0m\u001b[0;34m' * '\u001b[0m \u001b[0;34m+\u001b[0m \u001b[0ms\u001b[0m \u001b[0;32mfor\u001b[0m \u001b[0ms\u001b[0m \u001b[0;32min\u001b[0m \u001b[0mres\u001b[0m\u001b[0;34m]\u001b[0m\u001b[0;34m)\u001b[0m\u001b[0;34m)\u001b[0m\u001b[0;34m\u001b[0m\u001b[0;34m\u001b[0m\u001b[0m\n\u001b[0m\u001b[1;32m     66\u001b[0m \u001b[0;34m\u001b[0m\u001b[0m\n\u001b[1;32m     67\u001b[0m \u001b[0;34m\u001b[0m\u001b[0m\n",
      "\u001b[0;31mValidationError\u001b[0m: \n * Not all rows (distributions) in doc_topic_dists sum to 1."
     ]
    }
   ],
   "source": [
    "import numpy as np\n",
    "import pyLDAvis\n",
    "from biterm.cbtm import oBTM \n",
    "from sklearn.feature_extraction.text import CountVectorizer\n",
    "from biterm.utility import vec_to_biterms, topic_summuary # helper functions\n",
    "\n",
    "if __name__ == \"__main__\":\n",
    "\n",
    "    #texts = open('./data_test/reuters.titles').read().splitlines()\n",
    "    texts = [' '.join(i) for i in data_lemmatized]\n",
    "\n",
    "    # vectorize texts\n",
    "    vec = CountVectorizer(stop_words='english')\n",
    "    X = vec.fit_transform(texts).toarray()\n",
    "\n",
    "    # get vocabulary\n",
    "    vocab = np.array(vec.get_feature_names())\n",
    "\n",
    "    # get biterms\n",
    "    biterms = vec_to_biterms(X)\n",
    "\n",
    "    # create btm\n",
    "    btm = oBTM(num_topics=5, V=vocab)\n",
    "\n",
    "    print(\"\\n\\n Train Online BTM ..\")\n",
    "    for i in range(0, len(biterms), 1000): # prozess chunk of 200 texts\n",
    "        biterms_chunk = biterms[i:i + 1000]\n",
    "        btm.fit(biterms_chunk, iterations=50)\n",
    "    topics = btm.transform(biterms)\n",
    "\n",
    "    print(\"\\n\\n Visualize Topics ..\")\n",
    "    vis = pyLDAvis.prepare(btm.phi_wz.T, topics, np.count_nonzero(X, axis=1), vocab, np.sum(X, axis=0))\n",
    "    pyLDAvis.save_html(vis, 'online_btm.html')\n",
    "    pyLDAvis.display()\n",
    "\n",
    "    print(\"\\n\\n Topic coherence ..\")\n",
    "    topic_summuary(btm.phi_wz.T, X, vocab, 10)\n",
    "\n",
    "    print(\"\\n\\n Texts & Topics ..\")\n",
    "    for i in range(20):\n",
    "        print(\"{} (topic: {})\".format(texts[i], topics[i].argmax()))"
   ]
  },
  {
   "cell_type": "code",
   "execution_count": 39,
   "metadata": {},
   "outputs": [
    {
     "name": "stdout",
     "output_type": "stream",
     "text": [
      "\u001b[1m\u001b[34mData\u001b[m\u001b[m                  NLP_project-MRK.ipynb online_btm.html\r\n",
      "\u001b[1m\u001b[34mMallet\u001b[m\u001b[m                Untitled.ipynb\r\n",
      "NLP_gensim_MRK.ipynb  \u001b[1m\u001b[34mdata_test\u001b[m\u001b[m\r\n"
     ]
    }
   ],
   "source": [
    "!ls"
   ]
  },
  {
   "cell_type": "code",
   "execution_count": null,
   "metadata": {},
   "outputs": [],
   "source": []
  }
 ],
 "metadata": {
  "kernelspec": {
   "display_name": "Python 3",
   "language": "python",
   "name": "python3"
  },
  "language_info": {
   "codemirror_mode": {
    "name": "ipython",
    "version": 3
   },
   "file_extension": ".py",
   "mimetype": "text/x-python",
   "name": "python",
   "nbconvert_exporter": "python",
   "pygments_lexer": "ipython3",
   "version": "3.8.6"
  }
 },
 "nbformat": 4,
 "nbformat_minor": 2
}

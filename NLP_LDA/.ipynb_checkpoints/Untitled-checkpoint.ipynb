{
 "cells": [
  {
   "cell_type": "code",
   "execution_count": null,
   "metadata": {},
   "outputs": [],
   "source": [
    "#pip install --upgrade ipykernel"
   ]
  },
  {
   "cell_type": "code",
   "execution_count": null,
   "metadata": {},
   "outputs": [],
   "source": [
    "#pip install biterm"
   ]
  },
  {
   "cell_type": "code",
   "execution_count": 1,
   "metadata": {},
   "outputs": [],
   "source": [
    "from sklearn.feature_extraction.text import CountVectorizer\n",
    "import numpy as np\n",
    "\n",
    "texts = open('./data_test/reuters.titles').read().splitlines()[:50]\n",
    "vec = CountVectorizer(stop_words='english')\n",
    "X = vec.fit_transform(texts).toarray()"
   ]
  },
  {
   "cell_type": "code",
   "execution_count": 2,
   "metadata": {},
   "outputs": [
    {
     "data": {
      "text/plain": [
       "['UK: Prince Charles spearheads British royal revolution.',\n",
       " 'GERMANY: Historic Dresden church rising from WW2 ashes.',\n",
       " \"INDIA: Mother Teresa's condition said still unstable.\",\n",
       " 'UK: Palace warns British weekly over Charles pictures.',\n",
       " 'INDIA: Mother Teresa, slightly stronger, blesses nuns.',\n",
       " \"INDIA: Mother Teresa's condition unchanged, thousands pray.\",\n",
       " 'INDIA: Mother Teresa shows signs of strength, blesses nuns.',\n",
       " \"INDIA: Mother Teresa's condition improves, many pray.\",\n",
       " 'INDIA: Mother Teresa improves, nuns pray for \"miracle\".',\n",
       " 'UK: Charles under fire over prospect of Queen Camilla.',\n",
       " 'UK: Britain tells Charles to forget Camilla.',\n",
       " \"COTE D'IVOIRE: FEATURE - Quiet homecoming for reprieved Ivory Coast maid.\",\n",
       " 'INDIA: Mother Teresa (\"I want to go home\") sits and prays.',\n",
       " 'INDIA: Mother Teresa nears end of crisis, nuns rejoice.',\n",
       " 'UK: Prosaic end for marriage of Charles and Diana.',\n",
       " 'UK: No respite for British royals despite divorce.',\n",
       " \"UK: Camilla, love of Charles' life, an unlikely queen.\",\n",
       " 'UK: Diana sets out on new life as single woman.',\n",
       " 'USA: O.J. Simpson attacks media, hints at lawsuits.',\n",
       " 'USA: U.S. Cardinal Bernardin has one year or less to live.',\n",
       " 'USA: U.S. Cardinal Bernardin says has terminal cancer.',\n",
       " 'ROMANIA: German architect wins Bucharest rebuilding prize.',\n",
       " 'ARGENTINA: Argentina\\'s \"Blond Angel\" finally quits Navy.',\n",
       " 'UK: Disney lights up Pocahontas resting place.',\n",
       " 'HUNGARY: POPE LEAVES HUNGARY AFTER DEMANDING TWO-DAY VISIT.',\n",
       " 'HUNGARY: Pope says mass in Hungary, health in spotlight.',\n",
       " \"UK: Prince Charles' love will not wed him, paper says.\",\n",
       " 'UK: Ex-archbishop calls Princess Diana actress-schemer.',\n",
       " 'USA: Politics discussed backstage at Emmys, no airplay.',\n",
       " 'UK: Diana angered by ex-archbishop\\'s \"schemer\" jibe.',\n",
       " 'UK: Queen Elizabeth to hold \"royal summit\" - report.',\n",
       " \"BRAZIL: Nobel Prize winner sides with Brazil's landless.\",\n",
       " \"VATICAN: FEATURE - Papal health in spotlight amid talk of Parkinson's.\",\n",
       " 'UK: Cool it with Camilla, Major tells Charles - paper.',\n",
       " 'ROMANIA: Romania \"royalty\" wedding draws business barons.',\n",
       " 'UK: British royal family holds meeting on future.',\n",
       " 'UK: Scandal-battered British royals debate future role.',\n",
       " \"SOUTH AFRICA: It's wonderful I've found Nelson, says new love.\",\n",
       " 'CHILE: Chilean economist Felipe Herrera dies at 74.',\n",
       " 'GREECE: Princess Diana joins in funeral on Greek island.',\n",
       " 'USA: U.S. House of Representatives honors Mother Teresa.',\n",
       " \"FRANCE: Jewish-born cardinal is Pope's key man in France.\",\n",
       " \"VATICAN: Pope's health will figure large on trip to France.\",\n",
       " 'PHILIPPINES: FEATURE - Ex-actor eyes Philippine presidency.',\n",
       " 'UK: Runaway bishop had child, Catholic church admits.',\n",
       " 'FRANCE: Pope skirts religious controversy in France.',\n",
       " 'FRANCE: Pope visits western France religious stronghold.',\n",
       " 'UK: \"I still love him\" says runaway bishop\\'s mistress.',\n",
       " 'UK: Church appeals to runaway Scottish bishop.',\n",
       " \"SWITZERLAND: Romanian ex-king's daughter marries.\"]"
      ]
     },
     "execution_count": 2,
     "metadata": {},
     "output_type": "execute_result"
    }
   ],
   "source": [
    "texts"
   ]
  },
  {
   "cell_type": "code",
   "execution_count": 3,
   "metadata": {},
   "outputs": [],
   "source": [
    "from biterm.utility import vec_to_biterms\n",
    "\n",
    "vocab = np.array(vec.get_feature_names())\n",
    "biterms = vec_to_biterms(X)"
   ]
  },
  {
   "cell_type": "code",
   "execution_count": 4,
   "metadata": {},
   "outputs": [
    {
     "data": {
      "text/plain": [
       "array(['74', 'actor', 'actress', 'admits', 'africa', 'airplay', 'amid',\n",
       "       'angel', 'angered', 'appeals', 'archbishop', 'architect',\n",
       "       'argentina', 'ashes', 'attacks', 'backstage', 'barons', 'battered',\n",
       "       'bernardin', 'bishop', 'blesses', 'blond', 'born', 'brazil',\n",
       "       'britain', 'british', 'bucharest', 'business', 'calls', 'camilla',\n",
       "       'cancer', 'cardinal', 'catholic', 'charles', 'child', 'chile',\n",
       "       'chilean', 'church', 'coast', 'condition', 'controversy', 'cool',\n",
       "       'cote', 'crisis', 'daughter', 'day', 'debate', 'demanding',\n",
       "       'despite', 'diana', 'dies', 'discussed', 'disney', 'divorce',\n",
       "       'draws', 'dresden', 'economist', 'elizabeth', 'emmys', 'end', 'ex',\n",
       "       'eyes', 'family', 'feature', 'felipe', 'figure', 'finally',\n",
       "       'forget', 'france', 'funeral', 'future', 'german', 'germany',\n",
       "       'greece', 'greek', 'health', 'herrera', 'hints', 'historic',\n",
       "       'hold', 'holds', 'home', 'homecoming', 'honors', 'house',\n",
       "       'hungary', 'improves', 'india', 'island', 'ivoire', 'ivory',\n",
       "       'jewish', 'jibe', 'joins', 'key', 'king', 'landless', 'large',\n",
       "       'lawsuits', 'leaves', 'life', 'lights', 'live', 'love', 'maid',\n",
       "       'major', 'man', 'marriage', 'marries', 'mass', 'media', 'meeting',\n",
       "       'miracle', 'mistress', 'mother', 'navy', 'nears', 'nelson', 'new',\n",
       "       'nobel', 'nuns', 'palace', 'papal', 'paper', 'parkinson',\n",
       "       'philippine', 'philippines', 'pictures', 'place', 'pocahontas',\n",
       "       'politics', 'pope', 'pray', 'prays', 'presidency', 'prince',\n",
       "       'princess', 'prize', 'prosaic', 'prospect', 'queen', 'quiet',\n",
       "       'quits', 'rebuilding', 'rejoice', 'religious', 'report',\n",
       "       'representatives', 'reprieved', 'respite', 'resting', 'revolution',\n",
       "       'rising', 'role', 'romania', 'romanian', 'royal', 'royals',\n",
       "       'royalty', 'runaway', 'said', 'says', 'scandal', 'schemer',\n",
       "       'scottish', 'sets', 'shows', 'sides', 'signs', 'simpson', 'single',\n",
       "       'sits', 'skirts', 'slightly', 'south', 'spearheads', 'spotlight',\n",
       "       'strength', 'stronger', 'stronghold', 'summit', 'switzerland',\n",
       "       'talk', 'tells', 'teresa', 'terminal', 'thousands', 'trip', 'uk',\n",
       "       'unchanged', 'unlikely', 'unstable', 'usa', 'vatican', 've',\n",
       "       'visit', 'visits', 'want', 'warns', 'wed', 'wedding', 'weekly',\n",
       "       'western', 'winner', 'wins', 'woman', 'wonderful', 'ww2', 'year'],\n",
       "      dtype='<U15')"
      ]
     },
     "execution_count": 4,
     "metadata": {},
     "output_type": "execute_result"
    }
   ],
   "source": [
    "vocab"
   ]
  },
  {
   "cell_type": "code",
   "execution_count": null,
   "metadata": {},
   "outputs": [],
   "source": [
    "from biterm.cbtm import oBTM\n",
    "\n",
    "btm = oBTM(num_topics=20, V=vocab)\n",
    "topics = btm.fit_transform(biterms, iterations=100)"
   ]
  },
  {
   "cell_type": "code",
   "execution_count": null,
   "metadata": {
    "scrolled": false
   },
   "outputs": [],
   "source": [
    "import numpy as np\n",
    "import pyLDAvis\n",
    "from biterm.cbtm import oBTM \n",
    "from sklearn.feature_extraction.text import CountVectorizer\n",
    "from biterm.utility import vec_to_biterms, topic_summuary # helper functions\n",
    "\n",
    "if __name__ == \"__main__\":\n",
    "\n",
    "    texts = open('./data_test/reuters.titles').read().splitlines()\n",
    "\n",
    "    # vectorize texts\n",
    "    vec = CountVectorizer(stop_words='english')\n",
    "    X = vec.fit_transform(texts).toarray()\n",
    "\n",
    "    # get vocabulary\n",
    "    vocab = np.array(vec.get_feature_names())\n",
    "\n",
    "    # get biterms\n",
    "    biterms = vec_to_biterms(X)\n",
    "\n",
    "    # create btm\n",
    "    btm = oBTM(num_topics=20, V=vocab)\n",
    "\n",
    "    print(\"\\n\\n Train Online BTM ..\")\n",
    "    for i in range(0, len(biterms), 100): # prozess chunk of 200 texts\n",
    "        biterms_chunk = biterms[i:i + 100]\n",
    "        btm.fit(biterms_chunk, iterations=50)\n",
    "    topics = btm.transform(biterms)\n",
    "\n",
    "    print(\"\\n\\n Visualize Topics ..\")\n",
    "    vis = pyLDAvis.prepare(btm.phi_wz.T, topics, np.count_nonzero(X, axis=1), vocab, np.sum(X, axis=0))\n",
    "    pyLDAvis.save_html(vis, 'online_btm.html')\n",
    "    pyLDAvis.display()\n",
    "\n",
    "    print(\"\\n\\n Topic coherence ..\")\n",
    "    topic_summuary(btm.phi_wz.T, X, vocab, 10)\n",
    "\n",
    "    print(\"\\n\\n Texts & Topics ..\")\n",
    "    for i in range(len(texts)):\n",
    "        print(\"{} (topic: {})\".format(texts[i], topics[i].argmax()))"
   ]
  },
  {
   "cell_type": "code",
   "execution_count": null,
   "metadata": {},
   "outputs": [],
   "source": []
  }
 ],
 "metadata": {
  "kernelspec": {
   "display_name": "Python 3",
   "language": "python",
   "name": "python3"
  },
  "language_info": {
   "codemirror_mode": {
    "name": "ipython",
    "version": 3
   },
   "file_extension": ".py",
   "mimetype": "text/x-python",
   "name": "python",
   "nbconvert_exporter": "python",
   "pygments_lexer": "ipython3",
   "version": "3.8.6"
  }
 },
 "nbformat": 4,
 "nbformat_minor": 4
}

{
 "cells": [
  {
   "cell_type": "code",
   "execution_count": 1,
   "metadata": {},
   "outputs": [],
   "source": [
    "#env image-processing\n",
    "import pandas as pd\n",
    "from sklearn import metrics\n",
    "import numpy as np\n",
    "import torch\n",
    "import torch.nn as nn\n",
    "import torch.optim as optim\n",
    "import torchvision\n",
    "import torch.nn.functional as F\n",
    "import math\n",
    "from torch.utils.data import Dataset, DataLoader\n",
    "from sklearn.preprocessing import LabelEncoder"
   ]
  },
  {
   "cell_type": "markdown",
   "metadata": {},
   "source": [
    "### Read the data"
   ]
  },
  {
   "cell_type": "code",
   "execution_count": 2,
   "metadata": {},
   "outputs": [
    {
     "output_type": "execute_result",
     "data": {
      "text/plain": [
       "   fixed acidity  volatile acidity  citric acid  residual sugar  chlorides  \\\n",
       "0            7.4              0.70         0.00             1.9      0.076   \n",
       "1            7.8              0.88         0.00             2.6      0.098   \n",
       "2            7.8              0.76         0.04             2.3      0.092   \n",
       "3           11.2              0.28         0.56             1.9      0.075   \n",
       "4            7.4              0.70         0.00             1.9      0.076   \n",
       "\n",
       "   free sulfur dioxide  total sulfur dioxide  density    pH  sulphates  \\\n",
       "0                 11.0                  34.0   0.9978  3.51       0.56   \n",
       "1                 25.0                  67.0   0.9968  3.20       0.68   \n",
       "2                 15.0                  54.0   0.9970  3.26       0.65   \n",
       "3                 17.0                  60.0   0.9980  3.16       0.58   \n",
       "4                 11.0                  34.0   0.9978  3.51       0.56   \n",
       "\n",
       "   alcohol  quality  \n",
       "0      9.4        5  \n",
       "1      9.8        5  \n",
       "2      9.8        5  \n",
       "3      9.8        6  \n",
       "4      9.4        5  "
      ],
      "text/html": "<div>\n<style scoped>\n    .dataframe tbody tr th:only-of-type {\n        vertical-align: middle;\n    }\n\n    .dataframe tbody tr th {\n        vertical-align: top;\n    }\n\n    .dataframe thead th {\n        text-align: right;\n    }\n</style>\n<table border=\"1\" class=\"dataframe\">\n  <thead>\n    <tr style=\"text-align: right;\">\n      <th></th>\n      <th>fixed acidity</th>\n      <th>volatile acidity</th>\n      <th>citric acid</th>\n      <th>residual sugar</th>\n      <th>chlorides</th>\n      <th>free sulfur dioxide</th>\n      <th>total sulfur dioxide</th>\n      <th>density</th>\n      <th>pH</th>\n      <th>sulphates</th>\n      <th>alcohol</th>\n      <th>quality</th>\n    </tr>\n  </thead>\n  <tbody>\n    <tr>\n      <th>0</th>\n      <td>7.4</td>\n      <td>0.70</td>\n      <td>0.00</td>\n      <td>1.9</td>\n      <td>0.076</td>\n      <td>11.0</td>\n      <td>34.0</td>\n      <td>0.9978</td>\n      <td>3.51</td>\n      <td>0.56</td>\n      <td>9.4</td>\n      <td>5</td>\n    </tr>\n    <tr>\n      <th>1</th>\n      <td>7.8</td>\n      <td>0.88</td>\n      <td>0.00</td>\n      <td>2.6</td>\n      <td>0.098</td>\n      <td>25.0</td>\n      <td>67.0</td>\n      <td>0.9968</td>\n      <td>3.20</td>\n      <td>0.68</td>\n      <td>9.8</td>\n      <td>5</td>\n    </tr>\n    <tr>\n      <th>2</th>\n      <td>7.8</td>\n      <td>0.76</td>\n      <td>0.04</td>\n      <td>2.3</td>\n      <td>0.092</td>\n      <td>15.0</td>\n      <td>54.0</td>\n      <td>0.9970</td>\n      <td>3.26</td>\n      <td>0.65</td>\n      <td>9.8</td>\n      <td>5</td>\n    </tr>\n    <tr>\n      <th>3</th>\n      <td>11.2</td>\n      <td>0.28</td>\n      <td>0.56</td>\n      <td>1.9</td>\n      <td>0.075</td>\n      <td>17.0</td>\n      <td>60.0</td>\n      <td>0.9980</td>\n      <td>3.16</td>\n      <td>0.58</td>\n      <td>9.8</td>\n      <td>6</td>\n    </tr>\n    <tr>\n      <th>4</th>\n      <td>7.4</td>\n      <td>0.70</td>\n      <td>0.00</td>\n      <td>1.9</td>\n      <td>0.076</td>\n      <td>11.0</td>\n      <td>34.0</td>\n      <td>0.9978</td>\n      <td>3.51</td>\n      <td>0.56</td>\n      <td>9.4</td>\n      <td>5</td>\n    </tr>\n  </tbody>\n</table>\n</div>"
     },
     "metadata": {},
     "execution_count": 2
    }
   ],
   "source": [
    "df=pd.read_csv('../input/winequality_red.csv')\n",
    "df.head()"
   ]
  },
  {
   "cell_type": "code",
   "execution_count": 3,
   "metadata": {},
   "outputs": [
    {
     "output_type": "stream",
     "name": "stdout",
     "text": [
      "<class 'pandas.core.frame.DataFrame'>\nRangeIndex: 1599 entries, 0 to 1598\nData columns (total 12 columns):\n #   Column                Non-Null Count  Dtype  \n---  ------                --------------  -----  \n 0   fixed acidity         1599 non-null   float64\n 1   volatile acidity      1599 non-null   float64\n 2   citric acid           1599 non-null   float64\n 3   residual sugar        1599 non-null   float64\n 4   chlorides             1599 non-null   float64\n 5   free sulfur dioxide   1599 non-null   float64\n 6   total sulfur dioxide  1599 non-null   float64\n 7   density               1599 non-null   float64\n 8   pH                    1599 non-null   float64\n 9   sulphates             1599 non-null   float64\n 10  alcohol               1599 non-null   float64\n 11  quality               1599 non-null   int64  \ndtypes: float64(11), int64(1)\nmemory usage: 150.0 KB\n"
     ]
    }
   ],
   "source": [
    "df.info()"
   ]
  },
  {
   "cell_type": "code",
   "execution_count": 4,
   "metadata": {},
   "outputs": [
    {
     "output_type": "execute_result",
     "data": {
      "text/plain": [
       "5    681\n",
       "6    638\n",
       "7    199\n",
       "4     53\n",
       "8     18\n",
       "3     10\n",
       "Name: quality, dtype: int64"
      ]
     },
     "metadata": {},
     "execution_count": 4
    }
   ],
   "source": [
    "df.quality.value_counts()"
   ]
  },
  {
   "cell_type": "markdown",
   "metadata": {},
   "source": [
    "### Make three classes "
   ]
  },
  {
   "cell_type": "code",
   "execution_count": 5,
   "metadata": {},
   "outputs": [],
   "source": [
    "quality = df[\"quality\"].values\n",
    "df[\"wclass\"] = 0\n",
    "\n",
    "for i, num in enumerate(quality):\n",
    "    if num <=8 and num >=7:\n",
    "        df.loc[i,\"wclass\"] = \"high\"\n",
    "    if num <7 and num >5:\n",
    "        df.loc[i,\"wclass\"] = \"mid\"\n",
    "    if num <=5 and num >=2:\n",
    "        df.loc[i,\"wclass\"] = \"low\""
   ]
  },
  {
   "cell_type": "markdown",
   "metadata": {},
   "source": [
    "### Add a column changing  class values to number "
   ]
  },
  {
   "cell_type": "code",
   "execution_count": 6,
   "metadata": {},
   "outputs": [],
   "source": [
    "quality = df[\"wclass\"].values\n",
    "df[\"wclass_num\"] = 0\n",
    "\n",
    "for i, num in enumerate(quality):\n",
    "    if num=='high':\n",
    "        df.loc[i,\"wclass_num\"] = 2\n",
    "    if num=='mid':\n",
    "        df.loc[i,\"wclass_num\"] = 1\n",
    "    if num=='low':\n",
    "        df.loc[i,\"wclass_num\"] = 0"
   ]
  },
  {
   "cell_type": "code",
   "execution_count": 8,
   "metadata": {},
   "outputs": [
    {
     "output_type": "execute_result",
     "data": {
      "text/plain": [
       "low     744\n",
       "mid     638\n",
       "high    217\n",
       "Name: wclass, dtype: int64"
      ]
     },
     "metadata": {},
     "execution_count": 8
    }
   ],
   "source": [
    "df.wclass.value_counts()"
   ]
  },
  {
   "cell_type": "markdown",
   "metadata": {},
   "source": [
    "### Save the data"
   ]
  },
  {
   "cell_type": "code",
   "execution_count": 9,
   "metadata": {},
   "outputs": [],
   "source": [
    "df.to_csv(\"../input/winequality.csv\", index = False)  "
   ]
  },
  {
   "cell_type": "markdown",
   "metadata": {},
   "source": [
    "### Look at the data and see "
   ]
  },
  {
   "cell_type": "code",
   "execution_count": 10,
   "metadata": {},
   "outputs": [],
   "source": [
    "df1=pd.read_csv(\"../input/winequality.csv\")"
   ]
  },
  {
   "cell_type": "code",
   "execution_count": 12,
   "metadata": {},
   "outputs": [
    {
     "output_type": "execute_result",
     "data": {
      "text/plain": [
       "    fixed acidity  volatile acidity  citric acid  residual sugar  chlorides  \\\n",
       "0             7.4             0.700         0.00             1.9      0.076   \n",
       "1             7.8             0.880         0.00             2.6      0.098   \n",
       "2             7.8             0.760         0.04             2.3      0.092   \n",
       "3            11.2             0.280         0.56             1.9      0.075   \n",
       "4             7.4             0.700         0.00             1.9      0.076   \n",
       "5             7.4             0.660         0.00             1.8      0.075   \n",
       "6             7.9             0.600         0.06             1.6      0.069   \n",
       "7             7.3             0.650         0.00             1.2      0.065   \n",
       "8             7.8             0.580         0.02             2.0      0.073   \n",
       "9             7.5             0.500         0.36             6.1      0.071   \n",
       "10            6.7             0.580         0.08             1.8      0.097   \n",
       "11            7.5             0.500         0.36             6.1      0.071   \n",
       "12            5.6             0.615         0.00             1.6      0.089   \n",
       "13            7.8             0.610         0.29             1.6      0.114   \n",
       "14            8.9             0.620         0.18             3.8      0.176   \n",
       "15            8.9             0.620         0.19             3.9      0.170   \n",
       "16            8.5             0.280         0.56             1.8      0.092   \n",
       "17            8.1             0.560         0.28             1.7      0.368   \n",
       "18            7.4             0.590         0.08             4.4      0.086   \n",
       "19            7.9             0.320         0.51             1.8      0.341   \n",
       "20            8.9             0.220         0.48             1.8      0.077   \n",
       "21            7.6             0.390         0.31             2.3      0.082   \n",
       "22            7.9             0.430         0.21             1.6      0.106   \n",
       "23            8.5             0.490         0.11             2.3      0.084   \n",
       "\n",
       "    free sulfur dioxide  total sulfur dioxide  density    pH  sulphates  \\\n",
       "0                  11.0                  34.0   0.9978  3.51       0.56   \n",
       "1                  25.0                  67.0   0.9968  3.20       0.68   \n",
       "2                  15.0                  54.0   0.9970  3.26       0.65   \n",
       "3                  17.0                  60.0   0.9980  3.16       0.58   \n",
       "4                  11.0                  34.0   0.9978  3.51       0.56   \n",
       "5                  13.0                  40.0   0.9978  3.51       0.56   \n",
       "6                  15.0                  59.0   0.9964  3.30       0.46   \n",
       "7                  15.0                  21.0   0.9946  3.39       0.47   \n",
       "8                   9.0                  18.0   0.9968  3.36       0.57   \n",
       "9                  17.0                 102.0   0.9978  3.35       0.80   \n",
       "10                 15.0                  65.0   0.9959  3.28       0.54   \n",
       "11                 17.0                 102.0   0.9978  3.35       0.80   \n",
       "12                 16.0                  59.0   0.9943  3.58       0.52   \n",
       "13                  9.0                  29.0   0.9974  3.26       1.56   \n",
       "14                 52.0                 145.0   0.9986  3.16       0.88   \n",
       "15                 51.0                 148.0   0.9986  3.17       0.93   \n",
       "16                 35.0                 103.0   0.9969  3.30       0.75   \n",
       "17                 16.0                  56.0   0.9968  3.11       1.28   \n",
       "18                  6.0                  29.0   0.9974  3.38       0.50   \n",
       "19                 17.0                  56.0   0.9969  3.04       1.08   \n",
       "20                 29.0                  60.0   0.9968  3.39       0.53   \n",
       "21                 23.0                  71.0   0.9982  3.52       0.65   \n",
       "22                 10.0                  37.0   0.9966  3.17       0.91   \n",
       "23                  9.0                  67.0   0.9968  3.17       0.53   \n",
       "\n",
       "    alcohol  quality wclass  wclass_num  \n",
       "0       9.4        5    low           0  \n",
       "1       9.8        5    low           0  \n",
       "2       9.8        5    low           0  \n",
       "3       9.8        6    mid           1  \n",
       "4       9.4        5    low           0  \n",
       "5       9.4        5    low           0  \n",
       "6       9.4        5    low           0  \n",
       "7      10.0        7   high           2  \n",
       "8       9.5        7   high           2  \n",
       "9      10.5        5    low           0  \n",
       "10      9.2        5    low           0  \n",
       "11     10.5        5    low           0  \n",
       "12      9.9        5    low           0  \n",
       "13      9.1        5    low           0  \n",
       "14      9.2        5    low           0  \n",
       "15      9.2        5    low           0  \n",
       "16     10.5        7   high           2  \n",
       "17      9.3        5    low           0  \n",
       "18      9.0        4    low           0  \n",
       "19      9.2        6    mid           1  \n",
       "20      9.4        6    mid           1  \n",
       "21      9.7        5    low           0  \n",
       "22      9.5        5    low           0  \n",
       "23      9.4        5    low           0  "
      ],
      "text/html": "<div>\n<style scoped>\n    .dataframe tbody tr th:only-of-type {\n        vertical-align: middle;\n    }\n\n    .dataframe tbody tr th {\n        vertical-align: top;\n    }\n\n    .dataframe thead th {\n        text-align: right;\n    }\n</style>\n<table border=\"1\" class=\"dataframe\">\n  <thead>\n    <tr style=\"text-align: right;\">\n      <th></th>\n      <th>fixed acidity</th>\n      <th>volatile acidity</th>\n      <th>citric acid</th>\n      <th>residual sugar</th>\n      <th>chlorides</th>\n      <th>free sulfur dioxide</th>\n      <th>total sulfur dioxide</th>\n      <th>density</th>\n      <th>pH</th>\n      <th>sulphates</th>\n      <th>alcohol</th>\n      <th>quality</th>\n      <th>wclass</th>\n      <th>wclass_num</th>\n    </tr>\n  </thead>\n  <tbody>\n    <tr>\n      <th>0</th>\n      <td>7.4</td>\n      <td>0.700</td>\n      <td>0.00</td>\n      <td>1.9</td>\n      <td>0.076</td>\n      <td>11.0</td>\n      <td>34.0</td>\n      <td>0.9978</td>\n      <td>3.51</td>\n      <td>0.56</td>\n      <td>9.4</td>\n      <td>5</td>\n      <td>low</td>\n      <td>0</td>\n    </tr>\n    <tr>\n      <th>1</th>\n      <td>7.8</td>\n      <td>0.880</td>\n      <td>0.00</td>\n      <td>2.6</td>\n      <td>0.098</td>\n      <td>25.0</td>\n      <td>67.0</td>\n      <td>0.9968</td>\n      <td>3.20</td>\n      <td>0.68</td>\n      <td>9.8</td>\n      <td>5</td>\n      <td>low</td>\n      <td>0</td>\n    </tr>\n    <tr>\n      <th>2</th>\n      <td>7.8</td>\n      <td>0.760</td>\n      <td>0.04</td>\n      <td>2.3</td>\n      <td>0.092</td>\n      <td>15.0</td>\n      <td>54.0</td>\n      <td>0.9970</td>\n      <td>3.26</td>\n      <td>0.65</td>\n      <td>9.8</td>\n      <td>5</td>\n      <td>low</td>\n      <td>0</td>\n    </tr>\n    <tr>\n      <th>3</th>\n      <td>11.2</td>\n      <td>0.280</td>\n      <td>0.56</td>\n      <td>1.9</td>\n      <td>0.075</td>\n      <td>17.0</td>\n      <td>60.0</td>\n      <td>0.9980</td>\n      <td>3.16</td>\n      <td>0.58</td>\n      <td>9.8</td>\n      <td>6</td>\n      <td>mid</td>\n      <td>1</td>\n    </tr>\n    <tr>\n      <th>4</th>\n      <td>7.4</td>\n      <td>0.700</td>\n      <td>0.00</td>\n      <td>1.9</td>\n      <td>0.076</td>\n      <td>11.0</td>\n      <td>34.0</td>\n      <td>0.9978</td>\n      <td>3.51</td>\n      <td>0.56</td>\n      <td>9.4</td>\n      <td>5</td>\n      <td>low</td>\n      <td>0</td>\n    </tr>\n    <tr>\n      <th>5</th>\n      <td>7.4</td>\n      <td>0.660</td>\n      <td>0.00</td>\n      <td>1.8</td>\n      <td>0.075</td>\n      <td>13.0</td>\n      <td>40.0</td>\n      <td>0.9978</td>\n      <td>3.51</td>\n      <td>0.56</td>\n      <td>9.4</td>\n      <td>5</td>\n      <td>low</td>\n      <td>0</td>\n    </tr>\n    <tr>\n      <th>6</th>\n      <td>7.9</td>\n      <td>0.600</td>\n      <td>0.06</td>\n      <td>1.6</td>\n      <td>0.069</td>\n      <td>15.0</td>\n      <td>59.0</td>\n      <td>0.9964</td>\n      <td>3.30</td>\n      <td>0.46</td>\n      <td>9.4</td>\n      <td>5</td>\n      <td>low</td>\n      <td>0</td>\n    </tr>\n    <tr>\n      <th>7</th>\n      <td>7.3</td>\n      <td>0.650</td>\n      <td>0.00</td>\n      <td>1.2</td>\n      <td>0.065</td>\n      <td>15.0</td>\n      <td>21.0</td>\n      <td>0.9946</td>\n      <td>3.39</td>\n      <td>0.47</td>\n      <td>10.0</td>\n      <td>7</td>\n      <td>high</td>\n      <td>2</td>\n    </tr>\n    <tr>\n      <th>8</th>\n      <td>7.8</td>\n      <td>0.580</td>\n      <td>0.02</td>\n      <td>2.0</td>\n      <td>0.073</td>\n      <td>9.0</td>\n      <td>18.0</td>\n      <td>0.9968</td>\n      <td>3.36</td>\n      <td>0.57</td>\n      <td>9.5</td>\n      <td>7</td>\n      <td>high</td>\n      <td>2</td>\n    </tr>\n    <tr>\n      <th>9</th>\n      <td>7.5</td>\n      <td>0.500</td>\n      <td>0.36</td>\n      <td>6.1</td>\n      <td>0.071</td>\n      <td>17.0</td>\n      <td>102.0</td>\n      <td>0.9978</td>\n      <td>3.35</td>\n      <td>0.80</td>\n      <td>10.5</td>\n      <td>5</td>\n      <td>low</td>\n      <td>0</td>\n    </tr>\n    <tr>\n      <th>10</th>\n      <td>6.7</td>\n      <td>0.580</td>\n      <td>0.08</td>\n      <td>1.8</td>\n      <td>0.097</td>\n      <td>15.0</td>\n      <td>65.0</td>\n      <td>0.9959</td>\n      <td>3.28</td>\n      <td>0.54</td>\n      <td>9.2</td>\n      <td>5</td>\n      <td>low</td>\n      <td>0</td>\n    </tr>\n    <tr>\n      <th>11</th>\n      <td>7.5</td>\n      <td>0.500</td>\n      <td>0.36</td>\n      <td>6.1</td>\n      <td>0.071</td>\n      <td>17.0</td>\n      <td>102.0</td>\n      <td>0.9978</td>\n      <td>3.35</td>\n      <td>0.80</td>\n      <td>10.5</td>\n      <td>5</td>\n      <td>low</td>\n      <td>0</td>\n    </tr>\n    <tr>\n      <th>12</th>\n      <td>5.6</td>\n      <td>0.615</td>\n      <td>0.00</td>\n      <td>1.6</td>\n      <td>0.089</td>\n      <td>16.0</td>\n      <td>59.0</td>\n      <td>0.9943</td>\n      <td>3.58</td>\n      <td>0.52</td>\n      <td>9.9</td>\n      <td>5</td>\n      <td>low</td>\n      <td>0</td>\n    </tr>\n    <tr>\n      <th>13</th>\n      <td>7.8</td>\n      <td>0.610</td>\n      <td>0.29</td>\n      <td>1.6</td>\n      <td>0.114</td>\n      <td>9.0</td>\n      <td>29.0</td>\n      <td>0.9974</td>\n      <td>3.26</td>\n      <td>1.56</td>\n      <td>9.1</td>\n      <td>5</td>\n      <td>low</td>\n      <td>0</td>\n    </tr>\n    <tr>\n      <th>14</th>\n      <td>8.9</td>\n      <td>0.620</td>\n      <td>0.18</td>\n      <td>3.8</td>\n      <td>0.176</td>\n      <td>52.0</td>\n      <td>145.0</td>\n      <td>0.9986</td>\n      <td>3.16</td>\n      <td>0.88</td>\n      <td>9.2</td>\n      <td>5</td>\n      <td>low</td>\n      <td>0</td>\n    </tr>\n    <tr>\n      <th>15</th>\n      <td>8.9</td>\n      <td>0.620</td>\n      <td>0.19</td>\n      <td>3.9</td>\n      <td>0.170</td>\n      <td>51.0</td>\n      <td>148.0</td>\n      <td>0.9986</td>\n      <td>3.17</td>\n      <td>0.93</td>\n      <td>9.2</td>\n      <td>5</td>\n      <td>low</td>\n      <td>0</td>\n    </tr>\n    <tr>\n      <th>16</th>\n      <td>8.5</td>\n      <td>0.280</td>\n      <td>0.56</td>\n      <td>1.8</td>\n      <td>0.092</td>\n      <td>35.0</td>\n      <td>103.0</td>\n      <td>0.9969</td>\n      <td>3.30</td>\n      <td>0.75</td>\n      <td>10.5</td>\n      <td>7</td>\n      <td>high</td>\n      <td>2</td>\n    </tr>\n    <tr>\n      <th>17</th>\n      <td>8.1</td>\n      <td>0.560</td>\n      <td>0.28</td>\n      <td>1.7</td>\n      <td>0.368</td>\n      <td>16.0</td>\n      <td>56.0</td>\n      <td>0.9968</td>\n      <td>3.11</td>\n      <td>1.28</td>\n      <td>9.3</td>\n      <td>5</td>\n      <td>low</td>\n      <td>0</td>\n    </tr>\n    <tr>\n      <th>18</th>\n      <td>7.4</td>\n      <td>0.590</td>\n      <td>0.08</td>\n      <td>4.4</td>\n      <td>0.086</td>\n      <td>6.0</td>\n      <td>29.0</td>\n      <td>0.9974</td>\n      <td>3.38</td>\n      <td>0.50</td>\n      <td>9.0</td>\n      <td>4</td>\n      <td>low</td>\n      <td>0</td>\n    </tr>\n    <tr>\n      <th>19</th>\n      <td>7.9</td>\n      <td>0.320</td>\n      <td>0.51</td>\n      <td>1.8</td>\n      <td>0.341</td>\n      <td>17.0</td>\n      <td>56.0</td>\n      <td>0.9969</td>\n      <td>3.04</td>\n      <td>1.08</td>\n      <td>9.2</td>\n      <td>6</td>\n      <td>mid</td>\n      <td>1</td>\n    </tr>\n    <tr>\n      <th>20</th>\n      <td>8.9</td>\n      <td>0.220</td>\n      <td>0.48</td>\n      <td>1.8</td>\n      <td>0.077</td>\n      <td>29.0</td>\n      <td>60.0</td>\n      <td>0.9968</td>\n      <td>3.39</td>\n      <td>0.53</td>\n      <td>9.4</td>\n      <td>6</td>\n      <td>mid</td>\n      <td>1</td>\n    </tr>\n    <tr>\n      <th>21</th>\n      <td>7.6</td>\n      <td>0.390</td>\n      <td>0.31</td>\n      <td>2.3</td>\n      <td>0.082</td>\n      <td>23.0</td>\n      <td>71.0</td>\n      <td>0.9982</td>\n      <td>3.52</td>\n      <td>0.65</td>\n      <td>9.7</td>\n      <td>5</td>\n      <td>low</td>\n      <td>0</td>\n    </tr>\n    <tr>\n      <th>22</th>\n      <td>7.9</td>\n      <td>0.430</td>\n      <td>0.21</td>\n      <td>1.6</td>\n      <td>0.106</td>\n      <td>10.0</td>\n      <td>37.0</td>\n      <td>0.9966</td>\n      <td>3.17</td>\n      <td>0.91</td>\n      <td>9.5</td>\n      <td>5</td>\n      <td>low</td>\n      <td>0</td>\n    </tr>\n    <tr>\n      <th>23</th>\n      <td>8.5</td>\n      <td>0.490</td>\n      <td>0.11</td>\n      <td>2.3</td>\n      <td>0.084</td>\n      <td>9.0</td>\n      <td>67.0</td>\n      <td>0.9968</td>\n      <td>3.17</td>\n      <td>0.53</td>\n      <td>9.4</td>\n      <td>5</td>\n      <td>low</td>\n      <td>0</td>\n    </tr>\n  </tbody>\n</table>\n</div>"
     },
     "metadata": {},
     "execution_count": 12
    }
   ],
   "source": [
    "df1.head(24)"
   ]
  },
  {
   "cell_type": "code",
   "execution_count": 13,
   "metadata": {},
   "outputs": [
    {
     "output_type": "execute_result",
     "data": {
      "text/plain": [
       "low     744\n",
       "mid     638\n",
       "high    217\n",
       "Name: wclass, dtype: int64"
      ]
     },
     "metadata": {},
     "execution_count": 13
    }
   ],
   "source": [
    "df1.wclass.value_counts()"
   ]
  },
  {
   "cell_type": "markdown",
   "metadata": {},
   "source": [
    "### Create a custom dataset class for pytorch \n",
    "- we choose 11 features"
   ]
  },
  {
   "cell_type": "code",
   "execution_count": 10,
   "metadata": {},
   "outputs": [],
   "source": [
    "#One has to make sure the class index starts at 0, so that we can use cross entropy loss\n",
    "class WineDataset(Dataset):\n",
    "    def __init__(self):\n",
    "        # data loading\n",
    "        xy = pd.read_csv('../input/winequality.csv')\n",
    "        self.x = torch.tensor((xy.drop(['quality','wclass','wclass_num'], axis =1)).values).float()\n",
    "        self.y = torch.tensor((df['wclass_num']-df['wclass_num'].min()).astype('category'))\n",
    "        self.n_samples = xy.shape[0]\n",
    "  \n",
    "    def __getitem__(self, index):\n",
    "        return self.x[index], self.y[index]\n",
    "    \n",
    "    def __len__(self):    \n",
    "        return self.n_samples\n",
    "classes =(\"low\",\"mid\",\"high\")"
   ]
  },
  {
   "cell_type": "markdown",
   "metadata": {},
   "source": [
    "### Look at what the custom dataset returns"
   ]
  },
  {
   "cell_type": "code",
   "execution_count": 11,
   "metadata": {},
   "outputs": [
    {
     "name": "stdout",
     "output_type": "stream",
     "text": [
      "(tensor([ 7.4000,  0.7000,  0.0000,  1.9000,  0.0760, 11.0000, 34.0000,  0.9978,\n",
      "         3.5100,  0.5600,  9.4000]), tensor(0))\n"
     ]
    }
   ],
   "source": [
    "dataset = WineDataset()\n",
    "first_data = dataset[0]\n",
    "features_label = first_data\n",
    "print(features_label)"
   ]
  },
  {
   "cell_type": "markdown",
   "metadata": {},
   "source": [
    "### Create a Dataloader for pytorch "
   ]
  },
  {
   "cell_type": "code",
   "execution_count": 12,
   "metadata": {},
   "outputs": [
    {
     "name": "stdout",
     "output_type": "stream",
     "text": [
      "torch.Size([10, 11])\n",
      "tensor([0, 0, 0, 1, 0, 0, 0, 2, 2, 0])\n",
      "['low', 'low', 'low', 'mid', 'low', 'low', 'low', 'high', 'high', 'low']\n"
     ]
    }
   ],
   "source": [
    "dataloader = DataLoader(dataset=dataset, batch_size =10, shuffle=False, num_workers=0)\n",
    "# Make iterator\n",
    "dataiter = iter(dataloader)\n",
    "data = dataiter.next()\n",
    "features, labels = data\n",
    "#print(features, labels)\n",
    "print(features.shape)\n",
    "print(labels)\n",
    "print([classes[i] for i in labels])"
   ]
  },
  {
   "cell_type": "markdown",
   "metadata": {},
   "source": [
    "### Create a neural network"
   ]
  },
  {
   "cell_type": "code",
   "execution_count": 13,
   "metadata": {},
   "outputs": [],
   "source": [
    "class Network(nn.Module):\n",
    "    \n",
    "    def __init__(self):\n",
    "        super().__init__()\n",
    "        self.fc1 = nn.Linear(in_features=11, out_features=100)\n",
    "        self.fc2 = nn.Linear(in_features=100, out_features=100)\n",
    "        self.out = nn.Linear(in_features=100, out_features=3)\n",
    "\n",
    "    \n",
    "    def forward(self,t):\n",
    "        t = self.fc1(t)\n",
    "        t = F.relu(t)\n",
    "        t = self.fc2(t)\n",
    "        t = F.relu(t)\n",
    "        t = self.out(t)\n",
    "        return t  "
   ]
  },
  {
   "cell_type": "markdown",
   "metadata": {},
   "source": [
    "### Create functions to qualify the predictions from the model"
   ]
  },
  {
   "cell_type": "code",
   "execution_count": 14,
   "metadata": {},
   "outputs": [],
   "source": [
    "def get_num_correct(preds,labels):\n",
    "    return preds.argmax(dim=1).eq(labels).sum().item()\n",
    "def get_balanced_accuracy(preds,labels):\n",
    "    return metrics.balanced_accuracy_score(labels, preds.argmax(dim=1))"
   ]
  },
  {
   "cell_type": "code",
   "execution_count": 15,
   "metadata": {},
   "outputs": [
    {
     "name": "stdout",
     "output_type": "stream",
     "text": [
      "torch.Size([10, 11])\n",
      "tensor([0, 0, 0, 1, 0, 0, 0, 2, 2, 0])\n"
     ]
    }
   ],
   "source": [
    "dataloader = DataLoader(dataset=dataset, batch_size =10, shuffle=False, num_workers=0)\n",
    "# Make iterator\n",
    "dataiter = iter(dataloader)\n",
    "data = dataiter.next()\n",
    "features, labels = data\n",
    "#print(features, labels)\n",
    "print(features.shape)\n",
    "print(labels)"
   ]
  },
  {
   "cell_type": "markdown",
   "metadata": {},
   "source": [
    "\n",
    "### Check dimensions of predictions of the nn model"
   ]
  },
  {
   "cell_type": "code",
   "execution_count": 16,
   "metadata": {},
   "outputs": [
    {
     "data": {
      "text/plain": [
       "tensor([[ 0.5651,  0.8059,  0.2516],\n",
       "        [ 0.8841,  1.4941,  0.3442],\n",
       "        [ 0.7261,  1.1560,  0.1394],\n",
       "        [ 0.9581,  1.3081,  0.1478],\n",
       "        [ 0.5651,  0.8059,  0.2516],\n",
       "        [ 0.6164,  0.9416,  0.2735],\n",
       "        [ 0.7815,  1.2345,  0.0733],\n",
       "        [ 0.5283,  0.7026,  0.4841],\n",
       "        [ 0.4129,  0.3638,  0.3408],\n",
       "        [ 1.0491,  2.0302, -0.2231]], grad_fn=<AddmmBackward>)"
      ]
     },
     "execution_count": 16,
     "metadata": {},
     "output_type": "execute_result"
    }
   ],
   "source": [
    "network = Network()\n",
    "lambda_l2 = 1e-5\n",
    "learning_rate = 0.0009\n",
    "pred = network(features)\n",
    "pred"
   ]
  },
  {
   "cell_type": "markdown",
   "metadata": {},
   "source": [
    "### All looks good, now run a training loop "
   ]
  },
  {
   "cell_type": "code",
   "execution_count": 17,
   "metadata": {
    "scrolled": false
   },
   "outputs": [
    {
     "name": "stdout",
     "output_type": "stream",
     "text": [
      "epoch 5\n",
      "total_correct: 773 total_pcntg:  0.4834271419637273 loss: 16.029676139354706 balancd_acc 0.35772357723577236\n",
      "epoch 6\n",
      "total_correct: 753 total_pcntg:  0.4709193245778612 loss: 15.894560635089874 balancd_acc 0.3333333333333333\n",
      "epoch 7\n",
      "total_correct: 782 total_pcntg:  0.4890556597873671 loss: 15.893479228019714 balancd_acc 0.35772357723577236\n",
      "epoch 8\n",
      "total_correct: 789 total_pcntg:  0.49343339587242024 loss: 15.844582855701447 balancd_acc 0.35772357723577236\n",
      "epoch 9\n",
      "total_correct: 807 total_pcntg:  0.5046904315196998 loss: 15.676659166812897 balancd_acc 0.3739837398373984\n"
     ]
    }
   ],
   "source": [
    "network = Network()\n",
    "lambda_l2 = 1e-5\n",
    "learning_rate = 0.0009\n",
    "\n",
    "train_loader = torch.utils.data.DataLoader(dataset, batch_size=100)\n",
    "optimizer = optim.Adam(network.parameters(), lr=learning_rate, weight_decay=1e-5)\n",
    "\n",
    "for epoch in range(10):\n",
    "    total_loss = 0\n",
    "    total_correct = 0\n",
    "\n",
    "    for batch in train_loader: # Get Batch\n",
    "        features, labels = batch \n",
    "        \n",
    "        preds = network(features)# Pass Batch\n",
    "\n",
    "        loss = F.cross_entropy(preds, labels) # Calculate Loss\n",
    "\n",
    "        optimizer.zero_grad()\n",
    "        loss.backward() # Calculate Gradients\n",
    "        optimizer.step() # Update Weights using Adam\n",
    "\n",
    "        total_loss += loss.item()\n",
    "        total_correct += get_num_correct(preds, labels) \n",
    "    \n",
    "    bal_acc = get_balanced_accuracy(preds,labels)\n",
    "    \n",
    "    if epoch >4:\n",
    "        print(\"epoch\", epoch)\n",
    "        print(    \n",
    "            \"total_correct:\", total_correct,\n",
    "            \"total_pcntg: \",total_correct/1599,\n",
    "            \"loss:\", total_loss,\n",
    "            \"balancd_acc\",bal_acc\n",
    "        )"
   ]
  },
  {
   "cell_type": "markdown",
   "metadata": {},
   "source": [
    "### This all runs. Now try another model"
   ]
  },
  {
   "cell_type": "code",
   "execution_count": 18,
   "metadata": {},
   "outputs": [
    {
     "data": {
      "text/plain": [
       "<torch._C.Generator at 0x7ffc84ad3930>"
      ]
     },
     "execution_count": 18,
     "metadata": {},
     "output_type": "execute_result"
    }
   ],
   "source": [
    "import random\n",
    "from IPython import display\n",
    "from tqdm.notebook import tqdm\n",
    "seed = 12345\n",
    "random.seed(seed)\n",
    "torch.manual_seed(seed)"
   ]
  },
  {
   "cell_type": "code",
   "execution_count": 19,
   "metadata": {},
   "outputs": [],
   "source": [
    "X = torch.tensor((df.drop(['quality','wclass','wclass_num'], axis =1)).values).float()\n",
    "y = torch.tensor((df['wclass_num']-df['wclass_num'].min()).astype('category'))"
   ]
  },
  {
   "cell_type": "code",
   "execution_count": 20,
   "metadata": {},
   "outputs": [],
   "source": [
    "D = 11  # dimensions\n",
    "C = 3  # num_classes\n",
    "H1 = 100  # num_hidden_units\n",
    "H2 = 100  # num_hidden_units\n",
    "learning_rate = 5e-3\n",
    "lambda_l2 = 1e-5\n",
    "device = torch.device(\"cuda:0\" if torch.cuda.is_available() else \"cpu\")"
   ]
  },
  {
   "cell_type": "code",
   "execution_count": 21,
   "metadata": {},
   "outputs": [
    {
     "data": {
      "application/vnd.jupyter.widget-view+json": {
       "model_id": "2257d5b0fafd4427bb6809414db562c3",
       "version_major": 2,
       "version_minor": 0
      },
      "text/plain": [
       "HBox(children=(HTML(value=''), FloatProgress(value=0.0), HTML(value='')))"
      ]
     },
     "metadata": {},
     "output_type": "display_data"
    },
    {
     "name": "stdout",
     "output_type": "stream",
     "text": [
      "\r",
      "[EPOCH]    : 91, [LOSS]: 0.771922, [ACCURACY]: 0.624\n",
      "\r",
      "[EPOCH]    : 92, [LOSS]: 0.772741, [ACCURACY]: 0.629\n",
      "\r",
      "[EPOCH]    : 93, [LOSS]: 0.776168, [ACCURACY]: 0.630\n",
      "\r",
      "[EPOCH]    : 94, [LOSS]: 0.774439, [ACCURACY]: 0.613\n",
      "\r",
      "[EPOCH]    : 95, [LOSS]: 0.765912, [ACCURACY]: 0.635\n",
      "\r",
      "[EPOCH]    : 96, [LOSS]: 0.761397, [ACCURACY]: 0.627\n",
      "\r",
      "[EPOCH]    : 97, [LOSS]: 0.763146, [ACCURACY]: 0.629\n",
      "\r",
      "[EPOCH]    : 98, [LOSS]: 0.765945, [ACCURACY]: 0.639\n",
      "\r",
      "[EPOCH]    : 99, [LOSS]: 0.767510, [ACCURACY]: 0.616\n",
      "\n"
     ]
    }
   ],
   "source": [
    "# nn package to create our linear model\n",
    "# each Linear module has a weight and bias\n",
    "\n",
    "model = nn.Sequential(\n",
    "    nn.Linear(D, H1),\n",
    "    nn.ReLU(),\n",
    "    nn.Linear(H1, H2),\n",
    "    nn.ReLU(),\n",
    "    nn.Linear(H2,C)\n",
    ")\n",
    "model.to(device)\n",
    "\n",
    "# nn package also has different loss functions.\n",
    "# we use cross entropy loss for our classification task\n",
    "criterion = torch.nn.CrossEntropyLoss()\n",
    "\n",
    "# we use the optim package to apply\n",
    "# ADAM for our parameter updates\n",
    "optimizer = torch.optim.Adam(model.parameters(), lr=learning_rate, weight_decay=lambda_l2) # built-in L2\n",
    "\n",
    "# e = 1.  # plotting purpose\n",
    "\n",
    "# Training\n",
    "for t in tqdm(range(100)):\n",
    "    \n",
    "    # Feed forward to get the logits\n",
    "    y_pred = model(X)\n",
    "    \n",
    "    # Compute the loss and accuracy\n",
    "    loss = criterion(y_pred, y)\n",
    "    score, predicted = torch.max(y_pred, 1)\n",
    "    acc = (y == predicted).sum().float() / len(y)\n",
    "    if t>90:\n",
    "        tqdm.write(\"[EPOCH]    : %i, [LOSS]: %.6f, [ACCURACY]: %.3f\" % (t, loss.item(), acc))\n",
    "    #display.clear_output(wait=True)\n",
    "    \n",
    "    # zero the gradients before running\n",
    "    # the backward pass.\n",
    "    optimizer.zero_grad()\n",
    "    \n",
    "    # Backward pass to compute the gradient\n",
    "    # of loss w.r.t our learnable params. \n",
    "    loss.backward()\n",
    "    \n",
    "    # Update params\n",
    "    optimizer.step()"
   ]
  },
  {
   "cell_type": "markdown",
   "metadata": {},
   "source": [
    "### This runs too, so we go ahead and write  the python files that are in the src folder"
   ]
  },
  {
   "cell_type": "code",
   "execution_count": 22,
   "metadata": {},
   "outputs": [],
   "source": [
    "quality_mapping = {\n",
    "    3: 0,\n",
    "    4: 1,\n",
    "    5: 2,\n",
    "    6: 3,\n",
    "    7: 4,\n",
    "    8: 5\n",
    "}\n",
    "\n",
    "# you can use the map function of pandas with\n",
    "# any dictionary to convert the values in a given\n",
    "# column to values in the dictionary\n",
    "df.loc[:, \"quality\"] = df.quality.map(quality_mapping)"
   ]
  },
  {
   "cell_type": "code",
   "execution_count": 23,
   "metadata": {},
   "outputs": [
    {
     "data": {
      "text/html": [
       "<div>\n",
       "<style scoped>\n",
       "    .dataframe tbody tr th:only-of-type {\n",
       "        vertical-align: middle;\n",
       "    }\n",
       "\n",
       "    .dataframe tbody tr th {\n",
       "        vertical-align: top;\n",
       "    }\n",
       "\n",
       "    .dataframe thead th {\n",
       "        text-align: right;\n",
       "    }\n",
       "</style>\n",
       "<table border=\"1\" class=\"dataframe\">\n",
       "  <thead>\n",
       "    <tr style=\"text-align: right;\">\n",
       "      <th></th>\n",
       "      <th>fixed acidity</th>\n",
       "      <th>volatile acidity</th>\n",
       "      <th>citric acid</th>\n",
       "      <th>residual sugar</th>\n",
       "      <th>chlorides</th>\n",
       "      <th>free sulfur dioxide</th>\n",
       "      <th>total sulfur dioxide</th>\n",
       "      <th>density</th>\n",
       "      <th>pH</th>\n",
       "      <th>sulphates</th>\n",
       "      <th>alcohol</th>\n",
       "      <th>quality</th>\n",
       "      <th>wclass</th>\n",
       "      <th>wclass_num</th>\n",
       "    </tr>\n",
       "  </thead>\n",
       "  <tbody>\n",
       "    <tr>\n",
       "      <th>0</th>\n",
       "      <td>7.4</td>\n",
       "      <td>0.70</td>\n",
       "      <td>0.00</td>\n",
       "      <td>1.9</td>\n",
       "      <td>0.076</td>\n",
       "      <td>11.0</td>\n",
       "      <td>34.0</td>\n",
       "      <td>0.9978</td>\n",
       "      <td>3.51</td>\n",
       "      <td>0.56</td>\n",
       "      <td>9.4</td>\n",
       "      <td>2</td>\n",
       "      <td>low</td>\n",
       "      <td>0</td>\n",
       "    </tr>\n",
       "    <tr>\n",
       "      <th>1</th>\n",
       "      <td>7.8</td>\n",
       "      <td>0.88</td>\n",
       "      <td>0.00</td>\n",
       "      <td>2.6</td>\n",
       "      <td>0.098</td>\n",
       "      <td>25.0</td>\n",
       "      <td>67.0</td>\n",
       "      <td>0.9968</td>\n",
       "      <td>3.20</td>\n",
       "      <td>0.68</td>\n",
       "      <td>9.8</td>\n",
       "      <td>2</td>\n",
       "      <td>low</td>\n",
       "      <td>0</td>\n",
       "    </tr>\n",
       "    <tr>\n",
       "      <th>2</th>\n",
       "      <td>7.8</td>\n",
       "      <td>0.76</td>\n",
       "      <td>0.04</td>\n",
       "      <td>2.3</td>\n",
       "      <td>0.092</td>\n",
       "      <td>15.0</td>\n",
       "      <td>54.0</td>\n",
       "      <td>0.9970</td>\n",
       "      <td>3.26</td>\n",
       "      <td>0.65</td>\n",
       "      <td>9.8</td>\n",
       "      <td>2</td>\n",
       "      <td>low</td>\n",
       "      <td>0</td>\n",
       "    </tr>\n",
       "    <tr>\n",
       "      <th>3</th>\n",
       "      <td>11.2</td>\n",
       "      <td>0.28</td>\n",
       "      <td>0.56</td>\n",
       "      <td>1.9</td>\n",
       "      <td>0.075</td>\n",
       "      <td>17.0</td>\n",
       "      <td>60.0</td>\n",
       "      <td>0.9980</td>\n",
       "      <td>3.16</td>\n",
       "      <td>0.58</td>\n",
       "      <td>9.8</td>\n",
       "      <td>3</td>\n",
       "      <td>mid</td>\n",
       "      <td>1</td>\n",
       "    </tr>\n",
       "    <tr>\n",
       "      <th>4</th>\n",
       "      <td>7.4</td>\n",
       "      <td>0.70</td>\n",
       "      <td>0.00</td>\n",
       "      <td>1.9</td>\n",
       "      <td>0.076</td>\n",
       "      <td>11.0</td>\n",
       "      <td>34.0</td>\n",
       "      <td>0.9978</td>\n",
       "      <td>3.51</td>\n",
       "      <td>0.56</td>\n",
       "      <td>9.4</td>\n",
       "      <td>2</td>\n",
       "      <td>low</td>\n",
       "      <td>0</td>\n",
       "    </tr>\n",
       "  </tbody>\n",
       "</table>\n",
       "</div>"
      ],
      "text/plain": [
       "   fixed acidity  volatile acidity  citric acid  residual sugar  chlorides  \\\n",
       "0            7.4              0.70         0.00             1.9      0.076   \n",
       "1            7.8              0.88         0.00             2.6      0.098   \n",
       "2            7.8              0.76         0.04             2.3      0.092   \n",
       "3           11.2              0.28         0.56             1.9      0.075   \n",
       "4            7.4              0.70         0.00             1.9      0.076   \n",
       "\n",
       "   free sulfur dioxide  total sulfur dioxide  density    pH  sulphates  \\\n",
       "0                 11.0                  34.0   0.9978  3.51       0.56   \n",
       "1                 25.0                  67.0   0.9968  3.20       0.68   \n",
       "2                 15.0                  54.0   0.9970  3.26       0.65   \n",
       "3                 17.0                  60.0   0.9980  3.16       0.58   \n",
       "4                 11.0                  34.0   0.9978  3.51       0.56   \n",
       "\n",
       "   alcohol  quality wclass  wclass_num  \n",
       "0      9.4        2    low           0  \n",
       "1      9.8        2    low           0  \n",
       "2      9.8        2    low           0  \n",
       "3      9.8        3    mid           1  \n",
       "4      9.4        2    low           0  "
      ]
     },
     "execution_count": 23,
     "metadata": {},
     "output_type": "execute_result"
    }
   ],
   "source": [
    "df.head()"
   ]
  },
  {
   "cell_type": "code",
   "execution_count": 24,
   "metadata": {},
   "outputs": [
    {
     "data": {
      "text/plain": [
       "Index(['fixed acidity', 'volatile acidity', 'citric acid', 'residual sugar',\n",
       "       'chlorides', 'free sulfur dioxide', 'total sulfur dioxide', 'density',\n",
       "       'pH', 'sulphates', 'alcohol', 'quality', 'wclass', 'wclass_num'],\n",
       "      dtype='object')"
      ]
     },
     "execution_count": 24,
     "metadata": {},
     "output_type": "execute_result"
    }
   ],
   "source": [
    "df.columns"
   ]
  },
  {
   "cell_type": "code",
   "execution_count": null,
   "metadata": {},
   "outputs": [],
   "source": []
  }
 ],
 "metadata": {
  "kernelspec": {
   "display_name": "Python 3",
   "language": "python",
   "name": "python3"
  },
  "language_info": {
   "codemirror_mode": {
    "name": "ipython",
    "version": 3
   },
   "file_extension": ".py",
   "mimetype": "text/x-python",
   "name": "python",
   "nbconvert_exporter": "python",
   "pygments_lexer": "ipython3",
   "version": "3.7.6-final"
  }
 },
 "nbformat": 4,
 "nbformat_minor": 4
}
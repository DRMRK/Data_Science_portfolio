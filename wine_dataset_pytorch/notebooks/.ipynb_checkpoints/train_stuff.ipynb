{
 "cells": [
  {
   "cell_type": "code",
   "execution_count": 1,
   "metadata": {},
   "outputs": [],
   "source": [
    "# env image-processing\n",
    "import pandas as pd\n",
    "from sklearn import metrics\n",
    "import numpy as np\n",
    "import torch\n",
    "import torch.nn as nn\n",
    "import torch.optim as optim\n",
    "import torchvision\n",
    "import torch.nn.functional as F\n",
    "import math\n",
    "from torch.utils.data import Dataset, DataLoader\n",
    "from sklearn.preprocessing import LabelEncoder\n",
    "\n",
    "import dataset\n",
    "import config\n",
    "import network\n",
    "import engine"
   ]
  },
  {
   "cell_type": "code",
   "execution_count": 2,
   "metadata": {},
   "outputs": [],
   "source": [
    "df=pd.read_csv('../input/train_folds.csv')\n",
    "fold=0                  "
   ]
  },
  {
   "cell_type": "code",
   "execution_count": 3,
   "metadata": {},
   "outputs": [
    {
     "data": {
      "text/plain": [
       "Index(['fixed acidity', 'volatile acidity', 'citric acid', 'residual sugar',\n",
       "       'chlorides', 'free sulfur dioxide', 'total sulfur dioxide', 'density',\n",
       "       'pH', 'sulphates', 'alcohol', 'quality', 'wclass', 'kfold'],\n",
       "      dtype='object')"
      ]
     },
     "execution_count": 3,
     "metadata": {},
     "output_type": "execute_result"
    }
   ],
   "source": [
    "df.columns"
   ]
  },
  {
   "cell_type": "code",
   "execution_count": 4,
   "metadata": {},
   "outputs": [
    {
     "data": {
      "text/plain": [
       "3    320\n",
       "2    320\n",
       "1    320\n",
       "0    320\n",
       "4    319\n",
       "Name: kfold, dtype: int64"
      ]
     },
     "execution_count": 4,
     "metadata": {},
     "output_type": "execute_result"
    }
   ],
   "source": [
    "df.kfold.value_counts()"
   ]
  },
  {
   "cell_type": "code",
   "execution_count": 5,
   "metadata": {},
   "outputs": [
    {
     "data": {
      "text/plain": [
       "class_5    681\n",
       "class_6    638\n",
       "class_7    199\n",
       "class_4     53\n",
       "class_8     18\n",
       "class_3     10\n",
       "Name: wclass, dtype: int64"
      ]
     },
     "execution_count": 5,
     "metadata": {},
     "output_type": "execute_result"
    }
   ],
   "source": [
    "df.wclass.value_counts()"
   ]
  },
  {
   "cell_type": "code",
   "execution_count": 6,
   "metadata": {},
   "outputs": [
    {
     "name": "stdout",
     "output_type": "stream",
     "text": [
      "initialize dataset for training\n",
      "initialize dataset for validation\n",
      "trainig model\n"
     ]
    }
   ],
   "source": [
    "# select features\n",
    "features =[f for f in df.columns if f not in (\"quality\", \"kfold\",\"wclass\")]\n",
    "# get training data using folds\n",
    "train_df=df[df.kfold !=fold].reset_index(drop=True)\n",
    "xtrain = train_df[features]\n",
    "ytrain = (train_df['quality']-train_df['quality'].min()).astype('category')\n",
    "# get validation data using folds\n",
    "valid_df=df[df.kfold ==fold].reset_index(drop=True)\n",
    "xvalid = valid_df[features]\n",
    "yvalid = (valid_df['quality']-valid_df['quality'].min()).astype('category')\n",
    "    \n",
    "# initialize dataset class for training\n",
    "print(\"initialize dataset for training\")\n",
    "train_dataset = dataset.WineDataset(features=xtrain, target=ytrain)\n",
    "    # Make troch dataloader for training \n",
    "    # torch dataloader loads the data using dataset class in batches \n",
    "    # specifed by bath_size\n",
    "train_data_loader = torch.utils.data.DataLoader(dataset = train_dataset,\n",
    "batch_size=config.TRAIN_BATCH_SIZE, num_workers=0)\n",
    "\n",
    "    # initialize dataset class for vailidation\n",
    "print(\"initialize dataset for validation\")\n",
    "valid_dataset = dataset.WineDataset(features=xvalid, target=yvalid)\n",
    "    # Make troch dataloader for training \n",
    "    # torch dataloader loads the data using dataset class in batches \n",
    "    # specifed by bath_size\n",
    "valid_data_loader = torch.utils.data.DataLoader(dataset = valid_dataset,\n",
    "batch_size=config.VALID_BATCH_SIZE, num_workers=0)\n",
    "    # create toech device\n",
    "device = torch.device(\"cpu\")\n",
    "    \n",
    "# get the model\n",
    "model = network.Network()\n",
    "    # initialize the optimizer\n",
    "lambda_l2 = 1e-5\n",
    "learning_rate = 0.0009\n",
    "\n",
    "optimizer = optim.Adam(model.parameters(), lr=learning_rate, weight_decay=1e-5)\n",
    "print(\"trainig model\")\n",
    "\n",
    "# train one epoch\n",
    "\n",
    "total_loss, total_correct = engine.train(train_data_loader,model,optimizer, device)"
   ]
  },
  {
   "cell_type": "code",
   "execution_count": 7,
   "metadata": {},
   "outputs": [
    {
     "name": "stdout",
     "output_type": "stream",
     "text": [
      "168.07292526960373\n",
      "569\n"
     ]
    }
   ],
   "source": [
    "print(total_loss)\n",
    "print(total_correct)"
   ]
  },
  {
   "cell_type": "code",
   "execution_count": 8,
   "metadata": {},
   "outputs": [
    {
     "data": {
      "text/plain": [
       "148"
      ]
     },
     "execution_count": 8,
     "metadata": {},
     "output_type": "execute_result"
    }
   ],
   "source": [
    "engine.evaluate(valid_data_loader,model,device)"
   ]
  }
 ],
 "metadata": {
  "kernelspec": {
   "display_name": "Python 3",
   "language": "python",
   "name": "python3"
  },
  "language_info": {
   "codemirror_mode": {
    "name": "ipython",
    "version": 3
   },
   "file_extension": ".py",
   "mimetype": "text/x-python",
   "name": "python",
   "nbconvert_exporter": "python",
   "pygments_lexer": "ipython3",
   "version": "3.8.6"
  }
 },
 "nbformat": 4,
 "nbformat_minor": 4
}
